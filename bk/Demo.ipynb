{
 "cells": [
  {
   "cell_type": "markdown",
   "metadata": {},
   "source": [
    "# Introduction"
   ]
  },
  {
   "cell_type": "code",
   "execution_count": 1,
   "metadata": {},
   "outputs": [],
   "source": [
    "import os\n",
    "import sys\n",
    "\n",
    "import matplotlib.pyplot as plt\n",
    "import numpy as np\n",
    "import pandas as pd\n",
    "\n",
    "import bk.load\n",
    "import bk.compute\n",
    "import bk.plot\n",
    "import bk.signal\n",
    "\n",
    "import scipy as sp\n",
    "\n",
    "%matplotlib qt"
   ]
  },
  {
   "cell_type": "code",
   "execution_count": 2,
   "metadata": {},
   "outputs": [
    {
     "name": "stdout",
     "output_type": "stream",
     "text": [
      "Rat : 8 on day : 6\n",
      "Working with session Rat08-20130713 @ C:/Users/maell/Documents/ENS/Cours/M2/S1/TINS/Data/Rat08/Rat08-20130713\n"
     ]
    },
    {
     "data": {
      "text/plain": [
       "True"
      ]
     },
     "execution_count": 2,
     "metadata": {},
     "output_type": "execute_result"
    }
   ],
   "source": [
    "bk.load.current_session_linux(base_folder= 'C:/Users/maell/Documents/ENS/Cours/M2/S1/TINS/Data/',local_path= 'Rat08/Rat08-20130713')"
   ]
  },
  {
   "cell_type": "code",
   "execution_count": 3,
   "metadata": {},
   "outputs": [
    {
     "name": "stdout",
     "output_type": "stream",
     "text": [
      "Rat :  8\n",
      "Day :  6\n",
      "Path :  C:/Users/maell/Documents/ENS/Cours/M2/S1/TINS/Data/Rat08/Rat08-20130713\n",
      "Name of session :  Rat08-20130713\n"
     ]
    }
   ],
   "source": [
    "print('Rat : ',bk.load.rat)\n",
    "print('Day : ',bk.load.day)\n",
    "print('Path : ',bk.load.path)\n",
    "print('Name of session : ', bk.load.session)"
   ]
  },
  {
   "cell_type": "markdown",
   "metadata": {},
   "source": [
    "# LFPs"
   ]
  },
  {
   "cell_type": "markdown",
   "metadata": {},
   "source": [
    "## Load LFP / Filter LFP"
   ]
  },
  {
   "cell_type": "code",
   "execution_count": 10,
   "metadata": {},
   "outputs": [],
   "source": [
    "states = bk.load.states()"
   ]
  },
  {
   "cell_type": "code",
   "execution_count": 15,
   "metadata": {},
   "outputs": [],
   "source": [
    "lfp_hpc = bk.load.lfp(23,500,1_000)\n",
    "lfp_bla = bk.load.lfp(121,500,1_000)\n",
    "\n",
    "filt_lfp_hpc = bk.signal.passband(lfp_hpc,100,300)\n",
    "filt_lfp_bla = bk.signal.passband(lfp_bla,100,300)\n",
    "\n",
    "ax = plt.subplot(2,1,1)\n",
    "# plt.plot(lfp_hpc.as_units('s'),color = 'grey',alpha = 0.5)\n",
    "hpc_zscore = sp.stats.zscore(filt_lfp_hpc.values)\n",
    "bla_zscore = sp.stats.zscore(filt_lfp_bla.values)\n",
    "plt.plot(filt_lfp_hpc.as_units('s').index,hpc_zscore,color = 'r')\n",
    "bk.plot.intervals(states['sws'])\n",
    "\n",
    "\n",
    "\n",
    "plt.subplot(2,1,2,sharex=ax)\n",
    "# plt.plot(lfp_bla.as_units('s'),color = 'grey',alpha = 0.5)\n",
    "plt.plot(filt_lfp_bla.as_units('s').index,bla_zscore,color = 'r')\n",
    "bk.plot.intervals(states['sws'])"
   ]
  },
  {
   "cell_type": "markdown",
   "metadata": {},
   "source": [
    "## PowerSpectrum / PowerSpectrograms"
   ]
  },
  {
   "cell_type": "code",
   "execution_count": 13,
   "metadata": {},
   "outputs": [],
   "source": [
    "lfp_hpc = bk.load.lfp(23,0,20000)"
   ]
  },
  {
   "cell_type": "code",
   "execution_count": 14,
   "metadata": {},
   "outputs": [
    {
     "data": {
      "text/plain": [
       "[<matplotlib.lines.Line2D at 0x1c2f1f67ac0>]"
      ]
     },
     "execution_count": 14,
     "metadata": {},
     "output_type": "execute_result"
    }
   ],
   "source": [
    "plt.plot(lfp_hpc.as_units('s'))"
   ]
  },
  {
   "cell_type": "code",
   "execution_count": 7,
   "metadata": {},
   "outputs": [],
   "source": [
    "states = bk.load.states()\n",
    "\n",
    "lfp_rem = lfp_hpc.restrict(states['Rem'])\n",
    "lfp_sws = lfp_hpc.restrict(states['sws'])"
   ]
  },
  {
   "cell_type": "code",
   "execution_count": 8,
   "metadata": {},
   "outputs": [
    {
     "data": {
      "text/plain": [
       "[<matplotlib.lines.Line2D at 0x1ab1e94fd00>]"
      ]
     },
     "execution_count": 8,
     "metadata": {},
     "output_type": "execute_result"
    }
   ],
   "source": [
    "plt.plot(lfp_rem.as_units('s'),'orange')\n",
    "plt.plot(lfp_sws.as_units('s'),'grey')"
   ]
  },
  {
   "cell_type": "code",
   "execution_count": 9,
   "metadata": {},
   "outputs": [
    {
     "data": {
      "text/plain": [
       "(0.0, 15.0)"
      ]
     },
     "execution_count": 9,
     "metadata": {},
     "output_type": "execute_result"
    }
   ],
   "source": [
    "f,power_sws = sp.signal.welch(lfp_sws,1250,nperseg = 5000, noverlap=2500)\n",
    "f,power_rem = sp.signal.welch(lfp_rem,1250,nperseg = 5000, noverlap=2500)\n",
    "\n",
    "plt.subplot(1,2,1)\n",
    "plt.title('SWS')\n",
    "plt.plot(f,np.log(power_sws))\n",
    "plt.xlim(0,100)\n",
    "plt.ylim(0,15)\n",
    "\n",
    "plt.subplot(1,2,2)\n",
    "plt.title('REM')\n",
    "plt.plot(f,np.log(power_rem))\n",
    "plt.xlim(0,100)\n",
    "plt.ylim(0,15)"
   ]
  },
  {
   "cell_type": "code",
   "execution_count": 10,
   "metadata": {},
   "outputs": [],
   "source": [
    "f,t,sxx = sp.signal.spectrogram(lfp_rem,1250,nperseg=250,noverlap=125)\n",
    "plt.pcolormesh(t,f,sxx)\n",
    "plt.clim(0,200)"
   ]
  },
  {
   "cell_type": "markdown",
   "metadata": {},
   "source": [
    "# Spikes and Neurons\n"
   ]
  },
  {
   "cell_type": "code",
   "execution_count": 16,
   "metadata": {},
   "outputs": [
    {
     "name": "stdout",
     "output_type": "stream",
     "text": [
      "Data already saved in Numpy format, loading them from here:\n",
      "Rat08-20130713-neurons.npy\n",
      "Rat08-20130713-metadata.npy\n"
     ]
    }
   ],
   "source": [
    "neurons,metadata = bk.load.spikes()"
   ]
  },
  {
   "cell_type": "code",
   "execution_count": 17,
   "metadata": {},
   "outputs": [],
   "source": [
    "y = np.ones(len(neurons[0]))"
   ]
  },
  {
   "cell_type": "code",
   "execution_count": 18,
   "metadata": {},
   "outputs": [
    {
     "data": {
      "text/plain": [
       "[<matplotlib.lines.Line2D at 0x24895199f70>]"
      ]
     },
     "execution_count": 18,
     "metadata": {},
     "output_type": "execute_result"
    }
   ],
   "source": [
    "plt.plot(neurons[0].as_units('s').index,y,'|')"
   ]
  },
  {
   "cell_type": "code",
   "execution_count": 8,
   "metadata": {},
   "outputs": [],
   "source": [
    "bk.plot.rasterPlot([neurons[0]],np.array([[0,20000]]))"
   ]
  },
  {
   "cell_type": "markdown",
   "metadata": {},
   "source": [
    "# Behavior"
   ]
  },
  {
   "cell_type": "code",
   "execution_count": 10,
   "metadata": {},
   "outputs": [],
   "source": [
    "pos = bk.load.pos()"
   ]
  },
  {
   "cell_type": "code",
   "execution_count": 12,
   "metadata": {},
   "outputs": [
    {
     "data": {
      "text/plain": [
       "[<matplotlib.lines.Line2D at 0x248a1c80670>]"
      ]
     },
     "execution_count": 12,
     "metadata": {},
     "output_type": "execute_result"
    }
   ],
   "source": [
    "plt.plot(pos['x'],pos['y'])"
   ]
  },
  {
   "cell_type": "code",
   "execution_count": 13,
   "metadata": {},
   "outputs": [
    {
     "data": {
      "text/plain": [
       "[<matplotlib.lines.Line2D at 0x248a22f1640>]"
      ]
     },
     "execution_count": 13,
     "metadata": {},
     "output_type": "execute_result"
    }
   ],
   "source": [
    "plt.figure()\n",
    "pos_when_spike = pos.realign(neurons[13])\n",
    "plt.plot(pos['x'],pos['y'])\n",
    "plt.plot(pos_when_spike.as_units('s')['x'],pos_when_spike.as_units('s')['y'],'ro')"
   ]
  },
  {
   "cell_type": "code",
   "execution_count": 14,
   "metadata": {},
   "outputs": [
    {
     "data": {
      "text/plain": [
       "[<matplotlib.lines.Line2D at 0x248ab426d90>]"
      ]
     },
     "execution_count": 14,
     "metadata": {},
     "output_type": "execute_result"
    }
   ],
   "source": [
    "plt.figure()\n",
    "plt.hist2d(pos['x'],pos['y'],bins = 100)\n",
    "plt.plot(pos_when_spike.as_units('s')['x'],pos_when_spike.as_units('s')['y'],'ro',markersize = 1)"
   ]
  },
  {
   "cell_type": "code",
   "execution_count": 15,
   "metadata": {},
   "outputs": [
    {
     "data": {
      "text/plain": [
       "Time (s)\n",
       "9.0880       NaN\n",
       "9.1136       NaN\n",
       "9.1392       NaN\n",
       "9.1648       NaN\n",
       "9.1904       NaN\n",
       "              ..\n",
       "22679.8848   NaN\n",
       "22679.9104   NaN\n",
       "22679.9360   NaN\n",
       "22679.9616   NaN\n",
       "22679.9872   NaN\n",
       "Length: 885173, dtype: float64"
      ]
     },
     "execution_count": 15,
     "metadata": {},
     "output_type": "execute_result"
    }
   ],
   "source": [
    "neurons[0].realign(pos).as_units('s')"
   ]
  },
  {
   "cell_type": "markdown",
   "metadata": {},
   "source": [
    "# Batching"
   ]
  },
  {
   "cell_type": "markdown",
   "metadata": {},
   "source": [
    "# Conclusion"
   ]
  }
 ],
 "metadata": {
  "kernelspec": {
   "display_name": "Python 3 (ipykernel)",
   "language": "python",
   "name": "python3"
  },
  "language_info": {
   "codemirror_mode": {
    "name": "ipython",
    "version": 3
   },
   "file_extension": ".py",
   "mimetype": "text/x-python",
   "name": "python",
   "nbconvert_exporter": "python",
   "pygments_lexer": "ipython3",
   "version": "3.8.3"
  }
 },
 "nbformat": 4,
 "nbformat_minor": 4
}
