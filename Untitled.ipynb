{
 "cells": [
  {
   "cell_type": "code",
   "execution_count": 4,
   "id": "95024fb7",
   "metadata": {},
   "outputs": [],
   "source": [
    "import os\n",
    "import sys\n",
    "\n",
    "import matplotlib.pyplot as plt\n",
    "import matplotlib.patches as mpatches\n",
    "import numpy as np\n",
    "import pandas as pd\n",
    "from tqdm import tqdm\n",
    "import neuroseries as nts\n",
    "import scipy as sp\n",
    "import scipy.stats\n",
    "import seaborn as sns\n",
    "\n",
    "import bk.load\n",
    "import bk.compute\n",
    "import bk.plot\n",
    "import bk.signal\n",
    "import mc.functions \n",
    "\n",
    "import matplotlib as mpl\n",
    "mpl.rcParams[\"svg.fonttype\"] = \"none\"\n",
    "\n",
    "%matplotlib qt"
   ]
  },
  {
   "cell_type": "code",
   "execution_count": 10,
   "id": "e22962d6",
   "metadata": {},
   "outputs": [],
   "source": [
    "def iterate_over_sessions(function): \n",
    "    '''\n",
    "    MC 09/01/22\n",
    "    Inputs:\n",
    "        function: the function you want to apply to all you neurons \n",
    "    Outputs: \n",
    "        output_dict: a dictionary with the results associated with each session\n",
    "        outputs: a list of all the results from the function \n",
    "    '''\n",
    "    os.chdir('E:/DATA/GG-Dataset/') #change the directory to the base directory of the data\n",
    "    session_index = pd.read_csv(\"relative_session_indexing.csv\") #read the csv file where the \n",
    "                                                        #relative session indexes are stored \n",
    "    \n",
    "    to_ignore = [\"Rat08/Rat08-20130720\", \n",
    "             \"Rat08/Rat08-20130722\", \n",
    "             \"Rat08/Rat08-20130718\",\n",
    "             \"Rat09/Rat09-20140408\",\n",
    "             \"Rat09/Rat09-20140409\",\n",
    "             \"Rat10/Rat10-20140619\",\n",
    "             \"Rat10/Rat10-20140620\",\n",
    "             \"Rat10/Rat10-20140622\",\n",
    "             \"Rat10/Rat10-20140708\",\n",
    "             \"Rat11/Rat11-20150309\",\n",
    "             \"Rat11/Rat11-20150318\",\n",
    "             \"Rat11/Rat11-20150319\", \n",
    "             \"Rat11/Rat11-20150324\",\n",
    "             \"Rat11/Rat11-20150327\",\n",
    "             \"Rat11/Rat11-20150401\"]\n",
    "    #all the sessions to ignore because they are bugged \n",
    "    \n",
    "    output_dict = {} #initialisation of the dictionary with the results associated with each session\n",
    "    outputs = [] #initialisation of all the results from the function\n",
    "    \n",
    "    for path in tqdm(session_index[\"Path\"]): #go through all sessions in the csv file\n",
    "        \n",
    "        if path in to_ignore: #if the session is to ignore\n",
    "            print(f'\\n {path} THIS SESSION IS BULLSHIT \\n')\n",
    "            continue #skip it \n",
    "        try: #try to apply the function in argument to this session\n",
    "            output = function(path) #store the results\n",
    "            outputs.append(output)\n",
    "            output_dict.update({bk.load.session : output})\n",
    "        except: #if it's not applicable, return an error message \n",
    "            print(f'\\n {path} ERROR IN THIS SESSION, TO WORK IT THROUGH \\n')\n",
    "            continue\n",
    "            \n",
    "        bk.load.current_session_linux(base_folder= 'E:/DATA/GG-Dataset/',local_path= local_path)\n",
    "        states = bk.load.states() \n",
    "\n",
    "        if states['Rem'].tot_length()/1_000_000 < 100 or states['sws'].tot_length()/1_000_000 < 100: \n",
    "            print( f'\\n {path} NOT ENOUGH REM \\n' )\n",
    "            break\n",
    "\n",
    "        neurons,metadata = bk.load.spikes() \n",
    "\n",
    "        neurons_pyr_bla = neurons[(metadata['Type'] == 'Pyr') & (metadata['Region'] == 'BLA')]\n",
    "        if len(neurons_pyr_bla) < 20: \n",
    "            print( f'\\n {path} NOT ENOUGH NEURONS \\n' )\n",
    "            continue\n",
    "        \n",
    "\n",
    "    return output_dict, outputs"
   ]
  },
  {
   "cell_type": "code",
   "execution_count": 11,
   "id": "7c80a2f8",
   "metadata": {},
   "outputs": [],
   "source": [
    "def main(path):\n",
    "    bk.load.current_session_linux(base_folder= 'E:/DATA/GG-Dataset/',local_path= path)\n",
    "    neurons, metadata = bk.load.spikes()\n",
    "    return len(neurons)"
   ]
  },
  {
   "cell_type": "code",
   "execution_count": 12,
   "id": "b8deffef",
   "metadata": {
    "collapsed": true,
    "jupyter": {
     "outputs_hidden": true
    }
   },
   "outputs": [
    {
     "name": "stderr",
     "output_type": "stream",
     "text": [
      "  0%|                                                                                           | 0/61 [00:00<?, ?it/s]"
     ]
    },
    {
     "name": "stdout",
     "output_type": "stream",
     "text": [
      "Rat : 8 on day : 1\n",
      "Working with session Rat08-20130708 @ E:/DATA/GG-Dataset/Rat08/Rat08-20130708\n",
      "Data already saved in Numpy format, loading them from here:\n",
      "Rat08-20130708-neurons.npy\n"
     ]
    },
    {
     "name": "stderr",
     "output_type": "stream",
     "text": [
      "  2%|█▎                                                                                 | 1/61 [00:00<00:16,  3.63it/s]"
     ]
    },
    {
     "name": "stdout",
     "output_type": "stream",
     "text": [
      "Rat08-20130708-metadata.npy\n",
      "Rat : 8 on day : 2\n",
      "Working with session Rat08-20130709 @ E:/DATA/GG-Dataset/Rat08/Rat08-20130709\n",
      "Data already saved in Numpy format, loading them from here:\n",
      "Rat08-20130709-neurons.npy\n"
     ]
    },
    {
     "name": "stderr",
     "output_type": "stream",
     "text": [
      "  3%|██▋                                                                                | 2/61 [00:00<00:19,  3.10it/s]"
     ]
    },
    {
     "name": "stdout",
     "output_type": "stream",
     "text": [
      "Rat08-20130709-metadata.npy\n",
      "Rat : 8 on day : 3\n",
      "Working with session Rat08-20130710 @ E:/DATA/GG-Dataset/Rat08/Rat08-20130710\n",
      "Data already saved in Numpy format, loading them from here:\n",
      "Rat08-20130710-neurons.npy\n"
     ]
    },
    {
     "name": "stderr",
     "output_type": "stream",
     "text": [
      "  5%|████                                                                               | 3/61 [00:01<00:20,  2.81it/s]"
     ]
    },
    {
     "name": "stdout",
     "output_type": "stream",
     "text": [
      "Rat08-20130710-metadata.npy\n",
      "Rat : 8 on day : 4\n",
      "Working with session Rat08-20130711 @ E:/DATA/GG-Dataset/Rat08/Rat08-20130711\n",
      "Data already saved in Numpy format, loading them from here:\n",
      "Rat08-20130711-neurons.npy\n"
     ]
    },
    {
     "name": "stderr",
     "output_type": "stream",
     "text": [
      "  7%|█████▍                                                                             | 4/61 [00:01<00:20,  2.76it/s]"
     ]
    },
    {
     "name": "stdout",
     "output_type": "stream",
     "text": [
      "Rat08-20130711-metadata.npy\n",
      "Rat : 8 on day : 5\n",
      "Working with session Rat08-20130712 @ E:/DATA/GG-Dataset/Rat08/Rat08-20130712\n",
      "Data already saved in Numpy format, loading them from here:\n",
      "Rat08-20130712-neurons.npy\n"
     ]
    },
    {
     "name": "stderr",
     "output_type": "stream",
     "text": [
      "  8%|██████▊                                                                            | 5/61 [00:01<00:17,  3.12it/s]"
     ]
    },
    {
     "name": "stdout",
     "output_type": "stream",
     "text": [
      "Rat08-20130712-metadata.npy\n",
      "Rat : 8 on day : 6\n",
      "Working with session Rat08-20130713 @ E:/DATA/GG-Dataset/Rat08/Rat08-20130713\n",
      "Data already saved in Numpy format, loading them from here:\n",
      "Rat08-20130713-neurons.npy\n"
     ]
    },
    {
     "name": "stderr",
     "output_type": "stream",
     "text": [
      " 10%|████████▏                                                                          | 6/61 [00:01<00:17,  3.23it/s]"
     ]
    },
    {
     "name": "stdout",
     "output_type": "stream",
     "text": [
      "Rat08-20130713-metadata.npy\n",
      "Rat : 8 on day : 7\n",
      "Working with session Rat08-20130715 @ E:/DATA/GG-Dataset/Rat08/Rat08-20130715\n",
      "Data already saved in Numpy format, loading them from here:\n",
      "Rat08-20130715-neurons.npy\n",
      "Rat08-20130715-metadata.npy\n"
     ]
    },
    {
     "name": "stderr",
     "output_type": "stream",
     "text": [
      " 11%|█████████▌                                                                         | 7/61 [00:02<00:14,  3.69it/s]"
     ]
    },
    {
     "name": "stdout",
     "output_type": "stream",
     "text": [
      "Rat : 8 on day : 8\n",
      "Working with session Rat08-20130716 @ E:/DATA/GG-Dataset/Rat08/Rat08-20130716\n",
      "Data already saved in Numpy format, loading them from here:\n",
      "Rat08-20130716-neurons.npy\n",
      "Rat08-20130716-metadata.npy\n"
     ]
    },
    {
     "name": "stderr",
     "output_type": "stream",
     "text": [
      " 15%|████████████▏                                                                      | 9/61 [00:02<00:12,  4.22it/s]"
     ]
    },
    {
     "name": "stdout",
     "output_type": "stream",
     "text": [
      "Rat : 8 on day : 9\n",
      "Working with session Rat08-20130717 @ E:/DATA/GG-Dataset/Rat08/Rat08-20130717\n",
      "Data already saved in Numpy format, loading them from here:\n",
      "Rat08-20130717-neurons.npy\n",
      "Rat08-20130717-metadata.npy\n"
     ]
    },
    {
     "name": "stderr",
     "output_type": "stream",
     "text": [
      " 18%|██████████████▊                                                                   | 11/61 [00:02<00:07,  6.34it/s]"
     ]
    },
    {
     "name": "stdout",
     "output_type": "stream",
     "text": [
      "\n",
      " Rat08/Rat08-20130718 THIS SESSION IS BULLSHIT \n",
      "\n",
      "Rat : 8 on day : 11\n",
      "Working with session Rat08-20130719 @ E:/DATA/GG-Dataset/Rat08/Rat08-20130719\n",
      "Data already saved in Numpy format, loading them from here:\n",
      "Rat08-20130719-neurons.npy\n",
      "Rat08-20130719-metadata.npy\n",
      "\n",
      " Rat08/Rat08-20130720 THIS SESSION IS BULLSHIT \n",
      "\n",
      "\n",
      " Rat08/Rat08-20130722 THIS SESSION IS BULLSHIT \n",
      "\n",
      "Rat : 9 on day : 1\n",
      "Working with session Rat09-20140324 @ E:/DATA/GG-Dataset/Rat09/Rat09-20140324\n",
      "Data already saved in Numpy format, loading them from here:\n",
      "Rat09-20140324-neurons.npy\n"
     ]
    },
    {
     "name": "stderr",
     "output_type": "stream",
     "text": [
      " 23%|██████████████████▊                                                               | 14/61 [00:02<00:04,  9.50it/s]"
     ]
    },
    {
     "name": "stdout",
     "output_type": "stream",
     "text": [
      "Rat09-20140324-metadata.npy\n",
      "Rat : 9 on day : 2\n",
      "Working with session Rat09-20140325 @ E:/DATA/GG-Dataset/Rat09/Rat09-20140325\n",
      "Data already saved in Numpy format, loading them from here:\n",
      "Rat09-20140325-neurons.npy\n",
      "Rat09-20140325-metadata.npy\n",
      "Rat : 9 on day : 3\n",
      "Working with session Rat09-20140326 @ E:/DATA/GG-Dataset/Rat09/Rat09-20140326\n",
      "Data already saved in Numpy format, loading them from here:\n",
      "Rat09-20140326-neurons.npy\n"
     ]
    },
    {
     "name": "stderr",
     "output_type": "stream",
     "text": [
      " 26%|█████████████████████▌                                                            | 16/61 [00:03<00:07,  5.72it/s]"
     ]
    },
    {
     "name": "stdout",
     "output_type": "stream",
     "text": [
      "Rat09-20140326-metadata.npy\n",
      "Rat : 9 on day : 4\n",
      "Working with session Rat09-20140327 @ E:/DATA/GG-Dataset/Rat09/Rat09-20140327\n",
      "Data already saved in Numpy format, loading them from here:\n",
      "Rat09-20140327-neurons.npy\n"
     ]
    },
    {
     "name": "stderr",
     "output_type": "stream",
     "text": [
      " 30%|████████████████████████▏                                                         | 18/61 [00:03<00:08,  5.37it/s]"
     ]
    },
    {
     "name": "stdout",
     "output_type": "stream",
     "text": [
      "Rat09-20140327-metadata.npy\n",
      "Rat : 9 on day : 5\n",
      "Working with session Rat09-20140328 @ E:/DATA/GG-Dataset/Rat09/Rat09-20140328\n",
      "Data already saved in Numpy format, loading them from here:\n",
      "Rat09-20140328-neurons.npy\n",
      "Rat09-20140328-metadata.npy\n",
      "Rat : 9 on day : 6\n",
      "Working with session Rat09-20140329 @ E:/DATA/GG-Dataset/Rat09/Rat09-20140329\n",
      "Data already saved in Numpy format, loading them from here:\n",
      "Rat09-20140329-neurons.npy\n"
     ]
    },
    {
     "name": "stderr",
     "output_type": "stream",
     "text": [
      " 33%|██████████████████████████▉                                                       | 20/61 [00:04<00:06,  6.43it/s]"
     ]
    },
    {
     "name": "stdout",
     "output_type": "stream",
     "text": [
      "Rat09-20140329-metadata.npy\n",
      "Rat : 9 on day : 7\n",
      "Working with session Rat09-20140331 @ E:/DATA/GG-Dataset/Rat09/Rat09-20140331\n",
      "Data already saved in Numpy format, loading them from here:\n",
      "Rat09-20140331-neurons.npy\n",
      "Rat09-20140331-metadata.npy\n",
      "Rat : 9 on day : 8\n",
      "Working with session Rat09-20140401 @ E:/DATA/GG-Dataset/Rat09/Rat09-20140401\n",
      "Data already saved in Numpy format, loading them from here:\n",
      "Rat09-20140401-neurons.npy\n"
     ]
    },
    {
     "name": "stderr",
     "output_type": "stream",
     "text": [
      " 36%|█████████████████████████████▌                                                    | 22/61 [00:04<00:05,  7.45it/s]"
     ]
    },
    {
     "name": "stdout",
     "output_type": "stream",
     "text": [
      "Rat09-20140401-metadata.npy\n",
      "Rat : 9 on day : 9\n",
      "Working with session Rat09-20140402 @ E:/DATA/GG-Dataset/Rat09/Rat09-20140402\n",
      "Data already saved in Numpy format, loading them from here:\n",
      "Rat09-20140402-neurons.npy\n",
      "Rat09-20140402-metadata.npy\n",
      "Rat : 9 on day : 10\n",
      "Working with session Rat09-20140403 @ E:/DATA/GG-Dataset/Rat09/Rat09-20140403\n",
      "Data already saved in Numpy format, loading them from here:\n",
      "Rat09-20140403-neurons.npy\n",
      "Rat09-20140403-metadata.npy\n"
     ]
    },
    {
     "name": "stderr",
     "output_type": "stream",
     "text": [
      " 39%|████████████████████████████████▎                                                 | 24/61 [00:04<00:04,  9.07it/s]"
     ]
    },
    {
     "name": "stdout",
     "output_type": "stream",
     "text": [
      "Rat : 9 on day : 11\n",
      "Working with session Rat09-20140404 @ E:/DATA/GG-Dataset/Rat09/Rat09-20140404\n",
      "Data already saved in Numpy format, loading them from here:\n",
      "Rat09-20140404-neurons.npy\n",
      "Rat09-20140404-metadata.npy\n",
      "Rat : 9 on day : 12\n",
      "Working with session Rat09-20140405 @ E:/DATA/GG-Dataset/Rat09/Rat09-20140405\n",
      "Data already saved in Numpy format, loading them from here:\n",
      "Rat09-20140405-neurons.npy\n",
      "Rat09-20140405-metadata.npy\n",
      "Rat : 9 on day : 13\n",
      "Working with session Rat09-20140407 @ E:/DATA/GG-Dataset/Rat09/Rat09-20140407\n",
      "Data already saved in Numpy format, loading them from here:\n",
      "Rat09-20140407-neurons.npy\n"
     ]
    },
    {
     "name": "stderr",
     "output_type": "stream",
     "text": [
      " 52%|███████████████████████████████████████████                                       | 32/61 [00:04<00:01, 18.74it/s]"
     ]
    },
    {
     "name": "stdout",
     "output_type": "stream",
     "text": [
      "Rat09-20140407-metadata.npy\n",
      "\n",
      " Rat09/Rat09-20140408 THIS SESSION IS BULLSHIT \n",
      "\n",
      "\n",
      " Rat09/Rat09-20140409 THIS SESSION IS BULLSHIT \n",
      "\n",
      "\n",
      " Rat10/Rat10-20140619 THIS SESSION IS BULLSHIT \n",
      "\n",
      "\n",
      " Rat10/Rat10-20140620 THIS SESSION IS BULLSHIT \n",
      "\n",
      "\n",
      " Rat10/Rat10-20140622 THIS SESSION IS BULLSHIT \n",
      "\n",
      "Rat : 10 on day : 4\n",
      "Working with session Rat10-20140624 @ E:/DATA/GG-Dataset/Rat10/Rat10-20140624\n",
      "Data already saved in Numpy format, loading them from here:\n",
      "Rat10-20140624-neurons.npy\n",
      "Rat10-20140624-metadata.npy\n",
      "Rat : 10 on day : 5\n",
      "Working with session Rat10-20140626 @ E:/DATA/GG-Dataset/Rat10/Rat10-20140626\n",
      "Data already saved in Numpy format, loading them from here:\n",
      "Rat10-20140626-neurons.npy\n",
      "Rat10-20140626-metadata.npy\n",
      "Rat : 10 on day : 6\n",
      "Working with session Rat10-20140627 @ E:/DATA/GG-Dataset/Rat10/Rat10-20140627\n",
      "Data already saved in Numpy format, loading them from here:\n",
      "Rat10-20140627-neurons.npy\n",
      "Rat10-20140627-metadata.npy\n",
      "Rat : 10 on day : 7\n",
      "Working with session Rat10-20140628 @ E:/DATA/GG-Dataset/Rat10/Rat10-20140628\n",
      "Data already saved in Numpy format, loading them from here:\n",
      "Rat10-20140628-neurons.npy\n"
     ]
    },
    {
     "name": "stderr",
     "output_type": "stream",
     "text": [
      " 57%|███████████████████████████████████████████████                                   | 35/61 [00:05<00:02, 12.33it/s]"
     ]
    },
    {
     "name": "stdout",
     "output_type": "stream",
     "text": [
      "Rat10-20140628-metadata.npy\n",
      "Rat : 10 on day : 8\n",
      "Working with session Rat10-20140629 @ E:/DATA/GG-Dataset/Rat10/Rat10-20140629\n",
      "Data already saved in Numpy format, loading them from here:\n",
      "Rat10-20140629-neurons.npy\n"
     ]
    },
    {
     "name": "stderr",
     "output_type": "stream",
     "text": [
      " 61%|█████████████████████████████████████████████████▋                                | 37/61 [00:05<00:02,  8.16it/s]"
     ]
    },
    {
     "name": "stdout",
     "output_type": "stream",
     "text": [
      "Rat10-20140629-metadata.npy\n",
      "Rat : 10 on day : 9\n",
      "Working with session Rat10-20140701 @ E:/DATA/GG-Dataset/Rat10/Rat10-20140701\n",
      "Data already saved in Numpy format, loading them from here:\n",
      "Rat10-20140701-neurons.npy\n",
      "Rat10-20140701-metadata.npy\n",
      "Rat : 10 on day : 10\n",
      "Working with session Rat10-20140702 @ E:/DATA/GG-Dataset/Rat10/Rat10-20140702\n",
      "Data already saved in Numpy format, loading them from here:\n",
      "Rat10-20140702-neurons.npy\n",
      "Rat10-20140702-metadata.npy\n",
      "Rat : 10 on day : 11\n",
      "Working with session Rat10-20140703 @ E:/DATA/GG-Dataset/Rat10/Rat10-20140703\n",
      "Data already saved in Numpy format, loading them from here:\n",
      "Rat10-20140703-neurons.npy\n"
     ]
    },
    {
     "name": "stderr",
     "output_type": "stream",
     "text": [
      " 64%|████████████████████████████████████████████████████▍                             | 39/61 [00:06<00:02,  7.35it/s]"
     ]
    },
    {
     "name": "stdout",
     "output_type": "stream",
     "text": [
      "Rat10-20140703-metadata.npy\n",
      "Rat : 10 on day : 12\n",
      "Working with session Rat10-20140704 @ E:/DATA/GG-Dataset/Rat10/Rat10-20140704\n",
      "Data already saved in Numpy format, loading them from here:\n",
      "Rat10-20140704-neurons.npy\n",
      "Rat10-20140704-metadata.npy\n",
      "Rat : 10 on day : 13\n",
      "Working with session Rat10-20140705 @ E:/DATA/GG-Dataset/Rat10/Rat10-20140705\n",
      "Data already saved in Numpy format, loading them from here:\n",
      "Rat10-20140705-neurons.npy\n"
     ]
    },
    {
     "name": "stderr",
     "output_type": "stream",
     "text": [
      " 69%|████████████████████████████████████████████████████████▍                         | 42/61 [00:06<00:02,  7.27it/s]"
     ]
    },
    {
     "name": "stdout",
     "output_type": "stream",
     "text": [
      "Rat10-20140705-metadata.npy\n",
      "Rat : 10 on day : 14\n",
      "Working with session Rat10-20140707 @ E:/DATA/GG-Dataset/Rat10/Rat10-20140707\n",
      "Data already saved in Numpy format, loading them from here:\n",
      "Rat10-20140707-neurons.npy\n",
      "Rat10-20140707-metadata.npy\n",
      "\n",
      " Rat10/Rat10-20140708 THIS SESSION IS BULLSHIT \n",
      "\n",
      "Rat : 11 on day : 2\n",
      "Working with session Rat11-20150310 @ E:/DATA/GG-Dataset/Rat11/Rat11-20150310\n",
      "Data already saved in Numpy format, loading them from here:\n",
      "Rat11-20150310-neurons.npy\n"
     ]
    },
    {
     "name": "stderr",
     "output_type": "stream",
     "text": [
      " 72%|███████████████████████████████████████████████████████████▏                      | 44/61 [00:07<00:02,  6.15it/s]"
     ]
    },
    {
     "name": "stdout",
     "output_type": "stream",
     "text": [
      "Rat11-20150310-metadata.npy\n",
      "Rat : 11 on day : 3\n",
      "Working with session Rat11-20150312 @ E:/DATA/GG-Dataset/Rat11/Rat11-20150312\n",
      "Data already saved in Numpy format, loading them from here:\n",
      "Rat11-20150312-neurons.npy\n"
     ]
    },
    {
     "name": "stderr",
     "output_type": "stream",
     "text": [
      " 75%|█████████████████████████████████████████████████████████████▊                    | 46/61 [00:07<00:02,  5.80it/s]"
     ]
    },
    {
     "name": "stdout",
     "output_type": "stream",
     "text": [
      "Rat11-20150312-metadata.npy\n",
      "Rat : 11 on day : 4\n",
      "Working with session Rat11-20150313 @ E:/DATA/GG-Dataset/Rat11/Rat11-20150313\n",
      "Data already saved in Numpy format, loading them from here:\n",
      "Rat11-20150313-neurons.npy\n",
      "Rat11-20150313-metadata.npy\n",
      "Rat : 11 on day : 5\n",
      "Working with session Rat11-20150314 @ E:/DATA/GG-Dataset/Rat11/Rat11-20150314\n",
      "Data already saved in Numpy format, loading them from here:\n",
      "Rat11-20150314-neurons.npy\n"
     ]
    },
    {
     "name": "stderr",
     "output_type": "stream",
     "text": [
      " 77%|███████████████████████████████████████████████████████████████▏                  | 47/61 [00:07<00:02,  5.05it/s]"
     ]
    },
    {
     "name": "stdout",
     "output_type": "stream",
     "text": [
      "Rat11-20150314-metadata.npy\n",
      "Rat : 11 on day : 6\n",
      "Working with session Rat11-20150315 @ E:/DATA/GG-Dataset/Rat11/Rat11-20150315\n",
      "Data already saved in Numpy format, loading them from here:\n",
      "Rat11-20150315-neurons.npy\n"
     ]
    },
    {
     "name": "stderr",
     "output_type": "stream",
     "text": [
      " 79%|████████████████████████████████████████████████████████████████▌                 | 48/61 [00:07<00:02,  4.75it/s]"
     ]
    },
    {
     "name": "stdout",
     "output_type": "stream",
     "text": [
      "Rat11-20150315-metadata.npy\n",
      "Rat : 11 on day : 7\n",
      "Working with session Rat11-20150316 @ E:/DATA/GG-Dataset/Rat11/Rat11-20150316\n",
      "Data already saved in Numpy format, loading them from here:\n",
      "Rat11-20150316-neurons.npy\n"
     ]
    },
    {
     "name": "stderr",
     "output_type": "stream",
     "text": [
      " 80%|█████████████████████████████████████████████████████████████████▊                | 49/61 [00:08<00:03,  3.82it/s]"
     ]
    },
    {
     "name": "stdout",
     "output_type": "stream",
     "text": [
      "Rat11-20150316-metadata.npy\n",
      "Rat : 11 on day : 8\n",
      "Working with session Rat11-20150317 @ E:/DATA/GG-Dataset/Rat11/Rat11-20150317\n",
      "Data already saved in Numpy format, loading them from here:\n",
      "Rat11-20150317-neurons.npy\n"
     ]
    },
    {
     "name": "stderr",
     "output_type": "stream",
     "text": [
      " 82%|███████████████████████████████████████████████████████████████████▏              | 50/61 [00:08<00:03,  3.59it/s]"
     ]
    },
    {
     "name": "stdout",
     "output_type": "stream",
     "text": [
      "Rat11-20150317-metadata.npy\n",
      "Rat : 11 on day : 11\n",
      "Working with session Rat11-20150321 @ E:/DATA/GG-Dataset/Rat11/Rat11-20150321\n",
      "Data already saved in Numpy format, loading them from here:\n",
      "Rat11-20150321-neurons.npy\n"
     ]
    },
    {
     "name": "stderr",
     "output_type": "stream",
     "text": [
      " 84%|████████████████████████████████████████████████████████████████████▌             | 51/61 [00:09<00:03,  3.21it/s]"
     ]
    },
    {
     "name": "stdout",
     "output_type": "stream",
     "text": [
      "Rat11-20150321-metadata.npy\n",
      "Rat : 11 on day : 12\n",
      "Working with session Rat11-20150323 @ E:/DATA/GG-Dataset/Rat11/Rat11-20150323\n",
      "Data already saved in Numpy format, loading them from here:\n",
      "Rat11-20150323-neurons.npy\n"
     ]
    },
    {
     "name": "stderr",
     "output_type": "stream",
     "text": [
      " 85%|█████████████████████████████████████████████████████████████████████▉            | 52/61 [00:09<00:02,  3.08it/s]"
     ]
    },
    {
     "name": "stdout",
     "output_type": "stream",
     "text": [
      "Rat11-20150323-metadata.npy\n",
      "Rat : 11 on day : 14\n",
      "Working with session Rat11-20150325 @ E:/DATA/GG-Dataset/Rat11/Rat11-20150325\n",
      "Data already saved in Numpy format, loading them from here:\n",
      "Rat11-20150325-neurons.npy\n"
     ]
    },
    {
     "name": "stderr",
     "output_type": "stream",
     "text": [
      " 87%|███████████████████████████████████████████████████████████████████████▏          | 53/61 [00:10<00:03,  2.40it/s]"
     ]
    },
    {
     "name": "stdout",
     "output_type": "stream",
     "text": [
      "Rat11-20150325-metadata.npy\n",
      "Rat : 11 on day : 15\n",
      "Working with session Rat11-20150326 @ E:/DATA/GG-Dataset/Rat11/Rat11-20150326\n",
      "Data already saved in Numpy format, loading them from here:\n",
      "Rat11-20150326-neurons.npy\n"
     ]
    },
    {
     "name": "stderr",
     "output_type": "stream",
     "text": [
      " 89%|████████████████████████████████████████████████████████████████████████▌         | 54/61 [00:10<00:03,  2.20it/s]"
     ]
    },
    {
     "name": "stdout",
     "output_type": "stream",
     "text": [
      "Rat11-20150326-metadata.npy\n",
      "\n",
      " Rat11/Rat11-20150327 THIS SESSION IS BULLSHIT \n",
      "\n",
      "Rat : 11 on day : 17\n",
      "Working with session Rat11-20150328 @ E:/DATA/GG-Dataset/Rat11/Rat11-20150328\n",
      "Data already saved in Numpy format, loading them from here:\n",
      "Rat11-20150328-neurons.npy\n"
     ]
    },
    {
     "name": "stderr",
     "output_type": "stream",
     "text": [
      " 92%|███████████████████████████████████████████████████████████████████████████▎      | 56/61 [00:11<00:01,  2.98it/s]"
     ]
    },
    {
     "name": "stdout",
     "output_type": "stream",
     "text": [
      "Rat11-20150328-metadata.npy\n",
      "Rat : 11 on day : 18\n",
      "Working with session Rat11-20150330 @ E:/DATA/GG-Dataset/Rat11/Rat11-20150330\n",
      "Data already saved in Numpy format, loading them from here:\n",
      "Rat11-20150330-neurons.npy\n"
     ]
    },
    {
     "name": "stderr",
     "output_type": "stream",
     "text": [
      " 93%|████████████████████████████████████████████████████████████████████████████▌     | 57/61 [00:11<00:01,  3.23it/s]"
     ]
    },
    {
     "name": "stdout",
     "output_type": "stream",
     "text": [
      "Rat11-20150330-metadata.npy\n",
      "Rat : 11 on day : 19\n",
      "Working with session Rat11-20150331 @ E:/DATA/GG-Dataset/Rat11/Rat11-20150331\n",
      "Data already saved in Numpy format, loading them from here:\n",
      "Rat11-20150331-neurons.npy\n"
     ]
    },
    {
     "name": "stderr",
     "output_type": "stream",
     "text": [
      " 95%|█████████████████████████████████████████████████████████████████████████████▉    | 58/61 [00:11<00:01,  2.84it/s]"
     ]
    },
    {
     "name": "stdout",
     "output_type": "stream",
     "text": [
      "Rat11-20150331-metadata.npy\n",
      "\n",
      " Rat11/Rat11-20150401 THIS SESSION IS BULLSHIT \n",
      "\n",
      "Rat : 11 on day : 21\n",
      "Working with session Rat11-20150402 @ E:/DATA/GG-Dataset/Rat11/Rat11-20150402\n",
      "Data already saved in Numpy format, loading them from here:\n",
      "Rat11-20150402-neurons.npy\n"
     ]
    },
    {
     "name": "stderr",
     "output_type": "stream",
     "text": [
      "100%|██████████████████████████████████████████████████████████████████████████████████| 61/61 [00:11<00:00,  5.08it/s]"
     ]
    },
    {
     "name": "stdout",
     "output_type": "stream",
     "text": [
      "Rat11-20150402-metadata.npy\n",
      "Rat : 11 on day : 22\n",
      "Working with session Rat11-20150403 @ E:/DATA/GG-Dataset/Rat11/Rat11-20150403\n",
      "Data already saved in Numpy format, loading them from here:\n",
      "Rat11-20150403-neurons.npy\n",
      "Rat11-20150403-metadata.npy\n"
     ]
    },
    {
     "name": "stderr",
     "output_type": "stream",
     "text": [
      "\n"
     ]
    }
   ],
   "source": [
    "_,test = mc.functions.iterate_over_sessions(main)"
   ]
  },
  {
   "cell_type": "code",
   "execution_count": null,
   "id": "b85faf6f",
   "metadata": {},
   "outputs": [],
   "source": []
  }
 ],
 "metadata": {
  "kernelspec": {
   "display_name": "Python 3 (ipykernel)",
   "language": "python",
   "name": "python3"
  },
  "language_info": {
   "codemirror_mode": {
    "name": "ipython",
    "version": 3
   },
   "file_extension": ".py",
   "mimetype": "text/x-python",
   "name": "python",
   "nbconvert_exporter": "python",
   "pygments_lexer": "ipython3",
   "version": "3.8.3"
  }
 },
 "nbformat": 4,
 "nbformat_minor": 5
}
