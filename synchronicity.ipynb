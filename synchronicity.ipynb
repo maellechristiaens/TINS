{
 "cells": [
  {
   "cell_type": "markdown",
   "id": "afaf7ea5",
   "metadata": {},
   "source": [
    "# Importations"
   ]
  },
  {
   "cell_type": "code",
   "execution_count": 1,
   "id": "2b79ba57",
   "metadata": {},
   "outputs": [],
   "source": [
    "import os\n",
    "import sys\n",
    "\n",
    "import matplotlib.pyplot as plt\n",
    "import matplotlib.patches as mpatches\n",
    "import numpy as np\n",
    "import pandas as pd\n",
    "from tqdm import tqdm\n",
    "import neuroseries as nts\n",
    "import scipy as sp\n",
    "import scipy.stats\n",
    "import seaborn as sns\n",
    "\n",
    "import bk.load\n",
    "import bk.compute\n",
    "import bk.plot\n",
    "import bk.signal\n",
    "import mc.functions\n",
    "\n",
    "import matplotlib as mpl\n",
    "mpl.rcParams[\"svg.fonttype\"] = \"none\"\n",
    "\n",
    "%matplotlib qt"
   ]
  },
  {
   "cell_type": "markdown",
   "id": "57466608",
   "metadata": {},
   "source": [
    "# Variables"
   ]
  },
  {
   "cell_type": "code",
   "execution_count": 118,
   "id": "ab6dc913",
   "metadata": {},
   "outputs": [
    {
     "name": "stdout",
     "output_type": "stream",
     "text": [
      "Rat : 11 on day : 12\n",
      "Working with session Rat11-20150323 @ E:/DATA/GG-Dataset/Rat11/Rat11-20150323\n"
     ]
    },
    {
     "data": {
      "text/plain": [
       "True"
      ]
     },
     "execution_count": 118,
     "metadata": {},
     "output_type": "execute_result"
    }
   ],
   "source": [
    "bk.load.current_session_linux(base_folder= 'E:/DATA/GG-Dataset/',local_path= 'Rat11/Rat11-20150323')\n",
    "#load the path name, session name, rat number, day number, and the number of channels in the session "
   ]
  },
  {
   "cell_type": "code",
   "execution_count": 119,
   "id": "db4ad07b",
   "metadata": {},
   "outputs": [],
   "source": [
    "states = bk.load.states() \n",
    "#load the time intervals of the states of the animal (Rem, sws, wake, drowsy) in a dict"
   ]
  },
  {
   "cell_type": "code",
   "execution_count": 120,
   "id": "747b9959",
   "metadata": {},
   "outputs": [
    {
     "name": "stdout",
     "output_type": "stream",
     "text": [
      "Data already saved in Numpy format, loading them from here:\n",
      "Rat11-20150323-neurons.npy\n",
      "Rat11-20150323-metadata.npy\n"
     ]
    }
   ],
   "source": [
    "neurons,metadata = bk.load.spikes() \n",
    "#load the metadata (pd dataframe where informations about the neurons are: \n",
    "#rat, day, shank, id on the shank, region, and type)\n",
    "\n",
    "#load the neurons (np array containing nt frames from each neuron, \n",
    "#in each nt frame there is the timing of the spike (index) and values are nan)"
   ]
  },
  {
   "cell_type": "code",
   "execution_count": 121,
   "id": "a3d48af0",
   "metadata": {},
   "outputs": [],
   "source": [
    "neurons_pyr = neurons[metadata['Type'] == 'Pyr'] #only pyramidal neurons\n",
    "neurons_pyr_hpc = neurons[(metadata['Type'] == 'Pyr') & (metadata['Region'] == 'Hpc')] #only hippocampal pyramidal \n",
    "neurons_pyr_bla = neurons[(metadata['Type'] == 'Pyr') & (metadata['Region'] == 'BLA')] #only bla pyramidal\n",
    "\n",
    "neurons_int = neurons[metadata['Type'] == 'Int'] #only interneurons\n",
    "neurons_int_hpc = neurons[(metadata['Type'] == 'Int') & (metadata['Region'] == 'Hpc')] #only hippocampal interneurons \n",
    "neurons_int_bla = neurons[(metadata['Type'] == 'Int') & (metadata['Region'] == 'BLA')] #only bla interneurons\n",
    "\n",
    "neurons_pyr_ordered = np.concatenate((neurons_pyr_hpc, neurons_pyr_bla)) #all pyramidal neurons, but in order\n",
    "neurons_int_ordered = np.concatenate((neurons_int_hpc, neurons_int_bla)) #all interneurons, but in order"
   ]
  },
  {
   "cell_type": "code",
   "execution_count": 122,
   "id": "7cd7fcb2",
   "metadata": {},
   "outputs": [],
   "source": [
    "if len(neurons_pyr_bla) == 0 or len(neurons_int_bla) == 0:\n",
    "    print('Careful, there are not enough neurons')"
   ]
  },
  {
   "cell_type": "code",
   "execution_count": 123,
   "id": "9a2b4603",
   "metadata": {},
   "outputs": [],
   "source": [
    "window = 1 #the size of the time bins used to make the correlation matrix, in sec\n",
    "smallbins = 0.1 #the size of the small bins used to compute binspikes\n",
    "shift = 1 #the shift from one bin to another, in sec "
   ]
  },
  {
   "cell_type": "markdown",
   "id": "206e0d0e",
   "metadata": {},
   "source": [
    "# Functions "
   ]
  },
  {
   "cell_type": "code",
   "execution_count": 2,
   "id": "2ffa7326",
   "metadata": {},
   "outputs": [],
   "source": [
    "def mean_synchrony(neurons, asymetry=False, neurons2=False, window=1, smallbins=0.1, shift=1):\n",
    "    '''\n",
    "    MC 29/10/21\n",
    "    This function computes the mean synchrony for neurons across time\n",
    "    Inputs: \n",
    "        neurons: the neurons you want to compute the synchrony on\n",
    "        smallbins: the size of the time bins used to compute the number of spikes per neuron in that bin (in sec), default = 0.1\n",
    "        window: the size of the time window in which to compute the mean of synchrony among the neurons (in sec), default = 1\n",
    "        shift: the shift between one window and the following (in sec), default = 1\n",
    "        asymetry: if you want to compute this synchrony between 2 different populations of neurons, default = False\n",
    "        neurons2: the second population of neurons, default = False\n",
    "    Outputs:\n",
    "        a neuroseries data frame with the mean of synchrony across time\n",
    "    '''\n",
    "    if asymetry: #if we want to compute the synchrony between 2 different populations of neurons\n",
    "        neurons = np.concatenate((neurons, neurons2)) # concatenate the 2 populations of neurons\n",
    "        l_neurons2 = len(neurons2) #take the length of the second population, it will be used to extract\n",
    "                                   #only the part of the corrcoef matrix between the 2 populations and not between\n",
    "                                   #themselves\n",
    "    t,binned_neurons = bk.compute.binSpikes(neurons, binSize=smallbins) #count the number of spikes for each neuron in smallbins\n",
    "    b = int(window/smallbins) #the number of small bins in one window\n",
    "    c = int(shift/smallbins) #the number of small bins you have to shift each time\n",
    "    mean_sync = np.zeros(int(binned_neurons.shape[1]/c)) #initialisation of the mean synchrony across time \n",
    "    start = int(0 + b/2) #where to start the computation of mean synchrony (you have to start at b because you\n",
    "                       #compute corrcoef in [-b/2,b/2] windows)\n",
    "    stop = int(binned_neurons.shape[1]-b/2) #where to end the computation of mean synchrony (at the end of the recording)\n",
    "    for i,j in enumerate(tqdm(range(start, stop, c))): #for each window\n",
    "        corrcoef = np.corrcoef(binned_neurons[:,int(j-b/2):int(j + b/2)]) #compute the corrcoef in a [-b/2:b/2] window\n",
    "        if asymetry: \n",
    "            corrcoef = corrcoef[l_neurons2:,:l_neurons2] #extract only the corrcoef matrix between the 2 populations\n",
    "        mean_sync[i] = np.nanmean(corrcoef) #compute the mean of corrcoef for each window, disregarding the nan\n",
    "    t=t[::c] #extract t timings at c steps\n",
    "    if len(t) == len(mean_sync):\n",
    "        toreturn = nts.Tsd(t, mean_sync, time_units='s')\n",
    "    else: \n",
    "        toreturn = nts.Tsd(t[:-1], mean_sync, time_units='s') #create a neuroseries frame with the means of synchrony\n",
    "    return toreturn"
   ]
  },
  {
   "cell_type": "code",
   "execution_count": 3,
   "id": "586f304a",
   "metadata": {},
   "outputs": [],
   "source": [
    "def mean_synchrony_nan(neurons, asymetry=False, neurons2=False, window=2, smallbins=0.1, shift=1):\n",
    "    '''\n",
    "    MC 02/11/21\n",
    "    This function computes the mean synchrony for neurons across time, but with NaN values changed to 0\n",
    "    Inputs: \n",
    "        neurons: the neurons you want to compute the synchrony on\n",
    "        smallbins: the size of the time bins used to compute the number of spikes per neuron in that bin (in sec), default = 0.1\n",
    "        window: the size of the time window in which to compute the mean of synchrony among the neurons (in sec), default = 2\n",
    "        shift: the shift between one window and the following (in sec), default = 1\n",
    "        asymetry: if you want to compute this synchrony between 2 different populations of neurons, default = False\n",
    "        neurons2: the second population of neurons, default = False\n",
    "    Outputs:\n",
    "        a neuroseries data frame with the mean of synchrony across time\n",
    "    '''\n",
    "    if asymetry: #if we want to compute the synchrony between 2 different populations of neurons\n",
    "        neurons = np.concatenate((neurons, neurons2)) # concatenate the 2 populations of neurons\n",
    "        l_neurons2 = len(neurons2) #take the length of the second population, it will be used to extract\n",
    "                                   #only the part of the corrcoef matrix between the 2 populations and not between\n",
    "                                   #themselves\n",
    "    t,binned_neurons = bk.compute.binSpikes(neurons, binSize=smallbins) #count the number of spikes for each neuron in smallbins\n",
    "    b = int(window/smallbins) #the number of small bins in one window\n",
    "    c = int(shift/smallbins) #the number of small bins you have to shift each time\n",
    "    mean_sync = np.zeros(int(binned_neurons.shape[1]/c)) #initialisation of the mean synchrony across time \n",
    "    start = int(0 + b/2) #where to start the computation of mean synchrony (you have to start at b because you\n",
    "                       #compute corrcoef in [-b/2,b/2] windows)\n",
    "    stop = int(binned_neurons.shape[1]-b/2) #where to end the computation of mean synchrony (at the end of the recording)\n",
    "    for i,j in enumerate(tqdm(range(start, stop, c))): #for each window\n",
    "        corrcoef = np.corrcoef(binned_neurons[:,int(j-b/2):int(j + b/2)]) #compute the corrcoef in a [-b/2:b/2] window\n",
    "        if asymetry: \n",
    "            corrcoef = corrcoef[l_neurons2:,:l_neurons2] #extract only the corrcoef matrix between the 2 populations\n",
    "        corrcoef[np.isnan(corrcoef)] = 0 #all nan values are changed to 0\n",
    "        mean_sync[i] = np.nanmean(corrcoef) #compute the mean of corrcoef for each window, disregarding the nan\n",
    "    t=t[::c] #extract t timings at c steps\n",
    "    toreturn = nts.Tsd(t[:-1], mean_sync, time_units='s') #create a neuroseries frame with the means of synchrony\n",
    "    return toreturn"
   ]
  },
  {
   "cell_type": "code",
   "execution_count": 4,
   "id": "e43e169a",
   "metadata": {},
   "outputs": [],
   "source": [
    "def mean_firing_rate(neurons, window=2, smallbins=0.1, shift=1):\n",
    "    '''\n",
    "    MC 02/11/21\n",
    "    This function computes the mean firing rate of a neuron population across time\n",
    "    Inputs: \n",
    "        neurons: the neurons you want to compute the mean firing rate on\n",
    "        smallbins: the size of the time bins used to compute the number of spikes per neuron in that bin (in sec), default = 0.1\n",
    "        window: the size of the time window in which to compute the mean of firing rate among the neurons (in sec), default = 2\n",
    "        shift: the shift between one window and the following (in sec), default = 1\n",
    "    Outputs:\n",
    "        a neuroseries data frame with the mean of firing rate across time\n",
    "    '''\n",
    "    t,binned_neurons = bk.compute.binSpikes(neurons, binSize=smallbins) #count the number of spikes for each neuron in smallbins\n",
    "    b = int(window/smallbins) #the number of small bins in one window\n",
    "    c = int(shift/smallbins) #the number of small bins you have to shift each time\n",
    "    mean_fr = np.zeros(int(binned_neurons.shape[1]/c)) #initialisation of the mean firing rate across time \n",
    "    start = int(0 + b/2) #where to start the computation of mean synchrony (you have to start at b because you\n",
    "                       #compute corrcoef in [-b/2,b/2] windows)\n",
    "    stop = int(binned_neurons.shape[1]-b/2) #where to end the computation of mean synchrony (at the end of the recording)\n",
    "    for i,j in enumerate(tqdm(range(start, stop, c))): #for each window\n",
    "        mean_fr[i] = np.nanmean(binned_neurons[:,int(j-b/2):int(j + b/2)])/window #compute the mean of firing rate for each window, \n",
    "                                                                                  #disregarding the nan\n",
    "    t=t[::c] #extract t timings at c steps\n",
    "    if len(t) == len(mean_fr):\n",
    "        toreturn = nts.Tsd(t, mean_fr, time_units='s')\n",
    "    else: \n",
    "        toreturn = nts.Tsd(t[:-1], mean_fr, time_units='s') #create a neuroseries frame with the means of firing rate\n",
    "    return toreturn"
   ]
  },
  {
   "cell_type": "code",
   "execution_count": 5,
   "id": "7d5af44a",
   "metadata": {},
   "outputs": [],
   "source": [
    "def pourcent_active_neurons(neurons, window=1):\n",
    "    '''\n",
    "    MC 03/11/21\n",
    "    This function computes the pourcentage of active neurons across time\n",
    "    Inputs: \n",
    "        neurons: the neurons you want to compute the pourcentages on\n",
    "        window: the size of the time window in which to compute the pourcentage of active neurons (in sec), default = 1\n",
    "    Outputs:\n",
    "        a neuroseries data frame with the pourcentage of active neurons across time\n",
    "    '''\n",
    "    t,binned_neurons = bk.compute.binSpikes(neurons, binSize=window) #count the number of spikes for each neuron in windows\n",
    "    pourcent_active = np.zeros(int(binned_neurons.shape[1])) #initialisation of the pourcentages across time \n",
    "    for i,j in enumerate(tqdm(range(0, int(binned_neurons.shape[1]), window))): #for each window\n",
    "        pourcent_active[i] = np.count_nonzero(binned_neurons[:,j])/len(neurons) #compute the pourcentage for each window\n",
    "    t=t[::window] #extract t timings at shift steps\n",
    "    toreturn = nts.Tsd(t, pourcent_active, time_units='s') #create a neuroseries frame with the pourcentages\n",
    "    return toreturn"
   ]
  },
  {
   "cell_type": "code",
   "execution_count": 6,
   "id": "c207c26f",
   "metadata": {},
   "outputs": [],
   "source": [
    "def normalization(neurons):\n",
    "    '''\n",
    "    MC 08/11/21\n",
    "    this function normalizes the pourcentage of active cells to the mean firing rate\n",
    "    Input : the neurons you want to compute this normalization on\n",
    "    Output : a neuroseries timeframe of this normalized pourcentages of active cells \n",
    "    '''\n",
    "    t,_ = bk.compute.binSpikes(neurons, binSize=1)\n",
    "    pac = pourcent_active_neurons(neurons, window = 1) #compute the pourcent of active cells across time\n",
    "    pac = bk.compute.nts_smooth(pac, 100, 50) #smoothing the results \n",
    "    mfr = mean_firing_rate(neurons, window=2, shift=1) #compute the mean FR across time \n",
    "    mfr = bk.compute.nts_smooth(mfr, 100, 50) #smoothing the results\n",
    "    toreturn = [(i/j) for i,j in zip(pac.values, mfr.values)] #normalize the pac to the mfr\n",
    "    toreturn = nts.Tsd(t, toreturn, time_units = 's') #create the tsd\n",
    "    return toreturn\n",
    "    "
   ]
  },
  {
   "cell_type": "code",
   "execution_count": 7,
   "id": "11132c16",
   "metadata": {},
   "outputs": [],
   "source": [
    "def synchrony_around_transitions(transitions, mean_sync):\n",
    "    '''\n",
    "    MC 13/12/21\n",
    "    This function computes the mean of synchrony around transitions REM/sws or sws/REM, \n",
    "    and the mean of synchrony of the whole epochs considered (REM or sws)\n",
    "    Inputs: \n",
    "        transitions: the timing of the transitions\n",
    "        mean_sync: the mean synchrony across the session\n",
    "    Output: a dataframe with the different means for each type \n",
    "    '''\n",
    "    \n",
    "    trans = {'Rem before transition': [], \n",
    "            'Rem after transition': [],\n",
    "             'Rem': [],\n",
    "            'sws before transition' : [], \n",
    "            'sws after transition': [],\n",
    "            'sws': []}\n",
    "    \n",
    "    transitions_rem_sws = transitions[1][('Rem', 'sws')].index.values\n",
    "    transitions_sws_rem = transitions[1][('sws', 'Rem')].index.values\n",
    "    \n",
    "    for i  in transitions_rem_sws:\n",
    "        interval_rem = nts.IntervalSet(i-10_000_000, i, time_units='us')\n",
    "        trans['Rem before transition'].append(np.mean(mean_sync.restrict(interval_rem).values))\n",
    "        interval_sws = nts.IntervalSet(i, i+10_000_000, time_units='us')\n",
    "        trans['sws after transition'].append(np.mean(mean_sync.restrict(interval_sws).values))\n",
    "\n",
    "    for i  in transitions_sws_rem:\n",
    "        interval_sws = nts.IntervalSet(i-10_000_000, i, time_units='us')\n",
    "        trans['sws before transition'].append(np.mean(mean_sync.restrict(interval_sws).values))\n",
    "        interval_rem = nts.IntervalSet(i, i+10_000_000, time_units='us')\n",
    "        trans['Rem after transition'].append(np.mean(mean_sync.restrict(interval_rem).values))\n",
    "\n",
    "    for i, j  in zip(states['Rem'].as_units('s').start, states['Rem'].as_units('s').end):\n",
    "        interval = nts.IntervalSet(i,j, time_units='s')\n",
    "        trans['Rem'].append(np.mean(mean_sync.restrict(interval).values))\n",
    "\n",
    "    for i, j  in zip(states['sws'].as_units('s').start, states['sws'].as_units('s').end):\n",
    "        interval = nts.IntervalSet(i,j, time_units='s')\n",
    "        trans['sws'].append(np.mean(mean_sync.restrict(interval).values))\n",
    "\n",
    "    trans = pd.DataFrame(dict([ (k,pd.Series(v)) for k,v in trans.items() ]))\n",
    "    return trans"
   ]
  },
  {
   "cell_type": "code",
   "execution_count": 8,
   "id": "6d1ac043",
   "metadata": {},
   "outputs": [],
   "source": [
    "def plot_synchrony_over_time_transitions(transitions, mean_sync, rem_to_sws=True):\n",
    "    '''\n",
    "    MC 15/12/21\n",
    "    This function draws the synchrony over time around the transitions\n",
    "    TO CONTINUE\n",
    "    Inputs:\n",
    "        transitions: the timing of the transitions \n",
    "        mean_sync: the mean of synchrony over time \n",
    "        rem_to_sws: if we look at rem to sws transitions or sws to rem transitions (by default: rem_to_sws)\n",
    "    Output:\n",
    "    A figure with the synchrony over time drawn\n",
    "    '''\n",
    "    means =[]\n",
    "    fig, ax = plt.subplots()\n",
    "    for i  in transitions_rem_sws:\n",
    "        interval = nts.IntervalSet(i-20_000_000, i+ 40_000_000, time_units='us')\n",
    "        m = mean_sync_pyr_bla.restrict(interval).values\n",
    "        means.append(m)\n",
    "        plt.plot(m, color = 'grey', alpha = 0.3)\n",
    "    a = mpatches.Rectangle((0,0), 20, 0.3, facecolor = 'orange', alpha = 0.5)\n",
    "    ax.add_patch(a)\n",
    "    mean = np.mean(means, axis=0)\n",
    "    plt.plot(mean, color = 'r', linewidth=4)"
   ]
  },
  {
   "cell_type": "code",
   "execution_count": 9,
   "id": "2a03924d",
   "metadata": {},
   "outputs": [],
   "source": [
    "def corr_coeff_without_nan(var1, var2):\n",
    "    '''\n",
    "    MC 25/12/21\n",
    "    This function returns \n",
    "    Inputs:\n",
    "        var1: the first variable we want to extract the non-NaN from\n",
    "        var2: the second variable we want to extract the non-NaN from\n",
    "    Outputs:\n",
    "        var1: the first variable masked\n",
    "        var2: the second variable masked\n",
    "        mask: the mask (the position where there are non-NaN in the variables)\n",
    "    \n",
    "    '''\n",
    "    \n",
    "    mask = ~np.logical_or(np.isnan(var1), np.isnan(var2)) \n",
    "    #create a mask (a boolean array) that tells if there are NaN in \n",
    "    #either variable for each position\n",
    "\n",
    "    var1 = np.compress(mask, var1)\n",
    "    var2 = np.compress(mask, var2)\n",
    "    #extract only the positions where there are non NaN in either variable\n",
    "    \n",
    "    return var1, var2, mask"
   ]
  },
  {
   "cell_type": "code",
   "execution_count": 10,
   "id": "f81a6eda",
   "metadata": {},
   "outputs": [],
   "source": [
    "def get_first_and_last_intervals(states):\n",
    "    '''\n",
    "    MC 29/12/2021\n",
    "    This function returns the first and the last epochs of a given state\n",
    "    \n",
    "    Inputs: \n",
    "        states: the given state you want to first and last epochs from\n",
    "    Outputs: \n",
    "        start: the first epoch of the given state\n",
    "        last: the last epoch of the given state\n",
    "    '''\n",
    "    first = pd.DataFrame(dict([ (k,pd.Series(v)) for k,v in states.iloc[0].items() ])) \n",
    "    #take the first line of the given state, and return a dataframe of it \n",
    "    first = nts.IntervalSet(first) \n",
    "    #turn it into a neurotimeseries interval (to be compatible with .restrict)\n",
    "    last = pd.DataFrame(dict([ (k,pd.Series(v)) for k,v in states.iloc[-1].items() ]))\n",
    "    last = nts.IntervalSet(last)\n",
    "    return first, last"
   ]
  },
  {
   "cell_type": "code",
   "execution_count": 11,
   "id": "26e8937f",
   "metadata": {},
   "outputs": [],
   "source": [
    "def get_extended_sleep(states,sleep_th,wake_th):\n",
    "    '''\n",
    "    BK 03/01/22\n",
    "    Return extended sleep session given state, sleep\n",
    "    Inputs:\n",
    "        states: the given states you want the extended sleep from\n",
    "        sleep_th: the threshold of sleep\n",
    "        wake_th: the threshold of wake\n",
    "    Outputs:\n",
    "        ext_sleep: the epochs of extended sleep \n",
    "    '''\n",
    "    \n",
    "    ext_sleep = states['sws'].union(states['Rem']).merge_close_intervals(wake_th,time_units = 's')\n",
    "    ext_sleep = ext_sleep[ext_sleep.duration(time_units='s')>sleep_th].reset_index(drop = True)\n",
    "    return ext_sleep"
   ]
  },
  {
   "cell_type": "code",
   "execution_count": 12,
   "id": "53394508",
   "metadata": {},
   "outputs": [],
   "source": [
    "def iterate_over_sessions(function): \n",
    "    '''\n",
    "    MC 09/01/22\n",
    "    Inputs:\n",
    "        function: the function you want to apply to all sessions considered\n",
    "    Outputs: \n",
    "        output_dict: a dictionary with the sessions as keys and the results of the function as values \n",
    "    '''\n",
    "    os.chdir('E:/DATA/GG-Dataset/')\n",
    "    session_index = pd.read_csv(\"relative_session_indexing.csv\")\n",
    "    \n",
    "    to_ignore = [\"Rat08/Rat08-20130720\", \n",
    "             \"Rat08-20130722\", \n",
    "             \"Rat08-20130718\",\n",
    "             \"Rat09-20140408\",\n",
    "             \"Rat09-20140409\",\n",
    "             \"Rat10-20140619\",\n",
    "             \"Rat10-20140620\",\n",
    "             \"Rat10-20140622\",\n",
    "             \"Rat10-20140708\",\n",
    "             \"Rat11-20150309\",\n",
    "             \"Rat11-20150318\",\n",
    "             \"Rat11-20150319\", \n",
    "             \"Rat11-20150324\",\n",
    "             \"Rat11-20150327\",\n",
    "             \"Rat11-20150401\"]\n",
    "    \n",
    "    output_dict = {}\n",
    "    \n",
    "    for path in tqdm(session_index[\"Path\"]):\n",
    "        \n",
    "        if path in to_ignore:\n",
    "            print(f'{path} THIS SESSION IS BULLSHIT')\n",
    "            continue\n",
    "        try:\n",
    "            output = function(path)\n",
    "            output_dict.update({bk.load.session : output})\n",
    "        except:\n",
    "            print(f'{path} ERROR IN THIS SESSION, TO WORK IT THROUGH')\n",
    "            continue\n",
    "        print(output)\n",
    "    return output_dict"
   ]
  },
  {
   "cell_type": "markdown",
   "id": "30cc67b5",
   "metadata": {},
   "source": [
    "# Computation of variables"
   ]
  },
  {
   "cell_type": "code",
   "execution_count": 16,
   "id": "24589d6e",
   "metadata": {},
   "outputs": [
    {
     "name": "stderr",
     "output_type": "stream",
     "text": [
      "  0%|                                                                                        | 0/24290 [00:00<?, ?it/s]C:\\Users\\maell\\anaconda3\\lib\\site-packages\\numpy\\lib\\function_base.py:2691: RuntimeWarning: invalid value encountered in true_divide\n",
      "  c /= stddev[:, None]\n",
      "C:\\Users\\maell\\anaconda3\\lib\\site-packages\\numpy\\lib\\function_base.py:2692: RuntimeWarning: invalid value encountered in true_divide\n",
      "  c /= stddev[None, :]\n",
      "100%|██████████████████████████████████████████████████████████████████████████| 24290/24290 [00:14<00:00, 1733.96it/s]\n",
      " 20%|██████████████▋                                                            | 4744/24290 [00:02<00:07, 2560.21it/s]C:\\Users\\maell\\AppData\\Local\\Temp/ipykernel_20972/1913985095.py:31: RuntimeWarning: Mean of empty slice\n",
      "  mean_sync[i] = np.nanmean(corrcoef) #compute the mean of corrcoef for each window, disregarding the nan\n",
      "100%|██████████████████████████████████████████████████████████████████████████| 24290/24290 [00:09<00:00, 2468.97it/s]\n"
     ]
    }
   ],
   "source": [
    "mean_sync_pyr_bla = mean_synchrony(neurons_pyr_bla, window=1, smallbins=0.1, shift=1)\n",
    "mean_sync_int_bla = mean_synchrony(neurons_int_bla, window=1, smallbins=0.1, shift=1)\n",
    "\n",
    "mean_sync_pyr_bla_s = bk.compute.nts_smooth(mean_sync_pyr_bla, 100,50)\n",
    "mean_sync_int_bla_s = bk.compute.nts_smooth(mean_sync_int_bla, 100,50)"
   ]
  },
  {
   "cell_type": "code",
   "execution_count": 67,
   "id": "e4700917",
   "metadata": {},
   "outputs": [
    {
     "name": "stderr",
     "output_type": "stream",
     "text": [
      "100%|██████████████████████████████████████████████████████████████████████████| 25510/25510 [00:18<00:00, 1349.14it/s]\n",
      "100%|██████████████████████████████████████████████████████████████████████████| 25510/25510 [00:09<00:00, 2572.78it/s]\n"
     ]
    }
   ],
   "source": [
    "mean_sync_nan_pyr_bla = mean_synchrony_nan(neurons_pyr_bla, window=1, smallbins=0.1, shift=1)\n",
    "mean_sync_nan_int_bla = mean_synchrony_nan(neurons_int_bla, window=1, smallbins=0.1, shift=1)\n",
    "\n",
    "mean_sync_nan_pyr_bla_s = bk.compute.nts_smooth(mean_sync_nan_pyr_bla, 100,50)\n",
    "mean_sync_nan_int_bla_s = bk.compute.nts_smooth(mean_sync_nan_int_bla, 100,50)"
   ]
  },
  {
   "cell_type": "code",
   "execution_count": 68,
   "id": "5c7b3541",
   "metadata": {},
   "outputs": [
    {
     "name": "stderr",
     "output_type": "stream",
     "text": [
      "  0%|                                                                                        | 0/25510 [00:00<?, ?it/s]C:\\Users\\maell\\AppData\\Local\\Temp/ipykernel_25084/453570434.py:31: RuntimeWarning: Mean of empty slice\n",
      "  mean_sync[i] = np.nanmean(corrcoef) #compute the mean of corrcoef for each window, disregarding the nan\n",
      "100%|███████████████████████████████████████████████████████████████████████████| 25510/25510 [00:26<00:00, 974.15it/s]\n"
     ]
    }
   ],
   "source": [
    "m_asym_bla = mean_synchrony(neurons_pyr_bla, asymetry=True, \n",
    "                            neurons2=neurons_int_bla, window=1, \n",
    "                            smallbins = 0.1, shift= 1)\n",
    "\n",
    "m_asym_bla_s = bk.compute.nts_smooth(m_asym_bla, 30, 30)"
   ]
  },
  {
   "cell_type": "code",
   "execution_count": 17,
   "id": "d52fe188",
   "metadata": {},
   "outputs": [
    {
     "name": "stderr",
     "output_type": "stream",
     "text": [
      "100%|█████████████████████████████████████████████████████████████████████████| 24289/24289 [00:01<00:00, 13151.29it/s]\n",
      "100%|█████████████████████████████████████████████████████████████████████████| 24289/24289 [00:00<00:00, 26842.45it/s]\n"
     ]
    }
   ],
   "source": [
    "mean_fr_pyr_bla = mean_firing_rate(neurons_pyr_bla)\n",
    "mean_fr_int_bla = mean_firing_rate(neurons_int_bla)\n",
    "\n",
    "mean_fr_pyr_bla_s = bk.compute.nts_smooth(mean_fr_pyr_bla, 100,50)\n",
    "mean_fr_int_bla_s = bk.compute.nts_smooth(mean_fr_int_bla, 100,50)"
   ]
  },
  {
   "cell_type": "code",
   "execution_count": 70,
   "id": "dfa47010",
   "metadata": {},
   "outputs": [
    {
     "name": "stderr",
     "output_type": "stream",
     "text": [
      "100%|████████████████████████████████████████████████████████████████████████| 25510/25510 [00:00<00:00, 176150.02it/s]\n",
      "100%|████████████████████████████████████████████████████████████████████████| 25510/25510 [00:00<00:00, 176399.48it/s]\n"
     ]
    }
   ],
   "source": [
    "pourcent_active_pyr_bla = pourcent_active_neurons(neurons_pyr_bla)\n",
    "pourcent_active_int_bla = pourcent_active_neurons(neurons_int_bla)\n",
    "\n",
    "pourcent_active_pyr_bla_s = bk.compute.nts_smooth(pourcent_active_pyr_bla, 100,50)\n",
    "pourcent_active_int_bla_s = bk.compute.nts_smooth(pourcent_active_int_bla, 100,50)"
   ]
  },
  {
   "cell_type": "code",
   "execution_count": 71,
   "id": "b5cb6431",
   "metadata": {},
   "outputs": [],
   "source": [
    "transitions = bk.compute.transitions_times(states)\n",
    "\n",
    "transitions_rem_sws = transitions[1][('Rem', 'sws')].index.values\n",
    "transitions_sws_rem = transitions[1][('sws', 'Rem')].index.values"
   ]
  },
  {
   "cell_type": "markdown",
   "id": "a05a6a03",
   "metadata": {},
   "source": [
    "# Matrices de corrélation et calculs de moyenne de synchronie"
   ]
  },
  {
   "cell_type": "markdown",
   "id": "b2d75bac",
   "metadata": {},
   "source": [
    "### Asymetrical matrices BLA/HPC with pyr and int"
   ]
  },
  {
   "cell_type": "code",
   "execution_count": 45,
   "id": "cdd498e9",
   "metadata": {
    "collapsed": true,
    "jupyter": {
     "outputs_hidden": true
    }
   },
   "outputs": [
    {
     "name": "stderr",
     "output_type": "stream",
     "text": [
      "  0%|                                                                                        | 0/22639 [00:00<?, ?it/s]C:\\Users\\maell\\anaconda3\\lib\\site-packages\\numpy\\lib\\function_base.py:2691: RuntimeWarning: invalid value encountered in true_divide\n",
      "  c /= stddev[:, None]\n",
      "C:\\Users\\maell\\anaconda3\\lib\\site-packages\\numpy\\lib\\function_base.py:2692: RuntimeWarning: invalid value encountered in true_divide\n",
      "  c /= stddev[None, :]\n",
      "100%|███████████████████████████████████████████████████████████████████████████| 22639/22639 [00:25<00:00, 898.19it/s]\n",
      "100%|██████████████████████████████████████████████████████████████████████████| 22639/22639 [00:18<00:00, 1217.04it/s]\n",
      "100%|██████████████████████████████████████████████████████████████████████████| 22639/22639 [00:09<00:00, 2435.30it/s]\n",
      "100%|██████████████████████████████████████████████████████████████████████████| 22639/22639 [00:08<00:00, 2717.07it/s]\n",
      "100%|███████████████████████████████████████████████████████████████████████████| 22639/22639 [00:40<00:00, 557.32it/s]\n",
      "100%|██████████████████████████████████████████████████████████████████████████| 22639/22639 [00:10<00:00, 2173.40it/s]\n",
      "  4%|██▋                                                                          | 808/22639 [00:00<00:22, 987.60it/s]C:\\Users\\maell\\AppData\\Local\\Temp/ipykernel_23364/4247394187.py:27: RuntimeWarning: Mean of empty slice\n",
      "  mean_sync[i] = np.nanmean(corrcoef)\n",
      "100%|███████████████████████████████████████████████████████████████████████████| 22639/22639 [00:27<00:00, 836.62it/s]\n",
      "100%|██████████████████████████████████████████████████████████████████████████| 22639/22639 [00:19<00:00, 1162.21it/s]\n"
     ]
    }
   ],
   "source": [
    "m_asym_pyr = mean_synchrony(neurons_pyr_bla, asymetry=True, neurons2=neurons_pyr_hpc, window=1, smallbins = 0.025, shift= 1)\n",
    "m_asym_int = mean_synchrony(neurons_int_bla, asymetry=True, neurons2=neurons_int_hpc, window=1, smallbins = 0.025, shift= 1)\n",
    "m_asym_bla = mean_synchrony(neurons_pyr_bla, asymetry=True, neurons2=neurons_int_bla, window=1, smallbins = 0.025, shift= 1)\n",
    "m_asym_hpc = mean_synchrony(neurons_pyr_hpc, asymetry=True, neurons2=neurons_int_hpc, window=1, smallbins = 0.025, shift= 1)"
   ]
  },
  {
   "cell_type": "code",
   "execution_count": 46,
   "id": "d4fa6e46",
   "metadata": {},
   "outputs": [],
   "source": [
    "m_asym_pyr_s = bk.compute.nts_smooth(m_asym_pyr, 10,5)\n",
    "m_asym_int_s = bk.compute.nts_smooth(m_asym_int, 10,5)\n",
    "m_asym_bla_s = bk.compute.nts_smooth(m_asym_bla, 10,5)\n",
    "m_asym_hpc_s = bk.compute.nts_smooth(m_asym_hpc, 10,5)"
   ]
  },
  {
   "cell_type": "code",
   "execution_count": 65,
   "id": "1a1ef0d9",
   "metadata": {
    "collapsed": true,
    "jupyter": {
     "outputs_hidden": true
    }
   },
   "outputs": [
    {
     "name": "stderr",
     "output_type": "stream",
     "text": [
      "C:\\Users\\maell\\anaconda3\\lib\\site-packages\\numpy\\lib\\function_base.py:2691: RuntimeWarning: invalid value encountered in true_divide\n",
      "  c /= stddev[:, None]\n",
      "C:\\Users\\maell\\anaconda3\\lib\\site-packages\\numpy\\lib\\function_base.py:2692: RuntimeWarning: invalid value encountered in true_divide\n",
      "  c /= stddev[None, :]\n"
     ]
    }
   ],
   "source": [
    "#for asymetrical matrices (between hpc and bla)\n",
    "#To get the correlation coefficient between hpc and bla, I concatenate the 2, then I compute the matrix \n",
    "#but I only take the part where it is between the two, and not between themselves. Then I can compute the mean\n",
    "\n",
    "l_pyr_bla = len(neurons_pyr_bla)\n",
    "l_pyr_hpc = len(neurons_pyr_hpc)\n",
    "l_int_bla = len(neurons_int_bla)\n",
    "l_int_hpc = len(neurons_int_hpc)\n",
    "#compute their length to only take the part of the matrix where it is asymetrical\n",
    "\n",
    "mean_corr_pyr = []\n",
    "mean_corr_int = []\n",
    "\n",
    "for i in interval:\n",
    "    corrcoef_pyr = np.corrcoef(binned_pyr[:,int(i):int(i + bins)]) \n",
    "    corrcoef_pyr = corrcoef_pyr[l_pyr_hpc:-1, l_pyr_bla:-1]\n",
    "    mean_corr_pyr.append(np.nanmean(corrcoef_pyr))\n",
    "    corrcoef_int = np.corrcoef(binned_int[:,int(i):int(i + bins)])  \n",
    "    corrcoef_int = corrcoef_int[l_int_hpc:-1, l_int_bla:-1]\n",
    "    mean_corr_int.append(np.nanmean(corrcoef_int))\n"
   ]
  },
  {
   "cell_type": "markdown",
   "id": "17e6f361",
   "metadata": {},
   "source": [
    "### Plotting"
   ]
  },
  {
   "cell_type": "code",
   "execution_count": 48,
   "id": "fadbe241",
   "metadata": {
    "collapsed": true,
    "jupyter": {
     "outputs_hidden": true
    }
   },
   "outputs": [
    {
     "data": {
      "text/plain": [
       "<matplotlib.legend.Legend at 0x15747c4bd90>"
      ]
     },
     "execution_count": 48,
     "metadata": {},
     "output_type": "execute_result"
    }
   ],
   "source": [
    "plt.figure()\n",
    "plt.subplot(4,1,1)\n",
    "bk.plot.intervals(states['Rem'])\n",
    "bk.plot.intervals(states['sws'], col='grey')\n",
    "plt.plot(m_pyr_bla[15000:].as_units('s'), label='pyr bla', color = 'g')\n",
    "plt.plot(m_pyr_hpc[15000:].as_units('s'), label='pyr hpc', color = 'b')\n",
    "plt.plot(m_asym_pyr[15000:].as_units('s'), label ='synchro pyr BLA/HPC', color='r')\n",
    "plt.xlim(15000,22000)\n",
    "plt.legend()\n",
    "\n",
    "plt.subplot(4,1,2)\n",
    "bk.plot.intervals(states['Rem'])\n",
    "bk.plot.intervals(states['sws'], col='grey')\n",
    "plt.plot(m_int_bla[15000:].as_units('s'), label='int bla', color = 'g', linestyle='--')\n",
    "plt.plot(m_int_hpc[15000:].as_units('s'), label='int hpc', color = 'b', linestyle='--')\n",
    "plt.plot(m_asym_int[15000:].as_units('s'), label ='synchro int BLA/HPC', color='r')\n",
    "plt.xlim(15000,22000)\n",
    "plt.legend()\n",
    "\n",
    "plt.subplot(4,1,3)\n",
    "bk.plot.intervals(states['Rem'])\n",
    "bk.plot.intervals(states['sws'], col='grey')\n",
    "plt.plot(m_pyr_bla[15000:].as_units('s'), label='pyr bla', color = 'g')\n",
    "plt.plot(m_int_bla[15000:].as_units('s'), label='int bla', color = 'g', linestyle='--')\n",
    "plt.plot(m_asym_bla[15000:].as_units('s'), label ='synchro BLA pyr/int', color='r')\n",
    "plt.xlim(15000,22000)\n",
    "plt.legend()\n",
    "\n",
    "plt.subplot(4,1,4)\n",
    "bk.plot.intervals(states['Rem'])\n",
    "bk.plot.intervals(states['sws'], col='grey')\n",
    "plt.plot(m_pyr_hpc[15000:].as_units('s'), label='pyr hpc', color = 'b')\n",
    "plt.plot(m_int_hpc[15000:].as_units('s'), label='int hpc', color = 'b', linestyle='--')\n",
    "plt.plot(m_asym_hpc[15000:].as_units('s'), label ='synchro HPC Pyr/int', color='r')\n",
    "plt.xlim(15000,22000)\n",
    "plt.legend()"
   ]
  },
  {
   "cell_type": "code",
   "execution_count": 23,
   "id": "d765d34a",
   "metadata": {
    "collapsed": true,
    "jupyter": {
     "outputs_hidden": true
    }
   },
   "outputs": [
    {
     "data": {
      "text/plain": [
       "<matplotlib.legend.Legend at 0x2888003fd60>"
      ]
     },
     "execution_count": 23,
     "metadata": {},
     "output_type": "execute_result"
    }
   ],
   "source": [
    "bk.plot.intervals(states['Rem'])\n",
    "bk.plot.intervals(states['sws'], col='grey')\n",
    "plt.plot(mean_fr_pyr_bla_s.as_units('s'), label='mean firing rate', color = 'g')\n",
    "plt.plot(pourcent_active_pyr_bla_s.as_units('s'), label='pourcent active', color = 'b')\n",
    "plt.plot(mean_sync_pyr_bla_s.as_units('s'), label='mean synchrony', color = 'r')\n",
    "\n",
    "plt.legend()"
   ]
  },
  {
   "cell_type": "code",
   "execution_count": null,
   "id": "4c00c4e4",
   "metadata": {},
   "outputs": [],
   "source": [
    "plt.figure()\n",
    "plt.subplot(1,2,1)\n",
    "g = sns.regplot(mean_fr_pyr_bla_s.restrict(states['Rem']).values, \n",
    "                mean_sync_pyr_bla_s.restrict(states['Rem']).values, \n",
    "                scatter_kws={'alpha':0.1, 's':5}, line_kws={'lw':5}, x_ci='sd', color='orange')\n",
    "sns.regplot(mean_fr_pyr_bla_s.restrict(states['sws']).values, \n",
    "            mean_sync_pyr_bla_s.restrict(states['sws']).values, \n",
    "            scatter_kws={'alpha':0.1, 's':5}, line_kws={'lw':5}, x_ci='sd', color='grey')\n",
    "sns.regplot(mean_fr_pyr_bla_s[100:-100].restrict(states['wake']).values, \n",
    "            mean_sync_pyr_bla_s[100:-100].restrict(states['wake']).values, \n",
    "            scatter_kws={'alpha':0.1, 's':5}, line_kws={'lw':5}, x_ci='sd')\n",
    "g.set(xlabel ='mean firing rate', ylabel = 'mean synchrony',\n",
    "      title='Correlation between synchrony and firing rate in BLA pyramidal cells')\n",
    "g.legend(labels=['Rem', 'sws', 'Wake'])\n",
    "\n",
    "plt.subplot(1,2,2)\n",
    "g = sns.regplot(mean_fr_int_bla_s.restrict(states['Rem']).values, \n",
    "                mean_sync_nan_int_bla_s.restrict(states['Rem']).values, \n",
    "                scatter_kws={'alpha':0.1, 's':5}, line_kws={'lw':5}, robust=True, x_ci='sd', color='orange')\n",
    "sns.regplot(mean_fr_int_bla_s.restrict(states['sws']).values, \n",
    "            mean_sync_nan_int_bla_s.restrict(states['sws']).values, \n",
    "            scatter_kws={'alpha':0.1, 's':5}, line_kws={'lw':5}, robust=True, x_ci='sd', color='grey')\n",
    "sns.regplot(mean_fr_int_bla_s[100:-100].restrict(states['wake']).values, \n",
    "            mean_sync_nan_int_bla_s[100:-100].restrict(states['wake']).values, \n",
    "            scatter_kws={'alpha':0.1, 's':5}, robust=True, line_kws={'lw':5}, x_ci='sd')\n",
    "g.set(xlabel ='mean firing rate', ylabel = 'pourcent of active cells',\n",
    "      title='Correlation between pourcent of active cells and firing rate in BLA pyramidal cells')\n",
    "g.legend(labels=['Rem', 'sws', 'Wake'])"
   ]
  },
  {
   "cell_type": "code",
   "execution_count": 88,
   "id": "6ec11111",
   "metadata": {
    "collapsed": true,
    "jupyter": {
     "outputs_hidden": true
    }
   },
   "outputs": [
    {
     "ename": "NameError",
     "evalue": "name 'mean_fr_pyr_bla_s' is not defined",
     "output_type": "error",
     "traceback": [
      "\u001b[1;31m---------------------------------------------------------------------------\u001b[0m",
      "\u001b[1;31mNameError\u001b[0m                                 Traceback (most recent call last)",
      "\u001b[1;32m~\\AppData\\Local\\Temp/ipykernel_20900/602742022.py\u001b[0m in \u001b[0;36m<module>\u001b[1;34m\u001b[0m\n\u001b[0;32m      1\u001b[0m \u001b[0mplt\u001b[0m\u001b[1;33m.\u001b[0m\u001b[0msubplot\u001b[0m\u001b[1;33m(\u001b[0m\u001b[1;36m1\u001b[0m\u001b[1;33m,\u001b[0m\u001b[1;36m2\u001b[0m\u001b[1;33m,\u001b[0m\u001b[1;36m1\u001b[0m\u001b[1;33m)\u001b[0m\u001b[1;33m\u001b[0m\u001b[1;33m\u001b[0m\u001b[0m\n\u001b[1;32m----> 2\u001b[1;33m g = sns.regplot(mean_fr_pyr_bla_s[100:-100].values, mean_sync_pyr_bla_s[100:-100].values, \n\u001b[0m\u001b[0;32m      3\u001b[0m                 scatter_kws={'alpha':0.1, 's':5}, line_kws={'lw':5}, x_ci='sd', color='grey')\n\u001b[0;32m      4\u001b[0m g.set(xlabel ='mean firing rate', ylabel = 'mean synchrony',\n\u001b[0;32m      5\u001b[0m       title='Correlation between synchrony and firing rate in BLA pyramidal')\n",
      "\u001b[1;31mNameError\u001b[0m: name 'mean_fr_pyr_bla_s' is not defined"
     ]
    }
   ],
   "source": [
    "plt.subplot(1,2,1)\n",
    "g = sns.regplot(mean_fr_pyr_bla_s[100:-100].values, mean_sync_pyr_bla_s[100:-100].values, \n",
    "                scatter_kws={'alpha':0.1, 's':5}, line_kws={'lw':5}, x_ci='sd', color='grey')\n",
    "g.set(xlabel ='mean firing rate', ylabel = 'mean synchrony',\n",
    "      title='Correlation between synchrony and firing rate in BLA pyramidal')\n",
    "\n",
    "plt.subplot(1,2,2)\n",
    "g = sns.regplot(mean_fr_pyr_bla_s[100:-100].values, pourcent_active_pyr_bla_s[100:-100].values, \n",
    "                scatter_kws={'alpha':0.1, 's':5}, line_kws={'lw':5}, x_ci='sd', color='grey')\n",
    "g.set(xlabel ='mean firing rate', ylabel = 'mean pourcent active',\n",
    "      title='Correlation between pourcent of active cells and firing rate in BLA pyramidal')"
   ]
  },
  {
   "cell_type": "code",
   "execution_count": 31,
   "id": "0b215049",
   "metadata": {
    "collapsed": true,
    "jupyter": {
     "outputs_hidden": true
    }
   },
   "outputs": [
    {
     "data": {
      "text/plain": [
       "<mpl_toolkits.mplot3d.art3d.Path3DCollection at 0x288832d0400>"
      ]
     },
     "execution_count": 31,
     "metadata": {},
     "output_type": "execute_result"
    }
   ],
   "source": [
    "fig = plt.figure()\n",
    "ax = fig.add_subplot(111, projection='3d')\n",
    "ax.scatter(pourcent_active_pyr_bla_s[100:-100].values,\n",
    "           mean_sync_pyr_bla_s[100:-100].values,\n",
    "           mean_fr_pyr_bla_s[100:-100].values)"
   ]
  },
  {
   "cell_type": "code",
   "execution_count": 34,
   "id": "c1beeaae",
   "metadata": {
    "collapsed": true,
    "jupyter": {
     "outputs_hidden": true
    }
   },
   "outputs": [
    {
     "data": {
      "text/plain": [
       "<matplotlib.legend.Legend at 0x1c76a4afee0>"
      ]
     },
     "execution_count": 34,
     "metadata": {},
     "output_type": "execute_result"
    }
   ],
   "source": [
    "#plot des moyennes de synchronie en fonction des states \n",
    "plt.subplot(2,1,1)\n",
    "bk.plot.intervals(states['Rem'])\n",
    "bk.plot.intervals(states['sws'], col='grey')\n",
    "plt.plot(mean_pyr_bla_s.as_units('s'), color='g',linewidth=2, label='pyr BLA')\n",
    "plt.plot(mean_pyr_hpc_s.as_units('s'), color='b',linewidth=2, label='pyr HPC')\n",
    "plt.legend()\n",
    "\n",
    "plt.subplot(2,1,2)\n",
    "bk.plot.intervals(states['Rem'])\n",
    "bk.plot.intervals(states['sws'], col='grey')\n",
    "plt.plot(mean_int_bla_s.as_units('s'), color='g',linewidth=2, label='int BLA')\n",
    "plt.plot(mean_int_hpc_s.as_units('s'), color='b',linewidth=2, label='int HPC')\n",
    "plt.legend()"
   ]
  },
  {
   "cell_type": "code",
   "execution_count": 102,
   "id": "89c86c6c",
   "metadata": {},
   "outputs": [],
   "source": [
    "plt.figure(figsize=(12,6))\n",
    "\n",
    "bk.plot.intervals(states['Rem'])\n",
    "bk.plot.intervals(states['sws'], col='grey')\n",
    "plt.plot(mean_sync_pyr_bla_s.as_units('s'), color='g',linewidth=2, label='synchrony BLA')\n",
    "plt.plot(mean_sync_pyr_hpc_s.as_units('s'), color='r',linewidth=2, label='synchrony Hpc')\n",
    "plt.legend()\n",
    "plt.savefig('C:/Users/maell/Documents/ENS/Cours/M2/S1/TINS/Figure/synchrony_across_time.svg')"
   ]
  },
  {
   "cell_type": "markdown",
   "id": "e8784142",
   "metadata": {},
   "source": [
    "# Tests "
   ]
  },
  {
   "cell_type": "markdown",
   "id": "9452f013",
   "metadata": {},
   "source": [
    "## To compute figure of transitions from rem to sws or sws to rem "
   ]
  },
  {
   "cell_type": "code",
   "execution_count": 5,
   "id": "600ba34d",
   "metadata": {},
   "outputs": [],
   "source": [
    "def transitions_rem_sws(path):\n",
    "    '''\n",
    "    MC 10/01/22\n",
    "    Inputs:\n",
    "    \n",
    "    Outputs:\n",
    "    '''\n",
    "    \n",
    "    mean = []\n",
    "    nb_sessions_considered = 0\n",
    "    nb_transitions = 0 \n",
    "    fig, ax = plt.subplots()\n",
    "    means =[]\n",
    "\n",
    "    nb_sessions_considered += 1\n",
    "    mean_sync_pyr_bla = mean_synchrony(neurons_pyr_bla, window=1, smallbins=0.1, shift=1)\n",
    "    mean_sync_pyr_bla_s = bk.compute.nts_smooth(mean_sync_pyr_bla, 100,50)\n",
    "\n",
    "    transitions = bk.compute.transitions_times(states)\n",
    "    transitions_rem_sws = transitions[1][('Rem', 'sws')].index.values\n",
    "\n",
    "    nb_transitions += len(transitions_rem_sws)\n",
    "    for i  in transitions_rem_sws:\n",
    "        interval = nts.IntervalSet(i-20_000_000, i+ 40_000_000, time_units='us')\n",
    "        m = mean_sync_pyr_bla.restrict(interval).values\n",
    "        means.append(m)\n",
    "        mean.append(m)\n",
    "    #plt.plot(m, color = 'grey', alpha = 0.3)\n",
    "    m = (np.nanmean(means, axis=0))\n",
    "    plt.plot(m, color = 'grey')\n",
    "    a = mpatches.Rectangle((0,0), 20, 0.5, facecolor = 'orange', alpha = 0.5)\n",
    "    ax.add_patch(a)\n",
    "    overall_mean = (np.nanmean(mean, axis=0))\n",
    "    plt.plot(overall_mean, color = 'red', linewidth = 3)\n",
    "    plt.title(f'transitions sws to rem, rat 08, #Transitions = {nb_transitions}, #Sessions = {nb_sessions_considered}')\n"
   ]
  },
  {
   "cell_type": "code",
   "execution_count": 88,
   "id": "5b1348be",
   "metadata": {
    "collapsed": true,
    "jupyter": {
     "outputs_hidden": true
    }
   },
   "outputs": [
    {
     "name": "stdout",
     "output_type": "stream",
     "text": [
      "Rat08/Rat08-20130713\n",
      "Rat : 8 on day : 6\n",
      "Working with session Rat08-20130713 @ E:/DATA/GG-Dataset/Rat08/Rat08-20130713\n",
      "Data already saved in Numpy format, loading them from here:\n",
      "Rat08-20130713-neurons.npy\n",
      "Rat08-20130713-metadata.npy\n"
     ]
    },
    {
     "name": "stderr",
     "output_type": "stream",
     "text": [
      "  0%|                                                                                        | 0/22679 [00:00<?, ?it/s]C:\\Users\\maell\\anaconda3\\lib\\site-packages\\numpy\\lib\\function_base.py:2691: RuntimeWarning: invalid value encountered in true_divide\n",
      "  c /= stddev[:, None]\n",
      "C:\\Users\\maell\\anaconda3\\lib\\site-packages\\numpy\\lib\\function_base.py:2692: RuntimeWarning: invalid value encountered in true_divide\n",
      "  c /= stddev[None, :]\n",
      "100%|███████████████████████████████████████████████████████████████████████████| 22679/22679 [00:24<00:00, 918.77it/s]\n"
     ]
    },
    {
     "name": "stdout",
     "output_type": "stream",
     "text": [
      "Rat08/Rat08-20130708\n",
      "Rat : 8 on day : 1\n",
      "Working with session Rat08-20130708 @ E:/DATA/GG-Dataset/Rat08/Rat08-20130708\n",
      "Data already saved in Numpy format, loading them from here:\n",
      "Rat08-20130708-neurons.npy\n",
      "Rat08-20130708-metadata.npy\n",
      "Rat08/Rat08-20130709\n",
      "Rat : 8 on day : 2\n",
      "Working with session Rat08-20130709 @ E:/DATA/GG-Dataset/Rat08/Rat08-20130709\n",
      "Data already saved in Numpy format, loading them from here:\n",
      "Rat08-20130709-neurons.npy\n",
      "Rat08-20130709-metadata.npy\n"
     ]
    },
    {
     "name": "stderr",
     "output_type": "stream",
     "text": [
      " 21%|███████████████▋                                                           | 5326/25510 [00:04<00:17, 1176.75it/s]C:\\Users\\maell\\AppData\\Local\\Temp/ipykernel_23996/1913985095.py:31: RuntimeWarning: Mean of empty slice\n",
      "  mean_sync[i] = np.nanmean(corrcoef) #compute the mean of corrcoef for each window, disregarding the nan\n",
      "100%|██████████████████████████████████████████████████████████████████████████| 25510/25510 [00:22<00:00, 1119.75it/s]\n"
     ]
    },
    {
     "name": "stdout",
     "output_type": "stream",
     "text": [
      "Rat08/Rat08-20130710\n",
      "Rat : 8 on day : 3\n",
      "Working with session Rat08-20130710 @ E:/DATA/GG-Dataset/Rat08/Rat08-20130710\n",
      "Data already saved in Numpy format, loading them from here:\n",
      "Rat08-20130710-neurons.npy\n",
      "Rat08-20130710-metadata.npy\n"
     ]
    },
    {
     "name": "stderr",
     "output_type": "stream",
     "text": [
      "100%|███████████████████████████████████████████████████████████████████████████| 25195/25195 [00:25<00:00, 976.58it/s]\n"
     ]
    },
    {
     "name": "stdout",
     "output_type": "stream",
     "text": [
      "Rat08/Rat08-20130711\n",
      "Rat : 8 on day : 4\n",
      "Working with session Rat08-20130711 @ E:/DATA/GG-Dataset/Rat08/Rat08-20130711\n",
      "Data already saved in Numpy format, loading them from here:\n",
      "Rat08-20130711-neurons.npy\n",
      "Rat08-20130711-metadata.npy\n"
     ]
    },
    {
     "name": "stderr",
     "output_type": "stream",
     "text": [
      "100%|███████████████████████████████████████████████████████████████████████████| 21867/21867 [00:23<00:00, 942.28it/s]\n"
     ]
    },
    {
     "name": "stdout",
     "output_type": "stream",
     "text": [
      "Rat08/Rat08-20130712\n",
      "Rat : 8 on day : 5\n",
      "Working with session Rat08-20130712 @ E:/DATA/GG-Dataset/Rat08/Rat08-20130712\n",
      "Data already saved in Numpy format, loading them from here:\n",
      "Rat08-20130712-neurons.npy\n",
      "Rat08-20130712-metadata.npy\n"
     ]
    },
    {
     "name": "stderr",
     "output_type": "stream",
     "text": [
      "100%|███████████████████████████████████████████████████████████████████████████| 23980/23980 [00:24<00:00, 982.83it/s]\n"
     ]
    },
    {
     "name": "stdout",
     "output_type": "stream",
     "text": [
      "Rat08/Rat08-20130715\n",
      "Rat : 8 on day : 7\n",
      "Working with session Rat08-20130715 @ E:/DATA/GG-Dataset/Rat08/Rat08-20130715\n",
      "Data already saved in Numpy format, loading them from here:\n",
      "Rat08-20130715-neurons.npy\n",
      "Rat08-20130715-metadata.npy\n"
     ]
    },
    {
     "name": "stderr",
     "output_type": "stream",
     "text": [
      "100%|██████████████████████████████████████████████████████████████████████████| 21827/21827 [00:14<00:00, 1480.63it/s]\n"
     ]
    },
    {
     "name": "stdout",
     "output_type": "stream",
     "text": [
      "Rat08/Rat08-20130716\n",
      "Rat : 8 on day : 8\n",
      "Working with session Rat08-20130716 @ E:/DATA/GG-Dataset/Rat08/Rat08-20130716\n",
      "Data already saved in Numpy format, loading them from here:\n",
      "Rat08-20130716-neurons.npy\n",
      "Rat08-20130716-metadata.npy\n"
     ]
    },
    {
     "name": "stderr",
     "output_type": "stream",
     "text": [
      "100%|██████████████████████████████████████████████████████████████████████████| 25112/25112 [00:16<00:00, 1501.91it/s]\n"
     ]
    },
    {
     "name": "stdout",
     "output_type": "stream",
     "text": [
      "Rat08/Rat08-20130717\n",
      "Rat : 8 on day : 9\n",
      "Working with session Rat08-20130717 @ E:/DATA/GG-Dataset/Rat08/Rat08-20130717\n",
      "Data already saved in Numpy format, loading them from here:\n",
      "Rat08-20130717-neurons.npy\n",
      "Rat08-20130717-metadata.npy\n"
     ]
    },
    {
     "name": "stderr",
     "output_type": "stream",
     "text": [
      "100%|██████████████████████████████████████████████████████████████████████████| 23243/23243 [00:17<00:00, 1327.34it/s]\n"
     ]
    },
    {
     "name": "stdout",
     "output_type": "stream",
     "text": [
      "Rat08/Rat08-20130719\n",
      "Rat : 8 on day : 11\n",
      "Working with session Rat08-20130719 @ E:/DATA/GG-Dataset/Rat08/Rat08-20130719\n",
      "Data already saved in Numpy format, loading them from here:\n",
      "Rat08-20130719-neurons.npy\n",
      "Rat08-20130719-metadata.npy\n",
      "Rat09/Rat09-20140324\n",
      "Rat : 9 on day : 1\n",
      "Working with session Rat09-20140324 @ E:/DATA/GG-Dataset/Rat09/Rat09-20140324\n",
      "Data already saved in Numpy format, loading them from here:\n",
      "Rat09-20140324-neurons.npy\n",
      "Rat09-20140324-metadata.npy\n"
     ]
    },
    {
     "name": "stderr",
     "output_type": "stream",
     "text": [
      "  0%|                                                                                        | 0/23930 [00:00<?, ?it/s]C:\\Users\\maell\\anaconda3\\lib\\site-packages\\numpy\\lib\\function_base.py:2691: RuntimeWarning: invalid value encountered in true_divide\n",
      "  c /= stddev[:, None]\n",
      "C:\\Users\\maell\\anaconda3\\lib\\site-packages\\numpy\\lib\\function_base.py:2692: RuntimeWarning: invalid value encountered in true_divide\n",
      "  c /= stddev[None, :]\n",
      "  7%|█████▌                                                                     | 1772/23930 [00:01<00:19, 1125.64it/s]C:\\Users\\maell\\AppData\\Local\\Temp/ipykernel_23996/1913985095.py:31: RuntimeWarning: Mean of empty slice\n",
      "  mean_sync[i] = np.nanmean(corrcoef) #compute the mean of corrcoef for each window, disregarding the nan\n",
      "100%|██████████████████████████████████████████████████████████████████████████| 23930/23930 [00:19<00:00, 1211.57it/s]\n"
     ]
    },
    {
     "name": "stdout",
     "output_type": "stream",
     "text": [
      "Rat09/Rat09-20140325\n",
      "Rat : 9 on day : 2\n",
      "Working with session Rat09-20140325 @ E:/DATA/GG-Dataset/Rat09/Rat09-20140325\n",
      "Data already saved in Numpy format, loading them from here:\n",
      "Rat09-20140325-neurons.npy\n",
      "Rat09-20140325-metadata.npy\n"
     ]
    },
    {
     "name": "stderr",
     "output_type": "stream",
     "text": [
      "100%|██████████████████████████████████████████████████████████████████████████| 20033/20033 [00:12<00:00, 1651.48it/s]\n"
     ]
    },
    {
     "name": "stdout",
     "output_type": "stream",
     "text": [
      "Rat09/Rat09-20140326\n",
      "Rat : 9 on day : 3\n",
      "Working with session Rat09-20140326 @ E:/DATA/GG-Dataset/Rat09/Rat09-20140326\n",
      "Data already saved in Numpy format, loading them from here:\n",
      "Rat09-20140326-neurons.npy\n",
      "Rat09-20140326-metadata.npy\n"
     ]
    },
    {
     "name": "stderr",
     "output_type": "stream",
     "text": [
      "100%|███████████████████████████████████████████████████████████████████████████| 24306/24306 [00:29<00:00, 836.42it/s]\n"
     ]
    },
    {
     "name": "stdout",
     "output_type": "stream",
     "text": [
      "Rat09/Rat09-20140327\n",
      "Rat : 9 on day : 4\n",
      "Working with session Rat09-20140327 @ E:/DATA/GG-Dataset/Rat09/Rat09-20140327\n",
      "Data already saved in Numpy format, loading them from here:\n",
      "Rat09-20140327-neurons.npy\n",
      "Rat09-20140327-metadata.npy\n"
     ]
    },
    {
     "name": "stderr",
     "output_type": "stream",
     "text": [
      "100%|███████████████████████████████████████████████████████████████████████████| 27146/27146 [00:34<00:00, 784.36it/s]\n"
     ]
    },
    {
     "name": "stdout",
     "output_type": "stream",
     "text": [
      "Rat09/Rat09-20140328\n",
      "Rat : 9 on day : 5\n",
      "Working with session Rat09-20140328 @ E:/DATA/GG-Dataset/Rat09/Rat09-20140328\n",
      "Data already saved in Numpy format, loading them from here:\n",
      "Rat09-20140328-neurons.npy\n",
      "Rat09-20140328-metadata.npy\n"
     ]
    },
    {
     "name": "stderr",
     "output_type": "stream",
     "text": [
      "100%|███████████████████████████████████████████████████████████████████████████| 12660/12660 [00:13<00:00, 969.14it/s]\n"
     ]
    },
    {
     "name": "stdout",
     "output_type": "stream",
     "text": [
      "Rat09/Rat09-20140329\n",
      "Rat : 9 on day : 6\n",
      "Working with session Rat09-20140329 @ E:/DATA/GG-Dataset/Rat09/Rat09-20140329\n",
      "Data already saved in Numpy format, loading them from here:\n",
      "Rat09-20140329-neurons.npy\n",
      "Rat09-20140329-metadata.npy\n"
     ]
    },
    {
     "name": "stderr",
     "output_type": "stream",
     "text": [
      "100%|██████████████████████████████████████████████████████████████████████████| 20107/20107 [00:14<00:00, 1359.86it/s]\n"
     ]
    },
    {
     "name": "stdout",
     "output_type": "stream",
     "text": [
      "Rat09/Rat09-20140331\n",
      "Rat : 9 on day : 7\n",
      "Working with session Rat09-20140331 @ E:/DATA/GG-Dataset/Rat09/Rat09-20140331\n",
      "Data already saved in Numpy format, loading them from here:\n",
      "Rat09-20140331-neurons.npy\n",
      "Rat09-20140331-metadata.npy\n"
     ]
    },
    {
     "name": "stderr",
     "output_type": "stream",
     "text": [
      "100%|██████████████████████████████████████████████████████████████████████████| 23949/23949 [00:21<00:00, 1125.00it/s]\n"
     ]
    },
    {
     "name": "stdout",
     "output_type": "stream",
     "text": [
      "Rat09/Rat09-20140401\n",
      "Rat : 9 on day : 8\n",
      "Working with session Rat09-20140401 @ E:/DATA/GG-Dataset/Rat09/Rat09-20140401\n",
      "Data already saved in Numpy format, loading them from here:\n",
      "Rat09-20140401-neurons.npy\n",
      "Rat09-20140401-metadata.npy\n"
     ]
    },
    {
     "name": "stderr",
     "output_type": "stream",
     "text": [
      "100%|██████████████████████████████████████████████████████████████████████████| 21826/21826 [00:16<00:00, 1330.86it/s]\n"
     ]
    },
    {
     "name": "stdout",
     "output_type": "stream",
     "text": [
      "Rat09/Rat09-20140402\n",
      "Rat : 9 on day : 9\n",
      "Working with session Rat09-20140402 @ E:/DATA/GG-Dataset/Rat09/Rat09-20140402\n",
      "Data already saved in Numpy format, loading them from here:\n",
      "Rat09-20140402-neurons.npy\n",
      "Rat09-20140402-metadata.npy\n"
     ]
    },
    {
     "name": "stderr",
     "output_type": "stream",
     "text": [
      "100%|██████████████████████████████████████████████████████████████████████████| 23074/23074 [00:14<00:00, 1566.01it/s]\n"
     ]
    },
    {
     "name": "stdout",
     "output_type": "stream",
     "text": [
      "Rat09/Rat09-20140403\n",
      "Rat : 9 on day : 10\n",
      "Working with session Rat09-20140403 @ E:/DATA/GG-Dataset/Rat09/Rat09-20140403\n",
      "Data already saved in Numpy format, loading them from here:\n",
      "Rat09-20140403-neurons.npy\n",
      "Rat09-20140403-metadata.npy\n",
      "Rat09/Rat09-20140404\n",
      "Rat : 9 on day : 11\n",
      "Working with session Rat09-20140404 @ E:/DATA/GG-Dataset/Rat09/Rat09-20140404\n",
      "Data already saved in Numpy format, loading them from here:\n",
      "Rat09-20140404-neurons.npy\n",
      "Rat09-20140404-metadata.npy\n",
      "Rat09/Rat09-20140405\n",
      "Rat : 9 on day : 12\n",
      "Working with session Rat09-20140405 @ E:/DATA/GG-Dataset/Rat09/Rat09-20140405\n",
      "Data already saved in Numpy format, loading them from here:\n",
      "Rat09-20140405-neurons.npy\n",
      "Rat09-20140405-metadata.npy\n",
      "Rat09/Rat09-20140407\n",
      "Rat : 9 on day : 13\n",
      "Working with session Rat09-20140407 @ E:/DATA/GG-Dataset/Rat09/Rat09-20140407\n",
      "Data already saved in Numpy format, loading them from here:\n",
      "Rat09-20140407-neurons.npy\n",
      "Rat09-20140407-metadata.npy\n",
      "Rat10/Rat10-20140624\n",
      "Rat : 10 on day : 4\n",
      "Working with session Rat10-20140624 @ E:/DATA/GG-Dataset/Rat10/Rat10-20140624\n",
      "Data already saved in Numpy format, loading them from here:\n",
      "Rat10-20140624-neurons.npy\n",
      "Rat10-20140624-metadata.npy\n"
     ]
    },
    {
     "name": "stderr",
     "output_type": "stream",
     "text": [
      "  0%|                                                                                        | 0/20018 [00:00<?, ?it/s]C:\\Users\\maell\\anaconda3\\lib\\site-packages\\numpy\\lib\\function_base.py:2691: RuntimeWarning: invalid value encountered in true_divide\n",
      "  c /= stddev[:, None]\n",
      "C:\\Users\\maell\\anaconda3\\lib\\site-packages\\numpy\\lib\\function_base.py:2692: RuntimeWarning: invalid value encountered in true_divide\n",
      "  c /= stddev[None, :]\n",
      " 88%|█████████████████████████████████████████████████████████████████▏        | 17620/20018 [00:11<00:01, 1614.79it/s]C:\\Users\\maell\\AppData\\Local\\Temp/ipykernel_23996/1913985095.py:31: RuntimeWarning: Mean of empty slice\n",
      "  mean_sync[i] = np.nanmean(corrcoef) #compute the mean of corrcoef for each window, disregarding the nan\n",
      "100%|██████████████████████████████████████████████████████████████████████████| 20018/20018 [00:12<00:00, 1584.29it/s]\n"
     ]
    },
    {
     "name": "stdout",
     "output_type": "stream",
     "text": [
      "Rat10/Rat10-20140626\n",
      "Rat : 10 on day : 5\n",
      "Working with session Rat10-20140626 @ E:/DATA/GG-Dataset/Rat10/Rat10-20140626\n",
      "Data already saved in Numpy format, loading them from here:\n",
      "Rat10-20140626-neurons.npy\n",
      "Rat10-20140626-metadata.npy\n"
     ]
    },
    {
     "name": "stderr",
     "output_type": "stream",
     "text": [
      "100%|██████████████████████████████████████████████████████████████████████████| 17838/17838 [00:10<00:00, 1699.76it/s]\n"
     ]
    },
    {
     "name": "stdout",
     "output_type": "stream",
     "text": [
      "Rat10/Rat10-20140627\n",
      "Rat : 10 on day : 6\n",
      "Working with session Rat10-20140627 @ E:/DATA/GG-Dataset/Rat10/Rat10-20140627\n",
      "Data already saved in Numpy format, loading them from here:\n",
      "Rat10-20140627-neurons.npy\n",
      "Rat10-20140627-metadata.npy\n",
      "Rat10/Rat10-20140628\n",
      "Rat : 10 on day : 7\n",
      "Working with session Rat10-20140628 @ E:/DATA/GG-Dataset/Rat10/Rat10-20140628\n",
      "Data already saved in Numpy format, loading them from here:\n",
      "Rat10-20140628-neurons.npy\n",
      "Rat10-20140628-metadata.npy\n"
     ]
    },
    {
     "name": "stderr",
     "output_type": "stream",
     "text": [
      "100%|██████████████████████████████████████████████████████████████████████████| 21646/21646 [00:12<00:00, 1707.51it/s]\n"
     ]
    },
    {
     "name": "stdout",
     "output_type": "stream",
     "text": [
      "Rat10/Rat10-20140629\n",
      "Rat : 10 on day : 8\n",
      "Working with session Rat10-20140629 @ E:/DATA/GG-Dataset/Rat10/Rat10-20140629\n",
      "Data already saved in Numpy format, loading them from here:\n",
      "Rat10-20140629-neurons.npy\n",
      "Rat10-20140629-metadata.npy\n",
      "Rat10/Rat10-20140701\n",
      "Rat : 10 on day : 9\n",
      "Working with session Rat10-20140701 @ E:/DATA/GG-Dataset/Rat10/Rat10-20140701\n",
      "Data already saved in Numpy format, loading them from here:\n",
      "Rat10-20140701-neurons.npy\n",
      "Rat10-20140701-metadata.npy\n",
      "Rat10/Rat10-20140702\n",
      "Rat : 10 on day : 10\n",
      "Working with session Rat10-20140702 @ E:/DATA/GG-Dataset/Rat10/Rat10-20140702\n",
      "Data already saved in Numpy format, loading them from here:\n",
      "Rat10-20140702-neurons.npy\n",
      "Rat10-20140702-metadata.npy\n",
      "Rat10/Rat10-20140703\n",
      "Rat : 10 on day : 11\n",
      "Working with session Rat10-20140703 @ E:/DATA/GG-Dataset/Rat10/Rat10-20140703\n",
      "Data already saved in Numpy format, loading them from here:\n",
      "Rat10-20140703-neurons.npy\n",
      "Rat10-20140703-metadata.npy\n",
      "Rat10/Rat10-20140704\n",
      "Rat : 10 on day : 12\n",
      "Working with session Rat10-20140704 @ E:/DATA/GG-Dataset/Rat10/Rat10-20140704\n",
      "Data already saved in Numpy format, loading them from here:\n",
      "Rat10-20140704-neurons.npy\n",
      "Rat10-20140704-metadata.npy\n",
      "Rat10/Rat10-20140705\n",
      "Rat : 10 on day : 13\n",
      "Working with session Rat10-20140705 @ E:/DATA/GG-Dataset/Rat10/Rat10-20140705\n",
      "Data already saved in Numpy format, loading them from here:\n",
      "Rat10-20140705-neurons.npy\n",
      "Rat10-20140705-metadata.npy\n",
      "Rat10/Rat10-20140707\n",
      "Rat : 10 on day : 14\n",
      "Working with session Rat10-20140707 @ E:/DATA/GG-Dataset/Rat10/Rat10-20140707\n",
      "Data already saved in Numpy format, loading them from here:\n",
      "Rat10-20140707-neurons.npy\n",
      "Rat10-20140707-metadata.npy\n",
      "Rat11/Rat11-20150310\n",
      "Rat : 11 on day : 2\n",
      "Working with session Rat11-20150310 @ E:/DATA/GG-Dataset/Rat11/Rat11-20150310\n",
      "Data already saved in Numpy format, loading them from here:\n",
      "Rat11-20150310-neurons.npy\n",
      "Rat11-20150310-metadata.npy\n",
      "Rat11/Rat11-20150312\n",
      "Rat : 11 on day : 3\n",
      "Working with session Rat11-20150312 @ E:/DATA/GG-Dataset/Rat11/Rat11-20150312\n",
      "Data already saved in Numpy format, loading them from here:\n",
      "Rat11-20150312-neurons.npy\n",
      "Rat11-20150312-metadata.npy\n",
      "Rat11/Rat11-20150313\n",
      "Rat : 11 on day : 4\n",
      "Working with session Rat11-20150313 @ E:/DATA/GG-Dataset/Rat11/Rat11-20150313\n",
      "Data already saved in Numpy format, loading them from here:\n",
      "Rat11-20150313-neurons.npy\n",
      "Rat11-20150313-metadata.npy\n",
      "Rat11/Rat11-20150314\n",
      "Rat : 11 on day : 5\n",
      "Working with session Rat11-20150314 @ E:/DATA/GG-Dataset/Rat11/Rat11-20150314\n",
      "Data already saved in Numpy format, loading them from here:\n",
      "Rat11-20150314-neurons.npy\n",
      "Rat11-20150314-metadata.npy\n",
      "Rat11/Rat11-20150315\n",
      "Rat : 11 on day : 6\n",
      "Working with session Rat11-20150315 @ E:/DATA/GG-Dataset/Rat11/Rat11-20150315\n",
      "Data already saved in Numpy format, loading them from here:\n",
      "Rat11-20150315-neurons.npy\n",
      "Rat11-20150315-metadata.npy\n",
      "Rat11/Rat11-20150316\n",
      "Rat : 11 on day : 7\n",
      "Working with session Rat11-20150316 @ E:/DATA/GG-Dataset/Rat11/Rat11-20150316\n",
      "Data already saved in Numpy format, loading them from here:\n",
      "Rat11-20150316-neurons.npy\n",
      "Rat11-20150316-metadata.npy\n",
      "Rat11/Rat11-20150317\n",
      "Rat : 11 on day : 8\n",
      "Working with session Rat11-20150317 @ E:/DATA/GG-Dataset/Rat11/Rat11-20150317\n",
      "Data already saved in Numpy format, loading them from here:\n",
      "Rat11-20150317-neurons.npy\n",
      "Rat11-20150317-metadata.npy\n",
      "Rat11/Rat11-20150321\n",
      "Rat : 11 on day : 11\n",
      "Working with session Rat11-20150321 @ E:/DATA/GG-Dataset/Rat11/Rat11-20150321\n",
      "Data already saved in Numpy format, loading them from here:\n",
      "Rat11-20150321-neurons.npy\n",
      "Rat11-20150321-metadata.npy\n"
     ]
    },
    {
     "name": "stderr",
     "output_type": "stream",
     "text": [
      "  0%|                                                                                        | 0/20649 [00:00<?, ?it/s]C:\\Users\\maell\\anaconda3\\lib\\site-packages\\numpy\\lib\\function_base.py:2691: RuntimeWarning: invalid value encountered in true_divide\n",
      "  c /= stddev[:, None]\n",
      "C:\\Users\\maell\\anaconda3\\lib\\site-packages\\numpy\\lib\\function_base.py:2692: RuntimeWarning: invalid value encountered in true_divide\n",
      "  c /= stddev[None, :]\n",
      "100%|██████████████████████████████████████████████████████████████████████████| 20649/20649 [00:12<00:00, 1628.94it/s]\n"
     ]
    },
    {
     "name": "stdout",
     "output_type": "stream",
     "text": [
      "Rat11/Rat11-20150323\n",
      "Rat : 11 on day : 12\n",
      "Working with session Rat11-20150323 @ E:/DATA/GG-Dataset/Rat11/Rat11-20150323\n",
      "Data already saved in Numpy format, loading them from here:\n",
      "Rat11-20150323-neurons.npy\n",
      "Rat11-20150323-metadata.npy\n"
     ]
    },
    {
     "name": "stderr",
     "output_type": "stream",
     "text": [
      "100%|██████████████████████████████████████████████████████████████████████████| 24290/24290 [00:19<00:00, 1223.23it/s]\n"
     ]
    },
    {
     "name": "stdout",
     "output_type": "stream",
     "text": [
      "Rat11/Rat11-20150325\n",
      "Rat : 11 on day : 14\n",
      "Working with session Rat11-20150325 @ E:/DATA/GG-Dataset/Rat11/Rat11-20150325\n",
      "Data already saved in Numpy format, loading them from here:\n",
      "Rat11-20150325-neurons.npy\n",
      "Rat11-20150325-metadata.npy\n"
     ]
    },
    {
     "name": "stderr",
     "output_type": "stream",
     "text": [
      "100%|███████████████████████████████████████████████████████████████████████████| 26214/26214 [00:35<00:00, 738.10it/s]\n"
     ]
    },
    {
     "name": "stdout",
     "output_type": "stream",
     "text": [
      "Rat11/Rat11-20150326\n",
      "Rat : 11 on day : 15\n",
      "Working with session Rat11-20150326 @ E:/DATA/GG-Dataset/Rat11/Rat11-20150326\n",
      "Data already saved in Numpy format, loading them from here:\n",
      "Rat11-20150326-neurons.npy\n",
      "Rat11-20150326-metadata.npy\n"
     ]
    },
    {
     "name": "stderr",
     "output_type": "stream",
     "text": [
      "100%|███████████████████████████████████████████████████████████████████████████| 23205/23205 [00:41<00:00, 555.48it/s]\n"
     ]
    },
    {
     "name": "stdout",
     "output_type": "stream",
     "text": [
      "Rat11/Rat11-20150327\n",
      "Rat : 11 on day : 16\n",
      "Working with session Rat11-20150327 @ E:/DATA/GG-Dataset/Rat11/Rat11-20150327\n",
      "Data already saved in Numpy format, loading them from here:\n",
      "Rat11-20150327-neurons.npy\n",
      "Rat11-20150327-metadata.npy\n"
     ]
    },
    {
     "name": "stderr",
     "output_type": "stream",
     "text": [
      "100%|███████████████████████████████████████████████████████████████████████████| 25025/25025 [00:44<00:00, 559.32it/s]\n"
     ]
    },
    {
     "name": "stdout",
     "output_type": "stream",
     "text": [
      "Rat11/Rat11-20150328\n",
      "Rat : 11 on day : 17\n",
      "Working with session Rat11-20150328 @ E:/DATA/GG-Dataset/Rat11/Rat11-20150328\n",
      "Data already saved in Numpy format, loading them from here:\n",
      "Rat11-20150328-neurons.npy\n",
      "Rat11-20150328-metadata.npy\n"
     ]
    },
    {
     "name": "stderr",
     "output_type": "stream",
     "text": [
      "100%|███████████████████████████████████████████████████████████████████████████| 25003/25003 [00:31<00:00, 791.64it/s]\n"
     ]
    },
    {
     "name": "stdout",
     "output_type": "stream",
     "text": [
      "Rat11/Rat11-20150330\n",
      "Rat : 11 on day : 18\n",
      "Working with session Rat11-20150330 @ E:/DATA/GG-Dataset/Rat11/Rat11-20150330\n",
      "Data already saved in Numpy format, loading them from here:\n",
      "Rat11-20150330-neurons.npy\n",
      "Rat11-20150330-metadata.npy\n"
     ]
    },
    {
     "name": "stderr",
     "output_type": "stream",
     "text": [
      " 24%|██████████████████▏                                                        | 5431/22385 [00:04<00:15, 1094.12it/s]C:\\Users\\maell\\AppData\\Local\\Temp/ipykernel_23996/1913985095.py:31: RuntimeWarning: Mean of empty slice\n",
      "  mean_sync[i] = np.nanmean(corrcoef) #compute the mean of corrcoef for each window, disregarding the nan\n",
      "100%|██████████████████████████████████████████████████████████████████████████| 22385/22385 [00:18<00:00, 1218.03it/s]\n"
     ]
    },
    {
     "name": "stdout",
     "output_type": "stream",
     "text": [
      "Rat11/Rat11-20150331\n",
      "Rat : 11 on day : 19\n",
      "Working with session Rat11-20150331 @ E:/DATA/GG-Dataset/Rat11/Rat11-20150331\n",
      "Data already saved in Numpy format, loading them from here:\n",
      "Rat11-20150331-neurons.npy\n",
      "Rat11-20150331-metadata.npy\n"
     ]
    },
    {
     "name": "stderr",
     "output_type": "stream",
     "text": [
      "100%|██████████████████████████████████████████████████████████████████████████| 22776/22776 [00:13<00:00, 1627.67it/s]\n"
     ]
    },
    {
     "name": "stdout",
     "output_type": "stream",
     "text": [
      "Rat11/Rat11-20150402\n",
      "Rat : 11 on day : 21\n",
      "Working with session Rat11-20150402 @ E:/DATA/GG-Dataset/Rat11/Rat11-20150402\n",
      "Data already saved in Numpy format, loading them from here:\n",
      "Rat11-20150402-neurons.npy\n",
      "Rat11-20150402-metadata.npy\n",
      "Rat11/Rat11-20150403\n",
      "Rat : 11 on day : 22\n",
      "Working with session Rat11-20150403 @ E:/DATA/GG-Dataset/Rat11/Rat11-20150403\n",
      "Data already saved in Numpy format, loading them from here:\n",
      "Rat11-20150403-neurons.npy\n",
      "Rat11-20150403-metadata.npy\n"
     ]
    },
    {
     "data": {
      "text/plain": [
       "Text(0.5, 1.0, 'transitions sws to rem, rat 08, #Transitions = 135, #Sessions = 28')"
      ]
     },
     "execution_count": 88,
     "metadata": {},
     "output_type": "execute_result"
    }
   ],
   "source": [
    "rats = ['Rat08', 'Rat09','Rat10', 'Rat11']\n",
    "to_ignore = ['Rat08-20130720', \n",
    "             'Rat08-20130722', \n",
    "             'Rat08-20130718',\n",
    "             \"Rat09-20140408\",\n",
    "             \"Rat09-20140409\",\n",
    "             \"Rat10-20140619\",\n",
    "             \"Rat10-20140620\",\n",
    "             \"Rat10-20140622\",\n",
    "             \"Rat10-20140708\",\n",
    "             \"Rat11-20150309\",\n",
    "             \"Rat11-20150318\",\n",
    "             \"Rat11-20150319\", \n",
    "             \"Rat11-20150324\", \n",
    "             \"Rat11-20150401\"]\n",
    "mean = []\n",
    "nb_sessions_considered = 0\n",
    "nb_transitions = 0 \n",
    "fig, ax = plt.subplots()\n",
    "\n",
    "for rat in rats:\n",
    "    os.chdir(f'E:/DATA/GG-Dataset/{rat}/')\n",
    "    means =[]\n",
    "    \n",
    "    for i in os.listdir(f'E:/DATA/GG-Dataset/{rat}/'):\n",
    "        if i.endswith('.mat') or i in to_ignore:\n",
    "            continue\n",
    "\n",
    "        local_path= f'{rat}/{i}'\n",
    "        print(local_path)\n",
    "        bk.load.current_session_linux(base_folder= 'E:/DATA/GG-Dataset/',local_path= local_path)\n",
    "        states = bk.load.states() \n",
    "        if states['Rem'].tot_length()/1_000_000 < 100 or states['sws'].tot_length()/1_000_000 < 100: \n",
    "            continue\n",
    "        neurons,metadata = bk.load.spikes() \n",
    "\n",
    "        neurons_pyr_bla = neurons[(metadata['Type'] == 'Pyr') & (metadata['Region'] == 'BLA')]\n",
    "        if len(neurons_pyr_bla) < 20: \n",
    "            continue\n",
    "        nb_sessions_considered += 1\n",
    "        mean_sync_pyr_bla = mean_synchrony(neurons_pyr_bla, window=1, smallbins=0.1, shift=1)\n",
    "        mean_sync_pyr_bla_s = bk.compute.nts_smooth(mean_sync_pyr_bla, 100,50)\n",
    "\n",
    "        transitions = bk.compute.transitions_times(states)\n",
    "        transitions_rem_sws = transitions[1][('Rem', 'sws')].index.values\n",
    "        \n",
    "        nb_transitions += len(transitions_rem_sws)\n",
    "        for i  in transitions_rem_sws:\n",
    "            interval = nts.IntervalSet(i-20_000_000, i+ 40_000_000, time_units='us')\n",
    "            m = mean_sync_pyr_bla.restrict(interval).values\n",
    "            means.append(m)\n",
    "            mean.append(m)\n",
    "            #plt.plot(m, color = 'grey', alpha = 0.3)\n",
    "    m = (np.nanmean(means, axis=0))\n",
    "    plt.plot(m, color = 'grey')\n",
    "a = mpatches.Rectangle((0,0), 20, 0.5, facecolor = 'orange', alpha = 0.5)\n",
    "ax.add_patch(a)\n",
    "overall_mean = (np.nanmean(mean, axis=0))\n",
    "plt.plot(overall_mean, color = 'red', linewidth = 3)\n",
    "plt.title(f'transitions sws to rem, rat 08, #Transitions = {nb_transitions}, #Sessions = {nb_sessions_considered}')\n"
   ]
  },
  {
   "cell_type": "code",
   "execution_count": 100,
   "id": "67b6ecb1",
   "metadata": {
    "collapsed": true,
    "jupyter": {
     "outputs_hidden": true
    }
   },
   "outputs": [
    {
     "name": "stdout",
     "output_type": "stream",
     "text": [
      "Rat : 8 on day : 6\n",
      "Working with session Rat08-20130713 @ E:/DATA/GG-Dataset/Rat08/Rat08-20130713\n",
      "Data already saved in Numpy format, loading them from here:\n",
      "Rat08-20130713-neurons.npy\n",
      "Rat08-20130713-metadata.npy\n"
     ]
    },
    {
     "name": "stderr",
     "output_type": "stream",
     "text": [
      "  0%|                                                                                        | 0/22679 [00:00<?, ?it/s]C:\\Users\\maell\\anaconda3\\lib\\site-packages\\numpy\\lib\\function_base.py:2691: RuntimeWarning: invalid value encountered in true_divide\n",
      "  c /= stddev[:, None]\n",
      "C:\\Users\\maell\\anaconda3\\lib\\site-packages\\numpy\\lib\\function_base.py:2692: RuntimeWarning: invalid value encountered in true_divide\n",
      "  c /= stddev[None, :]\n",
      "100%|██████████████████████████████████████████████████████████████████████████| 22679/22679 [00:17<00:00, 1275.00it/s]\n"
     ]
    },
    {
     "name": "stdout",
     "output_type": "stream",
     "text": [
      "Rat : 8 on day : 1\n",
      "Working with session Rat08-20130708 @ E:/DATA/GG-Dataset/Rat08/Rat08-20130708\n",
      "Data already saved in Numpy format, loading them from here:\n",
      "Rat08-20130708-neurons.npy\n",
      "Rat08-20130708-metadata.npy\n",
      "Rat : 8 on day : 2\n",
      "Working with session Rat08-20130709 @ E:/DATA/GG-Dataset/Rat08/Rat08-20130709\n",
      "Data already saved in Numpy format, loading them from here:\n",
      "Rat08-20130709-neurons.npy\n",
      "Rat08-20130709-metadata.npy\n"
     ]
    },
    {
     "name": "stderr",
     "output_type": "stream",
     "text": [
      "  0%|                                                                                        | 0/25510 [00:00<?, ?it/s]C:\\Users\\maell\\anaconda3\\lib\\site-packages\\numpy\\lib\\function_base.py:2691: RuntimeWarning: invalid value encountered in true_divide\n",
      "  c /= stddev[:, None]\n",
      "C:\\Users\\maell\\anaconda3\\lib\\site-packages\\numpy\\lib\\function_base.py:2692: RuntimeWarning: invalid value encountered in true_divide\n",
      "  c /= stddev[None, :]\n",
      " 21%|███████████████▌                                                           | 5299/25510 [00:04<00:14, 1435.76it/s]C:\\Users\\maell\\AppData\\Local\\Temp/ipykernel_25084/453570434.py:31: RuntimeWarning: Mean of empty slice\n",
      "  mean_sync[i] = np.nanmean(corrcoef) #compute the mean of corrcoef for each window, disregarding the nan\n",
      "100%|██████████████████████████████████████████████████████████████████████████| 25510/25510 [00:18<00:00, 1364.02it/s]\n"
     ]
    },
    {
     "name": "stdout",
     "output_type": "stream",
     "text": [
      "Rat : 8 on day : 3\n",
      "Working with session Rat08-20130710 @ E:/DATA/GG-Dataset/Rat08/Rat08-20130710\n",
      "Data already saved in Numpy format, loading them from here:\n",
      "Rat08-20130710-neurons.npy\n",
      "Rat08-20130710-metadata.npy\n"
     ]
    },
    {
     "name": "stderr",
     "output_type": "stream",
     "text": [
      "  0%|                                                                                        | 0/25195 [00:00<?, ?it/s]C:\\Users\\maell\\anaconda3\\lib\\site-packages\\numpy\\lib\\function_base.py:2691: RuntimeWarning: invalid value encountered in true_divide\n",
      "  c /= stddev[:, None]\n",
      "C:\\Users\\maell\\anaconda3\\lib\\site-packages\\numpy\\lib\\function_base.py:2692: RuntimeWarning: invalid value encountered in true_divide\n",
      "  c /= stddev[None, :]\n",
      "100%|██████████████████████████████████████████████████████████████████████████| 25195/25195 [00:23<00:00, 1051.68it/s]\n"
     ]
    },
    {
     "name": "stdout",
     "output_type": "stream",
     "text": [
      "Rat : 8 on day : 4\n",
      "Working with session Rat08-20130711 @ E:/DATA/GG-Dataset/Rat08/Rat08-20130711\n",
      "Data already saved in Numpy format, loading them from here:\n",
      "Rat08-20130711-neurons.npy\n",
      "Rat08-20130711-metadata.npy\n"
     ]
    },
    {
     "name": "stderr",
     "output_type": "stream",
     "text": [
      "  0%|                                                                                        | 0/21867 [00:00<?, ?it/s]C:\\Users\\maell\\anaconda3\\lib\\site-packages\\numpy\\lib\\function_base.py:2691: RuntimeWarning: invalid value encountered in true_divide\n",
      "  c /= stddev[:, None]\n",
      "C:\\Users\\maell\\anaconda3\\lib\\site-packages\\numpy\\lib\\function_base.py:2692: RuntimeWarning: invalid value encountered in true_divide\n",
      "  c /= stddev[None, :]\n",
      "100%|███████████████████████████████████████████████████████████████████████████| 21867/21867 [00:23<00:00, 932.50it/s]\n"
     ]
    },
    {
     "name": "stdout",
     "output_type": "stream",
     "text": [
      "Rat : 8 on day : 5\n",
      "Working with session Rat08-20130712 @ E:/DATA/GG-Dataset/Rat08/Rat08-20130712\n",
      "Data already saved in Numpy format, loading them from here:\n",
      "Rat08-20130712-neurons.npy\n",
      "Rat08-20130712-metadata.npy\n"
     ]
    },
    {
     "name": "stderr",
     "output_type": "stream",
     "text": [
      "  0%|                                                                                        | 0/23980 [00:00<?, ?it/s]C:\\Users\\maell\\anaconda3\\lib\\site-packages\\numpy\\lib\\function_base.py:2691: RuntimeWarning: invalid value encountered in true_divide\n",
      "  c /= stddev[:, None]\n",
      "C:\\Users\\maell\\anaconda3\\lib\\site-packages\\numpy\\lib\\function_base.py:2692: RuntimeWarning: invalid value encountered in true_divide\n",
      "  c /= stddev[None, :]\n",
      "100%|██████████████████████████████████████████████████████████████████████████| 23980/23980 [00:17<00:00, 1401.98it/s]\n"
     ]
    },
    {
     "name": "stdout",
     "output_type": "stream",
     "text": [
      "Rat : 8 on day : 7\n",
      "Working with session Rat08-20130715 @ E:/DATA/GG-Dataset/Rat08/Rat08-20130715\n",
      "Data already saved in Numpy format, loading them from here:\n",
      "Rat08-20130715-neurons.npy\n",
      "Rat08-20130715-metadata.npy\n"
     ]
    },
    {
     "name": "stderr",
     "output_type": "stream",
     "text": [
      "  0%|                                                                                        | 0/21827 [00:00<?, ?it/s]C:\\Users\\maell\\anaconda3\\lib\\site-packages\\numpy\\lib\\function_base.py:2691: RuntimeWarning: invalid value encountered in true_divide\n",
      "  c /= stddev[:, None]\n",
      "C:\\Users\\maell\\anaconda3\\lib\\site-packages\\numpy\\lib\\function_base.py:2692: RuntimeWarning: invalid value encountered in true_divide\n",
      "  c /= stddev[None, :]\n",
      " 33%|█████████████████████████                                                  | 7305/21827 [00:03<00:08, 1631.12it/s]C:\\Users\\maell\\AppData\\Local\\Temp/ipykernel_25084/453570434.py:31: RuntimeWarning: Mean of empty slice\n",
      "  mean_sync[i] = np.nanmean(corrcoef) #compute the mean of corrcoef for each window, disregarding the nan\n",
      "100%|██████████████████████████████████████████████████████████████████████████| 21827/21827 [00:10<00:00, 2001.31it/s]\n"
     ]
    },
    {
     "name": "stdout",
     "output_type": "stream",
     "text": [
      "Rat : 8 on day : 8\n",
      "Working with session Rat08-20130716 @ E:/DATA/GG-Dataset/Rat08/Rat08-20130716\n",
      "Data already saved in Numpy format, loading them from here:\n",
      "Rat08-20130716-neurons.npy\n",
      "Rat08-20130716-metadata.npy\n"
     ]
    },
    {
     "name": "stderr",
     "output_type": "stream",
     "text": [
      "  0%|                                                                                        | 0/25112 [00:00<?, ?it/s]C:\\Users\\maell\\anaconda3\\lib\\site-packages\\numpy\\lib\\function_base.py:2691: RuntimeWarning: invalid value encountered in true_divide\n",
      "  c /= stddev[:, None]\n",
      "C:\\Users\\maell\\anaconda3\\lib\\site-packages\\numpy\\lib\\function_base.py:2692: RuntimeWarning: invalid value encountered in true_divide\n",
      "  c /= stddev[None, :]\n",
      " 15%|███████████                                                                | 3689/25112 [00:01<00:09, 2300.06it/s]C:\\Users\\maell\\AppData\\Local\\Temp/ipykernel_25084/453570434.py:31: RuntimeWarning: Mean of empty slice\n",
      "  mean_sync[i] = np.nanmean(corrcoef) #compute the mean of corrcoef for each window, disregarding the nan\n",
      "100%|██████████████████████████████████████████████████████████████████████████| 25112/25112 [00:12<00:00, 2039.16it/s]\n"
     ]
    },
    {
     "name": "stdout",
     "output_type": "stream",
     "text": [
      "Rat : 8 on day : 9\n",
      "Working with session Rat08-20130717 @ E:/DATA/GG-Dataset/Rat08/Rat08-20130717\n",
      "Data already saved in Numpy format, loading them from here:\n",
      "Rat08-20130717-neurons.npy\n",
      "Rat08-20130717-metadata.npy\n"
     ]
    },
    {
     "name": "stderr",
     "output_type": "stream",
     "text": [
      "  0%|                                                                                        | 0/23243 [00:00<?, ?it/s]C:\\Users\\maell\\anaconda3\\lib\\site-packages\\numpy\\lib\\function_base.py:2691: RuntimeWarning: invalid value encountered in true_divide\n",
      "  c /= stddev[:, None]\n",
      "C:\\Users\\maell\\anaconda3\\lib\\site-packages\\numpy\\lib\\function_base.py:2692: RuntimeWarning: invalid value encountered in true_divide\n",
      "  c /= stddev[None, :]\n",
      "100%|██████████████████████████████████████████████████████████████████████████| 23243/23243 [00:12<00:00, 1918.04it/s]\n"
     ]
    },
    {
     "name": "stdout",
     "output_type": "stream",
     "text": [
      "Rat : 8 on day : 11\n",
      "Working with session Rat08-20130719 @ E:/DATA/GG-Dataset/Rat08/Rat08-20130719\n",
      "Data already saved in Numpy format, loading them from here:\n",
      "Rat08-20130719-neurons.npy\n",
      "Rat08-20130719-metadata.npy\n"
     ]
    },
    {
     "data": {
      "text/plain": [
       "Text(0.5, 1.0, 'transitions rem to sws, rat 08, #Transitions = 48, #Sessions = 8')"
      ]
     },
     "execution_count": 100,
     "metadata": {},
     "output_type": "execute_result"
    }
   ],
   "source": [
    "means =[]\n",
    "nb_sessions_considered = 0\n",
    "fig, ax = plt.subplots()\n",
    "for i in os.listdir('E:/DATA/GG-Dataset/Rat08/'):\n",
    "    if i.endswith('.mat') or i == 'Rat08-20130720' or  i == 'Rat08-20130722' or  i == 'Rat08-20130718':\n",
    "        continue\n",
    "        \n",
    "    local_path= f'Rat08/{i}'\n",
    "    bk.load.current_session_linux(base_folder= 'E:/DATA/GG-Dataset/',local_path= local_path)\n",
    "    states = bk.load.states() \n",
    "    neurons,metadata = bk.load.spikes() \n",
    "    \n",
    "    neurons_pyr_bla = neurons[(metadata['Type'] == 'Pyr') & (metadata['Region'] == 'BLA')]\n",
    "    if len(neurons_pyr_bla) < 30: \n",
    "        continue\n",
    "    nb_sessions_considered += 1\n",
    "    mean_sync_pyr_bla = mean_synchrony(neurons_pyr_bla, window=1, smallbins=0.1, shift=1)\n",
    "    mean_sync_pyr_bla_s = bk.compute.nts_smooth(mean_sync_pyr_bla, 100,50)\n",
    "    \n",
    "    transitions = bk.compute.transitions_times(states)\n",
    "    transitions_rem_sws = transitions[1][('Rem', 'sws')].index.values\n",
    "    transitions_sws_rem = transitions[1][('sws', 'Rem')].index.values\n",
    "\n",
    "    for i  in transitions_rem_sws:\n",
    "        interval = nts.IntervalSet(i-20_000_000, i+ 40_000_000, time_units='us')\n",
    "        m = mean_sync_pyr_bla.restrict(interval).values\n",
    "        means.append(m)\n",
    "        plt.plot(m, color = 'grey', alpha = 0.3)\n",
    "a = mpatches.Rectangle((0,0), 20, 1, facecolor = 'orange', alpha = 0.5)\n",
    "ax.add_patch(a)\n",
    "mean = np.nanmean(means, axis=0)\n",
    "plt.plot(mean, color = 'r', linewidth=4)\n",
    "plt.title(f'transitions rem to sws, rat 08, #Transitions = {len(means)}, #Sessions = {nb_sessions_considered}')"
   ]
  },
  {
   "cell_type": "markdown",
   "id": "b5566c0f",
   "metadata": {},
   "source": [
    "## boxplot of the synchrony around transitions "
   ]
  },
  {
   "cell_type": "code",
   "execution_count": 13,
   "id": "503c603c",
   "metadata": {
    "collapsed": true,
    "jupyter": {
     "outputs_hidden": true
    }
   },
   "outputs": [
    {
     "name": "stdout",
     "output_type": "stream",
     "text": [
      "Rat08\n",
      "Rat : 8 on day : 6\n",
      "Working with session Rat08-20130713 @ E:/DATA/GG-Dataset/Rat08/Rat08-20130713\n",
      "Data already saved in Numpy format, loading them from here:\n",
      "Rat08-20130713-neurons.npy\n",
      "Rat08-20130713-metadata.npy\n"
     ]
    },
    {
     "name": "stderr",
     "output_type": "stream",
     "text": [
      "  0%|                                                                                        | 0/22679 [00:00<?, ?it/s]C:\\Users\\maell\\anaconda3\\lib\\site-packages\\numpy\\lib\\function_base.py:2691: RuntimeWarning: invalid value encountered in true_divide\n",
      "  c /= stddev[:, None]\n",
      "C:\\Users\\maell\\anaconda3\\lib\\site-packages\\numpy\\lib\\function_base.py:2692: RuntimeWarning: invalid value encountered in true_divide\n",
      "  c /= stddev[None, :]\n",
      "100%|██████████████████████████████████████████████████████████████████████████| 22679/22679 [00:13<00:00, 1703.56it/s]\n"
     ]
    },
    {
     "name": "stdout",
     "output_type": "stream",
     "text": [
      "Rat : 8 on day : 1\n",
      "Working with session Rat08-20130708 @ E:/DATA/GG-Dataset/Rat08/Rat08-20130708\n",
      "Data already saved in Numpy format, loading them from here:\n",
      "Rat08-20130708-neurons.npy\n",
      "Rat08-20130708-metadata.npy\n",
      "Rat : 8 on day : 2\n",
      "Working with session Rat08-20130709 @ E:/DATA/GG-Dataset/Rat08/Rat08-20130709\n",
      "Data already saved in Numpy format, loading them from here:\n",
      "Rat08-20130709-neurons.npy\n",
      "Rat08-20130709-metadata.npy\n"
     ]
    },
    {
     "name": "stderr",
     "output_type": "stream",
     "text": [
      " 21%|███████████████▊                                                           | 5360/25510 [00:03<00:13, 1524.39it/s]C:\\Users\\maell\\AppData\\Local\\Temp/ipykernel_24892/1913985095.py:31: RuntimeWarning: Mean of empty slice\n",
      "  mean_sync[i] = np.nanmean(corrcoef) #compute the mean of corrcoef for each window, disregarding the nan\n",
      "100%|██████████████████████████████████████████████████████████████████████████| 25510/25510 [00:15<00:00, 1602.63it/s]\n"
     ]
    },
    {
     "name": "stdout",
     "output_type": "stream",
     "text": [
      "Rat : 8 on day : 3\n",
      "Working with session Rat08-20130710 @ E:/DATA/GG-Dataset/Rat08/Rat08-20130710\n",
      "Data already saved in Numpy format, loading them from here:\n",
      "Rat08-20130710-neurons.npy\n",
      "Rat08-20130710-metadata.npy\n"
     ]
    },
    {
     "name": "stderr",
     "output_type": "stream",
     "text": [
      "100%|██████████████████████████████████████████████████████████████████████████| 25195/25195 [00:12<00:00, 1961.48it/s]\n"
     ]
    },
    {
     "name": "stdout",
     "output_type": "stream",
     "text": [
      "Rat : 8 on day : 4\n",
      "Working with session Rat08-20130711 @ E:/DATA/GG-Dataset/Rat08/Rat08-20130711\n",
      "Data already saved in Numpy format, loading them from here:\n",
      "Rat08-20130711-neurons.npy\n",
      "Rat08-20130711-metadata.npy\n"
     ]
    },
    {
     "name": "stderr",
     "output_type": "stream",
     "text": [
      "100%|██████████████████████████████████████████████████████████████████████████| 21867/21867 [00:10<00:00, 2009.04it/s]\n"
     ]
    },
    {
     "name": "stdout",
     "output_type": "stream",
     "text": [
      "Rat : 8 on day : 5\n",
      "Working with session Rat08-20130712 @ E:/DATA/GG-Dataset/Rat08/Rat08-20130712\n",
      "Data already saved in Numpy format, loading them from here:\n",
      "Rat08-20130712-neurons.npy\n",
      "Rat08-20130712-metadata.npy\n"
     ]
    },
    {
     "name": "stderr",
     "output_type": "stream",
     "text": [
      "100%|██████████████████████████████████████████████████████████████████████████| 23980/23980 [00:19<00:00, 1218.66it/s]\n"
     ]
    },
    {
     "name": "stdout",
     "output_type": "stream",
     "text": [
      "Rat : 8 on day : 7\n",
      "Working with session Rat08-20130715 @ E:/DATA/GG-Dataset/Rat08/Rat08-20130715\n",
      "Data already saved in Numpy format, loading them from here:\n",
      "Rat08-20130715-neurons.npy\n",
      "Rat08-20130715-metadata.npy\n"
     ]
    },
    {
     "name": "stderr",
     "output_type": "stream",
     "text": [
      "100%|██████████████████████████████████████████████████████████████████████████| 21827/21827 [00:11<00:00, 1824.16it/s]\n"
     ]
    },
    {
     "name": "stdout",
     "output_type": "stream",
     "text": [
      "Rat : 8 on day : 8\n",
      "Working with session Rat08-20130716 @ E:/DATA/GG-Dataset/Rat08/Rat08-20130716\n",
      "Data already saved in Numpy format, loading them from here:\n",
      "Rat08-20130716-neurons.npy\n",
      "Rat08-20130716-metadata.npy\n"
     ]
    },
    {
     "name": "stderr",
     "output_type": "stream",
     "text": [
      "100%|██████████████████████████████████████████████████████████████████████████| 25112/25112 [00:12<00:00, 1953.62it/s]\n"
     ]
    },
    {
     "name": "stdout",
     "output_type": "stream",
     "text": [
      "Rat : 8 on day : 9\n",
      "Working with session Rat08-20130717 @ E:/DATA/GG-Dataset/Rat08/Rat08-20130717\n",
      "Data already saved in Numpy format, loading them from here:\n",
      "Rat08-20130717-neurons.npy\n",
      "Rat08-20130717-metadata.npy\n"
     ]
    },
    {
     "name": "stderr",
     "output_type": "stream",
     "text": [
      "100%|██████████████████████████████████████████████████████████████████████████| 23243/23243 [00:12<00:00, 1892.23it/s]\n"
     ]
    },
    {
     "name": "stdout",
     "output_type": "stream",
     "text": [
      "Rat : 8 on day : 11\n",
      "Working with session Rat08-20130719 @ E:/DATA/GG-Dataset/Rat08/Rat08-20130719\n",
      "Data already saved in Numpy format, loading them from here:\n",
      "Rat08-20130719-neurons.npy\n",
      "Rat08-20130719-metadata.npy\n",
      "Rat09\n",
      "Rat : 9 on day : 1\n",
      "Working with session Rat09-20140324 @ E:/DATA/GG-Dataset/Rat09/Rat09-20140324\n",
      "Data already saved in Numpy format, loading them from here:\n",
      "Rat09-20140324-neurons.npy\n",
      "Rat09-20140324-metadata.npy\n"
     ]
    },
    {
     "name": "stderr",
     "output_type": "stream",
     "text": [
      "100%|██████████████████████████████████████████████████████████████████████████| 23930/23930 [00:12<00:00, 1852.14it/s]\n"
     ]
    },
    {
     "name": "stdout",
     "output_type": "stream",
     "text": [
      "Rat : 9 on day : 2\n",
      "Working with session Rat09-20140325 @ E:/DATA/GG-Dataset/Rat09/Rat09-20140325\n",
      "Data already saved in Numpy format, loading them from here:\n",
      "Rat09-20140325-neurons.npy\n",
      "Rat09-20140325-metadata.npy\n"
     ]
    },
    {
     "name": "stderr",
     "output_type": "stream",
     "text": [
      "100%|██████████████████████████████████████████████████████████████████████████| 20033/20033 [00:10<00:00, 1861.59it/s]\n"
     ]
    },
    {
     "name": "stdout",
     "output_type": "stream",
     "text": [
      "Rat : 9 on day : 3\n",
      "Working with session Rat09-20140326 @ E:/DATA/GG-Dataset/Rat09/Rat09-20140326\n",
      "Data already saved in Numpy format, loading them from here:\n",
      "Rat09-20140326-neurons.npy\n",
      "Rat09-20140326-metadata.npy\n"
     ]
    },
    {
     "name": "stderr",
     "output_type": "stream",
     "text": [
      "100%|██████████████████████████████████████████████████████████████████████████| 24306/24306 [00:15<00:00, 1555.21it/s]\n"
     ]
    },
    {
     "name": "stdout",
     "output_type": "stream",
     "text": [
      "Rat : 9 on day : 4\n",
      "Working with session Rat09-20140327 @ E:/DATA/GG-Dataset/Rat09/Rat09-20140327\n",
      "Data already saved in Numpy format, loading them from here:\n",
      "Rat09-20140327-neurons.npy\n",
      "Rat09-20140327-metadata.npy\n"
     ]
    },
    {
     "name": "stderr",
     "output_type": "stream",
     "text": [
      "100%|██████████████████████████████████████████████████████████████████████████| 27146/27146 [00:18<00:00, 1482.70it/s]\n"
     ]
    },
    {
     "name": "stdout",
     "output_type": "stream",
     "text": [
      "Rat : 9 on day : 5\n",
      "Working with session Rat09-20140328 @ E:/DATA/GG-Dataset/Rat09/Rat09-20140328\n",
      "Data already saved in Numpy format, loading them from here:\n",
      "Rat09-20140328-neurons.npy\n",
      "Rat09-20140328-metadata.npy\n"
     ]
    },
    {
     "name": "stderr",
     "output_type": "stream",
     "text": [
      "100%|██████████████████████████████████████████████████████████████████████████| 12660/12660 [00:09<00:00, 1375.70it/s]\n"
     ]
    },
    {
     "name": "stdout",
     "output_type": "stream",
     "text": [
      "Rat : 9 on day : 6\n",
      "Working with session Rat09-20140329 @ E:/DATA/GG-Dataset/Rat09/Rat09-20140329\n",
      "Data already saved in Numpy format, loading them from here:\n",
      "Rat09-20140329-neurons.npy\n",
      "Rat09-20140329-metadata.npy\n"
     ]
    },
    {
     "name": "stderr",
     "output_type": "stream",
     "text": [
      "100%|██████████████████████████████████████████████████████████████████████████| 20107/20107 [00:13<00:00, 1533.69it/s]\n"
     ]
    },
    {
     "name": "stdout",
     "output_type": "stream",
     "text": [
      "Rat : 9 on day : 7\n",
      "Working with session Rat09-20140331 @ E:/DATA/GG-Dataset/Rat09/Rat09-20140331\n",
      "Data already saved in Numpy format, loading them from here:\n",
      "Rat09-20140331-neurons.npy\n",
      "Rat09-20140331-metadata.npy\n"
     ]
    },
    {
     "name": "stderr",
     "output_type": "stream",
     "text": [
      "100%|██████████████████████████████████████████████████████████████████████████| 23949/23949 [00:17<00:00, 1339.89it/s]\n"
     ]
    },
    {
     "name": "stdout",
     "output_type": "stream",
     "text": [
      "Rat : 9 on day : 8\n",
      "Working with session Rat09-20140401 @ E:/DATA/GG-Dataset/Rat09/Rat09-20140401\n",
      "Data already saved in Numpy format, loading them from here:\n",
      "Rat09-20140401-neurons.npy\n",
      "Rat09-20140401-metadata.npy\n"
     ]
    },
    {
     "name": "stderr",
     "output_type": "stream",
     "text": [
      "100%|██████████████████████████████████████████████████████████████████████████| 21826/21826 [00:13<00:00, 1595.39it/s]\n"
     ]
    },
    {
     "name": "stdout",
     "output_type": "stream",
     "text": [
      "Rat : 9 on day : 9\n",
      "Working with session Rat09-20140402 @ E:/DATA/GG-Dataset/Rat09/Rat09-20140402\n",
      "Data already saved in Numpy format, loading them from here:\n",
      "Rat09-20140402-neurons.npy\n",
      "Rat09-20140402-metadata.npy\n"
     ]
    },
    {
     "name": "stderr",
     "output_type": "stream",
     "text": [
      "100%|██████████████████████████████████████████████████████████████████████████| 23074/23074 [00:13<00:00, 1715.51it/s]\n"
     ]
    },
    {
     "name": "stdout",
     "output_type": "stream",
     "text": [
      "Rat : 9 on day : 10\n",
      "Working with session Rat09-20140403 @ E:/DATA/GG-Dataset/Rat09/Rat09-20140403\n",
      "Data already saved in Numpy format, loading them from here:\n",
      "Rat09-20140403-neurons.npy\n",
      "Rat09-20140403-metadata.npy\n",
      "Rat : 9 on day : 11\n",
      "Working with session Rat09-20140404 @ E:/DATA/GG-Dataset/Rat09/Rat09-20140404\n",
      "Data already saved in Numpy format, loading them from here:\n",
      "Rat09-20140404-neurons.npy\n",
      "Rat09-20140404-metadata.npy\n",
      "Rat : 9 on day : 12\n",
      "Working with session Rat09-20140405 @ E:/DATA/GG-Dataset/Rat09/Rat09-20140405\n",
      "Data already saved in Numpy format, loading them from here:\n",
      "Rat09-20140405-neurons.npy\n",
      "Rat09-20140405-metadata.npy\n",
      "Rat : 9 on day : 13\n",
      "Working with session Rat09-20140407 @ E:/DATA/GG-Dataset/Rat09/Rat09-20140407\n",
      "Data already saved in Numpy format, loading them from here:\n",
      "Rat09-20140407-neurons.npy\n",
      "Rat09-20140407-metadata.npy\n",
      "Rat10\n",
      "Rat : 10 on day : 4\n",
      "Working with session Rat10-20140624 @ E:/DATA/GG-Dataset/Rat10/Rat10-20140624\n",
      "Data already saved in Numpy format, loading them from here:\n",
      "Rat10-20140624-neurons.npy\n",
      "Rat10-20140624-metadata.npy\n"
     ]
    },
    {
     "name": "stderr",
     "output_type": "stream",
     "text": [
      "100%|██████████████████████████████████████████████████████████████████████████| 20018/20018 [00:11<00:00, 1780.80it/s]\n"
     ]
    },
    {
     "name": "stdout",
     "output_type": "stream",
     "text": [
      "Rat : 10 on day : 5\n",
      "Working with session Rat10-20140626 @ E:/DATA/GG-Dataset/Rat10/Rat10-20140626\n",
      "Data already saved in Numpy format, loading them from here:\n",
      "Rat10-20140626-neurons.npy\n",
      "Rat10-20140626-metadata.npy\n"
     ]
    },
    {
     "name": "stderr",
     "output_type": "stream",
     "text": [
      "100%|██████████████████████████████████████████████████████████████████████████| 17838/17838 [00:08<00:00, 2201.45it/s]\n"
     ]
    },
    {
     "name": "stdout",
     "output_type": "stream",
     "text": [
      "Rat : 10 on day : 6\n",
      "Working with session Rat10-20140627 @ E:/DATA/GG-Dataset/Rat10/Rat10-20140627\n",
      "Data already saved in Numpy format, loading them from here:\n",
      "Rat10-20140627-neurons.npy\n",
      "Rat10-20140627-metadata.npy\n",
      "Rat : 10 on day : 7\n",
      "Working with session Rat10-20140628 @ E:/DATA/GG-Dataset/Rat10/Rat10-20140628\n",
      "Data already saved in Numpy format, loading them from here:\n",
      "Rat10-20140628-neurons.npy\n",
      "Rat10-20140628-metadata.npy\n"
     ]
    },
    {
     "name": "stderr",
     "output_type": "stream",
     "text": [
      "100%|██████████████████████████████████████████████████████████████████████████| 21646/21646 [00:10<00:00, 2083.83it/s]\n"
     ]
    },
    {
     "name": "stdout",
     "output_type": "stream",
     "text": [
      "Rat : 10 on day : 8\n",
      "Working with session Rat10-20140629 @ E:/DATA/GG-Dataset/Rat10/Rat10-20140629\n",
      "Data already saved in Numpy format, loading them from here:\n",
      "Rat10-20140629-neurons.npy\n",
      "Rat10-20140629-metadata.npy\n",
      "Rat : 10 on day : 9\n",
      "Working with session Rat10-20140701 @ E:/DATA/GG-Dataset/Rat10/Rat10-20140701\n",
      "Data already saved in Numpy format, loading them from here:\n",
      "Rat10-20140701-neurons.npy\n",
      "Rat10-20140701-metadata.npy\n",
      "Rat : 10 on day : 10\n",
      "Working with session Rat10-20140702 @ E:/DATA/GG-Dataset/Rat10/Rat10-20140702\n",
      "Data already saved in Numpy format, loading them from here:\n",
      "Rat10-20140702-neurons.npy\n",
      "Rat10-20140702-metadata.npy\n",
      "Rat : 10 on day : 11\n",
      "Working with session Rat10-20140703 @ E:/DATA/GG-Dataset/Rat10/Rat10-20140703\n",
      "Data already saved in Numpy format, loading them from here:\n",
      "Rat10-20140703-neurons.npy\n",
      "Rat10-20140703-metadata.npy\n",
      "Rat : 10 on day : 12\n",
      "Working with session Rat10-20140704 @ E:/DATA/GG-Dataset/Rat10/Rat10-20140704\n",
      "Data already saved in Numpy format, loading them from here:\n",
      "Rat10-20140704-neurons.npy\n",
      "Rat10-20140704-metadata.npy\n",
      "Rat : 10 on day : 13\n",
      "Working with session Rat10-20140705 @ E:/DATA/GG-Dataset/Rat10/Rat10-20140705\n",
      "Data already saved in Numpy format, loading them from here:\n",
      "Rat10-20140705-neurons.npy\n",
      "Rat10-20140705-metadata.npy\n",
      "Rat : 10 on day : 14\n",
      "Working with session Rat10-20140707 @ E:/DATA/GG-Dataset/Rat10/Rat10-20140707\n",
      "Data already saved in Numpy format, loading them from here:\n",
      "Rat10-20140707-neurons.npy\n",
      "Rat10-20140707-metadata.npy\n",
      "Rat11\n",
      "Rat : 11 on day : 2\n",
      "Working with session Rat11-20150310 @ E:/DATA/GG-Dataset/Rat11/Rat11-20150310\n",
      "Data already saved in Numpy format, loading them from here:\n",
      "Rat11-20150310-neurons.npy\n",
      "Rat11-20150310-metadata.npy\n",
      "Rat : 11 on day : 3\n",
      "Working with session Rat11-20150312 @ E:/DATA/GG-Dataset/Rat11/Rat11-20150312\n",
      "Data already saved in Numpy format, loading them from here:\n",
      "Rat11-20150312-neurons.npy\n",
      "Rat11-20150312-metadata.npy\n",
      "Rat : 11 on day : 4\n",
      "Working with session Rat11-20150313 @ E:/DATA/GG-Dataset/Rat11/Rat11-20150313\n",
      "Data already saved in Numpy format, loading them from here:\n",
      "Rat11-20150313-neurons.npy\n",
      "Rat11-20150313-metadata.npy\n",
      "Rat : 11 on day : 5\n",
      "Working with session Rat11-20150314 @ E:/DATA/GG-Dataset/Rat11/Rat11-20150314\n",
      "Data already saved in Numpy format, loading them from here:\n",
      "Rat11-20150314-neurons.npy\n",
      "Rat11-20150314-metadata.npy\n",
      "Rat : 11 on day : 6\n",
      "Working with session Rat11-20150315 @ E:/DATA/GG-Dataset/Rat11/Rat11-20150315\n",
      "Data already saved in Numpy format, loading them from here:\n",
      "Rat11-20150315-neurons.npy\n",
      "Rat11-20150315-metadata.npy\n",
      "Rat : 11 on day : 7\n",
      "Working with session Rat11-20150316 @ E:/DATA/GG-Dataset/Rat11/Rat11-20150316\n",
      "Data already saved in Numpy format, loading them from here:\n",
      "Rat11-20150316-neurons.npy\n",
      "Rat11-20150316-metadata.npy\n",
      "Rat : 11 on day : 8\n",
      "Working with session Rat11-20150317 @ E:/DATA/GG-Dataset/Rat11/Rat11-20150317\n",
      "Data already saved in Numpy format, loading them from here:\n",
      "Rat11-20150317-neurons.npy\n",
      "Rat11-20150317-metadata.npy\n",
      "Rat : 11 on day : 11\n",
      "Working with session Rat11-20150321 @ E:/DATA/GG-Dataset/Rat11/Rat11-20150321\n",
      "Data already saved in Numpy format, loading them from here:\n",
      "Rat11-20150321-neurons.npy\n",
      "Rat11-20150321-metadata.npy\n"
     ]
    },
    {
     "name": "stderr",
     "output_type": "stream",
     "text": [
      "100%|██████████████████████████████████████████████████████████████████████████| 20649/20649 [00:10<00:00, 2015.11it/s]\n"
     ]
    },
    {
     "name": "stdout",
     "output_type": "stream",
     "text": [
      "Rat : 11 on day : 12\n",
      "Working with session Rat11-20150323 @ E:/DATA/GG-Dataset/Rat11/Rat11-20150323\n",
      "Data already saved in Numpy format, loading them from here:\n",
      "Rat11-20150323-neurons.npy\n",
      "Rat11-20150323-metadata.npy\n"
     ]
    },
    {
     "name": "stderr",
     "output_type": "stream",
     "text": [
      "100%|██████████████████████████████████████████████████████████████████████████| 24290/24290 [00:17<00:00, 1384.33it/s]\n"
     ]
    },
    {
     "name": "stdout",
     "output_type": "stream",
     "text": [
      "Rat : 11 on day : 14\n",
      "Working with session Rat11-20150325 @ E:/DATA/GG-Dataset/Rat11/Rat11-20150325\n",
      "Data already saved in Numpy format, loading them from here:\n",
      "Rat11-20150325-neurons.npy\n",
      "Rat11-20150325-metadata.npy\n"
     ]
    },
    {
     "name": "stderr",
     "output_type": "stream",
     "text": [
      "100%|██████████████████████████████████████████████████████████████████████████| 26214/26214 [00:18<00:00, 1450.92it/s]\n"
     ]
    },
    {
     "name": "stdout",
     "output_type": "stream",
     "text": [
      "Rat : 11 on day : 15\n",
      "Working with session Rat11-20150326 @ E:/DATA/GG-Dataset/Rat11/Rat11-20150326\n",
      "Data already saved in Numpy format, loading them from here:\n",
      "Rat11-20150326-neurons.npy\n",
      "Rat11-20150326-metadata.npy\n"
     ]
    },
    {
     "name": "stderr",
     "output_type": "stream",
     "text": [
      "100%|██████████████████████████████████████████████████████████████████████████| 23205/23205 [00:21<00:00, 1093.08it/s]\n"
     ]
    },
    {
     "name": "stdout",
     "output_type": "stream",
     "text": [
      "Rat : 11 on day : 16\n",
      "Working with session Rat11-20150327 @ E:/DATA/GG-Dataset/Rat11/Rat11-20150327\n",
      "Data already saved in Numpy format, loading them from here:\n",
      "Rat11-20150327-neurons.npy\n",
      "Rat11-20150327-metadata.npy\n"
     ]
    },
    {
     "name": "stderr",
     "output_type": "stream",
     "text": [
      "100%|██████████████████████████████████████████████████████████████████████████| 25025/25025 [00:19<00:00, 1274.16it/s]\n"
     ]
    },
    {
     "name": "stdout",
     "output_type": "stream",
     "text": [
      "Rat : 11 on day : 17\n",
      "Working with session Rat11-20150328 @ E:/DATA/GG-Dataset/Rat11/Rat11-20150328\n",
      "Data already saved in Numpy format, loading them from here:\n",
      "Rat11-20150328-neurons.npy\n",
      "Rat11-20150328-metadata.npy\n"
     ]
    },
    {
     "name": "stderr",
     "output_type": "stream",
     "text": [
      "100%|██████████████████████████████████████████████████████████████████████████| 25003/25003 [00:12<00:00, 1939.34it/s]\n"
     ]
    },
    {
     "name": "stdout",
     "output_type": "stream",
     "text": [
      "Rat : 11 on day : 18\n",
      "Working with session Rat11-20150330 @ E:/DATA/GG-Dataset/Rat11/Rat11-20150330\n",
      "Data already saved in Numpy format, loading them from here:\n",
      "Rat11-20150330-neurons.npy\n",
      "Rat11-20150330-metadata.npy\n"
     ]
    },
    {
     "name": "stderr",
     "output_type": "stream",
     "text": [
      "100%|██████████████████████████████████████████████████████████████████████████| 22385/22385 [00:09<00:00, 2434.10it/s]\n"
     ]
    },
    {
     "name": "stdout",
     "output_type": "stream",
     "text": [
      "Rat : 11 on day : 19\n",
      "Working with session Rat11-20150331 @ E:/DATA/GG-Dataset/Rat11/Rat11-20150331\n",
      "Data already saved in Numpy format, loading them from here:\n",
      "Rat11-20150331-neurons.npy\n",
      "Rat11-20150331-metadata.npy\n"
     ]
    },
    {
     "name": "stderr",
     "output_type": "stream",
     "text": [
      "100%|██████████████████████████████████████████████████████████████████████████| 22776/22776 [00:10<00:00, 2167.59it/s]\n"
     ]
    },
    {
     "name": "stdout",
     "output_type": "stream",
     "text": [
      "Rat : 11 on day : 21\n",
      "Working with session Rat11-20150402 @ E:/DATA/GG-Dataset/Rat11/Rat11-20150402\n",
      "Data already saved in Numpy format, loading them from here:\n",
      "Rat11-20150402-neurons.npy\n",
      "Rat11-20150402-metadata.npy\n",
      "Rat : 11 on day : 22\n",
      "Working with session Rat11-20150403 @ E:/DATA/GG-Dataset/Rat11/Rat11-20150403\n",
      "Data already saved in Numpy format, loading them from here:\n",
      "Rat11-20150403-neurons.npy\n",
      "Rat11-20150403-metadata.npy\n"
     ]
    }
   ],
   "source": [
    "rats = ['Rat08', 'Rat09','Rat10', 'Rat11']\n",
    "to_ignore = ['Rat08-20130720', \n",
    "             'Rat08-20130722', \n",
    "             'Rat08-20130718',\n",
    "             \"Rat09-20140408\",\n",
    "             \"Rat09-20140409\",\n",
    "             \"Rat10-20140619\",\n",
    "             \"Rat10-20140620\",\n",
    "             \"Rat10-20140622\",\n",
    "             \"Rat10-20140708\",\n",
    "             \"Rat11-20150309\",\n",
    "             \"Rat11-20150318\",\n",
    "             \"Rat11-20150318\",\n",
    "             \"Rat11-20150319\", \n",
    "             \"Rat11-20150324\", \n",
    "             \"Rat11-20150401\"]\n",
    "\n",
    "trans = {'Rem before transition': [], \n",
    "        'Rem after transition': [],\n",
    "        'sws before transition' : [], \n",
    "        'sws after transition': []}\n",
    "\n",
    "for rat in rats:\n",
    "    print(rat)\n",
    "    os.chdir(f'E:/DATA/GG-Dataset/{rat}/')\n",
    "    means =[]\n",
    "    \n",
    "    for i in os.listdir(f'E:/DATA/GG-Dataset/{rat}/'):\n",
    "        if i.endswith('.mat') or i in to_ignore:\n",
    "            continue\n",
    "        \n",
    "        local_path= f'{rat}/{i}'\n",
    "        bk.load.current_session_linux(base_folder= 'E:/DATA/GG-Dataset/',local_path= local_path)\n",
    "        states = bk.load.states() \n",
    "        if states['Rem'].tot_length()/1_000_000 < 100 or states['sws'].tot_length()/1_000_000 < 100: \n",
    "            continue\n",
    "        neurons,metadata = bk.load.spikes() \n",
    "\n",
    "        neurons_pyr_bla = neurons[(metadata['Type'] == 'Pyr') & (metadata['Region'] == 'BLA')]\n",
    "        if len(neurons_pyr_bla) < 20: \n",
    "            continue\n",
    "            \n",
    "        mean_sync = mean_synchrony(neurons_pyr_bla)\n",
    "        mean_sync = bk.compute.nts_smooth(mean_sync, 100,50)\n",
    "        \n",
    "        transitions = bk.compute.transitions_times(states)\n",
    "        transitions_rem_sws = transitions[1][('Rem', 'sws')].index.values\n",
    "        transitions_sws_rem = transitions[1][('sws', 'Rem')].index.values\n",
    "\n",
    "        for i  in transitions_rem_sws:\n",
    "            interval_rem = nts.IntervalSet(i-10_000_000, i, time_units='us')\n",
    "            trans['Rem before transition'].append(np.mean(mean_sync.restrict(interval_rem).values))\n",
    "            interval_sws = nts.IntervalSet(i, i+10_000_000, time_units='us')\n",
    "            trans['sws after transition'].append(np.mean(mean_sync.restrict(interval_sws).values))\n",
    "\n",
    "        for i  in transitions_sws_rem:\n",
    "            interval_sws = nts.IntervalSet(i-10_000_000, i, time_units='us')\n",
    "            trans['sws before transition'].append(np.mean(mean_sync.restrict(interval_sws).values))\n",
    "            interval_rem = nts.IntervalSet(i, i+10_000_000, time_units='us')\n",
    "            trans['Rem after transition'].append(np.mean(mean_sync.restrict(interval_rem).values))\n",
    "\n",
    "trans = pd.DataFrame(dict([ (k,pd.Series(v)) for k,v in trans.items() ]))"
   ]
  },
  {
   "cell_type": "code",
   "execution_count": 15,
   "id": "6ef7e31c",
   "metadata": {},
   "outputs": [
    {
     "data": {
      "text/plain": [
       "<AxesSubplot:>"
      ]
     },
     "execution_count": 15,
     "metadata": {},
     "output_type": "execute_result"
    }
   ],
   "source": [
    "sns.violinplot(data = trans)"
   ]
  },
  {
   "cell_type": "code",
   "execution_count": 13,
   "id": "4d7f45e5",
   "metadata": {},
   "outputs": [
    {
     "name": "stdout",
     "output_type": "stream",
     "text": [
      "Rat08\n",
      "Rat : 8 on day : 6\n",
      "Working with session Rat08-20130713 @ E:/DATA/GG-Dataset/Rat08/Rat08-20130713\n",
      "Data already saved in Numpy format, loading them from here:\n",
      "Rat08-20130713-neurons.npy\n",
      "Rat08-20130713-metadata.npy\n"
     ]
    },
    {
     "name": "stderr",
     "output_type": "stream",
     "text": [
      "  0%|                                                                                        | 0/22679 [00:00<?, ?it/s]C:\\Users\\maell\\anaconda3\\lib\\site-packages\\numpy\\lib\\function_base.py:2691: RuntimeWarning: invalid value encountered in true_divide\n",
      "  c /= stddev[:, None]\n",
      "C:\\Users\\maell\\anaconda3\\lib\\site-packages\\numpy\\lib\\function_base.py:2692: RuntimeWarning: invalid value encountered in true_divide\n",
      "  c /= stddev[None, :]\n",
      "100%|██████████████████████████████████████████████████████████████████████████| 22679/22679 [00:12<00:00, 1807.23it/s]\n"
     ]
    },
    {
     "name": "stdout",
     "output_type": "stream",
     "text": [
      "Rat : 8 on day : 1\n",
      "Working with session Rat08-20130708 @ E:/DATA/GG-Dataset/Rat08/Rat08-20130708\n",
      "Data already saved in Numpy format, loading them from here:\n",
      "Rat08-20130708-neurons.npy\n",
      "Rat08-20130708-metadata.npy\n",
      "Rat : 8 on day : 2\n",
      "Working with session Rat08-20130709 @ E:/DATA/GG-Dataset/Rat08/Rat08-20130709\n",
      "Data already saved in Numpy format, loading them from here:\n",
      "Rat08-20130709-neurons.npy\n",
      "Rat08-20130709-metadata.npy\n"
     ]
    },
    {
     "name": "stderr",
     "output_type": "stream",
     "text": [
      " 21%|███████████████▉                                                           | 5423/25510 [00:04<00:14, 1392.89it/s]C:\\Users\\maell\\AppData\\Local\\Temp/ipykernel_42528/1913985095.py:31: RuntimeWarning: Mean of empty slice\n",
      "  mean_sync[i] = np.nanmean(corrcoef) #compute the mean of corrcoef for each window, disregarding the nan\n",
      "100%|██████████████████████████████████████████████████████████████████████████| 25510/25510 [00:18<00:00, 1392.42it/s]\n"
     ]
    },
    {
     "name": "stdout",
     "output_type": "stream",
     "text": [
      "Rat : 8 on day : 3\n",
      "Working with session Rat08-20130710 @ E:/DATA/GG-Dataset/Rat08/Rat08-20130710\n",
      "Data already saved in Numpy format, loading them from here:\n",
      "Rat08-20130710-neurons.npy\n",
      "Rat08-20130710-metadata.npy\n"
     ]
    },
    {
     "name": "stderr",
     "output_type": "stream",
     "text": [
      "100%|██████████████████████████████████████████████████████████████████████████| 25195/25195 [00:11<00:00, 2128.30it/s]\n"
     ]
    },
    {
     "name": "stdout",
     "output_type": "stream",
     "text": [
      "Rat : 8 on day : 4\n",
      "Working with session Rat08-20130711 @ E:/DATA/GG-Dataset/Rat08/Rat08-20130711\n",
      "Data already saved in Numpy format, loading them from here:\n",
      "Rat08-20130711-neurons.npy\n",
      "Rat08-20130711-metadata.npy\n"
     ]
    },
    {
     "name": "stderr",
     "output_type": "stream",
     "text": [
      "100%|██████████████████████████████████████████████████████████████████████████| 21867/21867 [00:10<00:00, 2015.97it/s]\n"
     ]
    },
    {
     "name": "stdout",
     "output_type": "stream",
     "text": [
      "Rat : 8 on day : 5\n",
      "Working with session Rat08-20130712 @ E:/DATA/GG-Dataset/Rat08/Rat08-20130712\n",
      "Data already saved in Numpy format, loading them from here:\n",
      "Rat08-20130712-neurons.npy\n",
      "Rat08-20130712-metadata.npy\n"
     ]
    },
    {
     "name": "stderr",
     "output_type": "stream",
     "text": [
      "100%|██████████████████████████████████████████████████████████████████████████| 23980/23980 [00:18<00:00, 1311.57it/s]\n"
     ]
    },
    {
     "name": "stdout",
     "output_type": "stream",
     "text": [
      "Rat : 8 on day : 7\n",
      "Working with session Rat08-20130715 @ E:/DATA/GG-Dataset/Rat08/Rat08-20130715\n",
      "Data already saved in Numpy format, loading them from here:\n",
      "Rat08-20130715-neurons.npy\n",
      "Rat08-20130715-metadata.npy\n"
     ]
    },
    {
     "name": "stderr",
     "output_type": "stream",
     "text": [
      "100%|██████████████████████████████████████████████████████████████████████████| 21827/21827 [00:11<00:00, 1820.75it/s]\n"
     ]
    },
    {
     "name": "stdout",
     "output_type": "stream",
     "text": [
      "Rat : 8 on day : 8\n",
      "Working with session Rat08-20130716 @ E:/DATA/GG-Dataset/Rat08/Rat08-20130716\n",
      "Data already saved in Numpy format, loading them from here:\n",
      "Rat08-20130716-neurons.npy\n",
      "Rat08-20130716-metadata.npy\n"
     ]
    },
    {
     "name": "stderr",
     "output_type": "stream",
     "text": [
      "100%|██████████████████████████████████████████████████████████████████████████| 25112/25112 [00:12<00:00, 2064.34it/s]\n"
     ]
    },
    {
     "name": "stdout",
     "output_type": "stream",
     "text": [
      "Rat : 8 on day : 9\n",
      "Working with session Rat08-20130717 @ E:/DATA/GG-Dataset/Rat08/Rat08-20130717\n",
      "Data already saved in Numpy format, loading them from here:\n",
      "Rat08-20130717-neurons.npy\n",
      "Rat08-20130717-metadata.npy\n"
     ]
    },
    {
     "name": "stderr",
     "output_type": "stream",
     "text": [
      "100%|██████████████████████████████████████████████████████████████████████████| 23243/23243 [00:11<00:00, 1993.45it/s]\n"
     ]
    },
    {
     "name": "stdout",
     "output_type": "stream",
     "text": [
      "Rat : 8 on day : 11\n",
      "Working with session Rat08-20130719 @ E:/DATA/GG-Dataset/Rat08/Rat08-20130719\n",
      "Data already saved in Numpy format, loading them from here:\n",
      "Rat08-20130719-neurons.npy\n",
      "Rat08-20130719-metadata.npy\n",
      "Rat09\n",
      "Rat : 9 on day : 1\n",
      "Working with session Rat09-20140324 @ E:/DATA/GG-Dataset/Rat09/Rat09-20140324\n",
      "Data already saved in Numpy format, loading them from here:\n",
      "Rat09-20140324-neurons.npy\n",
      "Rat09-20140324-metadata.npy\n"
     ]
    },
    {
     "name": "stderr",
     "output_type": "stream",
     "text": [
      "100%|██████████████████████████████████████████████████████████████████████████| 23930/23930 [00:11<00:00, 2163.44it/s]\n"
     ]
    },
    {
     "name": "stdout",
     "output_type": "stream",
     "text": [
      "Rat : 9 on day : 2\n",
      "Working with session Rat09-20140325 @ E:/DATA/GG-Dataset/Rat09/Rat09-20140325\n",
      "Data already saved in Numpy format, loading them from here:\n",
      "Rat09-20140325-neurons.npy\n",
      "Rat09-20140325-metadata.npy\n"
     ]
    },
    {
     "name": "stderr",
     "output_type": "stream",
     "text": [
      "100%|██████████████████████████████████████████████████████████████████████████| 20033/20033 [00:10<00:00, 1858.81it/s]\n"
     ]
    },
    {
     "name": "stdout",
     "output_type": "stream",
     "text": [
      "Rat : 9 on day : 3\n",
      "Working with session Rat09-20140326 @ E:/DATA/GG-Dataset/Rat09/Rat09-20140326\n",
      "Data already saved in Numpy format, loading them from here:\n",
      "Rat09-20140326-neurons.npy\n",
      "Rat09-20140326-metadata.npy\n"
     ]
    },
    {
     "name": "stderr",
     "output_type": "stream",
     "text": [
      "100%|██████████████████████████████████████████████████████████████████████████| 24306/24306 [00:14<00:00, 1689.08it/s]\n"
     ]
    },
    {
     "name": "stdout",
     "output_type": "stream",
     "text": [
      "Rat : 9 on day : 4\n",
      "Working with session Rat09-20140327 @ E:/DATA/GG-Dataset/Rat09/Rat09-20140327\n",
      "Data already saved in Numpy format, loading them from here:\n",
      "Rat09-20140327-neurons.npy\n",
      "Rat09-20140327-metadata.npy\n"
     ]
    },
    {
     "name": "stderr",
     "output_type": "stream",
     "text": [
      "100%|██████████████████████████████████████████████████████████████████████████| 27146/27146 [00:17<00:00, 1550.31it/s]\n"
     ]
    },
    {
     "name": "stdout",
     "output_type": "stream",
     "text": [
      "Rat : 9 on day : 5\n",
      "Working with session Rat09-20140328 @ E:/DATA/GG-Dataset/Rat09/Rat09-20140328\n",
      "Data already saved in Numpy format, loading them from here:\n",
      "Rat09-20140328-neurons.npy\n",
      "Rat09-20140328-metadata.npy\n"
     ]
    },
    {
     "name": "stderr",
     "output_type": "stream",
     "text": [
      "100%|██████████████████████████████████████████████████████████████████████████| 12660/12660 [00:08<00:00, 1428.85it/s]\n"
     ]
    },
    {
     "name": "stdout",
     "output_type": "stream",
     "text": [
      "Rat : 9 on day : 6\n",
      "Working with session Rat09-20140329 @ E:/DATA/GG-Dataset/Rat09/Rat09-20140329\n",
      "Data already saved in Numpy format, loading them from here:\n",
      "Rat09-20140329-neurons.npy\n",
      "Rat09-20140329-metadata.npy\n"
     ]
    },
    {
     "name": "stderr",
     "output_type": "stream",
     "text": [
      "100%|██████████████████████████████████████████████████████████████████████████| 20107/20107 [00:12<00:00, 1581.97it/s]\n"
     ]
    },
    {
     "name": "stdout",
     "output_type": "stream",
     "text": [
      "Rat : 9 on day : 7\n",
      "Working with session Rat09-20140331 @ E:/DATA/GG-Dataset/Rat09/Rat09-20140331\n",
      "Data already saved in Numpy format, loading them from here:\n",
      "Rat09-20140331-neurons.npy\n",
      "Rat09-20140331-metadata.npy\n"
     ]
    },
    {
     "name": "stderr",
     "output_type": "stream",
     "text": [
      "100%|██████████████████████████████████████████████████████████████████████████| 23949/23949 [00:16<00:00, 1423.29it/s]\n"
     ]
    },
    {
     "name": "stdout",
     "output_type": "stream",
     "text": [
      "Rat : 9 on day : 8\n",
      "Working with session Rat09-20140401 @ E:/DATA/GG-Dataset/Rat09/Rat09-20140401\n",
      "Data already saved in Numpy format, loading them from here:\n",
      "Rat09-20140401-neurons.npy\n",
      "Rat09-20140401-metadata.npy\n"
     ]
    },
    {
     "name": "stderr",
     "output_type": "stream",
     "text": [
      "100%|██████████████████████████████████████████████████████████████████████████| 21826/21826 [00:12<00:00, 1800.94it/s]\n"
     ]
    },
    {
     "name": "stdout",
     "output_type": "stream",
     "text": [
      "Rat : 9 on day : 9\n",
      "Working with session Rat09-20140402 @ E:/DATA/GG-Dataset/Rat09/Rat09-20140402\n",
      "Data already saved in Numpy format, loading them from here:\n",
      "Rat09-20140402-neurons.npy\n",
      "Rat09-20140402-metadata.npy\n"
     ]
    },
    {
     "name": "stderr",
     "output_type": "stream",
     "text": [
      "100%|██████████████████████████████████████████████████████████████████████████| 23074/23074 [00:12<00:00, 1860.32it/s]\n"
     ]
    },
    {
     "name": "stdout",
     "output_type": "stream",
     "text": [
      "Rat : 9 on day : 10\n",
      "Working with session Rat09-20140403 @ E:/DATA/GG-Dataset/Rat09/Rat09-20140403\n",
      "Data already saved in Numpy format, loading them from here:\n",
      "Rat09-20140403-neurons.npy\n",
      "Rat09-20140403-metadata.npy\n",
      "Rat : 9 on day : 11\n",
      "Working with session Rat09-20140404 @ E:/DATA/GG-Dataset/Rat09/Rat09-20140404\n",
      "Data already saved in Numpy format, loading them from here:\n",
      "Rat09-20140404-neurons.npy\n",
      "Rat09-20140404-metadata.npy\n",
      "Rat : 9 on day : 12\n",
      "Working with session Rat09-20140405 @ E:/DATA/GG-Dataset/Rat09/Rat09-20140405\n",
      "Data already saved in Numpy format, loading them from here:\n",
      "Rat09-20140405-neurons.npy\n",
      "Rat09-20140405-metadata.npy\n",
      "Rat : 9 on day : 13\n",
      "Working with session Rat09-20140407 @ E:/DATA/GG-Dataset/Rat09/Rat09-20140407\n",
      "Data already saved in Numpy format, loading them from here:\n",
      "Rat09-20140407-neurons.npy\n",
      "Rat09-20140407-metadata.npy\n",
      "Rat10\n",
      "Rat : 10 on day : 4\n",
      "Working with session Rat10-20140624 @ E:/DATA/GG-Dataset/Rat10/Rat10-20140624\n",
      "Data already saved in Numpy format, loading them from here:\n",
      "Rat10-20140624-neurons.npy\n",
      "Rat10-20140624-metadata.npy\n"
     ]
    },
    {
     "name": "stderr",
     "output_type": "stream",
     "text": [
      "100%|██████████████████████████████████████████████████████████████████████████| 20018/20018 [00:10<00:00, 1891.08it/s]\n"
     ]
    },
    {
     "name": "stdout",
     "output_type": "stream",
     "text": [
      "Rat : 10 on day : 5\n",
      "Working with session Rat10-20140626 @ E:/DATA/GG-Dataset/Rat10/Rat10-20140626\n",
      "Data already saved in Numpy format, loading them from here:\n",
      "Rat10-20140626-neurons.npy\n",
      "Rat10-20140626-metadata.npy\n"
     ]
    },
    {
     "name": "stderr",
     "output_type": "stream",
     "text": [
      "100%|██████████████████████████████████████████████████████████████████████████| 17838/17838 [00:08<00:00, 2012.11it/s]\n"
     ]
    },
    {
     "name": "stdout",
     "output_type": "stream",
     "text": [
      "Rat : 10 on day : 6\n",
      "Working with session Rat10-20140627 @ E:/DATA/GG-Dataset/Rat10/Rat10-20140627\n",
      "Data already saved in Numpy format, loading them from here:\n",
      "Rat10-20140627-neurons.npy\n",
      "Rat10-20140627-metadata.npy\n",
      "Rat : 10 on day : 7\n",
      "Working with session Rat10-20140628 @ E:/DATA/GG-Dataset/Rat10/Rat10-20140628\n",
      "Data already saved in Numpy format, loading them from here:\n",
      "Rat10-20140628-neurons.npy\n",
      "Rat10-20140628-metadata.npy\n"
     ]
    },
    {
     "name": "stderr",
     "output_type": "stream",
     "text": [
      "100%|██████████████████████████████████████████████████████████████████████████| 21646/21646 [00:09<00:00, 2203.66it/s]\n"
     ]
    },
    {
     "name": "stdout",
     "output_type": "stream",
     "text": [
      "Rat : 10 on day : 8\n",
      "Working with session Rat10-20140629 @ E:/DATA/GG-Dataset/Rat10/Rat10-20140629\n",
      "Data already saved in Numpy format, loading them from here:\n",
      "Rat10-20140629-neurons.npy\n",
      "Rat10-20140629-metadata.npy\n",
      "Rat : 10 on day : 9\n",
      "Working with session Rat10-20140701 @ E:/DATA/GG-Dataset/Rat10/Rat10-20140701\n",
      "Data already saved in Numpy format, loading them from here:\n",
      "Rat10-20140701-neurons.npy\n",
      "Rat10-20140701-metadata.npy\n",
      "Rat : 10 on day : 10\n",
      "Working with session Rat10-20140702 @ E:/DATA/GG-Dataset/Rat10/Rat10-20140702\n",
      "Data already saved in Numpy format, loading them from here:\n",
      "Rat10-20140702-neurons.npy\n",
      "Rat10-20140702-metadata.npy\n",
      "Rat : 10 on day : 11\n",
      "Working with session Rat10-20140703 @ E:/DATA/GG-Dataset/Rat10/Rat10-20140703\n",
      "Data already saved in Numpy format, loading them from here:\n",
      "Rat10-20140703-neurons.npy\n",
      "Rat10-20140703-metadata.npy\n",
      "Rat : 10 on day : 12\n",
      "Working with session Rat10-20140704 @ E:/DATA/GG-Dataset/Rat10/Rat10-20140704\n",
      "Data already saved in Numpy format, loading them from here:\n",
      "Rat10-20140704-neurons.npy\n",
      "Rat10-20140704-metadata.npy\n",
      "Rat : 10 on day : 13\n",
      "Working with session Rat10-20140705 @ E:/DATA/GG-Dataset/Rat10/Rat10-20140705\n",
      "Data already saved in Numpy format, loading them from here:\n",
      "Rat10-20140705-neurons.npy\n",
      "Rat10-20140705-metadata.npy\n",
      "Rat : 10 on day : 14\n",
      "Working with session Rat10-20140707 @ E:/DATA/GG-Dataset/Rat10/Rat10-20140707\n",
      "Data already saved in Numpy format, loading them from here:\n",
      "Rat10-20140707-neurons.npy\n",
      "Rat10-20140707-metadata.npy\n",
      "Rat11\n",
      "Rat : 11 on day : 2\n",
      "Working with session Rat11-20150310 @ E:/DATA/GG-Dataset/Rat11/Rat11-20150310\n",
      "Data already saved in Numpy format, loading them from here:\n",
      "Rat11-20150310-neurons.npy\n",
      "Rat11-20150310-metadata.npy\n",
      "Rat : 11 on day : 3\n",
      "Working with session Rat11-20150312 @ E:/DATA/GG-Dataset/Rat11/Rat11-20150312\n",
      "Data already saved in Numpy format, loading them from here:\n",
      "Rat11-20150312-neurons.npy\n",
      "Rat11-20150312-metadata.npy\n",
      "Rat : 11 on day : 4\n",
      "Working with session Rat11-20150313 @ E:/DATA/GG-Dataset/Rat11/Rat11-20150313\n",
      "Data already saved in Numpy format, loading them from here:\n",
      "Rat11-20150313-neurons.npy\n",
      "Rat11-20150313-metadata.npy\n",
      "Rat : 11 on day : 5\n",
      "Working with session Rat11-20150314 @ E:/DATA/GG-Dataset/Rat11/Rat11-20150314\n",
      "Data already saved in Numpy format, loading them from here:\n",
      "Rat11-20150314-neurons.npy\n",
      "Rat11-20150314-metadata.npy\n",
      "Rat : 11 on day : 6\n",
      "Working with session Rat11-20150315 @ E:/DATA/GG-Dataset/Rat11/Rat11-20150315\n",
      "Data already saved in Numpy format, loading them from here:\n",
      "Rat11-20150315-neurons.npy\n",
      "Rat11-20150315-metadata.npy\n",
      "Rat : 11 on day : 7\n",
      "Working with session Rat11-20150316 @ E:/DATA/GG-Dataset/Rat11/Rat11-20150316\n",
      "Data already saved in Numpy format, loading them from here:\n",
      "Rat11-20150316-neurons.npy\n",
      "Rat11-20150316-metadata.npy\n",
      "Rat : 11 on day : 8\n",
      "Working with session Rat11-20150317 @ E:/DATA/GG-Dataset/Rat11/Rat11-20150317\n",
      "Data already saved in Numpy format, loading them from here:\n",
      "Rat11-20150317-neurons.npy\n",
      "Rat11-20150317-metadata.npy\n",
      "Rat : 11 on day : 11\n",
      "Working with session Rat11-20150321 @ E:/DATA/GG-Dataset/Rat11/Rat11-20150321\n",
      "Data already saved in Numpy format, loading them from here:\n",
      "Rat11-20150321-neurons.npy\n",
      "Rat11-20150321-metadata.npy\n"
     ]
    },
    {
     "name": "stderr",
     "output_type": "stream",
     "text": [
      "100%|██████████████████████████████████████████████████████████████████████████| 20649/20649 [00:09<00:00, 2106.48it/s]\n"
     ]
    },
    {
     "name": "stdout",
     "output_type": "stream",
     "text": [
      "Rat : 11 on day : 12\n",
      "Working with session Rat11-20150323 @ E:/DATA/GG-Dataset/Rat11/Rat11-20150323\n",
      "Data already saved in Numpy format, loading them from here:\n",
      "Rat11-20150323-neurons.npy\n",
      "Rat11-20150323-metadata.npy\n"
     ]
    },
    {
     "name": "stderr",
     "output_type": "stream",
     "text": [
      "100%|██████████████████████████████████████████████████████████████████████████| 24290/24290 [00:15<00:00, 1597.47it/s]\n"
     ]
    },
    {
     "name": "stdout",
     "output_type": "stream",
     "text": [
      "Rat : 11 on day : 14\n",
      "Working with session Rat11-20150325 @ E:/DATA/GG-Dataset/Rat11/Rat11-20150325\n",
      "Data already saved in Numpy format, loading them from here:\n",
      "Rat11-20150325-neurons.npy\n",
      "Rat11-20150325-metadata.npy\n"
     ]
    },
    {
     "name": "stderr",
     "output_type": "stream",
     "text": [
      "100%|██████████████████████████████████████████████████████████████████████████| 26214/26214 [00:17<00:00, 1477.25it/s]\n"
     ]
    },
    {
     "name": "stdout",
     "output_type": "stream",
     "text": [
      "Rat : 11 on day : 15\n",
      "Working with session Rat11-20150326 @ E:/DATA/GG-Dataset/Rat11/Rat11-20150326\n",
      "Data already saved in Numpy format, loading them from here:\n",
      "Rat11-20150326-neurons.npy\n",
      "Rat11-20150326-metadata.npy\n"
     ]
    },
    {
     "name": "stderr",
     "output_type": "stream",
     "text": [
      "100%|██████████████████████████████████████████████████████████████████████████| 23205/23205 [00:21<00:00, 1093.94it/s]\n"
     ]
    },
    {
     "name": "stdout",
     "output_type": "stream",
     "text": [
      "Rat : 11 on day : 16\n",
      "Working with session Rat11-20150327 @ E:/DATA/GG-Dataset/Rat11/Rat11-20150327\n",
      "Data already saved in Numpy format, loading them from here:\n",
      "Rat11-20150327-neurons.npy\n",
      "Rat11-20150327-metadata.npy\n"
     ]
    },
    {
     "name": "stderr",
     "output_type": "stream",
     "text": [
      "100%|██████████████████████████████████████████████████████████████████████████| 25025/25025 [00:19<00:00, 1304.13it/s]\n",
      "C:\\Users\\maell\\anaconda3\\lib\\site-packages\\numpy\\core\\fromnumeric.py:3440: RuntimeWarning: Mean of empty slice.\n",
      "  return _methods._mean(a, axis=axis, dtype=dtype,\n",
      "C:\\Users\\maell\\anaconda3\\lib\\site-packages\\numpy\\core\\_methods.py:189: RuntimeWarning: invalid value encountered in double_scalars\n",
      "  ret = ret.dtype.type(ret / rcount)\n"
     ]
    },
    {
     "name": "stdout",
     "output_type": "stream",
     "text": [
      "Rat : 11 on day : 17\n",
      "Working with session Rat11-20150328 @ E:/DATA/GG-Dataset/Rat11/Rat11-20150328\n",
      "Data already saved in Numpy format, loading them from here:\n",
      "Rat11-20150328-neurons.npy\n",
      "Rat11-20150328-metadata.npy\n"
     ]
    },
    {
     "name": "stderr",
     "output_type": "stream",
     "text": [
      "100%|██████████████████████████████████████████████████████████████████████████| 25003/25003 [00:12<00:00, 2026.69it/s]\n"
     ]
    },
    {
     "name": "stdout",
     "output_type": "stream",
     "text": [
      "Rat : 11 on day : 18\n",
      "Working with session Rat11-20150330 @ E:/DATA/GG-Dataset/Rat11/Rat11-20150330\n",
      "Data already saved in Numpy format, loading them from here:\n",
      "Rat11-20150330-neurons.npy\n",
      "Rat11-20150330-metadata.npy\n"
     ]
    },
    {
     "name": "stderr",
     "output_type": "stream",
     "text": [
      "100%|██████████████████████████████████████████████████████████████████████████| 22385/22385 [00:10<00:00, 2135.12it/s]\n"
     ]
    },
    {
     "name": "stdout",
     "output_type": "stream",
     "text": [
      "Rat : 11 on day : 19\n",
      "Working with session Rat11-20150331 @ E:/DATA/GG-Dataset/Rat11/Rat11-20150331\n",
      "Data already saved in Numpy format, loading them from here:\n",
      "Rat11-20150331-neurons.npy\n",
      "Rat11-20150331-metadata.npy\n"
     ]
    },
    {
     "name": "stderr",
     "output_type": "stream",
     "text": [
      "100%|██████████████████████████████████████████████████████████████████████████| 22776/22776 [00:12<00:00, 1880.72it/s]\n"
     ]
    },
    {
     "name": "stdout",
     "output_type": "stream",
     "text": [
      "Rat : 11 on day : 21\n",
      "Working with session Rat11-20150402 @ E:/DATA/GG-Dataset/Rat11/Rat11-20150402\n",
      "Data already saved in Numpy format, loading them from here:\n",
      "Rat11-20150402-neurons.npy\n",
      "Rat11-20150402-metadata.npy\n",
      "Rat : 11 on day : 22\n",
      "Working with session Rat11-20150403 @ E:/DATA/GG-Dataset/Rat11/Rat11-20150403\n",
      "Data already saved in Numpy format, loading them from here:\n",
      "Rat11-20150403-neurons.npy\n",
      "Rat11-20150403-metadata.npy\n"
     ]
    }
   ],
   "source": [
    "rats = ['Rat08', 'Rat09','Rat10', 'Rat11']\n",
    "to_ignore = ['Rat08-20130720', \n",
    "             'Rat08-20130722', \n",
    "             'Rat08-20130718',\n",
    "             \"Rat09-20140408\",\n",
    "             \"Rat09-20140409\",\n",
    "             \"Rat10-20140619\",\n",
    "             \"Rat10-20140620\",\n",
    "             \"Rat10-20140622\",\n",
    "             \"Rat10-20140708\",\n",
    "             \"Rat11-20150309\",\n",
    "             \"Rat11-20150318\",\n",
    "             \"Rat11-20150318\",\n",
    "             \"Rat11-20150319\", \n",
    "             \"Rat11-20150324\", \n",
    "             \"Rat11-20150401\"]\n",
    "\n",
    "\n",
    "transitions = {'Rem': [], 'sws': []}\n",
    "\n",
    "for rat in rats:\n",
    "    print(rat)\n",
    "    os.chdir(f'E:/DATA/GG-Dataset/{rat}/')\n",
    "    means =[]\n",
    "    \n",
    "    for i in os.listdir(f'E:/DATA/GG-Dataset/{rat}/'):\n",
    "        if i.endswith('.mat') or i in to_ignore:\n",
    "            continue\n",
    "        \n",
    "        local_path= f'{rat}/{i}'\n",
    "        bk.load.current_session_linux(base_folder= 'E:/DATA/GG-Dataset/',local_path= local_path)\n",
    "        states = bk.load.states() \n",
    "        if states['Rem'].tot_length()/1_000_000 < 100 or states['sws'].tot_length()/1_000_000 < 100: \n",
    "            continue\n",
    "            \n",
    "        trans = {'Rem': [], 'sws': []}\n",
    "        \n",
    "        neurons,metadata = bk.load.spikes() \n",
    "\n",
    "        neurons_pyr_bla = neurons[(metadata['Type'] == 'Pyr') & (metadata['Region'] == 'BLA')]\n",
    "        if len(neurons_pyr_bla) < 20: \n",
    "            continue\n",
    "            \n",
    "        mean_sync = mean_synchrony(neurons_pyr_bla)\n",
    "        mean_sync = bk.compute.nts_smooth(mean_sync, 100,50)\n",
    "\n",
    "        for i, j  in zip(states['Rem'].as_units('s').start, states['Rem'].as_units('s').end):\n",
    "            interval = nts.IntervalSet(i,j, time_units='s')\n",
    "            trans['Rem'].append(np.mean(mean_sync.restrict(interval).values))\n",
    "\n",
    "        for i, j  in zip(states['sws'].as_units('s').start, states['sws'].as_units('s').end):\n",
    "            interval = nts.IntervalSet(i,j, time_units='s')\n",
    "            trans['sws'].append(np.mean(mean_sync.restrict(interval).values))\n",
    "        \n",
    "        transitions['Rem'].append(np.nanmean(trans['Rem']))\n",
    "        transitions['sws'].append(np.nanmean(trans['sws']))\n",
    "\n",
    "\n",
    "transitions = pd.DataFrame(dict([ (k,pd.Series(v)) for k,v in transitions.items() ]))"
   ]
  },
  {
   "cell_type": "code",
   "execution_count": 14,
   "id": "1e466c84",
   "metadata": {},
   "outputs": [
    {
     "data": {
      "text/plain": [
       "2"
      ]
     },
     "execution_count": 14,
     "metadata": {},
     "output_type": "execute_result"
    }
   ],
   "source": [
    "1 +1"
   ]
  },
  {
   "cell_type": "code",
   "execution_count": 23,
   "id": "83bcb2d2",
   "metadata": {},
   "outputs": [
    {
     "data": {
      "text/plain": [
       "<ErrorbarContainer object of 3 artists>"
      ]
     },
     "execution_count": 23,
     "metadata": {},
     "output_type": "execute_result"
    }
   ],
   "source": [
    "m_rem = np.nanmean(transitions['Rem'])\n",
    "m_sws = np.nanmean(transitions['sws'])\n",
    "std_rem = np.std(transitions['Rem'])\n",
    "std_sws = np.std(transitions['sws'])\n",
    "\n",
    "for i,j in zip(transitions['Rem'], transitions['sws']):\n",
    "    plt.plot([0,1], [i,j], '.-', color = 'grey', alpha = 0.3)\n",
    "    \n",
    "plt.errorbar([0,1], [m_rem,m_sws], yerr= [std_rem, std_sws],  color = 'black', linewidth= 5)"
   ]
  },
  {
   "cell_type": "code",
   "execution_count": 19,
   "id": "6e51f153",
   "metadata": {},
   "outputs": [
    {
     "data": {
      "text/plain": [
       "0.0393530078370237"
      ]
     },
     "execution_count": 19,
     "metadata": {},
     "output_type": "execute_result"
    }
   ],
   "source": [
    "std_rem"
   ]
  },
  {
   "cell_type": "code",
   "execution_count": 36,
   "id": "11ac59a0",
   "metadata": {
    "collapsed": true,
    "jupyter": {
     "outputs_hidden": true
    }
   },
   "outputs": [
    {
     "name": "stdout",
     "output_type": "stream",
     "text": [
      "Rat08\n",
      "Rat : 8 on day : 6\n",
      "Working with session Rat08-20130713 @ E:/DATA/GG-Dataset/Rat08/Rat08-20130713\n",
      "Data already saved in Numpy format, loading them from here:\n",
      "Rat08-20130713-neurons.npy\n",
      "Rat08-20130713-metadata.npy\n"
     ]
    },
    {
     "name": "stderr",
     "output_type": "stream",
     "text": [
      "  0%|                                                                                        | 0/22679 [00:00<?, ?it/s]C:\\Users\\maell\\anaconda3\\lib\\site-packages\\numpy\\lib\\function_base.py:2691: RuntimeWarning: invalid value encountered in true_divide\n",
      "  c /= stddev[:, None]\n",
      "C:\\Users\\maell\\anaconda3\\lib\\site-packages\\numpy\\lib\\function_base.py:2692: RuntimeWarning: invalid value encountered in true_divide\n",
      "  c /= stddev[None, :]\n",
      "100%|██████████████████████████████████████████████████████████████████████████| 22679/22679 [00:12<00:00, 1878.88it/s]\n"
     ]
    },
    {
     "name": "stdout",
     "output_type": "stream",
     "text": [
      "Rat : 8 on day : 1\n",
      "Working with session Rat08-20130708 @ E:/DATA/GG-Dataset/Rat08/Rat08-20130708\n",
      "Data already saved in Numpy format, loading them from here:\n",
      "Rat08-20130708-neurons.npy\n",
      "Rat08-20130708-metadata.npy\n",
      "Rat : 8 on day : 2\n",
      "Working with session Rat08-20130709 @ E:/DATA/GG-Dataset/Rat08/Rat08-20130709\n",
      "Data already saved in Numpy format, loading them from here:\n",
      "Rat08-20130709-neurons.npy\n",
      "Rat08-20130709-metadata.npy\n"
     ]
    },
    {
     "name": "stderr",
     "output_type": "stream",
     "text": [
      " 21%|███████████████▉                                                           | 5411/25510 [00:02<00:09, 2172.15it/s]C:\\Users\\maell\\AppData\\Local\\Temp/ipykernel_20972/1913985095.py:31: RuntimeWarning: Mean of empty slice\n",
      "  mean_sync[i] = np.nanmean(corrcoef) #compute the mean of corrcoef for each window, disregarding the nan\n",
      "100%|██████████████████████████████████████████████████████████████████████████| 25510/25510 [00:15<00:00, 1675.45it/s]\n"
     ]
    },
    {
     "name": "stdout",
     "output_type": "stream",
     "text": [
      "Rat : 8 on day : 3\n",
      "Working with session Rat08-20130710 @ E:/DATA/GG-Dataset/Rat08/Rat08-20130710\n",
      "Data already saved in Numpy format, loading them from here:\n",
      "Rat08-20130710-neurons.npy\n",
      "Rat08-20130710-metadata.npy\n"
     ]
    },
    {
     "name": "stderr",
     "output_type": "stream",
     "text": [
      "100%|██████████████████████████████████████████████████████████████████████████| 25195/25195 [00:12<00:00, 2052.84it/s]\n"
     ]
    },
    {
     "name": "stdout",
     "output_type": "stream",
     "text": [
      "Rat : 8 on day : 4\n",
      "Working with session Rat08-20130711 @ E:/DATA/GG-Dataset/Rat08/Rat08-20130711\n",
      "Data already saved in Numpy format, loading them from here:\n",
      "Rat08-20130711-neurons.npy\n",
      "Rat08-20130711-metadata.npy\n"
     ]
    },
    {
     "name": "stderr",
     "output_type": "stream",
     "text": [
      "100%|██████████████████████████████████████████████████████████████████████████| 21867/21867 [00:10<00:00, 2064.82it/s]\n"
     ]
    },
    {
     "name": "stdout",
     "output_type": "stream",
     "text": [
      "Rat : 8 on day : 5\n",
      "Working with session Rat08-20130712 @ E:/DATA/GG-Dataset/Rat08/Rat08-20130712\n",
      "Data already saved in Numpy format, loading them from here:\n",
      "Rat08-20130712-neurons.npy\n",
      "Rat08-20130712-metadata.npy\n"
     ]
    },
    {
     "name": "stderr",
     "output_type": "stream",
     "text": [
      "100%|██████████████████████████████████████████████████████████████████████████| 23980/23980 [00:09<00:00, 2431.22it/s]\n"
     ]
    },
    {
     "name": "stdout",
     "output_type": "stream",
     "text": [
      "Rat : 8 on day : 7\n",
      "Working with session Rat08-20130715 @ E:/DATA/GG-Dataset/Rat08/Rat08-20130715\n",
      "Data already saved in Numpy format, loading them from here:\n",
      "Rat08-20130715-neurons.npy\n",
      "Rat08-20130715-metadata.npy\n"
     ]
    },
    {
     "name": "stderr",
     "output_type": "stream",
     "text": [
      "100%|██████████████████████████████████████████████████████████████████████████| 21827/21827 [00:07<00:00, 3039.37it/s]\n"
     ]
    },
    {
     "name": "stdout",
     "output_type": "stream",
     "text": [
      "Rat : 8 on day : 8\n",
      "Working with session Rat08-20130716 @ E:/DATA/GG-Dataset/Rat08/Rat08-20130716\n",
      "Data already saved in Numpy format, loading them from here:\n",
      "Rat08-20130716-neurons.npy\n",
      "Rat08-20130716-metadata.npy\n"
     ]
    },
    {
     "name": "stderr",
     "output_type": "stream",
     "text": [
      "100%|██████████████████████████████████████████████████████████████████████████| 25112/25112 [00:07<00:00, 3336.50it/s]\n"
     ]
    },
    {
     "name": "stdout",
     "output_type": "stream",
     "text": [
      "Rat : 8 on day : 9\n",
      "Working with session Rat08-20130717 @ E:/DATA/GG-Dataset/Rat08/Rat08-20130717\n",
      "Data already saved in Numpy format, loading them from here:\n",
      "Rat08-20130717-neurons.npy\n",
      "Rat08-20130717-metadata.npy\n"
     ]
    },
    {
     "name": "stderr",
     "output_type": "stream",
     "text": [
      "100%|██████████████████████████████████████████████████████████████████████████| 23243/23243 [00:06<00:00, 3415.66it/s]\n"
     ]
    },
    {
     "name": "stdout",
     "output_type": "stream",
     "text": [
      "Rat : 8 on day : 11\n",
      "Working with session Rat08-20130719 @ E:/DATA/GG-Dataset/Rat08/Rat08-20130719\n",
      "Data already saved in Numpy format, loading them from here:\n",
      "Rat08-20130719-neurons.npy\n",
      "Rat08-20130719-metadata.npy\n",
      "Rat09\n",
      "Rat : 9 on day : 1\n",
      "Working with session Rat09-20140324 @ E:/DATA/GG-Dataset/Rat09/Rat09-20140324\n",
      "Data already saved in Numpy format, loading them from here:\n",
      "Rat09-20140324-neurons.npy\n",
      "Rat09-20140324-metadata.npy\n"
     ]
    },
    {
     "name": "stderr",
     "output_type": "stream",
     "text": [
      "100%|██████████████████████████████████████████████████████████████████████████| 23930/23930 [00:09<00:00, 2498.36it/s]\n"
     ]
    },
    {
     "name": "stdout",
     "output_type": "stream",
     "text": [
      "Rat : 9 on day : 2\n",
      "Working with session Rat09-20140325 @ E:/DATA/GG-Dataset/Rat09/Rat09-20140325\n",
      "Data already saved in Numpy format, loading them from here:\n",
      "Rat09-20140325-neurons.npy\n",
      "Rat09-20140325-metadata.npy\n"
     ]
    },
    {
     "name": "stderr",
     "output_type": "stream",
     "text": [
      "100%|██████████████████████████████████████████████████████████████████████████| 20033/20033 [00:06<00:00, 3192.62it/s]\n"
     ]
    },
    {
     "name": "stdout",
     "output_type": "stream",
     "text": [
      "Rat : 9 on day : 3\n",
      "Working with session Rat09-20140326 @ E:/DATA/GG-Dataset/Rat09/Rat09-20140326\n",
      "Data already saved in Numpy format, loading them from here:\n",
      "Rat09-20140326-neurons.npy\n",
      "Rat09-20140326-metadata.npy\n"
     ]
    },
    {
     "name": "stderr",
     "output_type": "stream",
     "text": [
      "100%|██████████████████████████████████████████████████████████████████████████| 24306/24306 [00:13<00:00, 1797.85it/s]\n"
     ]
    },
    {
     "name": "stdout",
     "output_type": "stream",
     "text": [
      "Rat : 9 on day : 4\n",
      "Working with session Rat09-20140327 @ E:/DATA/GG-Dataset/Rat09/Rat09-20140327\n",
      "Data already saved in Numpy format, loading them from here:\n",
      "Rat09-20140327-neurons.npy\n",
      "Rat09-20140327-metadata.npy\n"
     ]
    },
    {
     "name": "stderr",
     "output_type": "stream",
     "text": [
      "100%|██████████████████████████████████████████████████████████████████████████| 27146/27146 [00:18<00:00, 1488.95it/s]\n"
     ]
    },
    {
     "name": "stdout",
     "output_type": "stream",
     "text": [
      "Rat : 9 on day : 5\n",
      "Working with session Rat09-20140328 @ E:/DATA/GG-Dataset/Rat09/Rat09-20140328\n",
      "Data already saved in Numpy format, loading them from here:\n",
      "Rat09-20140328-neurons.npy\n",
      "Rat09-20140328-metadata.npy\n"
     ]
    },
    {
     "name": "stderr",
     "output_type": "stream",
     "text": [
      "100%|██████████████████████████████████████████████████████████████████████████| 12660/12660 [00:06<00:00, 1855.37it/s]\n"
     ]
    },
    {
     "name": "stdout",
     "output_type": "stream",
     "text": [
      "Rat : 9 on day : 6\n",
      "Working with session Rat09-20140329 @ E:/DATA/GG-Dataset/Rat09/Rat09-20140329\n",
      "Data already saved in Numpy format, loading them from here:\n",
      "Rat09-20140329-neurons.npy\n",
      "Rat09-20140329-metadata.npy\n"
     ]
    },
    {
     "name": "stderr",
     "output_type": "stream",
     "text": [
      "100%|██████████████████████████████████████████████████████████████████████████| 20107/20107 [00:10<00:00, 1842.43it/s]\n"
     ]
    },
    {
     "name": "stdout",
     "output_type": "stream",
     "text": [
      "Rat : 9 on day : 7\n",
      "Working with session Rat09-20140331 @ E:/DATA/GG-Dataset/Rat09/Rat09-20140331\n",
      "Data already saved in Numpy format, loading them from here:\n",
      "Rat09-20140331-neurons.npy\n",
      "Rat09-20140331-metadata.npy\n"
     ]
    },
    {
     "name": "stderr",
     "output_type": "stream",
     "text": [
      "100%|██████████████████████████████████████████████████████████████████████████| 23949/23949 [00:09<00:00, 2625.47it/s]\n"
     ]
    },
    {
     "name": "stdout",
     "output_type": "stream",
     "text": [
      "Rat : 9 on day : 8\n",
      "Working with session Rat09-20140401 @ E:/DATA/GG-Dataset/Rat09/Rat09-20140401\n",
      "Data already saved in Numpy format, loading them from here:\n",
      "Rat09-20140401-neurons.npy\n",
      "Rat09-20140401-metadata.npy\n"
     ]
    },
    {
     "name": "stderr",
     "output_type": "stream",
     "text": [
      "100%|██████████████████████████████████████████████████████████████████████████| 21826/21826 [00:07<00:00, 2773.97it/s]\n"
     ]
    },
    {
     "name": "stdout",
     "output_type": "stream",
     "text": [
      "Rat : 9 on day : 9\n",
      "Working with session Rat09-20140402 @ E:/DATA/GG-Dataset/Rat09/Rat09-20140402\n",
      "Data already saved in Numpy format, loading them from here:\n",
      "Rat09-20140402-neurons.npy\n",
      "Rat09-20140402-metadata.npy\n"
     ]
    },
    {
     "name": "stderr",
     "output_type": "stream",
     "text": [
      "100%|██████████████████████████████████████████████████████████████████████████| 23074/23074 [00:07<00:00, 3178.12it/s]\n"
     ]
    },
    {
     "name": "stdout",
     "output_type": "stream",
     "text": [
      "Rat : 9 on day : 10\n",
      "Working with session Rat09-20140403 @ E:/DATA/GG-Dataset/Rat09/Rat09-20140403\n",
      "Data already saved in Numpy format, loading them from here:\n",
      "Rat09-20140403-neurons.npy\n",
      "Rat09-20140403-metadata.npy\n",
      "Rat : 9 on day : 11\n",
      "Working with session Rat09-20140404 @ E:/DATA/GG-Dataset/Rat09/Rat09-20140404\n",
      "Data already saved in Numpy format, loading them from here:\n",
      "Rat09-20140404-neurons.npy\n",
      "Rat09-20140404-metadata.npy\n",
      "Rat : 9 on day : 12\n",
      "Working with session Rat09-20140405 @ E:/DATA/GG-Dataset/Rat09/Rat09-20140405\n",
      "Data already saved in Numpy format, loading them from here:\n",
      "Rat09-20140405-neurons.npy\n",
      "Rat09-20140405-metadata.npy\n",
      "Rat : 9 on day : 13\n",
      "Working with session Rat09-20140407 @ E:/DATA/GG-Dataset/Rat09/Rat09-20140407\n",
      "Data already saved in Numpy format, loading them from here:\n",
      "Rat09-20140407-neurons.npy\n",
      "Rat09-20140407-metadata.npy\n",
      "Rat10\n",
      "Rat : 10 on day : 4\n",
      "Working with session Rat10-20140624 @ E:/DATA/GG-Dataset/Rat10/Rat10-20140624\n",
      "Data already saved in Numpy format, loading them from here:\n",
      "Rat10-20140624-neurons.npy\n",
      "Rat10-20140624-metadata.npy\n"
     ]
    },
    {
     "name": "stderr",
     "output_type": "stream",
     "text": [
      "100%|██████████████████████████████████████████████████████████████████████████| 20018/20018 [00:05<00:00, 3480.35it/s]\n"
     ]
    },
    {
     "name": "stdout",
     "output_type": "stream",
     "text": [
      "Rat : 10 on day : 5\n",
      "Working with session Rat10-20140626 @ E:/DATA/GG-Dataset/Rat10/Rat10-20140626\n",
      "Data already saved in Numpy format, loading them from here:\n",
      "Rat10-20140626-neurons.npy\n",
      "Rat10-20140626-metadata.npy\n"
     ]
    },
    {
     "name": "stderr",
     "output_type": "stream",
     "text": [
      "100%|██████████████████████████████████████████████████████████████████████████| 17838/17838 [00:06<00:00, 2698.18it/s]\n"
     ]
    },
    {
     "name": "stdout",
     "output_type": "stream",
     "text": [
      "Rat : 10 on day : 6\n",
      "Working with session Rat10-20140627 @ E:/DATA/GG-Dataset/Rat10/Rat10-20140627\n",
      "Data already saved in Numpy format, loading them from here:\n",
      "Rat10-20140627-neurons.npy\n",
      "Rat10-20140627-metadata.npy\n",
      "Rat : 10 on day : 7\n",
      "Working with session Rat10-20140628 @ E:/DATA/GG-Dataset/Rat10/Rat10-20140628\n",
      "Data already saved in Numpy format, loading them from here:\n",
      "Rat10-20140628-neurons.npy\n",
      "Rat10-20140628-metadata.npy\n"
     ]
    },
    {
     "name": "stderr",
     "output_type": "stream",
     "text": [
      "100%|██████████████████████████████████████████████████████████████████████████| 21646/21646 [00:06<00:00, 3271.68it/s]\n"
     ]
    },
    {
     "name": "stdout",
     "output_type": "stream",
     "text": [
      "Rat : 10 on day : 8\n",
      "Working with session Rat10-20140629 @ E:/DATA/GG-Dataset/Rat10/Rat10-20140629\n",
      "Data already saved in Numpy format, loading them from here:\n",
      "Rat10-20140629-neurons.npy\n",
      "Rat10-20140629-metadata.npy\n",
      "Rat : 10 on day : 9\n",
      "Working with session Rat10-20140701 @ E:/DATA/GG-Dataset/Rat10/Rat10-20140701\n",
      "Data already saved in Numpy format, loading them from here:\n",
      "Rat10-20140701-neurons.npy\n",
      "Rat10-20140701-metadata.npy\n",
      "Rat : 10 on day : 10\n",
      "Working with session Rat10-20140702 @ E:/DATA/GG-Dataset/Rat10/Rat10-20140702\n",
      "Data already saved in Numpy format, loading them from here:\n",
      "Rat10-20140702-neurons.npy\n",
      "Rat10-20140702-metadata.npy\n",
      "Rat : 10 on day : 11\n",
      "Working with session Rat10-20140703 @ E:/DATA/GG-Dataset/Rat10/Rat10-20140703\n",
      "Data already saved in Numpy format, loading them from here:\n",
      "Rat10-20140703-neurons.npy\n",
      "Rat10-20140703-metadata.npy\n",
      "Rat : 10 on day : 12\n",
      "Working with session Rat10-20140704 @ E:/DATA/GG-Dataset/Rat10/Rat10-20140704\n",
      "Data already saved in Numpy format, loading them from here:\n",
      "Rat10-20140704-neurons.npy\n",
      "Rat10-20140704-metadata.npy\n",
      "Rat : 10 on day : 13\n",
      "Working with session Rat10-20140705 @ E:/DATA/GG-Dataset/Rat10/Rat10-20140705\n",
      "Data already saved in Numpy format, loading them from here:\n",
      "Rat10-20140705-neurons.npy\n",
      "Rat10-20140705-metadata.npy\n",
      "Rat : 10 on day : 14\n",
      "Working with session Rat10-20140707 @ E:/DATA/GG-Dataset/Rat10/Rat10-20140707\n",
      "Data already saved in Numpy format, loading them from here:\n",
      "Rat10-20140707-neurons.npy\n",
      "Rat10-20140707-metadata.npy\n",
      "Rat11\n",
      "Rat : 11 on day : 2\n",
      "Working with session Rat11-20150310 @ E:/DATA/GG-Dataset/Rat11/Rat11-20150310\n",
      "Data already saved in Numpy format, loading them from here:\n",
      "Rat11-20150310-neurons.npy\n",
      "Rat11-20150310-metadata.npy\n",
      "Rat : 11 on day : 3\n",
      "Working with session Rat11-20150312 @ E:/DATA/GG-Dataset/Rat11/Rat11-20150312\n",
      "Data already saved in Numpy format, loading them from here:\n",
      "Rat11-20150312-neurons.npy\n",
      "Rat11-20150312-metadata.npy\n",
      "Rat : 11 on day : 4\n",
      "Working with session Rat11-20150313 @ E:/DATA/GG-Dataset/Rat11/Rat11-20150313\n",
      "Data already saved in Numpy format, loading them from here:\n",
      "Rat11-20150313-neurons.npy\n",
      "Rat11-20150313-metadata.npy\n",
      "Rat : 11 on day : 5\n",
      "Working with session Rat11-20150314 @ E:/DATA/GG-Dataset/Rat11/Rat11-20150314\n",
      "Data already saved in Numpy format, loading them from here:\n",
      "Rat11-20150314-neurons.npy\n",
      "Rat11-20150314-metadata.npy\n",
      "Rat : 11 on day : 6\n",
      "Working with session Rat11-20150315 @ E:/DATA/GG-Dataset/Rat11/Rat11-20150315\n",
      "Data already saved in Numpy format, loading them from here:\n",
      "Rat11-20150315-neurons.npy\n",
      "Rat11-20150315-metadata.npy\n",
      "Rat : 11 on day : 7\n",
      "Working with session Rat11-20150316 @ E:/DATA/GG-Dataset/Rat11/Rat11-20150316\n",
      "Data already saved in Numpy format, loading them from here:\n",
      "Rat11-20150316-neurons.npy\n",
      "Rat11-20150316-metadata.npy\n",
      "Rat : 11 on day : 8\n",
      "Working with session Rat11-20150317 @ E:/DATA/GG-Dataset/Rat11/Rat11-20150317\n",
      "Data already saved in Numpy format, loading them from here:\n",
      "Rat11-20150317-neurons.npy\n",
      "Rat11-20150317-metadata.npy\n",
      "Rat : 11 on day : 11\n",
      "Working with session Rat11-20150321 @ E:/DATA/GG-Dataset/Rat11/Rat11-20150321\n",
      "Data already saved in Numpy format, loading them from here:\n",
      "Rat11-20150321-neurons.npy\n",
      "Rat11-20150321-metadata.npy\n"
     ]
    },
    {
     "name": "stderr",
     "output_type": "stream",
     "text": [
      "100%|██████████████████████████████████████████████████████████████████████████| 20649/20649 [00:05<00:00, 3686.80it/s]\n"
     ]
    },
    {
     "name": "stdout",
     "output_type": "stream",
     "text": [
      "Rat : 11 on day : 12\n",
      "Working with session Rat11-20150323 @ E:/DATA/GG-Dataset/Rat11/Rat11-20150323\n",
      "Data already saved in Numpy format, loading them from here:\n",
      "Rat11-20150323-neurons.npy\n",
      "Rat11-20150323-metadata.npy\n"
     ]
    },
    {
     "name": "stderr",
     "output_type": "stream",
     "text": [
      "100%|██████████████████████████████████████████████████████████████████████████| 24290/24290 [00:09<00:00, 2670.36it/s]\n"
     ]
    },
    {
     "name": "stdout",
     "output_type": "stream",
     "text": [
      "Rat : 11 on day : 14\n",
      "Working with session Rat11-20150325 @ E:/DATA/GG-Dataset/Rat11/Rat11-20150325\n",
      "Data already saved in Numpy format, loading them from here:\n",
      "Rat11-20150325-neurons.npy\n",
      "Rat11-20150325-metadata.npy\n"
     ]
    },
    {
     "name": "stderr",
     "output_type": "stream",
     "text": [
      "100%|██████████████████████████████████████████████████████████████████████████| 26214/26214 [00:15<00:00, 1702.89it/s]\n"
     ]
    },
    {
     "name": "stdout",
     "output_type": "stream",
     "text": [
      "Rat : 11 on day : 15\n",
      "Working with session Rat11-20150326 @ E:/DATA/GG-Dataset/Rat11/Rat11-20150326\n",
      "Data already saved in Numpy format, loading them from here:\n",
      "Rat11-20150326-neurons.npy\n",
      "Rat11-20150326-metadata.npy\n"
     ]
    },
    {
     "name": "stderr",
     "output_type": "stream",
     "text": [
      "100%|██████████████████████████████████████████████████████████████████████████| 23205/23205 [00:17<00:00, 1303.49it/s]\n"
     ]
    },
    {
     "name": "stdout",
     "output_type": "stream",
     "text": [
      "Rat : 11 on day : 16\n",
      "Working with session Rat11-20150327 @ E:/DATA/GG-Dataset/Rat11/Rat11-20150327\n",
      "Data already saved in Numpy format, loading them from here:\n",
      "Rat11-20150327-neurons.npy\n",
      "Rat11-20150327-metadata.npy\n"
     ]
    },
    {
     "name": "stderr",
     "output_type": "stream",
     "text": [
      "100%|██████████████████████████████████████████████████████████████████████████| 25025/25025 [00:16<00:00, 1529.70it/s]\n"
     ]
    },
    {
     "name": "stdout",
     "output_type": "stream",
     "text": [
      "Rat : 11 on day : 17\n",
      "Working with session Rat11-20150328 @ E:/DATA/GG-Dataset/Rat11/Rat11-20150328\n",
      "Data already saved in Numpy format, loading them from here:\n",
      "Rat11-20150328-neurons.npy\n",
      "Rat11-20150328-metadata.npy\n"
     ]
    },
    {
     "name": "stderr",
     "output_type": "stream",
     "text": [
      "100%|██████████████████████████████████████████████████████████████████████████| 25003/25003 [00:10<00:00, 2310.55it/s]\n"
     ]
    },
    {
     "name": "stdout",
     "output_type": "stream",
     "text": [
      "Rat : 11 on day : 18\n",
      "Working with session Rat11-20150330 @ E:/DATA/GG-Dataset/Rat11/Rat11-20150330\n",
      "Data already saved in Numpy format, loading them from here:\n",
      "Rat11-20150330-neurons.npy\n",
      "Rat11-20150330-metadata.npy\n"
     ]
    },
    {
     "name": "stderr",
     "output_type": "stream",
     "text": [
      "100%|██████████████████████████████████████████████████████████████████████████| 22385/22385 [00:06<00:00, 3326.42it/s]\n"
     ]
    },
    {
     "name": "stdout",
     "output_type": "stream",
     "text": [
      "Rat : 11 on day : 19\n",
      "Working with session Rat11-20150331 @ E:/DATA/GG-Dataset/Rat11/Rat11-20150331\n",
      "Data already saved in Numpy format, loading them from here:\n",
      "Rat11-20150331-neurons.npy\n",
      "Rat11-20150331-metadata.npy\n"
     ]
    },
    {
     "name": "stderr",
     "output_type": "stream",
     "text": [
      "100%|██████████████████████████████████████████████████████████████████████████| 22776/22776 [00:06<00:00, 3574.29it/s]\n"
     ]
    },
    {
     "name": "stdout",
     "output_type": "stream",
     "text": [
      "Rat : 11 on day : 21\n",
      "Working with session Rat11-20150402 @ E:/DATA/GG-Dataset/Rat11/Rat11-20150402\n",
      "Data already saved in Numpy format, loading them from here:\n",
      "Rat11-20150402-neurons.npy\n",
      "Rat11-20150402-metadata.npy\n",
      "Rat : 11 on day : 22\n",
      "Working with session Rat11-20150403 @ E:/DATA/GG-Dataset/Rat11/Rat11-20150403\n",
      "Data already saved in Numpy format, loading them from here:\n",
      "Rat11-20150403-neurons.npy\n",
      "Rat11-20150403-metadata.npy\n"
     ]
    }
   ],
   "source": [
    "rats = ['Rat08', 'Rat09','Rat10', 'Rat11']\n",
    "to_ignore = ['Rat08-20130720', \n",
    "             'Rat08-20130722', \n",
    "             'Rat08-20130718',\n",
    "             \"Rat09-20140408\",\n",
    "             \"Rat09-20140409\",\n",
    "             \"Rat10-20140619\",\n",
    "             \"Rat10-20140620\",\n",
    "             \"Rat10-20140622\",\n",
    "             \"Rat10-20140708\",\n",
    "             \"Rat11-20150309\",\n",
    "             \"Rat11-20150318\",\n",
    "             \"Rat11-20150318\",\n",
    "             \"Rat11-20150319\", \n",
    "             \"Rat11-20150324\", \n",
    "             \"Rat11-20150401\"]\n",
    "\n",
    "trans = {'Rem before transition': [], \n",
    "        'Rem after transition': [],\n",
    "         'Rem': [],\n",
    "        'sws before transition' : [], \n",
    "        'sws after transition': [],\n",
    "        'sws': []}\n",
    "\n",
    "for rat in rats:\n",
    "    print(rat)\n",
    "    os.chdir(f'E:/DATA/GG-Dataset/{rat}/')\n",
    "    means =[]\n",
    "    \n",
    "    for i in os.listdir(f'E:/DATA/GG-Dataset/{rat}/'):\n",
    "        if i.endswith('.mat') or i in to_ignore:\n",
    "            continue\n",
    "        \n",
    "        local_path= f'{rat}/{i}'\n",
    "        bk.load.current_session_linux(base_folder= 'E:/DATA/GG-Dataset/',local_path= local_path)\n",
    "        states = bk.load.states() \n",
    "        if states['Rem'].tot_length()/1_000_000 < 100 or states['sws'].tot_length()/1_000_000 < 100: \n",
    "            continue\n",
    "        neurons,metadata = bk.load.spikes() \n",
    "\n",
    "        neurons_pyr_bla = neurons[(metadata['Type'] == 'Pyr') & (metadata['Region'] == 'BLA')]\n",
    "        if len(neurons_pyr_bla) < 20: \n",
    "            continue\n",
    "            \n",
    "        mean_sync = mean_synchrony(neurons_pyr_bla)\n",
    "        mean_sync = bk.compute.nts_smooth(mean_sync, 100,50)\n",
    "        \n",
    "        transitions = bk.compute.transitions_times(states)\n",
    "        transitions_rem_sws = transitions[1][('Rem', 'sws')].index.values\n",
    "        transitions_sws_rem = transitions[1][('sws', 'Rem')].index.values\n",
    "\n",
    "        for i  in transitions_rem_sws:\n",
    "            interval_rem = nts.IntervalSet(i-10_000_000, i, time_units='us')\n",
    "            trans['Rem before transition'].append(np.mean(mean_sync.restrict(interval_rem).values))\n",
    "            interval_sws = nts.IntervalSet(i, i+10_000_000, time_units='us')\n",
    "            trans['sws after transition'].append(np.mean(mean_sync.restrict(interval_sws).values))\n",
    "\n",
    "        for i  in transitions_sws_rem:\n",
    "            interval_sws = nts.IntervalSet(i-10_000_000, i, time_units='us')\n",
    "            trans['sws before transition'].append(np.mean(mean_sync.restrict(interval_sws).values))\n",
    "            interval_rem = nts.IntervalSet(i, i+10_000_000, time_units='us')\n",
    "            trans['Rem after transition'].append(np.mean(mean_sync.restrict(interval_rem).values))\n",
    "\n",
    "        for i, j  in zip(states['Rem'].as_units('s').start, states['Rem'].as_units('s').end):\n",
    "            interval = nts.IntervalSet(i,j, time_units='s')\n",
    "            trans['Rem'].append(np.mean(mean_sync.restrict(interval).values))\n",
    "\n",
    "        for i, j  in zip(states['sws'].as_units('s').start, states['sws'].as_units('s').end):\n",
    "            interval = nts.IntervalSet(i,j, time_units='s')\n",
    "            trans['sws'].append(np.mean(mean_sync.restrict(interval).values))\n",
    "\n",
    "trans = pd.DataFrame(dict([ (k,pd.Series(v)) for k,v in trans.items() ]))"
   ]
  },
  {
   "cell_type": "code",
   "execution_count": 38,
   "id": "1e4813bc",
   "metadata": {},
   "outputs": [
    {
     "data": {
      "text/html": [
       "<div>\n",
       "<style scoped>\n",
       "    .dataframe tbody tr th:only-of-type {\n",
       "        vertical-align: middle;\n",
       "    }\n",
       "\n",
       "    .dataframe tbody tr th {\n",
       "        vertical-align: top;\n",
       "    }\n",
       "\n",
       "    .dataframe thead th {\n",
       "        text-align: right;\n",
       "    }\n",
       "</style>\n",
       "<table border=\"1\" class=\"dataframe\">\n",
       "  <thead>\n",
       "    <tr style=\"text-align: right;\">\n",
       "      <th></th>\n",
       "      <th>Rem before transition</th>\n",
       "      <th>Rem after transition</th>\n",
       "      <th>Rem</th>\n",
       "      <th>sws before transition</th>\n",
       "      <th>sws after transition</th>\n",
       "      <th>sws</th>\n",
       "    </tr>\n",
       "  </thead>\n",
       "  <tbody>\n",
       "    <tr>\n",
       "      <th>0</th>\n",
       "      <td>0.051081</td>\n",
       "      <td>0.050926</td>\n",
       "      <td>0.051378</td>\n",
       "      <td>0.051466</td>\n",
       "      <td>0.050442</td>\n",
       "      <td>0.055960</td>\n",
       "    </tr>\n",
       "    <tr>\n",
       "      <th>1</th>\n",
       "      <td>0.051700</td>\n",
       "      <td>0.050512</td>\n",
       "      <td>0.050401</td>\n",
       "      <td>0.051024</td>\n",
       "      <td>0.050501</td>\n",
       "      <td>0.054073</td>\n",
       "    </tr>\n",
       "    <tr>\n",
       "      <th>2</th>\n",
       "      <td>0.053376</td>\n",
       "      <td>0.056376</td>\n",
       "      <td>0.051836</td>\n",
       "      <td>0.057697</td>\n",
       "      <td>0.054289</td>\n",
       "      <td>0.057971</td>\n",
       "    </tr>\n",
       "    <tr>\n",
       "      <th>3</th>\n",
       "      <td>0.063059</td>\n",
       "      <td>0.053338</td>\n",
       "      <td>0.051481</td>\n",
       "      <td>0.054054</td>\n",
       "      <td>0.060635</td>\n",
       "      <td>0.061147</td>\n",
       "    </tr>\n",
       "    <tr>\n",
       "      <th>4</th>\n",
       "      <td>0.052149</td>\n",
       "      <td>0.050869</td>\n",
       "      <td>0.051300</td>\n",
       "      <td>0.050258</td>\n",
       "      <td>0.054085</td>\n",
       "      <td>0.058583</td>\n",
       "    </tr>\n",
       "    <tr>\n",
       "      <th>...</th>\n",
       "      <td>...</td>\n",
       "      <td>...</td>\n",
       "      <td>...</td>\n",
       "      <td>...</td>\n",
       "      <td>...</td>\n",
       "      <td>...</td>\n",
       "    </tr>\n",
       "    <tr>\n",
       "      <th>616</th>\n",
       "      <td>NaN</td>\n",
       "      <td>NaN</td>\n",
       "      <td>NaN</td>\n",
       "      <td>NaN</td>\n",
       "      <td>NaN</td>\n",
       "      <td>NaN</td>\n",
       "    </tr>\n",
       "    <tr>\n",
       "      <th>617</th>\n",
       "      <td>NaN</td>\n",
       "      <td>NaN</td>\n",
       "      <td>NaN</td>\n",
       "      <td>NaN</td>\n",
       "      <td>NaN</td>\n",
       "      <td>0.180600</td>\n",
       "    </tr>\n",
       "    <tr>\n",
       "      <th>618</th>\n",
       "      <td>NaN</td>\n",
       "      <td>NaN</td>\n",
       "      <td>NaN</td>\n",
       "      <td>NaN</td>\n",
       "      <td>NaN</td>\n",
       "      <td>NaN</td>\n",
       "    </tr>\n",
       "    <tr>\n",
       "      <th>619</th>\n",
       "      <td>NaN</td>\n",
       "      <td>NaN</td>\n",
       "      <td>NaN</td>\n",
       "      <td>NaN</td>\n",
       "      <td>NaN</td>\n",
       "      <td>NaN</td>\n",
       "    </tr>\n",
       "    <tr>\n",
       "      <th>620</th>\n",
       "      <td>NaN</td>\n",
       "      <td>NaN</td>\n",
       "      <td>NaN</td>\n",
       "      <td>NaN</td>\n",
       "      <td>NaN</td>\n",
       "      <td>0.149345</td>\n",
       "    </tr>\n",
       "  </tbody>\n",
       "</table>\n",
       "<p>621 rows × 6 columns</p>\n",
       "</div>"
      ],
      "text/plain": [
       "     Rem before transition  Rem after transition       Rem  \\\n",
       "0                 0.051081              0.050926  0.051378   \n",
       "1                 0.051700              0.050512  0.050401   \n",
       "2                 0.053376              0.056376  0.051836   \n",
       "3                 0.063059              0.053338  0.051481   \n",
       "4                 0.052149              0.050869  0.051300   \n",
       "..                     ...                   ...       ...   \n",
       "616                    NaN                   NaN       NaN   \n",
       "617                    NaN                   NaN       NaN   \n",
       "618                    NaN                   NaN       NaN   \n",
       "619                    NaN                   NaN       NaN   \n",
       "620                    NaN                   NaN       NaN   \n",
       "\n",
       "     sws before transition  sws after transition       sws  \n",
       "0                 0.051466              0.050442  0.055960  \n",
       "1                 0.051024              0.050501  0.054073  \n",
       "2                 0.057697              0.054289  0.057971  \n",
       "3                 0.054054              0.060635  0.061147  \n",
       "4                 0.050258              0.054085  0.058583  \n",
       "..                     ...                   ...       ...  \n",
       "616                    NaN                   NaN       NaN  \n",
       "617                    NaN                   NaN  0.180600  \n",
       "618                    NaN                   NaN       NaN  \n",
       "619                    NaN                   NaN       NaN  \n",
       "620                    NaN                   NaN  0.149345  \n",
       "\n",
       "[621 rows x 6 columns]"
      ]
     },
     "execution_count": 38,
     "metadata": {},
     "output_type": "execute_result"
    }
   ],
   "source": [
    "trans"
   ]
  },
  {
   "cell_type": "code",
   "execution_count": 45,
   "id": "265f41cb",
   "metadata": {},
   "outputs": [
    {
     "data": {
      "text/plain": [
       "KruskalResult(statistic=2.6222440264796205, pvalue=0.1053753245150037)"
      ]
     },
     "execution_count": 45,
     "metadata": {},
     "output_type": "execute_result"
    }
   ],
   "source": [
    "sp.stats.kruskal(trans['sws'], trans['Rem'], nan_policy='omit')"
   ]
  },
  {
   "cell_type": "code",
   "execution_count": 23,
   "id": "7b064768",
   "metadata": {},
   "outputs": [],
   "source": [
    "t = synchrony_around_transitions(transitions, mean_sync_pyr_bla_s)"
   ]
  },
  {
   "cell_type": "code",
   "execution_count": 13,
   "id": "704e96f0",
   "metadata": {},
   "outputs": [
    {
     "name": "stderr",
     "output_type": "stream",
     "text": [
      "C:\\Users\\maell\\anaconda3\\lib\\site-packages\\seaborn\\categorical.py:1296: UserWarning: 14.8% of the points cannot be placed; you may want to decrease the size of the markers or use stripplot.\n",
      "  warnings.warn(msg, UserWarning)\n",
      "C:\\Users\\maell\\anaconda3\\lib\\site-packages\\seaborn\\categorical.py:1296: UserWarning: 17.1% of the points cannot be placed; you may want to decrease the size of the markers or use stripplot.\n",
      "  warnings.warn(msg, UserWarning)\n",
      "C:\\Users\\maell\\anaconda3\\lib\\site-packages\\seaborn\\categorical.py:1296: UserWarning: 15.1% of the points cannot be placed; you may want to decrease the size of the markers or use stripplot.\n",
      "  warnings.warn(msg, UserWarning)\n",
      "C:\\Users\\maell\\anaconda3\\lib\\site-packages\\seaborn\\categorical.py:1296: UserWarning: 46.2% of the points cannot be placed; you may want to decrease the size of the markers or use stripplot.\n",
      "  warnings.warn(msg, UserWarning)\n"
     ]
    },
    {
     "data": {
      "text/plain": [
       "<AxesSubplot:>"
      ]
     },
     "execution_count": 13,
     "metadata": {},
     "output_type": "execute_result"
    }
   ],
   "source": [
    "sns.boxplot(data = trans, whis=np.inf)\n",
    "sns.swarmplot(data = trans, color=\".2\")\n",
    "#plt.savefig('C:/Users/maell/Documents/ENS/Cours/M2/S1/TINS/Figure/means_synchrony_rem_sws.svg')"
   ]
  },
  {
   "cell_type": "code",
   "execution_count": 51,
   "id": "0d760ee5",
   "metadata": {},
   "outputs": [
    {
     "data": {
      "text/plain": [
       "[<matplotlib.lines.Line2D at 0x1dd22625d60>]"
      ]
     },
     "execution_count": 51,
     "metadata": {},
     "output_type": "execute_result"
    }
   ],
   "source": [
    "means =[]\n",
    "fig, ax = plt.subplots()\n",
    "for i  in transitions_sws_rem:\n",
    "    interval = nts.IntervalSet(i-150_000_000, i+ 50_000_000, time_units='us')\n",
    "    m = mean_sync_pyr_bla.restrict(interval).values\n",
    "    means.append(m)\n",
    "    plt.plot(m, color = 'grey', alpha = 0.3)\n",
    "a = mpatches.Rectangle((150,0), 50, 0.3, facecolor = 'orange', alpha = 0.5)\n",
    "ax.add_patch(a)\n",
    "mean = np.mean(means, axis=0)\n",
    "plt.plot(mean, color = 'r', linewidth=4)"
   ]
  },
  {
   "cell_type": "code",
   "execution_count": 156,
   "id": "fb9f8e6b",
   "metadata": {},
   "outputs": [
    {
     "name": "stderr",
     "output_type": "stream",
     "text": [
      "C:\\Users\\maell\\anaconda3\\lib\\site-packages\\numpy\\core\\fromnumeric.py:3440: RuntimeWarning: Mean of empty slice.\n",
      "  return _methods._mean(a, axis=axis, dtype=dtype,\n",
      "C:\\Users\\maell\\anaconda3\\lib\\site-packages\\numpy\\core\\_methods.py:189: RuntimeWarning: invalid value encountered in double_scalars\n",
      "  ret = ret.dtype.type(ret / rcount)\n"
     ]
    }
   ],
   "source": [
    "trans = {'Rem before transition': [], \n",
    "        'Rem after transition': [],\n",
    "         'Rem': [],\n",
    "        'sws before transition' : [], \n",
    "        'sws after transition': [],\n",
    "        'sws': []}\n",
    "for i  in transitions_rem_sws:\n",
    "    interval_rem = nts.IntervalSet(i-10_000_000, i, time_units='s')\n",
    "    trans['Rem before transition'].append(np.mean(mean_sync_pyr_bla.restrict(interval_rem).values))\n",
    "    interval_sws = nts.IntervalSet(i, i+10_000_000, time_units='s')\n",
    "    trans['sws after transition'].append(np.mean(mean_sync_pyr_hpc.restrict(interval_sws).values))\n",
    "    \n",
    "for i  in transitions_sws_rem:\n",
    "    interval_sws = nts.IntervalSet(i-10_000_000, i, time_units='s')\n",
    "    trans['sws before transition'].append(np.mean(mean_sync_pyr_bla.restrict(interval_sws).values))\n",
    "    interval_rem = nts.IntervalSet(i, i+10_000_000, time_units='s')\n",
    "    trans['Rem after transition'].append(np.mean(mean_sync_pyr_hpc.restrict(interval_rem).values))\n",
    "    \n",
    "for i, j  in zip(states['Rem'].as_units('s').start, states['Rem'].as_units('s').end):\n",
    "    interval = nts.IntervalSet(i,j, time_units='s')\n",
    "    trans['Rem'].append(np.mean(mean_sync_pyr_bla.restrict(interval).values))\n",
    "    \n",
    "for i, j  in zip(states['sws'].as_units('s').start, states['sws'].as_units('s').end):\n",
    "    interval = nts.IntervalSet(i,j, time_units='s')\n",
    "    trans['sws'].append(np.mean(mean_sync_pyr_bla.restrict(interval).values))"
   ]
  },
  {
   "cell_type": "markdown",
   "id": "72f52a9c",
   "metadata": {},
   "source": [
    "## Get the distribution of the Pearson's correlation coefficients "
   ]
  },
  {
   "cell_type": "code",
   "execution_count": 27,
   "id": "4e664a6f",
   "metadata": {
    "collapsed": true,
    "jupyter": {
     "outputs_hidden": true
    }
   },
   "outputs": [
    {
     "name": "stdout",
     "output_type": "stream",
     "text": [
      "Rat08/Rat08-20130713\n",
      "Rat : 8 on day : 6\n",
      "Working with session Rat08-20130713 @ E:/DATA/GG-Dataset/Rat08/Rat08-20130713\n",
      "Data already saved in Numpy format, loading them from here:\n",
      "Rat08-20130713-neurons.npy\n",
      "Rat08-20130713-metadata.npy\n",
      "total duration Rem 2371.0\n"
     ]
    },
    {
     "name": "stderr",
     "output_type": "stream",
     "text": [
      "  0%|                                                                                        | 0/22679 [00:00<?, ?it/s]C:\\Users\\maell\\anaconda3\\lib\\site-packages\\numpy\\lib\\function_base.py:2691: RuntimeWarning: invalid value encountered in true_divide\n",
      "  c /= stddev[:, None]\n",
      "C:\\Users\\maell\\anaconda3\\lib\\site-packages\\numpy\\lib\\function_base.py:2692: RuntimeWarning: invalid value encountered in true_divide\n",
      "  c /= stddev[None, :]\n",
      "100%|██████████████████████████████████████████████████████████████████████████| 22679/22679 [00:13<00:00, 1661.47it/s]\n",
      "100%|█████████████████████████████████████████████████████████████████████████| 22679/22679 [00:00<00:00, 37741.72it/s]\n"
     ]
    },
    {
     "name": "stdout",
     "output_type": "stream",
     "text": [
      "Rat08/Rat08-20130708\n",
      "Rat : 8 on day : 1\n",
      "Working with session Rat08-20130708 @ E:/DATA/GG-Dataset/Rat08/Rat08-20130708\n",
      "Data already saved in Numpy format, loading them from here:\n",
      "Rat08-20130708-neurons.npy\n",
      "Rat08-20130708-metadata.npy\n",
      "total duration Rem 1604.0\n",
      "NOT ENOUGH NEURONS\n",
      "Rat08/Rat08-20130709\n",
      "Rat : 8 on day : 2\n",
      "Working with session Rat08-20130709 @ E:/DATA/GG-Dataset/Rat08/Rat08-20130709\n",
      "Data already saved in Numpy format, loading them from here:\n",
      "Rat08-20130709-neurons.npy\n",
      "Rat08-20130709-metadata.npy\n",
      "total duration Rem 1930.0\n"
     ]
    },
    {
     "name": "stderr",
     "output_type": "stream",
     "text": [
      " 21%|███████████████▉                                                           | 5405/25510 [00:03<00:11, 1824.09it/s]C:\\Users\\maell\\AppData\\Local\\Temp/ipykernel_20972/1913985095.py:31: RuntimeWarning: Mean of empty slice\n",
      "  mean_sync[i] = np.nanmean(corrcoef) #compute the mean of corrcoef for each window, disregarding the nan\n",
      "100%|██████████████████████████████████████████████████████████████████████████| 25510/25510 [00:14<00:00, 1782.35it/s]\n",
      "100%|█████████████████████████████████████████████████████████████████████████| 25510/25510 [00:00<00:00, 33316.89it/s]\n"
     ]
    },
    {
     "name": "stdout",
     "output_type": "stream",
     "text": [
      "Rat08/Rat08-20130710\n",
      "Rat : 8 on day : 3\n",
      "Working with session Rat08-20130710 @ E:/DATA/GG-Dataset/Rat08/Rat08-20130710\n",
      "Data already saved in Numpy format, loading them from here:\n",
      "Rat08-20130710-neurons.npy\n",
      "Rat08-20130710-metadata.npy\n",
      "total duration Rem 1480.0\n"
     ]
    },
    {
     "name": "stderr",
     "output_type": "stream",
     "text": [
      "100%|██████████████████████████████████████████████████████████████████████████| 25195/25195 [00:13<00:00, 1883.74it/s]\n",
      "100%|█████████████████████████████████████████████████████████████████████████| 25195/25195 [00:00<00:00, 28078.70it/s]\n"
     ]
    },
    {
     "name": "stdout",
     "output_type": "stream",
     "text": [
      "Rat08/Rat08-20130711\n",
      "Rat : 8 on day : 4\n",
      "Working with session Rat08-20130711 @ E:/DATA/GG-Dataset/Rat08/Rat08-20130711\n",
      "Data already saved in Numpy format, loading them from here:\n",
      "Rat08-20130711-neurons.npy\n",
      "Rat08-20130711-metadata.npy\n",
      "total duration Rem 1043.0\n"
     ]
    },
    {
     "name": "stderr",
     "output_type": "stream",
     "text": [
      "100%|██████████████████████████████████████████████████████████████████████████| 21867/21867 [00:12<00:00, 1793.22it/s]\n",
      "100%|█████████████████████████████████████████████████████████████████████████| 21867/21867 [00:00<00:00, 33152.39it/s]\n"
     ]
    },
    {
     "name": "stdout",
     "output_type": "stream",
     "text": [
      "Rat08/Rat08-20130712\n",
      "Rat : 8 on day : 5\n",
      "Working with session Rat08-20130712 @ E:/DATA/GG-Dataset/Rat08/Rat08-20130712\n",
      "Data already saved in Numpy format, loading them from here:\n",
      "Rat08-20130712-neurons.npy\n",
      "Rat08-20130712-metadata.npy\n",
      "total duration Rem 624.0\n"
     ]
    },
    {
     "name": "stderr",
     "output_type": "stream",
     "text": [
      "100%|██████████████████████████████████████████████████████████████████████████| 23980/23980 [00:11<00:00, 2158.68it/s]\n",
      "100%|█████████████████████████████████████████████████████████████████████████| 23980/23980 [00:00<00:00, 42247.85it/s]\n"
     ]
    },
    {
     "name": "stdout",
     "output_type": "stream",
     "text": [
      "Rat08/Rat08-20130715\n",
      "Rat : 8 on day : 7\n",
      "Working with session Rat08-20130715 @ E:/DATA/GG-Dataset/Rat08/Rat08-20130715\n",
      "Data already saved in Numpy format, loading them from here:\n",
      "Rat08-20130715-neurons.npy\n",
      "Rat08-20130715-metadata.npy\n",
      "total duration Rem 1059.0\n"
     ]
    },
    {
     "name": "stderr",
     "output_type": "stream",
     "text": [
      "100%|██████████████████████████████████████████████████████████████████████████| 21827/21827 [00:09<00:00, 2365.06it/s]\n",
      "100%|█████████████████████████████████████████████████████████████████████████| 21827/21827 [00:01<00:00, 17722.68it/s]\n"
     ]
    },
    {
     "name": "stdout",
     "output_type": "stream",
     "text": [
      "Rat08/Rat08-20130716\n",
      "Rat : 8 on day : 8\n",
      "Working with session Rat08-20130716 @ E:/DATA/GG-Dataset/Rat08/Rat08-20130716\n",
      "Data already saved in Numpy format, loading them from here:\n",
      "Rat08-20130716-neurons.npy\n",
      "Rat08-20130716-metadata.npy\n",
      "total duration Rem 1090.0\n"
     ]
    },
    {
     "name": "stderr",
     "output_type": "stream",
     "text": [
      "100%|██████████████████████████████████████████████████████████████████████████| 25112/25112 [00:07<00:00, 3333.54it/s]\n",
      "100%|█████████████████████████████████████████████████████████████████████████| 25112/25112 [00:01<00:00, 18359.06it/s]\n"
     ]
    },
    {
     "name": "stdout",
     "output_type": "stream",
     "text": [
      "Rat08/Rat08-20130717\n",
      "Rat : 8 on day : 9\n",
      "Working with session Rat08-20130717 @ E:/DATA/GG-Dataset/Rat08/Rat08-20130717\n",
      "Data already saved in Numpy format, loading them from here:\n",
      "Rat08-20130717-neurons.npy\n",
      "Rat08-20130717-metadata.npy\n",
      "total duration Rem 1620.0\n"
     ]
    },
    {
     "name": "stderr",
     "output_type": "stream",
     "text": [
      "100%|██████████████████████████████████████████████████████████████████████████| 23243/23243 [00:08<00:00, 2659.32it/s]\n",
      "100%|█████████████████████████████████████████████████████████████████████████| 23243/23243 [00:00<00:00, 23666.08it/s]\n"
     ]
    },
    {
     "name": "stdout",
     "output_type": "stream",
     "text": [
      "Rat08/Rat08-20130719\n",
      "Rat : 8 on day : 11\n",
      "Working with session Rat08-20130719 @ E:/DATA/GG-Dataset/Rat08/Rat08-20130719\n",
      "Data already saved in Numpy format, loading them from here:\n",
      "Rat08-20130719-neurons.npy\n",
      "Rat08-20130719-metadata.npy\n",
      "total duration Rem 1115.0\n",
      "NOT ENOUGH NEURONS\n",
      "Rat09/Rat09-20140324\n",
      "Rat : 9 on day : 1\n",
      "Working with session Rat09-20140324 @ E:/DATA/GG-Dataset/Rat09/Rat09-20140324\n",
      "Data already saved in Numpy format, loading them from here:\n",
      "Rat09-20140324-neurons.npy\n",
      "Rat09-20140324-metadata.npy\n",
      "total duration Rem 1674.0\n"
     ]
    },
    {
     "name": "stderr",
     "output_type": "stream",
     "text": [
      "100%|██████████████████████████████████████████████████████████████████████████| 23930/23930 [00:08<00:00, 2687.03it/s]\n",
      "100%|█████████████████████████████████████████████████████████████████████████| 23930/23930 [00:00<00:00, 47201.26it/s]\n"
     ]
    },
    {
     "name": "stdout",
     "output_type": "stream",
     "text": [
      "Rat09/Rat09-20140325\n",
      "Rat : 9 on day : 2\n",
      "Working with session Rat09-20140325 @ E:/DATA/GG-Dataset/Rat09/Rat09-20140325\n",
      "Data already saved in Numpy format, loading them from here:\n",
      "Rat09-20140325-neurons.npy\n",
      "Rat09-20140325-metadata.npy\n",
      "total duration Rem 1308.0\n"
     ]
    },
    {
     "name": "stderr",
     "output_type": "stream",
     "text": [
      "100%|██████████████████████████████████████████████████████████████████████████| 20033/20033 [00:08<00:00, 2369.82it/s]\n",
      "100%|█████████████████████████████████████████████████████████████████████████| 20033/20033 [00:00<00:00, 24630.70it/s]\n"
     ]
    },
    {
     "name": "stdout",
     "output_type": "stream",
     "text": [
      "Rat09/Rat09-20140326\n",
      "Rat : 9 on day : 3\n",
      "Working with session Rat09-20140326 @ E:/DATA/GG-Dataset/Rat09/Rat09-20140326\n",
      "Data already saved in Numpy format, loading them from here:\n",
      "Rat09-20140326-neurons.npy\n",
      "Rat09-20140326-metadata.npy\n",
      "total duration Rem 948.0\n"
     ]
    },
    {
     "name": "stderr",
     "output_type": "stream",
     "text": [
      "100%|██████████████████████████████████████████████████████████████████████████| 24306/24306 [00:14<00:00, 1625.70it/s]\n",
      "100%|█████████████████████████████████████████████████████████████████████████| 24306/24306 [00:00<00:00, 27329.05it/s]\n"
     ]
    },
    {
     "name": "stdout",
     "output_type": "stream",
     "text": [
      "Rat09/Rat09-20140327\n",
      "Rat : 9 on day : 4\n",
      "Working with session Rat09-20140327 @ E:/DATA/GG-Dataset/Rat09/Rat09-20140327\n",
      "Data already saved in Numpy format, loading them from here:\n",
      "Rat09-20140327-neurons.npy\n",
      "Rat09-20140327-metadata.npy\n",
      "total duration Rem 1029.0\n"
     ]
    },
    {
     "name": "stderr",
     "output_type": "stream",
     "text": [
      "100%|██████████████████████████████████████████████████████████████████████████| 27146/27146 [00:17<00:00, 1531.32it/s]\n",
      "100%|█████████████████████████████████████████████████████████████████████████| 27146/27146 [00:00<00:00, 28192.26it/s]\n"
     ]
    },
    {
     "name": "stdout",
     "output_type": "stream",
     "text": [
      "Rat09/Rat09-20140328\n",
      "Rat : 9 on day : 5\n",
      "Working with session Rat09-20140328 @ E:/DATA/GG-Dataset/Rat09/Rat09-20140328\n",
      "Data already saved in Numpy format, loading them from here:\n",
      "Rat09-20140328-neurons.npy\n",
      "Rat09-20140328-metadata.npy\n",
      "total duration Rem 710.0\n"
     ]
    },
    {
     "name": "stderr",
     "output_type": "stream",
     "text": [
      "100%|██████████████████████████████████████████████████████████████████████████| 12660/12660 [00:05<00:00, 2202.40it/s]\n",
      "100%|█████████████████████████████████████████████████████████████████████████| 12660/12660 [00:00<00:00, 39963.19it/s]\n"
     ]
    },
    {
     "name": "stdout",
     "output_type": "stream",
     "text": [
      "Rat09/Rat09-20140329\n",
      "Rat : 9 on day : 6\n",
      "Working with session Rat09-20140329 @ E:/DATA/GG-Dataset/Rat09/Rat09-20140329\n",
      "Data already saved in Numpy format, loading them from here:\n",
      "Rat09-20140329-neurons.npy\n",
      "Rat09-20140329-metadata.npy\n",
      "total duration Rem 331.0\n"
     ]
    },
    {
     "name": "stderr",
     "output_type": "stream",
     "text": [
      "100%|██████████████████████████████████████████████████████████████████████████| 20107/20107 [00:07<00:00, 2608.82it/s]\n",
      "100%|█████████████████████████████████████████████████████████████████████████| 20107/20107 [00:00<00:00, 39166.50it/s]\n"
     ]
    },
    {
     "name": "stdout",
     "output_type": "stream",
     "text": [
      "Rat09/Rat09-20140331\n",
      "Rat : 9 on day : 7\n",
      "Working with session Rat09-20140331 @ E:/DATA/GG-Dataset/Rat09/Rat09-20140331\n",
      "Data already saved in Numpy format, loading them from here:\n",
      "Rat09-20140331-neurons.npy\n",
      "Rat09-20140331-metadata.npy\n",
      "total duration Rem 464.0\n"
     ]
    },
    {
     "name": "stderr",
     "output_type": "stream",
     "text": [
      "100%|██████████████████████████████████████████████████████████████████████████| 23949/23949 [00:11<00:00, 2033.78it/s]\n",
      "100%|█████████████████████████████████████████████████████████████████████████| 23949/23949 [00:00<00:00, 41550.56it/s]\n"
     ]
    },
    {
     "name": "stdout",
     "output_type": "stream",
     "text": [
      "Rat09/Rat09-20140401\n",
      "Rat : 9 on day : 8\n",
      "Working with session Rat09-20140401 @ E:/DATA/GG-Dataset/Rat09/Rat09-20140401\n",
      "Data already saved in Numpy format, loading them from here:\n",
      "Rat09-20140401-neurons.npy\n",
      "Rat09-20140401-metadata.npy\n",
      "total duration Rem 1430.0\n"
     ]
    },
    {
     "name": "stderr",
     "output_type": "stream",
     "text": [
      "100%|██████████████████████████████████████████████████████████████████████████| 21826/21826 [00:07<00:00, 3013.41it/s]\n",
      "100%|█████████████████████████████████████████████████████████████████████████| 21826/21826 [00:00<00:00, 39942.65it/s]\n"
     ]
    },
    {
     "name": "stdout",
     "output_type": "stream",
     "text": [
      "Rat09/Rat09-20140402\n",
      "Rat : 9 on day : 9\n",
      "Working with session Rat09-20140402 @ E:/DATA/GG-Dataset/Rat09/Rat09-20140402\n",
      "Data already saved in Numpy format, loading them from here:\n",
      "Rat09-20140402-neurons.npy\n",
      "Rat09-20140402-metadata.npy\n",
      "total duration Rem 817.0\n"
     ]
    },
    {
     "name": "stderr",
     "output_type": "stream",
     "text": [
      "100%|██████████████████████████████████████████████████████████████████████████| 23074/23074 [00:08<00:00, 2724.63it/s]\n",
      "100%|█████████████████████████████████████████████████████████████████████████| 23074/23074 [00:00<00:00, 28231.15it/s]\n"
     ]
    },
    {
     "name": "stdout",
     "output_type": "stream",
     "text": [
      "Rat09/Rat09-20140403\n",
      "Rat : 9 on day : 10\n",
      "Working with session Rat09-20140403 @ E:/DATA/GG-Dataset/Rat09/Rat09-20140403\n",
      "Data already saved in Numpy format, loading them from here:\n",
      "Rat09-20140403-neurons.npy\n",
      "Rat09-20140403-metadata.npy\n",
      "total duration Rem 689.0\n",
      "NOT ENOUGH NEURONS\n",
      "Rat09/Rat09-20140404\n",
      "Rat : 9 on day : 11\n",
      "Working with session Rat09-20140404 @ E:/DATA/GG-Dataset/Rat09/Rat09-20140404\n",
      "Data already saved in Numpy format, loading them from here:\n",
      "Rat09-20140404-neurons.npy\n",
      "Rat09-20140404-metadata.npy\n",
      "total duration Rem 321.0\n",
      "NOT ENOUGH NEURONS\n",
      "Rat09/Rat09-20140405\n",
      "Rat : 9 on day : 12\n",
      "Working with session Rat09-20140405 @ E:/DATA/GG-Dataset/Rat09/Rat09-20140405\n",
      "Data already saved in Numpy format, loading them from here:\n",
      "Rat09-20140405-neurons.npy\n",
      "Rat09-20140405-metadata.npy\n",
      "total duration Rem 624.0\n",
      "NOT ENOUGH NEURONS\n",
      "Rat09/Rat09-20140407\n",
      "Rat : 9 on day : 13\n",
      "Working with session Rat09-20140407 @ E:/DATA/GG-Dataset/Rat09/Rat09-20140407\n",
      "Data already saved in Numpy format, loading them from here:\n",
      "Rat09-20140407-neurons.npy\n",
      "Rat09-20140407-metadata.npy\n",
      "total duration Rem 431.0\n",
      "NOT ENOUGH NEURONS\n",
      "Rat10/Rat10-20140624\n",
      "Rat : 10 on day : 4\n",
      "Working with session Rat10-20140624 @ E:/DATA/GG-Dataset/Rat10/Rat10-20140624\n",
      "Data already saved in Numpy format, loading them from here:\n",
      "Rat10-20140624-neurons.npy\n",
      "Rat10-20140624-metadata.npy\n",
      "total duration Rem 1836.0\n"
     ]
    },
    {
     "name": "stderr",
     "output_type": "stream",
     "text": [
      "100%|██████████████████████████████████████████████████████████████████████████| 20018/20018 [00:08<00:00, 2270.24it/s]\n",
      "100%|█████████████████████████████████████████████████████████████████████████| 20018/20018 [00:00<00:00, 27245.36it/s]\n"
     ]
    },
    {
     "name": "stdout",
     "output_type": "stream",
     "text": [
      "Rat10/Rat10-20140626\n",
      "Rat : 10 on day : 5\n",
      "Working with session Rat10-20140626 @ E:/DATA/GG-Dataset/Rat10/Rat10-20140626\n",
      "Data already saved in Numpy format, loading them from here:\n",
      "Rat10-20140626-neurons.npy\n",
      "Rat10-20140626-metadata.npy\n",
      "total duration Rem 971.0\n"
     ]
    },
    {
     "name": "stderr",
     "output_type": "stream",
     "text": [
      "100%|██████████████████████████████████████████████████████████████████████████| 17838/17838 [00:11<00:00, 1539.13it/s]\n",
      "100%|█████████████████████████████████████████████████████████████████████████| 17838/17838 [00:00<00:00, 28220.30it/s]\n"
     ]
    },
    {
     "name": "stdout",
     "output_type": "stream",
     "text": [
      "Rat10/Rat10-20140627\n",
      "Rat : 10 on day : 6\n",
      "Working with session Rat10-20140627 @ E:/DATA/GG-Dataset/Rat10/Rat10-20140627\n",
      "Data already saved in Numpy format, loading them from here:\n",
      "Rat10-20140627-neurons.npy\n",
      "Rat10-20140627-metadata.npy\n",
      "total duration Rem 1202.0\n",
      "NOT ENOUGH NEURONS\n",
      "Rat10/Rat10-20140628\n",
      "Rat : 10 on day : 7\n",
      "Working with session Rat10-20140628 @ E:/DATA/GG-Dataset/Rat10/Rat10-20140628\n",
      "Data already saved in Numpy format, loading them from here:\n",
      "Rat10-20140628-neurons.npy\n",
      "Rat10-20140628-metadata.npy\n",
      "total duration Rem 708.0\n"
     ]
    },
    {
     "name": "stderr",
     "output_type": "stream",
     "text": [
      "100%|██████████████████████████████████████████████████████████████████████████| 21646/21646 [00:09<00:00, 2284.30it/s]\n",
      "100%|█████████████████████████████████████████████████████████████████████████| 21646/21646 [00:01<00:00, 12513.38it/s]\n"
     ]
    },
    {
     "name": "stdout",
     "output_type": "stream",
     "text": [
      "Rat10/Rat10-20140629\n",
      "Rat : 10 on day : 8\n",
      "Working with session Rat10-20140629 @ E:/DATA/GG-Dataset/Rat10/Rat10-20140629\n",
      "Data already saved in Numpy format, loading them from here:\n",
      "Rat10-20140629-neurons.npy\n",
      "Rat10-20140629-metadata.npy\n",
      "total duration Rem 1739.0\n",
      "NOT ENOUGH NEURONS\n",
      "Rat10/Rat10-20140701\n",
      "Rat : 10 on day : 9\n",
      "Working with session Rat10-20140701 @ E:/DATA/GG-Dataset/Rat10/Rat10-20140701\n",
      "Data already saved in Numpy format, loading them from here:\n",
      "Rat10-20140701-neurons.npy\n",
      "Rat10-20140701-metadata.npy\n",
      "total duration Rem 1570.0\n",
      "NOT ENOUGH NEURONS\n",
      "Rat10/Rat10-20140702\n",
      "Rat : 10 on day : 10\n",
      "Working with session Rat10-20140702 @ E:/DATA/GG-Dataset/Rat10/Rat10-20140702\n",
      "Data already saved in Numpy format, loading them from here:\n",
      "Rat10-20140702-neurons.npy\n",
      "Rat10-20140702-metadata.npy\n",
      "total duration Rem 488.0\n",
      "NOT ENOUGH NEURONS\n",
      "Rat10/Rat10-20140703\n",
      "Rat : 10 on day : 11\n",
      "Working with session Rat10-20140703 @ E:/DATA/GG-Dataset/Rat10/Rat10-20140703\n",
      "Data already saved in Numpy format, loading them from here:\n",
      "Rat10-20140703-neurons.npy\n",
      "Rat10-20140703-metadata.npy\n",
      "total duration Rem 926.0\n",
      "NOT ENOUGH NEURONS\n",
      "Rat10/Rat10-20140704\n",
      "Rat : 10 on day : 12\n",
      "Working with session Rat10-20140704 @ E:/DATA/GG-Dataset/Rat10/Rat10-20140704\n",
      "Data already saved in Numpy format, loading them from here:\n",
      "Rat10-20140704-neurons.npy\n",
      "Rat10-20140704-metadata.npy\n",
      "total duration Rem 1246.0\n",
      "NOT ENOUGH NEURONS\n",
      "Rat10/Rat10-20140705\n",
      "Rat : 10 on day : 13\n",
      "Working with session Rat10-20140705 @ E:/DATA/GG-Dataset/Rat10/Rat10-20140705\n",
      "Data already saved in Numpy format, loading them from here:\n",
      "Rat10-20140705-neurons.npy\n",
      "Rat10-20140705-metadata.npy\n",
      "total duration Rem 535.0\n",
      "NOT ENOUGH NEURONS\n",
      "Rat10/Rat10-20140707\n",
      "Rat : 10 on day : 14\n",
      "Working with session Rat10-20140707 @ E:/DATA/GG-Dataset/Rat10/Rat10-20140707\n",
      "Data already saved in Numpy format, loading them from here:\n",
      "Rat10-20140707-neurons.npy\n",
      "Rat10-20140707-metadata.npy\n",
      "total duration Rem 936.0\n",
      "NOT ENOUGH NEURONS\n",
      "Rat11/Rat11-20150310\n",
      "Rat : 11 on day : 2\n",
      "Working with session Rat11-20150310 @ E:/DATA/GG-Dataset/Rat11/Rat11-20150310\n",
      "Data already saved in Numpy format, loading them from here:\n",
      "Rat11-20150310-neurons.npy\n",
      "Rat11-20150310-metadata.npy\n",
      "total duration Rem 1556.0\n",
      "NOT ENOUGH NEURONS\n",
      "Rat11/Rat11-20150312\n",
      "Rat : 11 on day : 3\n",
      "Working with session Rat11-20150312 @ E:/DATA/GG-Dataset/Rat11/Rat11-20150312\n",
      "Data already saved in Numpy format, loading them from here:\n",
      "Rat11-20150312-neurons.npy\n",
      "Rat11-20150312-metadata.npy\n",
      "total duration Rem 1434.0\n",
      "NOT ENOUGH NEURONS\n",
      "Rat11/Rat11-20150313\n",
      "Rat : 11 on day : 4\n",
      "Working with session Rat11-20150313 @ E:/DATA/GG-Dataset/Rat11/Rat11-20150313\n",
      "Data already saved in Numpy format, loading them from here:\n",
      "Rat11-20150313-neurons.npy\n",
      "Rat11-20150313-metadata.npy\n",
      "total duration Rem 1417.0\n",
      "NOT ENOUGH NEURONS\n",
      "Rat11/Rat11-20150314\n",
      "Rat : 11 on day : 5\n",
      "Working with session Rat11-20150314 @ E:/DATA/GG-Dataset/Rat11/Rat11-20150314\n",
      "Data already saved in Numpy format, loading them from here:\n",
      "Rat11-20150314-neurons.npy\n",
      "Rat11-20150314-metadata.npy\n",
      "total duration Rem 1055.0\n",
      "NOT ENOUGH NEURONS\n",
      "Rat11/Rat11-20150315\n",
      "Rat : 11 on day : 6\n",
      "Working with session Rat11-20150315 @ E:/DATA/GG-Dataset/Rat11/Rat11-20150315\n",
      "Data already saved in Numpy format, loading them from here:\n",
      "Rat11-20150315-neurons.npy\n",
      "Rat11-20150315-metadata.npy\n",
      "total duration Rem 1003.0\n",
      "NOT ENOUGH NEURONS\n",
      "Rat11/Rat11-20150316\n",
      "Rat : 11 on day : 7\n",
      "Working with session Rat11-20150316 @ E:/DATA/GG-Dataset/Rat11/Rat11-20150316\n",
      "Data already saved in Numpy format, loading them from here:\n",
      "Rat11-20150316-neurons.npy\n",
      "Rat11-20150316-metadata.npy\n",
      "total duration Rem 464.0\n",
      "NOT ENOUGH NEURONS\n",
      "Rat11/Rat11-20150317\n",
      "Rat : 11 on day : 8\n",
      "Working with session Rat11-20150317 @ E:/DATA/GG-Dataset/Rat11/Rat11-20150317\n",
      "Data already saved in Numpy format, loading them from here:\n",
      "Rat11-20150317-neurons.npy\n",
      "Rat11-20150317-metadata.npy\n",
      "total duration Rem 952.0\n",
      "NOT ENOUGH NEURONS\n",
      "Rat11/Rat11-20150321\n",
      "Rat : 11 on day : 11\n",
      "Working with session Rat11-20150321 @ E:/DATA/GG-Dataset/Rat11/Rat11-20150321\n",
      "Data already saved in Numpy format, loading them from here:\n",
      "Rat11-20150321-neurons.npy\n",
      "Rat11-20150321-metadata.npy\n",
      "total duration Rem 582.0\n"
     ]
    },
    {
     "name": "stderr",
     "output_type": "stream",
     "text": [
      "100%|██████████████████████████████████████████████████████████████████████████| 20649/20649 [00:08<00:00, 2330.58it/s]\n",
      "100%|█████████████████████████████████████████████████████████████████████████| 20649/20649 [00:00<00:00, 25146.94it/s]\n"
     ]
    },
    {
     "name": "stdout",
     "output_type": "stream",
     "text": [
      "Rat11/Rat11-20150323\n",
      "Rat : 11 on day : 12\n",
      "Working with session Rat11-20150323 @ E:/DATA/GG-Dataset/Rat11/Rat11-20150323\n",
      "Data already saved in Numpy format, loading them from here:\n",
      "Rat11-20150323-neurons.npy\n",
      "Rat11-20150323-metadata.npy\n",
      "total duration Rem 1090.0\n"
     ]
    },
    {
     "name": "stderr",
     "output_type": "stream",
     "text": [
      "100%|██████████████████████████████████████████████████████████████████████████| 24290/24290 [00:13<00:00, 1826.35it/s]\n",
      "100%|█████████████████████████████████████████████████████████████████████████| 24290/24290 [00:00<00:00, 29155.89it/s]\n"
     ]
    },
    {
     "name": "stdout",
     "output_type": "stream",
     "text": [
      "Rat11/Rat11-20150325\n",
      "Rat : 11 on day : 14\n",
      "Working with session Rat11-20150325 @ E:/DATA/GG-Dataset/Rat11/Rat11-20150325\n",
      "Data already saved in Numpy format, loading them from here:\n",
      "Rat11-20150325-neurons.npy\n",
      "Rat11-20150325-metadata.npy\n",
      "total duration Rem 1345.0\n"
     ]
    },
    {
     "name": "stderr",
     "output_type": "stream",
     "text": [
      "100%|██████████████████████████████████████████████████████████████████████████| 26214/26214 [00:20<00:00, 1287.09it/s]\n",
      "100%|█████████████████████████████████████████████████████████████████████████| 26214/26214 [00:00<00:00, 28167.48it/s]\n"
     ]
    },
    {
     "name": "stdout",
     "output_type": "stream",
     "text": [
      "Rat11/Rat11-20150326\n",
      "Rat : 11 on day : 15\n",
      "Working with session Rat11-20150326 @ E:/DATA/GG-Dataset/Rat11/Rat11-20150326\n",
      "Data already saved in Numpy format, loading them from here:\n",
      "Rat11-20150326-neurons.npy\n",
      "Rat11-20150326-metadata.npy\n",
      "total duration Rem 1766.0\n"
     ]
    },
    {
     "name": "stderr",
     "output_type": "stream",
     "text": [
      "100%|██████████████████████████████████████████████████████████████████████████| 23205/23205 [00:21<00:00, 1070.92it/s]\n",
      "100%|█████████████████████████████████████████████████████████████████████████| 23205/23205 [00:00<00:00, 28168.78it/s]\n"
     ]
    },
    {
     "name": "stdout",
     "output_type": "stream",
     "text": [
      "Rat11/Rat11-20150328\n",
      "Rat : 11 on day : 17\n",
      "Working with session Rat11-20150328 @ E:/DATA/GG-Dataset/Rat11/Rat11-20150328\n",
      "Data already saved in Numpy format, loading them from here:\n",
      "Rat11-20150328-neurons.npy\n",
      "Rat11-20150328-metadata.npy\n",
      "total duration Rem 1171.0\n"
     ]
    },
    {
     "name": "stderr",
     "output_type": "stream",
     "text": [
      "100%|██████████████████████████████████████████████████████████████████████████| 25003/25003 [00:15<00:00, 1655.07it/s]\n",
      "100%|█████████████████████████████████████████████████████████████████████████| 25003/25003 [00:00<00:00, 36664.97it/s]\n"
     ]
    },
    {
     "name": "stdout",
     "output_type": "stream",
     "text": [
      "Rat11/Rat11-20150330\n",
      "Rat : 11 on day : 18\n",
      "Working with session Rat11-20150330 @ E:/DATA/GG-Dataset/Rat11/Rat11-20150330\n",
      "Data already saved in Numpy format, loading them from here:\n",
      "Rat11-20150330-neurons.npy\n",
      "Rat11-20150330-metadata.npy\n",
      "total duration Rem 1395.0\n"
     ]
    },
    {
     "name": "stderr",
     "output_type": "stream",
     "text": [
      "100%|██████████████████████████████████████████████████████████████████████████| 22385/22385 [00:10<00:00, 2133.31it/s]\n",
      "100%|█████████████████████████████████████████████████████████████████████████| 22385/22385 [00:01<00:00, 17584.55it/s]\n"
     ]
    },
    {
     "name": "stdout",
     "output_type": "stream",
     "text": [
      "Rat11/Rat11-20150331\n",
      "Rat : 11 on day : 19\n",
      "Working with session Rat11-20150331 @ E:/DATA/GG-Dataset/Rat11/Rat11-20150331\n",
      "Data already saved in Numpy format, loading them from here:\n",
      "Rat11-20150331-neurons.npy\n",
      "Rat11-20150331-metadata.npy\n",
      "total duration Rem 1375.0\n"
     ]
    },
    {
     "name": "stderr",
     "output_type": "stream",
     "text": [
      "100%|██████████████████████████████████████████████████████████████████████████| 22776/22776 [00:12<00:00, 1824.68it/s]\n",
      "100%|█████████████████████████████████████████████████████████████████████████| 22776/22776 [00:00<00:00, 24617.83it/s]\n"
     ]
    },
    {
     "name": "stdout",
     "output_type": "stream",
     "text": [
      "Rat11/Rat11-20150402\n",
      "Rat : 11 on day : 21\n",
      "Working with session Rat11-20150402 @ E:/DATA/GG-Dataset/Rat11/Rat11-20150402\n",
      "Data already saved in Numpy format, loading them from here:\n",
      "Rat11-20150402-neurons.npy\n",
      "Rat11-20150402-metadata.npy\n",
      "total duration Rem 528.0\n",
      "NOT ENOUGH NEURONS\n",
      "Rat11/Rat11-20150403\n",
      "Rat : 11 on day : 22\n",
      "Working with session Rat11-20150403 @ E:/DATA/GG-Dataset/Rat11/Rat11-20150403\n",
      "Data already saved in Numpy format, loading them from here:\n",
      "Rat11-20150403-neurons.npy\n",
      "Rat11-20150403-metadata.npy\n",
      "total duration Rem 612.0\n",
      "NOT ENOUGH NEURONS\n"
     ]
    }
   ],
   "source": [
    "rats = ['Rat08', 'Rat09', 'Rat10', 'Rat11']\n",
    "to_ignore = ['Rat08-20130720', \n",
    "             'Rat08-20130722', \n",
    "             'Rat08-20130718',\n",
    "             \"Rat09-20140408\",\n",
    "             \"Rat09-20140409\",\n",
    "             \"Rat10-20140619\",\n",
    "             \"Rat10-20140620\",\n",
    "             \"Rat10-20140622\",\n",
    "             \"Rat10-20140708\",\n",
    "             \"Rat11-20150309\",\n",
    "             \"Rat11-20150318\",\n",
    "             \"Rat11-20150319\", \n",
    "             \"Rat11-20150324\",\n",
    "             \"Rat11-20150327\",\n",
    "             \"Rat11-20150401\"]\n",
    "\n",
    "corr_coeffs = {'Corr_rem': [], 'Corr_sws': []}\n",
    "\n",
    "for rat in rats:\n",
    "    os.chdir(f'E:/DATA/GG-Dataset/{rat}/')\n",
    "    \n",
    "    for i in os.listdir(f'E:/DATA/GG-Dataset/{rat}/'):\n",
    "        if i.endswith('.mat') or i in to_ignore:\n",
    "            continue\n",
    "\n",
    "        local_path= f'{rat}/{i}'\n",
    "        print(local_path)\n",
    "        bk.load.current_session_linux(base_folder= 'E:/DATA/GG-Dataset/',local_path= local_path)\n",
    "        states = bk.load.states()\n",
    "        neurons,metadata = bk.load.spikes() \n",
    "        \n",
    "        print(f\"total duration Rem {states['Rem'].tot_length()/1_000_000}\")\n",
    "        \n",
    "        if states['Rem'].tot_length()/1_000_000 < 100:\n",
    "            print(f'{local_path} NOT ENOUGH REM')\n",
    "            continue\n",
    "            \n",
    "        \n",
    "\n",
    "        neurons_pyr_bla = neurons[(metadata['Type'] == 'Pyr') & (metadata['Region'] == 'BLA')]\n",
    "        if len(neurons_pyr_bla) < 20:\n",
    "            print('NOT ENOUGH NEURONS')\n",
    "            continue\n",
    "        \n",
    "        mean_sync_pyr_bla = mean_synchrony(neurons_pyr_bla, window=1, smallbins=0.1, shift=1)\n",
    "        mean_sync_pyr_bla_s = bk.compute.nts_smooth(mean_sync_pyr_bla, 100,50)\n",
    "        \n",
    "        mean_fr_pyr_bla = mean_firing_rate(neurons_pyr_bla, window=1, smallbins=0.1, shift=1)\n",
    "        mean_fr_pyr_bla_s = bk.compute.nts_smooth(mean_fr_pyr_bla, 100,50)\n",
    "        \n",
    "        fr_rem = mean_fr_pyr_bla_s.restrict(states['Rem']).values\n",
    "        sync_rem = mean_sync_pyr_bla_s.restrict(states['Rem']).values\n",
    "        \n",
    "        fr_sws = mean_fr_pyr_bla_s.restrict(states['sws']).values\n",
    "        sync_sws = mean_sync_pyr_bla_s.restrict(states['sws']).values\n",
    "        \n",
    "        sync_rem, fr_rem,_ = corr_coeff_without_nan(sync_rem, fr_rem)\n",
    "        sync_sws, fr_sws,_ = corr_coeff_without_nan(sync_sws, fr_sws)\n",
    "        \n",
    "        corr_rem = np.corrcoef(sync_rem, fr_rem)\n",
    "        corr_sws = np.corrcoef(sync_sws, fr_sws)\n",
    "\n",
    "        corr_coeffs['Corr_rem'].append(corr_rem[0,1])\n",
    "        corr_coeffs['Corr_sws'].append(corr_sws[0,1])\n",
    "        \n",
    "        '''plt.figure()\n",
    "        g = sns.regplot(mean_fr_pyr_bla_s.restrict(states['Rem']).values, \n",
    "                        mean_sync_pyr_bla_s.restrict(states['Rem']).values, \n",
    "                        scatter_kws={'alpha':0.1, 's':5}, line_kws={'lw':5}, x_ci='sd', color='orange')\n",
    "        sns.regplot(mean_fr_pyr_bla_s.restrict(states['sws']).values, \n",
    "                    mean_sync_pyr_bla_s.restrict(states['sws']).values, \n",
    "                    scatter_kws={'alpha':0.1, 's':5}, line_kws={'lw':5}, x_ci='sd', color='grey')\n",
    "        g.set(xlabel ='mean firing rate', ylabel = 'mean synchrony',\n",
    "              title='Correlation between synchrony and firing rate in BLA interneurons')\n",
    "        g.legend(labels=['Rem', 'sws'])\n",
    "        \n",
    "        plt.title(f'Session {local_path}, Pearson coeff REM = {round(corr_rem[0,1],2)}, Pearson coeff NREM = {round(corr_sws[0,1],2)}')'''"
   ]
  },
  {
   "cell_type": "code",
   "execution_count": 28,
   "id": "233659df",
   "metadata": {
    "collapsed": true,
    "jupyter": {
     "outputs_hidden": true
    }
   },
   "outputs": [
    {
     "data": {
      "text/plain": [
       "{'Corr_rem': [-0.7264069123691904,\n",
       "  -0.8435611379902256,\n",
       "  -0.6780721132984141,\n",
       "  -0.7758978750930776,\n",
       "  -0.6462165218318869,\n",
       "  -0.6536431809028816,\n",
       "  -0.8745686310654911,\n",
       "  -0.40601354406275575,\n",
       "  -0.6214593871604931,\n",
       "  -0.7148295058620436,\n",
       "  -0.6698219801211841,\n",
       "  0.0741557396848366,\n",
       "  -0.7038039243009637,\n",
       "  -0.9039885654296196,\n",
       "  -0.4920947080326685,\n",
       "  -0.7604310015811306,\n",
       "  -0.7707119855579531,\n",
       "  -0.8365981064056348,\n",
       "  -0.5997648147064497,\n",
       "  -0.6650797890455,\n",
       "  -0.7207414066669935,\n",
       "  -0.8426170887474401,\n",
       "  -0.5255321298755488,\n",
       "  -0.7896903551001633,\n",
       "  -0.7120091803055135,\n",
       "  -0.615665414908355,\n",
       "  -0.6172611614004304],\n",
       " 'Corr_sws': [-0.6411961904789658,\n",
       "  -0.7306636543212914,\n",
       "  -0.7218411518171706,\n",
       "  -0.6930897748900755,\n",
       "  -0.6273814997687603,\n",
       "  -0.8827246429205031,\n",
       "  -0.7820741279607375,\n",
       "  -0.7696600500384255,\n",
       "  -0.6633607747931046,\n",
       "  -0.7949447881057493,\n",
       "  -0.7529874176104558,\n",
       "  -0.5826728599292252,\n",
       "  -0.5874323572260504,\n",
       "  -0.7679813836738495,\n",
       "  -0.7262433545135184,\n",
       "  -0.7948334561173206,\n",
       "  -0.8467853523033556,\n",
       "  -0.6021193202140058,\n",
       "  -0.6672032606291065,\n",
       "  -0.6598435889237138,\n",
       "  -0.76405196490623,\n",
       "  -0.8957646336496208,\n",
       "  -0.775622524738273,\n",
       "  -0.8487235032329409,\n",
       "  -0.9205155536667186,\n",
       "  -0.8366105957568929,\n",
       "  -0.8710746446885311]}"
      ]
     },
     "execution_count": 28,
     "metadata": {},
     "output_type": "execute_result"
    }
   ],
   "source": [
    "corr_coeffs"
   ]
  },
  {
   "cell_type": "code",
   "execution_count": 32,
   "id": "bf173c37",
   "metadata": {},
   "outputs": [
    {
     "data": {
      "text/plain": [
       "27"
      ]
     },
     "execution_count": 32,
     "metadata": {},
     "output_type": "execute_result"
    }
   ],
   "source": [
    "len(corr_coeffs['Corr_rem'])"
   ]
  },
  {
   "cell_type": "code",
   "execution_count": 34,
   "id": "3752c832",
   "metadata": {},
   "outputs": [
    {
     "data": {
      "text/plain": [
       "KruskalResult(statistic=2.8451178451178407, pvalue=0.09165187345070036)"
      ]
     },
     "execution_count": 34,
     "metadata": {},
     "output_type": "execute_result"
    }
   ],
   "source": [
    "sp.stats.kruskal(corr_coeffs['Corr_rem'], corr_coeffs['Corr_sws'], nan_policy='omit')"
   ]
  },
  {
   "cell_type": "code",
   "execution_count": 33,
   "id": "ebbec8ec",
   "metadata": {},
   "outputs": [
    {
     "data": {
      "text/plain": [
       "(-1.0, 0.2)"
      ]
     },
     "execution_count": 33,
     "metadata": {},
     "output_type": "execute_result"
    }
   ],
   "source": [
    "corr_coeffs = pd.DataFrame(corr_coeffs)\n",
    "sns.boxplot(data = corr_coeffs, whis=np.inf)\n",
    "sns.swarmplot(data = corr_coeffs, color=\".2\")\n",
    "plt.ylim(-1, 0.2)"
   ]
  },
  {
   "cell_type": "markdown",
   "id": "c7339f1a",
   "metadata": {},
   "source": [
    "### Correlation between firing rate and synchrony"
   ]
  },
  {
   "cell_type": "code",
   "execution_count": 135,
   "id": "2fd89cff",
   "metadata": {},
   "outputs": [
    {
     "data": {
      "text/plain": [
       "(1345,)"
      ]
     },
     "execution_count": 135,
     "metadata": {},
     "output_type": "execute_result"
    }
   ],
   "source": [
    "np.shape(mean_sync_pyr_bla_s.restrict(states['Rem']).values)"
   ]
  },
  {
   "cell_type": "code",
   "execution_count": 66,
   "id": "ebedf8cf",
   "metadata": {
    "collapsed": true,
    "jupyter": {
     "outputs_hidden": true
    }
   },
   "outputs": [
    {
     "name": "stderr",
     "output_type": "stream",
     "text": [
      "C:\\Users\\maell\\anaconda3\\lib\\site-packages\\seaborn\\_decorators.py:36: FutureWarning: Pass the following variables as keyword args: x, y. From version 0.12, the only valid positional argument will be `data`, and passing other arguments without an explicit keyword will result in an error or misinterpretation.\n",
      "  warnings.warn(\n",
      "C:\\Users\\maell\\anaconda3\\lib\\site-packages\\seaborn\\_decorators.py:36: FutureWarning: Pass the following variables as keyword args: x, y. From version 0.12, the only valid positional argument will be `data`, and passing other arguments without an explicit keyword will result in an error or misinterpretation.\n",
      "  warnings.warn(\n",
      "C:\\Users\\maell\\anaconda3\\lib\\site-packages\\seaborn\\_decorators.py:36: FutureWarning: Pass the following variables as keyword args: x, y. From version 0.12, the only valid positional argument will be `data`, and passing other arguments without an explicit keyword will result in an error or misinterpretation.\n",
      "  warnings.warn(\n",
      "C:\\Users\\maell\\anaconda3\\lib\\site-packages\\seaborn\\_decorators.py:36: FutureWarning: Pass the following variables as keyword args: x, y. From version 0.12, the only valid positional argument will be `data`, and passing other arguments without an explicit keyword will result in an error or misinterpretation.\n",
      "  warnings.warn(\n",
      "C:\\Users\\maell\\anaconda3\\lib\\site-packages\\seaborn\\_decorators.py:36: FutureWarning: Pass the following variables as keyword args: x, y. From version 0.12, the only valid positional argument will be `data`, and passing other arguments without an explicit keyword will result in an error or misinterpretation.\n",
      "  warnings.warn(\n",
      "C:\\Users\\maell\\anaconda3\\lib\\site-packages\\seaborn\\_decorators.py:36: FutureWarning: Pass the following variables as keyword args: x, y. From version 0.12, the only valid positional argument will be `data`, and passing other arguments without an explicit keyword will result in an error or misinterpretation.\n",
      "  warnings.warn(\n"
     ]
    },
    {
     "data": {
      "text/plain": [
       "<matplotlib.legend.Legend at 0x267348ffac0>"
      ]
     },
     "execution_count": 66,
     "metadata": {},
     "output_type": "execute_result"
    }
   ],
   "source": [
    "plt.figure()\n",
    "plt.subplot(1,2,1)\n",
    "g = sns.regplot(mean_fr_int_bla_s.restrict(states['Rem']).values, mean_sync_int_bla_s.restrict(states['Rem']).values, scatter_kws={'alpha':0.1, 's':5}, line_kws={'lw':5}, x_ci='sd', color='orange')\n",
    "sns.regplot(mean_fr_int_bla_s.restrict(states['sws']).values, mean_sync_int_bla_s.restrict(states['sws']).values, scatter_kws={'alpha':0.1, 's':5}, line_kws={'lw':5}, x_ci='sd', color='grey')\n",
    "sns.regplot(mean_fr_int_bla_s[100:-100].restrict(states['wake']).values, mean_sync_int_bla_s[100:-100].restrict(states['wake']).values, scatter_kws={'alpha':0.1, 's':5}, line_kws={'lw':5}, x_ci='sd')\n",
    "g.set(xlabel ='mean firing rate', ylabel = 'mean synchrony',\n",
    "      title='Correlation between synchrony and firing rate in BLA interneurons')\n",
    "g.legend(labels=['Rem', 'sws', 'Wake'])\n",
    "plt.subplot(1,2,2)\n",
    "g = sns.regplot(mean_fr_int_bla_s.restrict(states['Rem']).values, mean_sync_nan_int_bla_s.restrict(states['Rem']).values, scatter_kws={'alpha':0.1, 's':5}, line_kws={'lw':5}, robust=True, x_ci='sd', color='orange')\n",
    "sns.regplot(mean_fr_int_bla_s.restrict(states['sws']).values, mean_sync_nan_int_bla_s.restrict(states['sws']).values, scatter_kws={'alpha':0.1, 's':5}, line_kws={'lw':5}, robust=True, x_ci='sd', color='grey')\n",
    "sns.regplot(mean_fr_int_bla_s[100:-100].restrict(states['wake']).values, mean_sync_nan_int_bla_s[100:-100].restrict(states['wake']).values, scatter_kws={'alpha':0.1, 's':5}, robust=True, line_kws={'lw':5}, x_ci='sd')\n",
    "g.set(xlabel ='mean firing rate', ylabel = 'mean synchrony (with nan to 0)',\n",
    "      title='Correlation between synchrony (with nan to 0) and firing rate in BLA interneurons')\n",
    "g.legend(labels=['Rem', 'sws', 'Wake'])"
   ]
  },
  {
   "cell_type": "code",
   "execution_count": 96,
   "id": "0f3ade0a",
   "metadata": {
    "collapsed": true,
    "jupyter": {
     "outputs_hidden": true
    }
   },
   "outputs": [
    {
     "data": {
      "text/plain": [
       "Text(0.5, 1.0, 'int bla, Pearson coeff = -0.7551644915307446')"
      ]
     },
     "execution_count": 96,
     "metadata": {},
     "output_type": "execute_result"
    }
   ],
   "source": [
    "plt.subplot(2,2,1)\n",
    "plt.plot(mean_fr_pyr_hpc_s[100:-100].as_units('s'), mean_sync_pyr_hpc_s[100:-100].as_units('s'), '.')\n",
    "plt.title('pyr hpc, Pearson coeff = '+str(corr_pyr_hpc[1,0]))\n",
    "plt.subplot(2,2,2)\n",
    "plt.plot(mean_fr_pyr_bla_s[100:-100], mean_sync_pyr_bla_s[100:-100], '.')\n",
    "plt.title('pyr bla, Pearson coeff = '+str(corr_pyr_bla[1,0]))\n",
    "plt.subplot(2,2,3)\n",
    "plt.plot(mean_fr_int_hpc_s[100:-100], mean_sync_int_hpc_s[100:-100], '.')\n",
    "plt.title('int hpc, Pearson coeff = '+str(corr_int_hpc[1,0]))\n",
    "plt.subplot(2,2,4)\n",
    "plt.plot(mean_fr_int_bla_s[100:-100], mean_sync_int_bla_s[100:-100], '.')\n",
    "plt.title('int bla, Pearson coeff = '+str(corr_int_bla[1,0]))"
   ]
  },
  {
   "cell_type": "markdown",
   "id": "5a6e2007",
   "metadata": {},
   "source": [
    "# Correlation between pourcent active neurons and mean firing rate"
   ]
  },
  {
   "cell_type": "code",
   "execution_count": 18,
   "id": "8580f8f0",
   "metadata": {},
   "outputs": [],
   "source": [
    "fr_rem = mean_fr_pyr_bla_s.restrict(states['Rem']).values\n",
    "sync_rem = mean_sync_pyr_bla_s.restrict(states['Rem']).values\n",
    "\n",
    "fr_sws = mean_fr_pyr_bla_s.restrict(states['sws']).values\n",
    "sync_sws = mean_sync_pyr_bla_s.restrict(states['sws']).values\n",
    "\n",
    "sync_rem, fr_rem,_ = corr_coeff_without_nan(sync_rem, fr_rem)\n",
    "sync_sws, fr_sws,_ = corr_coeff_without_nan(sync_sws, fr_sws)\n",
    "\n",
    "corr_rem = np.corrcoef(sync_rem, fr_rem)\n",
    "corr_sws = np.corrcoef(sync_sws, fr_sws)"
   ]
  },
  {
   "cell_type": "code",
   "execution_count": 21,
   "id": "bbae39ae",
   "metadata": {},
   "outputs": [
    {
     "name": "stderr",
     "output_type": "stream",
     "text": [
      "C:\\Users\\maell\\anaconda3\\lib\\site-packages\\seaborn\\_decorators.py:36: FutureWarning: Pass the following variables as keyword args: x, y. From version 0.12, the only valid positional argument will be `data`, and passing other arguments without an explicit keyword will result in an error or misinterpretation.\n",
      "  warnings.warn(\n",
      "C:\\Users\\maell\\anaconda3\\lib\\site-packages\\seaborn\\_decorators.py:36: FutureWarning: Pass the following variables as keyword args: x, y. From version 0.12, the only valid positional argument will be `data`, and passing other arguments without an explicit keyword will result in an error or misinterpretation.\n",
      "  warnings.warn(\n"
     ]
    },
    {
     "data": {
      "text/plain": [
       "<matplotlib.legend.Legend at 0x276d9a75fd0>"
      ]
     },
     "execution_count": 21,
     "metadata": {},
     "output_type": "execute_result"
    }
   ],
   "source": [
    "plt.figure()\n",
    "g = sns.regplot(mean_fr_pyr_bla_s.restrict(states['Rem']).values, \n",
    "                mean_sync_pyr_bla_s.restrict(states['Rem']).values, \n",
    "                scatter_kws={'alpha':0.1, 's':5}, line_kws={'lw':5}, x_ci='sd', color='orange')\n",
    "sns.regplot(mean_fr_pyr_bla_s.restrict(states['sws']).values, \n",
    "            mean_sync_pyr_bla_s.restrict(states['sws']).values, \n",
    "            scatter_kws={'alpha':0.1, 's':5}, line_kws={'lw':5}, x_ci='sd', color='grey')\n",
    "g.set(xlabel ='mean firing rate', ylabel = 'Mean synchrony (%)',\n",
    "      title= f'REM Correlation {corr_rem[0,1]}, NREM Correlation {corr_sws[0,1]}')\n",
    "g.legend(labels=['Rem', 'sws'])"
   ]
  },
  {
   "cell_type": "code",
   "execution_count": 258,
   "id": "d84987cf",
   "metadata": {
    "collapsed": true,
    "jupyter": {
     "outputs_hidden": true
    }
   },
   "outputs": [
    {
     "data": {
      "text/plain": [
       "Text(0.12, 0.02, 'Methods: The mean firing rate was determined by computing the number of spikes for each neuron, in time bins of 1s, then by taking the mean over all neurons. \\nThese two measures were then smoothed using a gaussian kernel across time (number of point in window = 100, standard deviation = 50)')"
      ]
     },
     "execution_count": 258,
     "metadata": {},
     "output_type": "execute_result"
    }
   ],
   "source": [
    "plt.figure()\n",
    "\n",
    "bk.plot.intervals(states['Rem'])\n",
    "bk.plot.intervals(states['sws'], col='grey')\n",
    "plt.plot(mean_fr_pyr_bla_s.as_units('s'), color='g', label = 'pyr bla')\n",
    "plt.plot(mean_fr_int_bla_s.as_units('s'), color='k', label='int bla')\n",
    "plt.title('Mean firing rates. \\n Session: Rat08-20130713')\n",
    "plt.xlabel('Time (s)')\n",
    "plt.legend()\n",
    "plt.text(-1000,0.42, 'Time bins: 1s \\nSmoothing parameters: \\n    Number of points in window: 100 \\n    Standard deviation: 50')\n",
    "plt.figtext(0.12, 0.02, 'Methods: The mean firing rate was determined by computing the number of spikes for each neuron, in time bins of 1s, then by taking the mean over all neurons. \\nThese two measures were then smoothed using a gaussian kernel across time (number of point in window = 100, standard deviation = 50)')"
   ]
  },
  {
   "cell_type": "markdown",
   "id": "1db7b5cf",
   "metadata": {},
   "source": [
    "## Refaire figure Grosmark2012"
   ]
  },
  {
   "cell_type": "code",
   "execution_count": 115,
   "id": "974dd716",
   "metadata": {
    "collapsed": true,
    "jupyter": {
     "outputs_hidden": true
    }
   },
   "outputs": [
    {
     "name": "stdout",
     "output_type": "stream",
     "text": [
      "Rat08/Rat08-20130713\n",
      "Rat : 8 on day : 6\n",
      "Working with session Rat08-20130713 @ E:/DATA/GG-Dataset/Rat08/Rat08-20130713\n",
      "Data already saved in Numpy format, loading them from here:\n",
      "Rat08-20130713-neurons.npy\n",
      "Rat08-20130713-metadata.npy\n",
      "total duration Rem 2371.0\n"
     ]
    },
    {
     "name": "stderr",
     "output_type": "stream",
     "text": [
      "  0%|                                                                                        | 0/22679 [00:00<?, ?it/s]C:\\Users\\maell\\anaconda3\\lib\\site-packages\\numpy\\lib\\function_base.py:2691: RuntimeWarning: invalid value encountered in true_divide\n",
      "  c /= stddev[:, None]\n",
      "C:\\Users\\maell\\anaconda3\\lib\\site-packages\\numpy\\lib\\function_base.py:2692: RuntimeWarning: invalid value encountered in true_divide\n",
      "  c /= stddev[None, :]\n",
      "100%|███████████████████████████████████████████████████████████████████████████| 22679/22679 [00:24<00:00, 914.46it/s]\n"
     ]
    },
    {
     "name": "stdout",
     "output_type": "stream",
     "text": [
      "Rat08/Rat08-20130708\n",
      "Rat : 8 on day : 1\n",
      "Working with session Rat08-20130708 @ E:/DATA/GG-Dataset/Rat08/Rat08-20130708\n",
      "Data already saved in Numpy format, loading them from here:\n",
      "Rat08-20130708-neurons.npy\n",
      "Rat08-20130708-metadata.npy\n",
      "total duration Rem 1604.0\n",
      "NOT ENOUGH NEURONS\n",
      "Rat08/Rat08-20130709\n",
      "Rat : 8 on day : 2\n",
      "Working with session Rat08-20130709 @ E:/DATA/GG-Dataset/Rat08/Rat08-20130709\n",
      "Data already saved in Numpy format, loading them from here:\n",
      "Rat08-20130709-neurons.npy\n",
      "Rat08-20130709-metadata.npy\n",
      "total duration Rem 1930.0\n"
     ]
    },
    {
     "name": "stderr",
     "output_type": "stream",
     "text": [
      " 21%|███████████████▋                                                           | 5343/25510 [00:03<00:12, 1554.65it/s]C:\\Users\\maell\\AppData\\Local\\Temp/ipykernel_20972/1913985095.py:31: RuntimeWarning: Mean of empty slice\n",
      "  mean_sync[i] = np.nanmean(corrcoef) #compute the mean of corrcoef for each window, disregarding the nan\n",
      "100%|██████████████████████████████████████████████████████████████████████████| 25510/25510 [00:16<00:00, 1527.61it/s]\n"
     ]
    },
    {
     "name": "stdout",
     "output_type": "stream",
     "text": [
      "Rat08/Rat08-20130710\n",
      "Rat : 8 on day : 3\n",
      "Working with session Rat08-20130710 @ E:/DATA/GG-Dataset/Rat08/Rat08-20130710\n",
      "Data already saved in Numpy format, loading them from here:\n",
      "Rat08-20130710-neurons.npy\n",
      "Rat08-20130710-metadata.npy\n",
      "total duration Rem 1480.0\n"
     ]
    },
    {
     "name": "stderr",
     "output_type": "stream",
     "text": [
      "100%|███████████████████████████████████████████████████████████████████████████| 25195/25195 [00:25<00:00, 997.40it/s]\n"
     ]
    },
    {
     "name": "stdout",
     "output_type": "stream",
     "text": [
      "Rat08/Rat08-20130711\n",
      "Rat : 8 on day : 4\n",
      "Working with session Rat08-20130711 @ E:/DATA/GG-Dataset/Rat08/Rat08-20130711\n",
      "Data already saved in Numpy format, loading them from here:\n",
      "Rat08-20130711-neurons.npy\n",
      "Rat08-20130711-metadata.npy\n",
      "total duration Rem 1043.0\n"
     ]
    },
    {
     "name": "stderr",
     "output_type": "stream",
     "text": [
      "100%|███████████████████████████████████████████████████████████████████████████| 21867/21867 [00:22<00:00, 966.41it/s]\n"
     ]
    },
    {
     "name": "stdout",
     "output_type": "stream",
     "text": [
      "Rat08/Rat08-20130712\n",
      "Rat : 8 on day : 5\n",
      "Working with session Rat08-20130712 @ E:/DATA/GG-Dataset/Rat08/Rat08-20130712\n",
      "Data already saved in Numpy format, loading them from here:\n",
      "Rat08-20130712-neurons.npy\n",
      "Rat08-20130712-metadata.npy\n",
      "total duration Rem 624.0\n"
     ]
    },
    {
     "name": "stderr",
     "output_type": "stream",
     "text": [
      "100%|██████████████████████████████████████████████████████████████████████████| 23980/23980 [00:16<00:00, 1482.90it/s]\n"
     ]
    },
    {
     "name": "stdout",
     "output_type": "stream",
     "text": [
      "Rat08/Rat08-20130715\n",
      "Rat : 8 on day : 7\n",
      "Working with session Rat08-20130715 @ E:/DATA/GG-Dataset/Rat08/Rat08-20130715\n",
      "Data already saved in Numpy format, loading them from here:\n",
      "Rat08-20130715-neurons.npy\n",
      "Rat08-20130715-metadata.npy\n",
      "total duration Rem 1059.0\n"
     ]
    },
    {
     "name": "stderr",
     "output_type": "stream",
     "text": [
      "100%|██████████████████████████████████████████████████████████████████████████| 21827/21827 [00:10<00:00, 1995.97it/s]\n"
     ]
    },
    {
     "name": "stdout",
     "output_type": "stream",
     "text": [
      "Rat08/Rat08-20130716\n",
      "Rat : 8 on day : 8\n",
      "Working with session Rat08-20130716 @ E:/DATA/GG-Dataset/Rat08/Rat08-20130716\n",
      "Data already saved in Numpy format, loading them from here:\n",
      "Rat08-20130716-neurons.npy\n",
      "Rat08-20130716-metadata.npy\n",
      "total duration Rem 1090.0\n"
     ]
    },
    {
     "name": "stderr",
     "output_type": "stream",
     "text": [
      "100%|██████████████████████████████████████████████████████████████████████████| 25112/25112 [00:11<00:00, 2193.28it/s]\n"
     ]
    },
    {
     "name": "stdout",
     "output_type": "stream",
     "text": [
      "Rat08/Rat08-20130717\n",
      "Rat : 8 on day : 9\n",
      "Working with session Rat08-20130717 @ E:/DATA/GG-Dataset/Rat08/Rat08-20130717\n",
      "Data already saved in Numpy format, loading them from here:\n",
      "Rat08-20130717-neurons.npy\n",
      "Rat08-20130717-metadata.npy\n",
      "total duration Rem 1620.0\n"
     ]
    },
    {
     "name": "stderr",
     "output_type": "stream",
     "text": [
      "100%|██████████████████████████████████████████████████████████████████████████| 23243/23243 [00:10<00:00, 2290.63it/s]\n"
     ]
    },
    {
     "name": "stdout",
     "output_type": "stream",
     "text": [
      "Rat08/Rat08-20130719\n",
      "Rat : 8 on day : 11\n",
      "Working with session Rat08-20130719 @ E:/DATA/GG-Dataset/Rat08/Rat08-20130719\n",
      "Data already saved in Numpy format, loading them from here:\n",
      "Rat08-20130719-neurons.npy\n",
      "Rat08-20130719-metadata.npy\n",
      "total duration Rem 1115.0\n",
      "NOT ENOUGH NEURONS\n",
      "Rat09/Rat09-20140324\n",
      "Rat : 9 on day : 1\n",
      "Working with session Rat09-20140324 @ E:/DATA/GG-Dataset/Rat09/Rat09-20140324\n",
      "Data already saved in Numpy format, loading them from here:\n",
      "Rat09-20140324-neurons.npy\n",
      "Rat09-20140324-metadata.npy\n",
      "total duration Rem 1674.0\n"
     ]
    },
    {
     "name": "stderr",
     "output_type": "stream",
     "text": [
      "100%|██████████████████████████████████████████████████████████████████████████| 23930/23930 [00:11<00:00, 2169.61it/s]\n"
     ]
    },
    {
     "name": "stdout",
     "output_type": "stream",
     "text": [
      "Rat09/Rat09-20140325\n",
      "Rat : 9 on day : 2\n",
      "Working with session Rat09-20140325 @ E:/DATA/GG-Dataset/Rat09/Rat09-20140325\n",
      "Data already saved in Numpy format, loading them from here:\n",
      "Rat09-20140325-neurons.npy\n",
      "Rat09-20140325-metadata.npy\n",
      "total duration Rem 1308.0\n"
     ]
    },
    {
     "name": "stderr",
     "output_type": "stream",
     "text": [
      "100%|██████████████████████████████████████████████████████████████████████████| 20033/20033 [00:09<00:00, 2155.17it/s]\n"
     ]
    },
    {
     "name": "stdout",
     "output_type": "stream",
     "text": [
      "Rat09/Rat09-20140326\n",
      "Rat : 9 on day : 3\n",
      "Working with session Rat09-20140326 @ E:/DATA/GG-Dataset/Rat09/Rat09-20140326\n",
      "Data already saved in Numpy format, loading them from here:\n",
      "Rat09-20140326-neurons.npy\n",
      "Rat09-20140326-metadata.npy\n",
      "total duration Rem 948.0\n"
     ]
    },
    {
     "name": "stderr",
     "output_type": "stream",
     "text": [
      "100%|███████████████████████████████████████████████████████████████████████████| 24306/24306 [00:29<00:00, 817.47it/s]\n"
     ]
    },
    {
     "name": "stdout",
     "output_type": "stream",
     "text": [
      "Rat09/Rat09-20140327\n",
      "Rat : 9 on day : 4\n",
      "Working with session Rat09-20140327 @ E:/DATA/GG-Dataset/Rat09/Rat09-20140327\n",
      "Data already saved in Numpy format, loading them from here:\n",
      "Rat09-20140327-neurons.npy\n",
      "Rat09-20140327-metadata.npy\n",
      "total duration Rem 1029.0\n"
     ]
    },
    {
     "name": "stderr",
     "output_type": "stream",
     "text": [
      "100%|███████████████████████████████████████████████████████████████████████████| 27146/27146 [00:35<00:00, 761.98it/s]\n"
     ]
    },
    {
     "name": "stdout",
     "output_type": "stream",
     "text": [
      "Rat09/Rat09-20140328\n",
      "Rat : 9 on day : 5\n",
      "Working with session Rat09-20140328 @ E:/DATA/GG-Dataset/Rat09/Rat09-20140328\n",
      "Data already saved in Numpy format, loading them from here:\n",
      "Rat09-20140328-neurons.npy\n",
      "Rat09-20140328-metadata.npy\n",
      "total duration Rem 710.0\n"
     ]
    },
    {
     "name": "stderr",
     "output_type": "stream",
     "text": [
      "100%|██████████████████████████████████████████████████████████████████████████| 12660/12660 [00:08<00:00, 1485.86it/s]\n"
     ]
    },
    {
     "name": "stdout",
     "output_type": "stream",
     "text": [
      "Rat09/Rat09-20140329\n",
      "Rat : 9 on day : 6\n",
      "Working with session Rat09-20140329 @ E:/DATA/GG-Dataset/Rat09/Rat09-20140329\n",
      "Data already saved in Numpy format, loading them from here:\n",
      "Rat09-20140329-neurons.npy\n",
      "Rat09-20140329-metadata.npy\n",
      "total duration Rem 331.0\n"
     ]
    },
    {
     "name": "stderr",
     "output_type": "stream",
     "text": [
      "100%|██████████████████████████████████████████████████████████████████████████| 20107/20107 [00:11<00:00, 1808.22it/s]\n"
     ]
    },
    {
     "name": "stdout",
     "output_type": "stream",
     "text": [
      "Rat09/Rat09-20140331\n",
      "Rat : 9 on day : 7\n",
      "Working with session Rat09-20140331 @ E:/DATA/GG-Dataset/Rat09/Rat09-20140331\n",
      "Data already saved in Numpy format, loading them from here:\n",
      "Rat09-20140331-neurons.npy\n",
      "Rat09-20140331-metadata.npy\n",
      "total duration Rem 464.0\n"
     ]
    },
    {
     "name": "stderr",
     "output_type": "stream",
     "text": [
      "100%|██████████████████████████████████████████████████████████████████████████| 23949/23949 [00:15<00:00, 1565.98it/s]\n"
     ]
    },
    {
     "name": "stdout",
     "output_type": "stream",
     "text": [
      "Rat09/Rat09-20140401\n",
      "Rat : 9 on day : 8\n",
      "Working with session Rat09-20140401 @ E:/DATA/GG-Dataset/Rat09/Rat09-20140401\n",
      "Data already saved in Numpy format, loading them from here:\n",
      "Rat09-20140401-neurons.npy\n",
      "Rat09-20140401-metadata.npy\n",
      "total duration Rem 1430.0\n"
     ]
    },
    {
     "name": "stderr",
     "output_type": "stream",
     "text": [
      "100%|██████████████████████████████████████████████████████████████████████████| 21826/21826 [00:11<00:00, 1846.41it/s]\n"
     ]
    },
    {
     "name": "stdout",
     "output_type": "stream",
     "text": [
      "Rat09/Rat09-20140402\n",
      "Rat : 9 on day : 9\n",
      "Working with session Rat09-20140402 @ E:/DATA/GG-Dataset/Rat09/Rat09-20140402\n",
      "Data already saved in Numpy format, loading them from here:\n",
      "Rat09-20140402-neurons.npy\n",
      "Rat09-20140402-metadata.npy\n",
      "total duration Rem 817.0\n"
     ]
    },
    {
     "name": "stderr",
     "output_type": "stream",
     "text": [
      "100%|██████████████████████████████████████████████████████████████████████████| 23074/23074 [00:11<00:00, 2067.43it/s]\n"
     ]
    },
    {
     "name": "stdout",
     "output_type": "stream",
     "text": [
      "Rat09/Rat09-20140403\n",
      "Rat : 9 on day : 10\n",
      "Working with session Rat09-20140403 @ E:/DATA/GG-Dataset/Rat09/Rat09-20140403\n",
      "Data already saved in Numpy format, loading them from here:\n",
      "Rat09-20140403-neurons.npy\n",
      "Rat09-20140403-metadata.npy\n",
      "total duration Rem 689.0\n",
      "NOT ENOUGH NEURONS\n",
      "Rat09/Rat09-20140404\n",
      "Rat : 9 on day : 11\n",
      "Working with session Rat09-20140404 @ E:/DATA/GG-Dataset/Rat09/Rat09-20140404\n",
      "Data already saved in Numpy format, loading them from here:\n",
      "Rat09-20140404-neurons.npy\n",
      "Rat09-20140404-metadata.npy\n",
      "total duration Rem 321.0\n",
      "NOT ENOUGH NEURONS\n",
      "Rat09/Rat09-20140405\n",
      "Rat : 9 on day : 12\n",
      "Working with session Rat09-20140405 @ E:/DATA/GG-Dataset/Rat09/Rat09-20140405\n",
      "Data already saved in Numpy format, loading them from here:\n",
      "Rat09-20140405-neurons.npy\n",
      "Rat09-20140405-metadata.npy\n",
      "total duration Rem 624.0\n",
      "NOT ENOUGH NEURONS\n",
      "Rat09/Rat09-20140407\n",
      "Rat : 9 on day : 13\n",
      "Working with session Rat09-20140407 @ E:/DATA/GG-Dataset/Rat09/Rat09-20140407\n",
      "Data already saved in Numpy format, loading them from here:\n",
      "Rat09-20140407-neurons.npy\n",
      "Rat09-20140407-metadata.npy\n",
      "total duration Rem 431.0\n",
      "NOT ENOUGH NEURONS\n",
      "Rat10/Rat10-20140624\n",
      "Rat : 10 on day : 4\n",
      "Working with session Rat10-20140624 @ E:/DATA/GG-Dataset/Rat10/Rat10-20140624\n",
      "Data already saved in Numpy format, loading them from here:\n",
      "Rat10-20140624-neurons.npy\n",
      "Rat10-20140624-metadata.npy\n",
      "total duration Rem 1836.0\n"
     ]
    },
    {
     "name": "stderr",
     "output_type": "stream",
     "text": [
      "100%|██████████████████████████████████████████████████████████████████████████| 20018/20018 [00:09<00:00, 2066.03it/s]\n"
     ]
    },
    {
     "name": "stdout",
     "output_type": "stream",
     "text": [
      "Rat10/Rat10-20140626\n",
      "Rat : 10 on day : 5\n",
      "Working with session Rat10-20140626 @ E:/DATA/GG-Dataset/Rat10/Rat10-20140626\n",
      "Data already saved in Numpy format, loading them from here:\n",
      "Rat10-20140626-neurons.npy\n",
      "Rat10-20140626-metadata.npy\n",
      "total duration Rem 971.0\n"
     ]
    },
    {
     "name": "stderr",
     "output_type": "stream",
     "text": [
      "100%|██████████████████████████████████████████████████████████████████████████| 17838/17838 [00:07<00:00, 2303.04it/s]\n"
     ]
    },
    {
     "name": "stdout",
     "output_type": "stream",
     "text": [
      "Rat10/Rat10-20140627\n",
      "Rat : 10 on day : 6\n",
      "Working with session Rat10-20140627 @ E:/DATA/GG-Dataset/Rat10/Rat10-20140627\n",
      "Data already saved in Numpy format, loading them from here:\n",
      "Rat10-20140627-neurons.npy\n",
      "Rat10-20140627-metadata.npy\n",
      "total duration Rem 1202.0\n",
      "NOT ENOUGH NEURONS\n",
      "Rat10/Rat10-20140628\n",
      "Rat : 10 on day : 7\n",
      "Working with session Rat10-20140628 @ E:/DATA/GG-Dataset/Rat10/Rat10-20140628\n",
      "Data already saved in Numpy format, loading them from here:\n",
      "Rat10-20140628-neurons.npy\n",
      "Rat10-20140628-metadata.npy\n",
      "total duration Rem 708.0\n"
     ]
    },
    {
     "name": "stderr",
     "output_type": "stream",
     "text": [
      "100%|██████████████████████████████████████████████████████████████████████████| 21646/21646 [00:10<00:00, 2118.79it/s]\n"
     ]
    },
    {
     "name": "stdout",
     "output_type": "stream",
     "text": [
      "Rat10/Rat10-20140629\n",
      "Rat : 10 on day : 8\n",
      "Working with session Rat10-20140629 @ E:/DATA/GG-Dataset/Rat10/Rat10-20140629\n",
      "Data already saved in Numpy format, loading them from here:\n",
      "Rat10-20140629-neurons.npy\n",
      "Rat10-20140629-metadata.npy\n",
      "total duration Rem 1739.0\n",
      "NOT ENOUGH NEURONS\n",
      "Rat10/Rat10-20140701\n",
      "Rat : 10 on day : 9\n",
      "Working with session Rat10-20140701 @ E:/DATA/GG-Dataset/Rat10/Rat10-20140701\n",
      "Data already saved in Numpy format, loading them from here:\n",
      "Rat10-20140701-neurons.npy\n",
      "Rat10-20140701-metadata.npy\n",
      "total duration Rem 1570.0\n",
      "NOT ENOUGH NEURONS\n",
      "Rat10/Rat10-20140702\n",
      "Rat : 10 on day : 10\n",
      "Working with session Rat10-20140702 @ E:/DATA/GG-Dataset/Rat10/Rat10-20140702\n",
      "Data already saved in Numpy format, loading them from here:\n",
      "Rat10-20140702-neurons.npy\n",
      "Rat10-20140702-metadata.npy\n",
      "total duration Rem 488.0\n",
      "NOT ENOUGH NEURONS\n",
      "Rat10/Rat10-20140703\n",
      "Rat : 10 on day : 11\n",
      "Working with session Rat10-20140703 @ E:/DATA/GG-Dataset/Rat10/Rat10-20140703\n",
      "Data already saved in Numpy format, loading them from here:\n",
      "Rat10-20140703-neurons.npy\n",
      "Rat10-20140703-metadata.npy\n",
      "total duration Rem 926.0\n",
      "NOT ENOUGH NEURONS\n",
      "Rat10/Rat10-20140704\n",
      "Rat : 10 on day : 12\n",
      "Working with session Rat10-20140704 @ E:/DATA/GG-Dataset/Rat10/Rat10-20140704\n",
      "Data already saved in Numpy format, loading them from here:\n",
      "Rat10-20140704-neurons.npy\n",
      "Rat10-20140704-metadata.npy\n",
      "total duration Rem 1246.0\n",
      "NOT ENOUGH NEURONS\n",
      "Rat10/Rat10-20140705\n",
      "Rat : 10 on day : 13\n",
      "Working with session Rat10-20140705 @ E:/DATA/GG-Dataset/Rat10/Rat10-20140705\n",
      "Data already saved in Numpy format, loading them from here:\n",
      "Rat10-20140705-neurons.npy\n",
      "Rat10-20140705-metadata.npy\n",
      "total duration Rem 535.0\n",
      "NOT ENOUGH NEURONS\n",
      "Rat10/Rat10-20140707\n",
      "Rat : 10 on day : 14\n",
      "Working with session Rat10-20140707 @ E:/DATA/GG-Dataset/Rat10/Rat10-20140707\n",
      "Data already saved in Numpy format, loading them from here:\n",
      "Rat10-20140707-neurons.npy\n",
      "Rat10-20140707-metadata.npy\n",
      "total duration Rem 936.0\n",
      "NOT ENOUGH NEURONS\n",
      "Rat11/Rat11-20150310\n",
      "Rat : 11 on day : 2\n",
      "Working with session Rat11-20150310 @ E:/DATA/GG-Dataset/Rat11/Rat11-20150310\n",
      "Data already saved in Numpy format, loading them from here:\n",
      "Rat11-20150310-neurons.npy\n",
      "Rat11-20150310-metadata.npy\n",
      "total duration Rem 1556.0\n",
      "NOT ENOUGH NEURONS\n",
      "Rat11/Rat11-20150312\n",
      "Rat : 11 on day : 3\n",
      "Working with session Rat11-20150312 @ E:/DATA/GG-Dataset/Rat11/Rat11-20150312\n",
      "Data already saved in Numpy format, loading them from here:\n",
      "Rat11-20150312-neurons.npy\n",
      "Rat11-20150312-metadata.npy\n",
      "total duration Rem 1434.0\n",
      "NOT ENOUGH NEURONS\n",
      "Rat11/Rat11-20150313\n",
      "Rat : 11 on day : 4\n",
      "Working with session Rat11-20150313 @ E:/DATA/GG-Dataset/Rat11/Rat11-20150313\n",
      "Data already saved in Numpy format, loading them from here:\n",
      "Rat11-20150313-neurons.npy\n",
      "Rat11-20150313-metadata.npy\n",
      "total duration Rem 1417.0\n",
      "NOT ENOUGH NEURONS\n",
      "Rat11/Rat11-20150314\n",
      "Rat : 11 on day : 5\n",
      "Working with session Rat11-20150314 @ E:/DATA/GG-Dataset/Rat11/Rat11-20150314\n",
      "Data already saved in Numpy format, loading them from here:\n",
      "Rat11-20150314-neurons.npy\n",
      "Rat11-20150314-metadata.npy\n",
      "total duration Rem 1055.0\n",
      "NOT ENOUGH NEURONS\n",
      "Rat11/Rat11-20150315\n",
      "Rat : 11 on day : 6\n",
      "Working with session Rat11-20150315 @ E:/DATA/GG-Dataset/Rat11/Rat11-20150315\n",
      "Data already saved in Numpy format, loading them from here:\n",
      "Rat11-20150315-neurons.npy\n",
      "Rat11-20150315-metadata.npy\n",
      "total duration Rem 1003.0\n",
      "NOT ENOUGH NEURONS\n",
      "Rat11/Rat11-20150316\n",
      "Rat : 11 on day : 7\n",
      "Working with session Rat11-20150316 @ E:/DATA/GG-Dataset/Rat11/Rat11-20150316\n",
      "Data already saved in Numpy format, loading them from here:\n",
      "Rat11-20150316-neurons.npy\n",
      "Rat11-20150316-metadata.npy\n",
      "total duration Rem 464.0\n",
      "NOT ENOUGH NEURONS\n",
      "Rat11/Rat11-20150317\n",
      "Rat : 11 on day : 8\n",
      "Working with session Rat11-20150317 @ E:/DATA/GG-Dataset/Rat11/Rat11-20150317\n",
      "Data already saved in Numpy format, loading them from here:\n",
      "Rat11-20150317-neurons.npy\n",
      "Rat11-20150317-metadata.npy\n",
      "total duration Rem 952.0\n",
      "NOT ENOUGH NEURONS\n",
      "Rat11/Rat11-20150321\n",
      "Rat : 11 on day : 11\n",
      "Working with session Rat11-20150321 @ E:/DATA/GG-Dataset/Rat11/Rat11-20150321\n",
      "Data already saved in Numpy format, loading them from here:\n",
      "Rat11-20150321-neurons.npy\n",
      "Rat11-20150321-metadata.npy\n",
      "total duration Rem 582.0\n"
     ]
    },
    {
     "name": "stderr",
     "output_type": "stream",
     "text": [
      "100%|██████████████████████████████████████████████████████████████████████████| 20649/20649 [00:08<00:00, 2306.92it/s]\n"
     ]
    },
    {
     "name": "stdout",
     "output_type": "stream",
     "text": [
      "Rat11/Rat11-20150323\n",
      "Rat : 11 on day : 12\n",
      "Working with session Rat11-20150323 @ E:/DATA/GG-Dataset/Rat11/Rat11-20150323\n",
      "Data already saved in Numpy format, loading them from here:\n",
      "Rat11-20150323-neurons.npy\n",
      "Rat11-20150323-metadata.npy\n",
      "total duration Rem 1090.0\n"
     ]
    },
    {
     "name": "stderr",
     "output_type": "stream",
     "text": [
      "100%|██████████████████████████████████████████████████████████████████████████| 24290/24290 [00:14<00:00, 1650.76it/s]\n"
     ]
    },
    {
     "name": "stdout",
     "output_type": "stream",
     "text": [
      "Rat11/Rat11-20150325\n",
      "Rat : 11 on day : 14\n",
      "Working with session Rat11-20150325 @ E:/DATA/GG-Dataset/Rat11/Rat11-20150325\n",
      "Data already saved in Numpy format, loading them from here:\n",
      "Rat11-20150325-neurons.npy\n",
      "Rat11-20150325-metadata.npy\n",
      "total duration Rem 1345.0\n"
     ]
    },
    {
     "name": "stderr",
     "output_type": "stream",
     "text": [
      "100%|███████████████████████████████████████████████████████████████████████████| 26214/26214 [00:36<00:00, 726.15it/s]\n"
     ]
    },
    {
     "name": "stdout",
     "output_type": "stream",
     "text": [
      "Rat11/Rat11-20150326\n",
      "Rat : 11 on day : 15\n",
      "Working with session Rat11-20150326 @ E:/DATA/GG-Dataset/Rat11/Rat11-20150326\n",
      "Data already saved in Numpy format, loading them from here:\n",
      "Rat11-20150326-neurons.npy\n",
      "Rat11-20150326-metadata.npy\n",
      "total duration Rem 1766.0\n"
     ]
    },
    {
     "name": "stderr",
     "output_type": "stream",
     "text": [
      "100%|███████████████████████████████████████████████████████████████████████████| 23205/23205 [00:41<00:00, 555.29it/s]\n"
     ]
    },
    {
     "name": "stdout",
     "output_type": "stream",
     "text": [
      "Rat11/Rat11-20150328\n",
      "Rat : 11 on day : 17\n",
      "Working with session Rat11-20150328 @ E:/DATA/GG-Dataset/Rat11/Rat11-20150328\n",
      "Data already saved in Numpy format, loading them from here:\n",
      "Rat11-20150328-neurons.npy\n",
      "Rat11-20150328-metadata.npy\n",
      "total duration Rem 1171.0\n"
     ]
    },
    {
     "name": "stderr",
     "output_type": "stream",
     "text": [
      "100%|██████████████████████████████████████████████████████████████████████████| 25003/25003 [00:24<00:00, 1032.81it/s]\n"
     ]
    },
    {
     "name": "stdout",
     "output_type": "stream",
     "text": [
      "Rat11/Rat11-20150330\n",
      "Rat : 11 on day : 18\n",
      "Working with session Rat11-20150330 @ E:/DATA/GG-Dataset/Rat11/Rat11-20150330\n",
      "Data already saved in Numpy format, loading them from here:\n",
      "Rat11-20150330-neurons.npy\n",
      "Rat11-20150330-metadata.npy\n",
      "total duration Rem 1395.0\n"
     ]
    },
    {
     "name": "stderr",
     "output_type": "stream",
     "text": [
      "100%|██████████████████████████████████████████████████████████████████████████| 22385/22385 [00:09<00:00, 2294.78it/s]\n"
     ]
    },
    {
     "name": "stdout",
     "output_type": "stream",
     "text": [
      "Rat11/Rat11-20150331\n",
      "Rat : 11 on day : 19\n",
      "Working with session Rat11-20150331 @ E:/DATA/GG-Dataset/Rat11/Rat11-20150331\n",
      "Data already saved in Numpy format, loading them from here:\n",
      "Rat11-20150331-neurons.npy\n",
      "Rat11-20150331-metadata.npy\n",
      "total duration Rem 1375.0\n"
     ]
    },
    {
     "name": "stderr",
     "output_type": "stream",
     "text": [
      "100%|██████████████████████████████████████████████████████████████████████████| 22776/22776 [00:10<00:00, 2230.77it/s]\n"
     ]
    },
    {
     "name": "stdout",
     "output_type": "stream",
     "text": [
      "Rat11/Rat11-20150402\n",
      "Rat : 11 on day : 21\n",
      "Working with session Rat11-20150402 @ E:/DATA/GG-Dataset/Rat11/Rat11-20150402\n",
      "Data already saved in Numpy format, loading them from here:\n",
      "Rat11-20150402-neurons.npy\n",
      "Rat11-20150402-metadata.npy\n",
      "total duration Rem 528.0\n",
      "NOT ENOUGH NEURONS\n",
      "Rat11/Rat11-20150403\n",
      "Rat : 11 on day : 22\n",
      "Working with session Rat11-20150403 @ E:/DATA/GG-Dataset/Rat11/Rat11-20150403\n",
      "Data already saved in Numpy format, loading them from here:\n",
      "Rat11-20150403-neurons.npy\n",
      "Rat11-20150403-metadata.npy\n",
      "total duration Rem 612.0\n",
      "NOT ENOUGH NEURONS\n"
     ]
    }
   ],
   "source": [
    "rats = ['Rat08', 'Rat09', 'Rat10', 'Rat11']\n",
    "to_ignore = ['Rat08-20130720', \n",
    "             'Rat08-20130722', \n",
    "             'Rat08-20130718',\n",
    "             \"Rat09-20140408\",\n",
    "             \"Rat09-20140409\",\n",
    "             \"Rat10-20140619\",\n",
    "             \"Rat10-20140620\",\n",
    "             \"Rat10-20140622\",\n",
    "             \"Rat10-20140708\",\n",
    "             \"Rat11-20150309\",\n",
    "             \"Rat11-20150318\",\n",
    "             \"Rat11-20150319\", \n",
    "             \"Rat11-20150324\",\n",
    "             \"Rat11-20150327\",\n",
    "             \"Rat11-20150401\"]\n",
    "\n",
    "syncs = {'syncs_first': [], 'syncs_last': []}\n",
    "\n",
    "for rat in rats:\n",
    "    os.chdir(f'E:/DATA/GG-Dataset/{rat}/')\n",
    "    \n",
    "    for i in os.listdir(f'E:/DATA/GG-Dataset/{rat}/'):\n",
    "        if i.endswith('.mat') or i in to_ignore:\n",
    "            continue\n",
    "\n",
    "        local_path= f'{rat}/{i}'\n",
    "        print(local_path)\n",
    "        bk.load.current_session_linux(base_folder= 'E:/DATA/GG-Dataset/',local_path= local_path)\n",
    "        states = bk.load.states()\n",
    "        neurons,metadata = bk.load.spikes() \n",
    "        \n",
    "        print(f\"total duration Rem {states['Rem'].tot_length()/1_000_000}\")\n",
    "        \n",
    "        if states['Rem'].tot_length()/1_000_000 < 100:\n",
    "            print(f'{local_path} NOT ENOUGH REM')\n",
    "            continue\n",
    "            \n",
    "        neurons_pyr_bla = neurons[(metadata['Type'] == 'Pyr') & (metadata['Region'] == 'BLA')]\n",
    "        if len(neurons_pyr_bla) < 20:\n",
    "            print('NOT ENOUGH NEURONS')\n",
    "            continue\n",
    "        \n",
    "        mean_sync_pyr_bla = mean_synchrony(neurons_pyr_bla, window=1, smallbins=0.1, shift=1)\n",
    "        mean_sync_pyr_bla_s = bk.compute.nts_smooth(mean_sync_pyr_bla, 100,50)\n",
    "\n",
    "        first, last = get_first_and_last_intervals(states['sws'])\n",
    "\n",
    "        sync_first = np.nanmean(mean_sync_pyr_bla_s.restrict(first).values)\n",
    "        sync_last = np.nanmean(mean_sync_pyr_bla_s.restrict(last).values)\n",
    "\n",
    "        syncs['syncs_first'].append(sync_first)\n",
    "        syncs['syncs_last'].append(sync_last)\n",
    "        \n",
    "syncs_f = np.nanmean(syncs['syncs_first'])\n",
    "syncs_l = np.nanmean(syncs['syncs_last'])"
   ]
  },
  {
   "cell_type": "code",
   "execution_count": 105,
   "id": "1c31ffcf",
   "metadata": {},
   "outputs": [
    {
     "data": {
      "text/plain": [
       "<BarContainer object of 2 artists>"
      ]
     },
     "execution_count": 105,
     "metadata": {},
     "output_type": "execute_result"
    }
   ],
   "source": [
    "plt.bar(x = [0,1], height = [syncs_first, syncs_last])"
   ]
  },
  {
   "cell_type": "code",
   "execution_count": 109,
   "id": "cebc502a",
   "metadata": {
    "collapsed": true,
    "jupyter": {
     "outputs_hidden": true
    }
   },
   "outputs": [
    {
     "data": {
      "text/plain": [
       "{'syncs_first': [0.05595993982548164,\n",
       "  0.09837215103871122,\n",
       "  0.08954986328116805,\n",
       "  0.0801525891773762,\n",
       "  0.07770863417079302,\n",
       "  0.14954560859850105,\n",
       "  0.13840551804065906,\n",
       "  0.13808564506020177,\n",
       "  0.16892326380121997,\n",
       "  0.13805186539422795,\n",
       "  0.062272548017484254,\n",
       "  0.046435920751681584,\n",
       "  0.058056353313524496,\n",
       "  0.09631179770742211,\n",
       "  0.05395753109192529,\n",
       "  0.07638939733389433,\n",
       "  0.09031993883250389,\n",
       "  0.1100050755089742,\n",
       "  0.15445707962390867,\n",
       "  0.156397740535071,\n",
       "  0.12432405523303211,\n",
       "  0.11436723976166815,\n",
       "  0.0485585312838301,\n",
       "  0.046929096822757616,\n",
       "  0.08222780643940973,\n",
       "  0.1801191025030225,\n",
       "  0.14431532298716576],\n",
       " 'syncs_last': [0.054664034201258434,\n",
       "  0.09954331558783497,\n",
       "  0.07557692703469587,\n",
       "  0.06833118326793622,\n",
       "  0.0674458899698727,\n",
       "  0.12290378342373368,\n",
       "  0.14571669211292493,\n",
       "  0.13683434923876284,\n",
       "  0.15333171704690574,\n",
       "  0.13148693767598382,\n",
       "  0.05770680875221293,\n",
       "  0.05282859932611181,\n",
       "  0.06622672764399425,\n",
       "  0.07683442171442934,\n",
       "  0.0647004317075495,\n",
       "  0.08073699371706497,\n",
       "  0.09867547732438853,\n",
       "  0.12464092733583684,\n",
       "  0.19422596842653306,\n",
       "  0.14911524699149545,\n",
       "  0.11745315288034526,\n",
       "  0.09038044088168753,\n",
       "  0.04521598048801635,\n",
       "  0.038788309570039994,\n",
       "  0.0697149709056922,\n",
       "  0.14271901449067348,\n",
       "  0.14934454317033496]}"
      ]
     },
     "execution_count": 109,
     "metadata": {},
     "output_type": "execute_result"
    }
   ],
   "source": [
    "syncs"
   ]
  },
  {
   "cell_type": "code",
   "execution_count": 116,
   "id": "928b6032",
   "metadata": {},
   "outputs": [
    {
     "data": {
      "text/plain": [
       "(0.025, 0.225)"
      ]
     },
     "execution_count": 116,
     "metadata": {},
     "output_type": "execute_result"
    }
   ],
   "source": [
    "syncs = pd.DataFrame(syncs)\n",
    "sns.boxplot(data = syncs, whis=np.inf)\n",
    "sns.swarmplot(data = syncs, color=\".2\")\n",
    "plt.ylim(0.025, 0.225)"
   ]
  },
  {
   "cell_type": "code",
   "execution_count": 113,
   "id": "cf074c7d",
   "metadata": {},
   "outputs": [
    {
     "data": {
      "text/plain": [
       "KruskalResult(statistic=0.0018705574261161928, pvalue=0.9655022948721989)"
      ]
     },
     "execution_count": 113,
     "metadata": {},
     "output_type": "execute_result"
    }
   ],
   "source": [
    "sp.stats.kruskal(syncs['syncs_first'], syncs['syncs_last'], nan_policy='omit')"
   ]
  },
  {
   "cell_type": "markdown",
   "id": "2452382b",
   "metadata": {},
   "source": [
    "# Refaire fig Grosmark2012 pour extended sleep"
   ]
  },
  {
   "cell_type": "code",
   "execution_count": 183,
   "id": "92c7c66e",
   "metadata": {
    "collapsed": true,
    "jupyter": {
     "outputs_hidden": true
    }
   },
   "outputs": [
    {
     "name": "stdout",
     "output_type": "stream",
     "text": [
      "Rat08/Rat08-20130713\n",
      "Rat : 8 on day : 6\n",
      "Working with session Rat08-20130713 @ E:/DATA/GG-Dataset/Rat08/Rat08-20130713\n",
      "Data already saved in Numpy format, loading them from here:\n",
      "Rat08-20130713-neurons.npy\n",
      "Rat08-20130713-metadata.npy\n",
      "total duration Rem 2371.0\n"
     ]
    },
    {
     "name": "stderr",
     "output_type": "stream",
     "text": [
      "  0%|                                                                                        | 0/22679 [00:00<?, ?it/s]C:\\Users\\maell\\anaconda3\\lib\\site-packages\\numpy\\lib\\function_base.py:2691: RuntimeWarning: invalid value encountered in true_divide\n",
      "  c /= stddev[:, None]\n",
      "C:\\Users\\maell\\anaconda3\\lib\\site-packages\\numpy\\lib\\function_base.py:2692: RuntimeWarning: invalid value encountered in true_divide\n",
      "  c /= stddev[None, :]\n",
      "100%|██████████████████████████████████████████████████████████████████████████| 22679/22679 [00:12<00:00, 1806.37it/s]\n"
     ]
    },
    {
     "name": "stdout",
     "output_type": "stream",
     "text": [
      "Rat08/Rat08-20130708\n",
      "Rat : 8 on day : 1\n",
      "Working with session Rat08-20130708 @ E:/DATA/GG-Dataset/Rat08/Rat08-20130708\n",
      "Data already saved in Numpy format, loading them from here:\n",
      "Rat08-20130708-neurons.npy\n",
      "Rat08-20130708-metadata.npy\n",
      "total duration Rem 1604.0\n",
      "NOT ENOUGH NEURONS\n",
      "Rat08/Rat08-20130709\n",
      "Rat : 8 on day : 2\n",
      "Working with session Rat08-20130709 @ E:/DATA/GG-Dataset/Rat08/Rat08-20130709\n",
      "Data already saved in Numpy format, loading them from here:\n",
      "Rat08-20130709-neurons.npy\n",
      "Rat08-20130709-metadata.npy\n",
      "total duration Rem 1930.0\n"
     ]
    },
    {
     "name": "stderr",
     "output_type": "stream",
     "text": [
      " 20%|███████████████▎                                                           | 5229/25510 [00:01<00:05, 3636.40it/s]C:\\Users\\maell\\AppData\\Local\\Temp/ipykernel_20972/1913985095.py:31: RuntimeWarning: Mean of empty slice\n",
      "  mean_sync[i] = np.nanmean(corrcoef) #compute the mean of corrcoef for each window, disregarding the nan\n",
      "100%|██████████████████████████████████████████████████████████████████████████| 25510/25510 [00:07<00:00, 3620.35it/s]\n"
     ]
    },
    {
     "name": "stdout",
     "output_type": "stream",
     "text": [
      "Rat08/Rat08-20130710\n",
      "Rat : 8 on day : 3\n",
      "Working with session Rat08-20130710 @ E:/DATA/GG-Dataset/Rat08/Rat08-20130710\n",
      "Data already saved in Numpy format, loading them from here:\n",
      "Rat08-20130710-neurons.npy\n",
      "Rat08-20130710-metadata.npy\n",
      "total duration Rem 1480.0\n"
     ]
    },
    {
     "name": "stderr",
     "output_type": "stream",
     "text": [
      "100%|██████████████████████████████████████████████████████████████████████████| 25195/25195 [00:12<00:00, 1973.28it/s]\n"
     ]
    },
    {
     "name": "stdout",
     "output_type": "stream",
     "text": [
      "Rat08/Rat08-20130711\n",
      "Rat : 8 on day : 4\n",
      "Working with session Rat08-20130711 @ E:/DATA/GG-Dataset/Rat08/Rat08-20130711\n",
      "Data already saved in Numpy format, loading them from here:\n",
      "Rat08-20130711-neurons.npy\n",
      "Rat08-20130711-metadata.npy\n",
      "total duration Rem 1043.0\n"
     ]
    },
    {
     "name": "stderr",
     "output_type": "stream",
     "text": [
      "100%|██████████████████████████████████████████████████████████████████████████| 21867/21867 [00:10<00:00, 1997.20it/s]\n"
     ]
    },
    {
     "name": "stdout",
     "output_type": "stream",
     "text": [
      "Rat08/Rat08-20130712\n",
      "Rat : 8 on day : 5\n",
      "Working with session Rat08-20130712 @ E:/DATA/GG-Dataset/Rat08/Rat08-20130712\n",
      "Data already saved in Numpy format, loading them from here:\n",
      "Rat08-20130712-neurons.npy\n",
      "Rat08-20130712-metadata.npy\n",
      "total duration Rem 624.0\n"
     ]
    },
    {
     "name": "stderr",
     "output_type": "stream",
     "text": [
      "100%|██████████████████████████████████████████████████████████████████████████| 23980/23980 [00:06<00:00, 3698.15it/s]\n"
     ]
    },
    {
     "name": "stdout",
     "output_type": "stream",
     "text": [
      "Rat08/Rat08-20130715\n",
      "Rat : 8 on day : 7\n",
      "Working with session Rat08-20130715 @ E:/DATA/GG-Dataset/Rat08/Rat08-20130715\n",
      "Data already saved in Numpy format, loading them from here:\n",
      "Rat08-20130715-neurons.npy\n",
      "Rat08-20130715-metadata.npy\n",
      "total duration Rem 1059.0\n"
     ]
    },
    {
     "name": "stderr",
     "output_type": "stream",
     "text": [
      "100%|██████████████████████████████████████████████████████████████████████████| 21827/21827 [00:04<00:00, 5393.77it/s]\n"
     ]
    },
    {
     "name": "stdout",
     "output_type": "stream",
     "text": [
      "Rat08/Rat08-20130716\n",
      "Rat : 8 on day : 8\n",
      "Working with session Rat08-20130716 @ E:/DATA/GG-Dataset/Rat08/Rat08-20130716\n",
      "Data already saved in Numpy format, loading them from here:\n",
      "Rat08-20130716-neurons.npy\n",
      "Rat08-20130716-metadata.npy\n",
      "total duration Rem 1090.0\n"
     ]
    },
    {
     "name": "stderr",
     "output_type": "stream",
     "text": [
      "100%|██████████████████████████████████████████████████████████████████████████| 25112/25112 [00:04<00:00, 5636.30it/s]\n"
     ]
    },
    {
     "name": "stdout",
     "output_type": "stream",
     "text": [
      "Rat08/Rat08-20130717\n",
      "Rat : 8 on day : 9\n",
      "Working with session Rat08-20130717 @ E:/DATA/GG-Dataset/Rat08/Rat08-20130717\n",
      "Data already saved in Numpy format, loading them from here:\n",
      "Rat08-20130717-neurons.npy\n",
      "Rat08-20130717-metadata.npy\n",
      "total duration Rem 1620.0\n"
     ]
    },
    {
     "name": "stderr",
     "output_type": "stream",
     "text": [
      "100%|██████████████████████████████████████████████████████████████████████████| 23243/23243 [00:04<00:00, 5188.46it/s]\n"
     ]
    },
    {
     "name": "stdout",
     "output_type": "stream",
     "text": [
      "Rat08/Rat08-20130719\n",
      "Rat : 8 on day : 11\n",
      "Working with session Rat08-20130719 @ E:/DATA/GG-Dataset/Rat08/Rat08-20130719\n",
      "Data already saved in Numpy format, loading them from here:\n",
      "Rat08-20130719-neurons.npy\n",
      "Rat08-20130719-metadata.npy\n",
      "total duration Rem 1115.0\n",
      "NOT ENOUGH NEURONS\n",
      "Rat09/Rat09-20140324\n",
      "Rat : 9 on day : 1\n",
      "Working with session Rat09-20140324 @ E:/DATA/GG-Dataset/Rat09/Rat09-20140324\n",
      "Data already saved in Numpy format, loading them from here:\n",
      "Rat09-20140324-neurons.npy\n",
      "Rat09-20140324-metadata.npy\n",
      "total duration Rem 1674.0\n"
     ]
    },
    {
     "name": "stderr",
     "output_type": "stream",
     "text": [
      "100%|██████████████████████████████████████████████████████████████████████████| 23930/23930 [00:04<00:00, 5268.61it/s]\n"
     ]
    },
    {
     "name": "stdout",
     "output_type": "stream",
     "text": [
      "Rat09/Rat09-20140325\n",
      "Rat : 9 on day : 2\n",
      "Working with session Rat09-20140325 @ E:/DATA/GG-Dataset/Rat09/Rat09-20140325\n",
      "Data already saved in Numpy format, loading them from here:\n",
      "Rat09-20140325-neurons.npy\n",
      "Rat09-20140325-metadata.npy\n",
      "total duration Rem 1308.0\n"
     ]
    },
    {
     "name": "stderr",
     "output_type": "stream",
     "text": [
      "100%|██████████████████████████████████████████████████████████████████████████| 20033/20033 [00:03<00:00, 5057.75it/s]\n"
     ]
    },
    {
     "name": "stdout",
     "output_type": "stream",
     "text": [
      "Rat09/Rat09-20140326\n",
      "Rat : 9 on day : 3\n",
      "Working with session Rat09-20140326 @ E:/DATA/GG-Dataset/Rat09/Rat09-20140326\n",
      "Data already saved in Numpy format, loading them from here:\n",
      "Rat09-20140326-neurons.npy\n",
      "Rat09-20140326-metadata.npy\n",
      "total duration Rem 948.0\n"
     ]
    },
    {
     "name": "stderr",
     "output_type": "stream",
     "text": [
      "100%|██████████████████████████████████████████████████████████████████████████| 24306/24306 [00:13<00:00, 1813.12it/s]\n"
     ]
    },
    {
     "name": "stdout",
     "output_type": "stream",
     "text": [
      "Rat09/Rat09-20140327\n",
      "Rat : 9 on day : 4\n",
      "Working with session Rat09-20140327 @ E:/DATA/GG-Dataset/Rat09/Rat09-20140327\n",
      "Data already saved in Numpy format, loading them from here:\n",
      "Rat09-20140327-neurons.npy\n",
      "Rat09-20140327-metadata.npy\n",
      "total duration Rem 1029.0\n"
     ]
    },
    {
     "name": "stderr",
     "output_type": "stream",
     "text": [
      "100%|██████████████████████████████████████████████████████████████████████████| 27146/27146 [00:16<00:00, 1671.88it/s]\n"
     ]
    },
    {
     "name": "stdout",
     "output_type": "stream",
     "text": [
      "Rat09/Rat09-20140328\n",
      "Rat : 9 on day : 5\n",
      "Working with session Rat09-20140328 @ E:/DATA/GG-Dataset/Rat09/Rat09-20140328\n",
      "Data already saved in Numpy format, loading them from here:\n",
      "Rat09-20140328-neurons.npy\n",
      "Rat09-20140328-metadata.npy\n",
      "total duration Rem 710.0\n"
     ]
    },
    {
     "name": "stderr",
     "output_type": "stream",
     "text": [
      "100%|██████████████████████████████████████████████████████████████████████████| 12660/12660 [00:03<00:00, 3677.43it/s]\n"
     ]
    },
    {
     "name": "stdout",
     "output_type": "stream",
     "text": [
      "Rat09/Rat09-20140329\n",
      "Rat : 9 on day : 6\n",
      "Working with session Rat09-20140329 @ E:/DATA/GG-Dataset/Rat09/Rat09-20140329\n",
      "Data already saved in Numpy format, loading them from here:\n",
      "Rat09-20140329-neurons.npy\n",
      "Rat09-20140329-metadata.npy\n",
      "total duration Rem 331.0\n"
     ]
    },
    {
     "name": "stderr",
     "output_type": "stream",
     "text": [
      "100%|██████████████████████████████████████████████████████████████████████████| 20107/20107 [00:04<00:00, 4390.07it/s]\n"
     ]
    },
    {
     "name": "stdout",
     "output_type": "stream",
     "text": [
      "Rat09/Rat09-20140331\n",
      "Rat : 9 on day : 7\n",
      "Working with session Rat09-20140331 @ E:/DATA/GG-Dataset/Rat09/Rat09-20140331\n",
      "Data already saved in Numpy format, loading them from here:\n",
      "Rat09-20140331-neurons.npy\n",
      "Rat09-20140331-metadata.npy\n",
      "total duration Rem 464.0\n"
     ]
    },
    {
     "name": "stderr",
     "output_type": "stream",
     "text": [
      "100%|██████████████████████████████████████████████████████████████████████████| 23949/23949 [00:06<00:00, 3631.16it/s]\n"
     ]
    },
    {
     "name": "stdout",
     "output_type": "stream",
     "text": [
      "Rat09/Rat09-20140401\n",
      "Rat : 9 on day : 8\n",
      "Working with session Rat09-20140401 @ E:/DATA/GG-Dataset/Rat09/Rat09-20140401\n",
      "Data already saved in Numpy format, loading them from here:\n",
      "Rat09-20140401-neurons.npy\n",
      "Rat09-20140401-metadata.npy\n",
      "total duration Rem 1430.0\n"
     ]
    },
    {
     "name": "stderr",
     "output_type": "stream",
     "text": [
      "100%|██████████████████████████████████████████████████████████████████████████| 21826/21826 [00:05<00:00, 4263.60it/s]\n"
     ]
    },
    {
     "name": "stdout",
     "output_type": "stream",
     "text": [
      "Rat09/Rat09-20140402\n",
      "Rat : 9 on day : 9\n",
      "Working with session Rat09-20140402 @ E:/DATA/GG-Dataset/Rat09/Rat09-20140402\n",
      "Data already saved in Numpy format, loading them from here:\n",
      "Rat09-20140402-neurons.npy\n",
      "Rat09-20140402-metadata.npy\n",
      "total duration Rem 817.0\n"
     ]
    },
    {
     "name": "stderr",
     "output_type": "stream",
     "text": [
      "100%|██████████████████████████████████████████████████████████████████████████| 23074/23074 [00:04<00:00, 4869.47it/s]\n"
     ]
    },
    {
     "name": "stdout",
     "output_type": "stream",
     "text": [
      "Rat09/Rat09-20140403\n",
      "Rat : 9 on day : 10\n",
      "Working with session Rat09-20140403 @ E:/DATA/GG-Dataset/Rat09/Rat09-20140403\n",
      "Data already saved in Numpy format, loading them from here:\n",
      "Rat09-20140403-neurons.npy\n",
      "Rat09-20140403-metadata.npy\n",
      "total duration Rem 689.0\n",
      "NOT ENOUGH NEURONS\n",
      "Rat09/Rat09-20140404\n",
      "Rat : 9 on day : 11\n",
      "Working with session Rat09-20140404 @ E:/DATA/GG-Dataset/Rat09/Rat09-20140404\n",
      "Data already saved in Numpy format, loading them from here:\n",
      "Rat09-20140404-neurons.npy\n",
      "Rat09-20140404-metadata.npy\n",
      "total duration Rem 321.0\n",
      "NOT ENOUGH NEURONS\n",
      "Rat09/Rat09-20140405\n",
      "Rat : 9 on day : 12\n",
      "Working with session Rat09-20140405 @ E:/DATA/GG-Dataset/Rat09/Rat09-20140405\n",
      "Data already saved in Numpy format, loading them from here:\n",
      "Rat09-20140405-neurons.npy\n",
      "Rat09-20140405-metadata.npy\n",
      "total duration Rem 624.0\n",
      "NOT ENOUGH NEURONS\n",
      "Rat09/Rat09-20140407\n",
      "Rat : 9 on day : 13\n",
      "Working with session Rat09-20140407 @ E:/DATA/GG-Dataset/Rat09/Rat09-20140407\n",
      "Data already saved in Numpy format, loading them from here:\n",
      "Rat09-20140407-neurons.npy\n",
      "Rat09-20140407-metadata.npy\n",
      "total duration Rem 431.0\n",
      "NOT ENOUGH NEURONS\n",
      "Rat10/Rat10-20140624\n",
      "Rat : 10 on day : 4\n",
      "Working with session Rat10-20140624 @ E:/DATA/GG-Dataset/Rat10/Rat10-20140624\n",
      "Data already saved in Numpy format, loading them from here:\n",
      "Rat10-20140624-neurons.npy\n",
      "Rat10-20140624-metadata.npy\n",
      "total duration Rem 1836.0\n"
     ]
    },
    {
     "name": "stderr",
     "output_type": "stream",
     "text": [
      "100%|██████████████████████████████████████████████████████████████████████████| 20018/20018 [00:03<00:00, 5225.91it/s]\n"
     ]
    },
    {
     "name": "stdout",
     "output_type": "stream",
     "text": [
      "Rat10/Rat10-20140626\n",
      "Rat : 10 on day : 5\n",
      "Working with session Rat10-20140626 @ E:/DATA/GG-Dataset/Rat10/Rat10-20140626\n",
      "Data already saved in Numpy format, loading them from here:\n",
      "Rat10-20140626-neurons.npy\n",
      "Rat10-20140626-metadata.npy\n",
      "total duration Rem 971.0\n"
     ]
    },
    {
     "name": "stderr",
     "output_type": "stream",
     "text": [
      "100%|██████████████████████████████████████████████████████████████████████████| 17838/17838 [00:03<00:00, 5535.93it/s]\n"
     ]
    },
    {
     "name": "stdout",
     "output_type": "stream",
     "text": [
      "Rat10/Rat10-20140627\n",
      "Rat : 10 on day : 6\n",
      "Working with session Rat10-20140627 @ E:/DATA/GG-Dataset/Rat10/Rat10-20140627\n",
      "Data already saved in Numpy format, loading them from here:\n",
      "Rat10-20140627-neurons.npy\n",
      "Rat10-20140627-metadata.npy\n",
      "total duration Rem 1202.0\n",
      "NOT ENOUGH NEURONS\n",
      "Rat10/Rat10-20140628\n",
      "Rat : 10 on day : 7\n",
      "Working with session Rat10-20140628 @ E:/DATA/GG-Dataset/Rat10/Rat10-20140628\n",
      "Data already saved in Numpy format, loading them from here:\n",
      "Rat10-20140628-neurons.npy\n",
      "Rat10-20140628-metadata.npy\n",
      "total duration Rem 708.0\n"
     ]
    },
    {
     "name": "stderr",
     "output_type": "stream",
     "text": [
      "100%|██████████████████████████████████████████████████████████████████████████| 21646/21646 [00:03<00:00, 5636.36it/s]\n"
     ]
    },
    {
     "name": "stdout",
     "output_type": "stream",
     "text": [
      "Rat10/Rat10-20140629\n",
      "Rat : 10 on day : 8\n",
      "Working with session Rat10-20140629 @ E:/DATA/GG-Dataset/Rat10/Rat10-20140629\n",
      "Data already saved in Numpy format, loading them from here:\n",
      "Rat10-20140629-neurons.npy\n",
      "Rat10-20140629-metadata.npy\n",
      "total duration Rem 1739.0\n",
      "NOT ENOUGH NEURONS\n",
      "Rat10/Rat10-20140701\n",
      "Rat : 10 on day : 9\n",
      "Working with session Rat10-20140701 @ E:/DATA/GG-Dataset/Rat10/Rat10-20140701\n",
      "Data already saved in Numpy format, loading them from here:\n",
      "Rat10-20140701-neurons.npy\n",
      "Rat10-20140701-metadata.npy\n",
      "total duration Rem 1570.0\n",
      "NOT ENOUGH NEURONS\n",
      "Rat10/Rat10-20140702\n",
      "Rat : 10 on day : 10\n",
      "Working with session Rat10-20140702 @ E:/DATA/GG-Dataset/Rat10/Rat10-20140702\n",
      "Data already saved in Numpy format, loading them from here:\n",
      "Rat10-20140702-neurons.npy\n",
      "Rat10-20140702-metadata.npy\n",
      "total duration Rem 488.0\n",
      "NOT ENOUGH NEURONS\n",
      "Rat10/Rat10-20140703\n",
      "Rat : 10 on day : 11\n",
      "Working with session Rat10-20140703 @ E:/DATA/GG-Dataset/Rat10/Rat10-20140703\n",
      "Data already saved in Numpy format, loading them from here:\n",
      "Rat10-20140703-neurons.npy\n",
      "Rat10-20140703-metadata.npy\n",
      "total duration Rem 926.0\n",
      "NOT ENOUGH NEURONS\n",
      "Rat10/Rat10-20140704\n",
      "Rat : 10 on day : 12\n",
      "Working with session Rat10-20140704 @ E:/DATA/GG-Dataset/Rat10/Rat10-20140704\n",
      "Data already saved in Numpy format, loading them from here:\n",
      "Rat10-20140704-neurons.npy\n",
      "Rat10-20140704-metadata.npy\n",
      "total duration Rem 1246.0\n",
      "NOT ENOUGH NEURONS\n",
      "Rat10/Rat10-20140705\n",
      "Rat : 10 on day : 13\n",
      "Working with session Rat10-20140705 @ E:/DATA/GG-Dataset/Rat10/Rat10-20140705\n",
      "Data already saved in Numpy format, loading them from here:\n",
      "Rat10-20140705-neurons.npy\n",
      "Rat10-20140705-metadata.npy\n",
      "total duration Rem 535.0\n",
      "NOT ENOUGH NEURONS\n",
      "Rat10/Rat10-20140707\n",
      "Rat : 10 on day : 14\n",
      "Working with session Rat10-20140707 @ E:/DATA/GG-Dataset/Rat10/Rat10-20140707\n",
      "Data already saved in Numpy format, loading them from here:\n",
      "Rat10-20140707-neurons.npy\n",
      "Rat10-20140707-metadata.npy\n",
      "total duration Rem 936.0\n",
      "NOT ENOUGH NEURONS\n",
      "Rat11/Rat11-20150310\n",
      "Rat : 11 on day : 2\n",
      "Working with session Rat11-20150310 @ E:/DATA/GG-Dataset/Rat11/Rat11-20150310\n",
      "Data already saved in Numpy format, loading them from here:\n",
      "Rat11-20150310-neurons.npy\n",
      "Rat11-20150310-metadata.npy\n",
      "total duration Rem 1556.0\n",
      "NOT ENOUGH NEURONS\n",
      "Rat11/Rat11-20150312\n",
      "Rat : 11 on day : 3\n",
      "Working with session Rat11-20150312 @ E:/DATA/GG-Dataset/Rat11/Rat11-20150312\n",
      "Data already saved in Numpy format, loading them from here:\n",
      "Rat11-20150312-neurons.npy\n",
      "Rat11-20150312-metadata.npy\n",
      "total duration Rem 1434.0\n",
      "NOT ENOUGH NEURONS\n",
      "Rat11/Rat11-20150313\n",
      "Rat : 11 on day : 4\n",
      "Working with session Rat11-20150313 @ E:/DATA/GG-Dataset/Rat11/Rat11-20150313\n",
      "Data already saved in Numpy format, loading them from here:\n",
      "Rat11-20150313-neurons.npy\n",
      "Rat11-20150313-metadata.npy\n",
      "total duration Rem 1417.0\n",
      "NOT ENOUGH NEURONS\n",
      "Rat11/Rat11-20150314\n",
      "Rat : 11 on day : 5\n",
      "Working with session Rat11-20150314 @ E:/DATA/GG-Dataset/Rat11/Rat11-20150314\n",
      "Data already saved in Numpy format, loading them from here:\n",
      "Rat11-20150314-neurons.npy\n",
      "Rat11-20150314-metadata.npy\n",
      "total duration Rem 1055.0\n",
      "NOT ENOUGH NEURONS\n",
      "Rat11/Rat11-20150315\n",
      "Rat : 11 on day : 6\n",
      "Working with session Rat11-20150315 @ E:/DATA/GG-Dataset/Rat11/Rat11-20150315\n",
      "Data already saved in Numpy format, loading them from here:\n",
      "Rat11-20150315-neurons.npy\n",
      "Rat11-20150315-metadata.npy\n",
      "total duration Rem 1003.0\n",
      "NOT ENOUGH NEURONS\n",
      "Rat11/Rat11-20150316\n",
      "Rat : 11 on day : 7\n",
      "Working with session Rat11-20150316 @ E:/DATA/GG-Dataset/Rat11/Rat11-20150316\n",
      "Data already saved in Numpy format, loading them from here:\n",
      "Rat11-20150316-neurons.npy\n",
      "Rat11-20150316-metadata.npy\n",
      "total duration Rem 464.0\n",
      "NOT ENOUGH NEURONS\n",
      "Rat11/Rat11-20150317\n",
      "Rat : 11 on day : 8\n",
      "Working with session Rat11-20150317 @ E:/DATA/GG-Dataset/Rat11/Rat11-20150317\n",
      "Data already saved in Numpy format, loading them from here:\n",
      "Rat11-20150317-neurons.npy\n",
      "Rat11-20150317-metadata.npy\n",
      "total duration Rem 952.0\n",
      "NOT ENOUGH NEURONS\n",
      "Rat11/Rat11-20150321\n",
      "Rat : 11 on day : 11\n",
      "Working with session Rat11-20150321 @ E:/DATA/GG-Dataset/Rat11/Rat11-20150321\n",
      "Data already saved in Numpy format, loading them from here:\n",
      "Rat11-20150321-neurons.npy\n",
      "Rat11-20150321-metadata.npy\n",
      "total duration Rem 582.0\n"
     ]
    },
    {
     "name": "stderr",
     "output_type": "stream",
     "text": [
      "100%|██████████████████████████████████████████████████████████████████████████| 20649/20649 [00:03<00:00, 5556.46it/s]\n"
     ]
    },
    {
     "name": "stdout",
     "output_type": "stream",
     "text": [
      "Rat11/Rat11-20150323\n",
      "Rat : 11 on day : 12\n",
      "Working with session Rat11-20150323 @ E:/DATA/GG-Dataset/Rat11/Rat11-20150323\n",
      "Data already saved in Numpy format, loading them from here:\n",
      "Rat11-20150323-neurons.npy\n",
      "Rat11-20150323-metadata.npy\n",
      "total duration Rem 1090.0\n"
     ]
    },
    {
     "name": "stderr",
     "output_type": "stream",
     "text": [
      "100%|██████████████████████████████████████████████████████████████████████████| 24290/24290 [00:06<00:00, 4004.20it/s]\n"
     ]
    },
    {
     "name": "stdout",
     "output_type": "stream",
     "text": [
      "Rat11/Rat11-20150325\n",
      "Rat : 11 on day : 14\n",
      "Working with session Rat11-20150325 @ E:/DATA/GG-Dataset/Rat11/Rat11-20150325\n",
      "Data already saved in Numpy format, loading them from here:\n",
      "Rat11-20150325-neurons.npy\n",
      "Rat11-20150325-metadata.npy\n",
      "total duration Rem 1345.0\n"
     ]
    },
    {
     "name": "stderr",
     "output_type": "stream",
     "text": [
      "100%|██████████████████████████████████████████████████████████████████████████| 26214/26214 [00:16<00:00, 1555.30it/s]\n"
     ]
    },
    {
     "name": "stdout",
     "output_type": "stream",
     "text": [
      "Rat11/Rat11-20150326\n",
      "Rat : 11 on day : 15\n",
      "Working with session Rat11-20150326 @ E:/DATA/GG-Dataset/Rat11/Rat11-20150326\n",
      "Data already saved in Numpy format, loading them from here:\n",
      "Rat11-20150326-neurons.npy\n",
      "Rat11-20150326-metadata.npy\n",
      "total duration Rem 1766.0\n"
     ]
    },
    {
     "name": "stderr",
     "output_type": "stream",
     "text": [
      "100%|██████████████████████████████████████████████████████████████████████████| 23205/23205 [00:19<00:00, 1170.31it/s]\n"
     ]
    },
    {
     "name": "stdout",
     "output_type": "stream",
     "text": [
      "Rat11/Rat11-20150328\n",
      "Rat : 11 on day : 17\n",
      "Working with session Rat11-20150328 @ E:/DATA/GG-Dataset/Rat11/Rat11-20150328\n",
      "Data already saved in Numpy format, loading them from here:\n",
      "Rat11-20150328-neurons.npy\n",
      "Rat11-20150328-metadata.npy\n",
      "total duration Rem 1171.0\n"
     ]
    },
    {
     "name": "stderr",
     "output_type": "stream",
     "text": [
      "100%|██████████████████████████████████████████████████████████████████████████| 25003/25003 [00:11<00:00, 2187.10it/s]\n"
     ]
    },
    {
     "name": "stdout",
     "output_type": "stream",
     "text": [
      "Rat11/Rat11-20150330\n",
      "Rat : 11 on day : 18\n",
      "Working with session Rat11-20150330 @ E:/DATA/GG-Dataset/Rat11/Rat11-20150330\n",
      "Data already saved in Numpy format, loading them from here:\n",
      "Rat11-20150330-neurons.npy\n",
      "Rat11-20150330-metadata.npy\n",
      "total duration Rem 1395.0\n"
     ]
    },
    {
     "name": "stderr",
     "output_type": "stream",
     "text": [
      "100%|██████████████████████████████████████████████████████████████████████████| 22385/22385 [00:04<00:00, 4647.72it/s]\n"
     ]
    },
    {
     "name": "stdout",
     "output_type": "stream",
     "text": [
      "Rat11/Rat11-20150331\n",
      "Rat : 11 on day : 19\n",
      "Working with session Rat11-20150331 @ E:/DATA/GG-Dataset/Rat11/Rat11-20150331\n",
      "Data already saved in Numpy format, loading them from here:\n",
      "Rat11-20150331-neurons.npy\n",
      "Rat11-20150331-metadata.npy\n",
      "total duration Rem 1375.0\n"
     ]
    },
    {
     "name": "stderr",
     "output_type": "stream",
     "text": [
      "100%|██████████████████████████████████████████████████████████████████████████| 22776/22776 [00:04<00:00, 5311.88it/s]\n"
     ]
    },
    {
     "name": "stdout",
     "output_type": "stream",
     "text": [
      "Rat11/Rat11-20150402\n",
      "Rat : 11 on day : 21\n",
      "Working with session Rat11-20150402 @ E:/DATA/GG-Dataset/Rat11/Rat11-20150402\n",
      "Data already saved in Numpy format, loading them from here:\n",
      "Rat11-20150402-neurons.npy\n",
      "Rat11-20150402-metadata.npy\n",
      "total duration Rem 528.0\n",
      "NOT ENOUGH NEURONS\n",
      "Rat11/Rat11-20150403\n",
      "Rat : 11 on day : 22\n",
      "Working with session Rat11-20150403 @ E:/DATA/GG-Dataset/Rat11/Rat11-20150403\n",
      "Data already saved in Numpy format, loading them from here:\n",
      "Rat11-20150403-neurons.npy\n",
      "Rat11-20150403-metadata.npy\n",
      "total duration Rem 612.0\n",
      "NOT ENOUGH NEURONS\n"
     ]
    }
   ],
   "source": [
    "rats = ['Rat08', 'Rat09', 'Rat10', 'Rat11']\n",
    "to_ignore = ['Rat08-20130720', \n",
    "             'Rat08-20130722', \n",
    "             'Rat08-20130718',\n",
    "             \"Rat09-20140408\",\n",
    "             \"Rat09-20140409\",\n",
    "             \"Rat10-20140619\",\n",
    "             \"Rat10-20140620\",\n",
    "             \"Rat10-20140622\",\n",
    "             \"Rat10-20140708\",\n",
    "             \"Rat11-20150309\",\n",
    "             \"Rat11-20150318\",\n",
    "             \"Rat11-20150319\", \n",
    "             \"Rat11-20150324\",\n",
    "             \"Rat11-20150327\",\n",
    "             \"Rat11-20150401\"]\n",
    "\n",
    "syncs = {'syncs_first': [], 'syncs_last': []}\n",
    "\n",
    "nb_ext_sleep = 0 \n",
    "\n",
    "for rat in rats:\n",
    "    os.chdir(f'E:/DATA/GG-Dataset/{rat}/')\n",
    "    \n",
    "    for i in os.listdir(f'E:/DATA/GG-Dataset/{rat}/'):\n",
    "        if i.endswith('.mat') or i in to_ignore:\n",
    "            continue\n",
    "\n",
    "        local_path= f'{rat}/{i}'\n",
    "        print(local_path)\n",
    "        bk.load.current_session_linux(base_folder= 'E:/DATA/GG-Dataset/',local_path= local_path)\n",
    "        states = bk.load.states()\n",
    "        neurons,metadata = bk.load.spikes() \n",
    "        \n",
    "        print(f\"total duration Rem {states['Rem'].tot_length()/1_000_000}\")\n",
    "        \n",
    "        if states['Rem'].tot_length()/1_000_000 < 100:\n",
    "            print(f'{local_path} NOT ENOUGH REM')\n",
    "            continue\n",
    "            \n",
    "        neurons_pyr_bla = neurons[(metadata['Type'] == 'Pyr') & (metadata['Region'] == 'BLA')]\n",
    "        if len(neurons_pyr_bla) < 20:\n",
    "            print('NOT ENOUGH NEURONS')\n",
    "            continue\n",
    "        \n",
    "        mean_sync_pyr_bla = mean_synchrony(neurons_pyr_bla, window=1, smallbins=0.1, shift=1)\n",
    "        mean_sync_pyr_bla_s = bk.compute.nts_smooth(mean_sync_pyr_bla, 100,50)\n",
    "        \n",
    "        ext_sleeps = get_extended_sleep(states, 30*60, 60)\n",
    "        for ext_sleep_start, ext_sleep_end in zip(ext_sleeps['start'],ext_sleeps['end']):\n",
    "            \n",
    "            nb_ext_sleep += 1\n",
    "            \n",
    "            ext_sleep = nts.IntervalSet(ext_sleep_start, ext_sleep_end)\n",
    "            \n",
    "            first, last = get_first_and_last_intervals(states['sws'].intersect(ext_sleep))\n",
    "\n",
    "            sync_first = np.nanmean(mean_sync_pyr_bla_s.restrict(first).values)\n",
    "            sync_last = np.nanmean(mean_sync_pyr_bla_s.restrict(last).values)\n",
    "\n",
    "            syncs['syncs_first'].append(sync_first)\n",
    "            syncs['syncs_last'].append(sync_last)\n",
    "        \n",
    "syncs_f = np.nanmean(syncs['syncs_first'])\n",
    "syncs_l = np.nanmean(syncs['syncs_last'])"
   ]
  },
  {
   "cell_type": "code",
   "execution_count": 180,
   "id": "844532a4",
   "metadata": {},
   "outputs": [
    {
     "data": {
      "text/plain": [
       "23"
      ]
     },
     "execution_count": 180,
     "metadata": {},
     "output_type": "execute_result"
    }
   ],
   "source": [
    "nb_ext_sleep"
   ]
  },
  {
   "cell_type": "code",
   "execution_count": 184,
   "id": "06e38e95",
   "metadata": {},
   "outputs": [
    {
     "data": {
      "text/plain": [
       "(0.025, 0.225)"
      ]
     },
     "execution_count": 184,
     "metadata": {},
     "output_type": "execute_result"
    }
   ],
   "source": [
    "syncs = pd.DataFrame(syncs)\n",
    "sns.boxplot(data = syncs, whis=np.inf)\n",
    "sns.swarmplot(data = syncs, color=\".2\")\n",
    "plt.ylim(0.025, 0.225)"
   ]
  },
  {
   "cell_type": "code",
   "execution_count": 182,
   "id": "4e7a187b",
   "metadata": {},
   "outputs": [
    {
     "data": {
      "text/plain": [
       "KruskalResult(statistic=0.28473262545219685, pvalue=0.5936159314613576)"
      ]
     },
     "execution_count": 182,
     "metadata": {},
     "output_type": "execute_result"
    }
   ],
   "source": [
    "sp.stats.kruskal(syncs['syncs_first'], syncs['syncs_last'], nan_policy='omit')"
   ]
  },
  {
   "cell_type": "markdown",
   "id": "f0592330",
   "metadata": {},
   "source": [
    "# Trash/Tests"
   ]
  },
  {
   "cell_type": "code",
   "execution_count": 64,
   "id": "6d69f72e",
   "metadata": {},
   "outputs": [
    {
     "data": {
      "text/plain": [
       "array([0.09744055, 0.09773763, 0.09958807, 0.10034445, 0.09996849,\n",
       "       0.10018768, 0.10086398, 0.10125544, 0.10142914, 0.10303499,\n",
       "       0.103777  , 0.10479481, 0.10650194, 0.10701476, 0.10755754,\n",
       "       0.10782182, 0.10755634, 0.10771072, 0.10761934, 0.10756761,\n",
       "       0.10772372, 0.10912454, 0.11026872, 0.110522  , 0.11083997,\n",
       "       0.11047307, 0.11030074, 0.11022431, 0.11016118, 0.11091922,\n",
       "       0.11166068, 0.11190468, 0.11224382, 0.11193829, 0.11233547,\n",
       "       0.11154848, 0.11126355, 0.11020312, 0.11140478, 0.11152033,\n",
       "       0.11135788, 0.11138613, 0.11041421, 0.1072486 , 0.10791942,\n",
       "       0.10805303, 0.10795152, 0.10865544, 0.10864916, 0.10862195,\n",
       "       0.10861453, 0.10863849, 0.11016284, 0.11132082, 0.11193651,\n",
       "       0.11237149, 0.112424  , 0.1124879 , 0.11452956, 0.11472824,\n",
       "       0.11501851, 0.11554209, 0.11500701, 0.11485533, 0.11565237,\n",
       "       0.11573111, 0.11589273, 0.11604934, 0.1153057 , 0.11539583,\n",
       "       0.11563886, 0.11620121, 0.11544586, 0.11580392, 0.11640456,\n",
       "       0.11665864, 0.11670885, 0.11673711, 0.11922177, 0.11958994,\n",
       "       0.11917849, 0.11944273, 0.11880192])"
      ]
     },
     "execution_count": 64,
     "metadata": {},
     "output_type": "execute_result"
    }
   ],
   "source": [
    "mean_sync_pyr_bla_s.restrict(last).values"
   ]
  },
  {
   "cell_type": "code",
   "execution_count": 60,
   "id": "7f2fa823",
   "metadata": {},
   "outputs": [],
   "source": [
    "states['Rem'].iloc[-1]\n",
    "last = pd.DataFrame(dict([ (k,pd.Series(v)) for k,v in states['Rem'].iloc[-1].items() ]))\n",
    "last = nts.IntervalSet(last)"
   ]
  },
  {
   "cell_type": "code",
   "execution_count": 130,
   "id": "2793c9cc",
   "metadata": {},
   "outputs": [
    {
     "data": {
      "text/plain": [
       "0"
      ]
     },
     "execution_count": 130,
     "metadata": {},
     "output_type": "execute_result"
    }
   ],
   "source": [
    "np.sum(np.isnan(mean_sync_pyr_bla_s.values))"
   ]
  },
  {
   "cell_type": "code",
   "execution_count": 91,
   "id": "d6ad1ba9",
   "metadata": {},
   "outputs": [],
   "source": [
    "test = {'Rem BLA': [], 'sws BLA': [], 'Rem Hpc' : [], 'sws Hpc': []}\n",
    "for i, j  in zip(states['Rem'].as_units('s').start, states['Rem'].as_units('s').end):\n",
    "    interval = nts.IntervalSet(i,j, time_units='s')\n",
    "    test['Rem BLA'].append(np.mean(mean_sync_pyr_bla.restrict(interval).values))\n",
    "    test['Rem Hpc'].append(np.mean(mean_sync_pyr_hpc.restrict(interval).values))\n",
    "for i, j  in zip(states['sws'].as_units('s').start, states['sws'].as_units('s').end):\n",
    "    interval = nts.IntervalSet(i,j, time_units='s')\n",
    "    test['sws BLA'].append(np.mean(mean_sync_pyr_bla.restrict(interval).values))\n",
    "    test['sws Hpc'].append(np.mean(mean_sync_pyr_hpc.restrict(interval).values))"
   ]
  }
 ],
 "metadata": {
  "kernelspec": {
   "display_name": "Python 3 (ipykernel)",
   "language": "python",
   "name": "python3"
  },
  "language_info": {
   "codemirror_mode": {
    "name": "ipython",
    "version": 3
   },
   "file_extension": ".py",
   "mimetype": "text/x-python",
   "name": "python",
   "nbconvert_exporter": "python",
   "pygments_lexer": "ipython3",
   "version": "3.8.3"
  }
 },
 "nbformat": 4,
 "nbformat_minor": 5
}
