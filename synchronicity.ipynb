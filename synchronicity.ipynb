{
 "cells": [
  {
   "cell_type": "markdown",
   "id": "5eec0128",
   "metadata": {},
   "source": [
    "# Importations"
   ]
  },
  {
   "cell_type": "code",
   "execution_count": 2,
   "id": "065f03dc",
   "metadata": {},
   "outputs": [],
   "source": [
    "import os\n",
    "import sys\n",
    "\n",
    "import matplotlib.pyplot as plt\n",
    "import matplotlib.patches as mpatches\n",
    "import numpy as np\n",
    "import pandas as pd\n",
    "from tqdm import tqdm\n",
    "import neuroseries as nts\n",
    "import scipy as sp\n",
    "import seaborn as sns\n",
    "\n",
    "import bk.load\n",
    "import bk.compute\n",
    "import bk.plot\n",
    "import bk.signal\n",
    "\n",
    "\n",
    "%matplotlib qt"
   ]
  },
  {
   "cell_type": "markdown",
   "id": "068f99c5",
   "metadata": {},
   "source": [
    "# Variables"
   ]
  },
  {
   "cell_type": "code",
   "execution_count": 59,
   "id": "09f95f9f",
   "metadata": {},
   "outputs": [
    {
     "name": "stdout",
     "output_type": "stream",
     "text": [
      "Rat : 8 on day : 2\n",
      "Working with session Rat08-20130709 @ E:/DATA/GG-Dataset/Rat08/Rat08-20130709\n"
     ]
    },
    {
     "data": {
      "text/plain": [
       "True"
      ]
     },
     "execution_count": 59,
     "metadata": {},
     "output_type": "execute_result"
    }
   ],
   "source": [
    "bk.load.current_session_linux(base_folder= 'E:/DATA/GG-Dataset/',local_path= 'Rat08/Rat08-20130709')\n",
    "#load the path name, session name, rat number, day number, and the number of channels in the session "
   ]
  },
  {
   "cell_type": "code",
   "execution_count": 60,
   "id": "b5ade85b",
   "metadata": {},
   "outputs": [],
   "source": [
    "states = bk.load.states() \n",
    "#load the time intervals of the states of the animal (Rem, sws, wake, drowsy) in a dict"
   ]
  },
  {
   "cell_type": "code",
   "execution_count": 61,
   "id": "3cb88994",
   "metadata": {},
   "outputs": [
    {
     "name": "stdout",
     "output_type": "stream",
     "text": [
      "Data already saved in Numpy format, loading them from here:\n",
      "Rat08-20130709-neurons.npy\n",
      "Rat08-20130709-metadata.npy\n"
     ]
    }
   ],
   "source": [
    "neurons,metadata = bk.load.spikes() \n",
    "#load the metadata (pd dataframe where informations about the neurons are: \n",
    "#rat, day, shank, id on the shank, region, and type)\n",
    "\n",
    "#load the neurons (np array containing nt frames from each neuron, \n",
    "#in each nt frame there is the timing of the spike (index) and values are nan)"
   ]
  },
  {
   "cell_type": "code",
   "execution_count": 62,
   "id": "cecad5ac",
   "metadata": {},
   "outputs": [],
   "source": [
    "neurons_pyr = neurons[metadata['Type'] == 'Pyr'] #only pyramidal neurons\n",
    "neurons_pyr_hpc = neurons[(metadata['Type'] == 'Pyr') & (metadata['Region'] == 'Hpc')] #only hippocampal pyramidal \n",
    "neurons_pyr_bla = neurons[(metadata['Type'] == 'Pyr') & (metadata['Region'] == 'BLA')] #only bla pyramidal\n",
    "\n",
    "neurons_int = neurons[metadata['Type'] == 'Int'] #only interneurons\n",
    "neurons_int_hpc = neurons[(metadata['Type'] == 'Int') & (metadata['Region'] == 'Hpc')] #only hippocampal interneurons \n",
    "neurons_int_bla = neurons[(metadata['Type'] == 'Int') & (metadata['Region'] == 'BLA')] #only bla interneurons\n",
    "\n",
    "neurons_pyr_ordered = np.concatenate((neurons_pyr_hpc, neurons_pyr_bla)) #all pyramidal neurons, but in order\n",
    "neurons_int_ordered = np.concatenate((neurons_int_hpc, neurons_int_bla)) #all interneurons, but in order"
   ]
  },
  {
   "cell_type": "code",
   "execution_count": 64,
   "id": "dfd247c1",
   "metadata": {},
   "outputs": [],
   "source": [
    "if len(neurons_pyr_bla) == 0 or len(neurons_int_bla) == 0:\n",
    "    print('Careful, there are not enough neurons')"
   ]
  },
  {
   "cell_type": "code",
   "execution_count": 65,
   "id": "3ee42ce5",
   "metadata": {},
   "outputs": [],
   "source": [
    "window = 1 #the size of the time bins used to make the correlation matrix, in sec\n",
    "smallbins = 0.1 #the size of the small bins used to compute binspikes\n",
    "shift = 1 #the shift from one bin to another, in sec "
   ]
  },
  {
   "cell_type": "markdown",
   "id": "c4a606cf",
   "metadata": {},
   "source": [
    "# Functions "
   ]
  },
  {
   "cell_type": "code",
   "execution_count": 8,
   "id": "db7cd0f5",
   "metadata": {
    "jupyter": {
     "source_hidden": true
    }
   },
   "outputs": [],
   "source": [
    "def mean_synchrony(neurons, asymetry=False, neurons2=False, window=1, smallbins=0.1, shift=1):\n",
    "    '''\n",
    "    MC 29/10/21\n",
    "    This function computes the mean synchrony for neurons across time\n",
    "    Inputs: \n",
    "        neurons: the neurons you want to compute the synchrony on\n",
    "        smallbins: the size of the time bins used to compute the number of spikes per neuron in that bin (in sec), default = 0.1\n",
    "        window: the size of the time window in which to compute the mean of synchrony among the neurons (in sec), default = 1\n",
    "        shift: the shift between one window and the following (in sec), default = 1\n",
    "        asymetry: if you want to compute this synchrony between 2 different populations of neurons, default = False\n",
    "        neurons2: the second population of neurons, default = False\n",
    "    Outputs:\n",
    "        a neuroseries data frame with the mean of synchrony across time\n",
    "    '''\n",
    "    if asymetry: #if we want to compute the synchrony between 2 different populations of neurons\n",
    "        neurons = np.concatenate((neurons, neurons2)) # concatenate the 2 populations of neurons\n",
    "        l_neurons2 = len(neurons2) #take the length of the second population, it will be used to extract\n",
    "                                   #only the part of the corrcoef matrix between the 2 populations and not between\n",
    "                                   #themselves\n",
    "    t,binned_neurons = bk.compute.binSpikes(neurons, binSize=smallbins) #count the number of spikes for each neuron in smallbins\n",
    "    b = int(window/smallbins) #the number of small bins in one window\n",
    "    c = int(shift/smallbins) #the number of small bins you have to shift each time\n",
    "    mean_sync = np.zeros(int(binned_neurons.shape[1]/c)) #initialisation of the mean synchrony across time \n",
    "    start = int(0 + b/2) #where to start the computation of mean synchrony (you have to start at b because you\n",
    "                       #compute corrcoef in [-b/2,b/2] windows)\n",
    "    stop = int(binned_neurons.shape[1]-b/2) #where to end the computation of mean synchrony (at the end of the recording)\n",
    "    for i,j in enumerate(tqdm(range(start, stop, c))): #for each window\n",
    "        corrcoef = np.corrcoef(binned_neurons[:,int(j-b/2):int(j + b/2)]) #compute the corrcoef in a [-b/2:b/2] window\n",
    "        if asymetry: \n",
    "            corrcoef = corrcoef[l_neurons2:,:l_neurons2] #extract only the corrcoef matrix between the 2 populations\n",
    "        mean_sync[i] = np.nanmean(corrcoef) #compute the mean of corrcoef for each window, disregarding the nan\n",
    "    t=t[::c] #extract t timings at c steps\n",
    "    toreturn = nts.Tsd(t[:-1], mean_sync, time_units='s') #create a neuroseries frame with the means of synchrony\n",
    "    return toreturn"
   ]
  },
  {
   "cell_type": "code",
   "execution_count": 9,
   "id": "be167322",
   "metadata": {
    "jupyter": {
     "source_hidden": true
    }
   },
   "outputs": [],
   "source": [
    "def mean_synchrony_nan(neurons, asymetry=False, neurons2=False, window=2, smallbins=0.1, shift=1):\n",
    "    '''\n",
    "    MC 02/11/21\n",
    "    This function computes the mean synchrony for neurons across time, but with NaN values changed to 0\n",
    "    Inputs: \n",
    "        neurons: the neurons you want to compute the synchrony on\n",
    "        smallbins: the size of the time bins used to compute the number of spikes per neuron in that bin (in sec), default = 0.1\n",
    "        window: the size of the time window in which to compute the mean of synchrony among the neurons (in sec), default = 2\n",
    "        shift: the shift between one window and the following (in sec), default = 1\n",
    "        asymetry: if you want to compute this synchrony between 2 different populations of neurons, default = False\n",
    "        neurons2: the second population of neurons, default = False\n",
    "    Outputs:\n",
    "        a neuroseries data frame with the mean of synchrony across time\n",
    "    '''\n",
    "    if asymetry: #if we want to compute the synchrony between 2 different populations of neurons\n",
    "        neurons = np.concatenate((neurons, neurons2)) # concatenate the 2 populations of neurons\n",
    "        l_neurons2 = len(neurons2) #take the length of the second population, it will be used to extract\n",
    "                                   #only the part of the corrcoef matrix between the 2 populations and not between\n",
    "                                   #themselves\n",
    "    t,binned_neurons = bk.compute.binSpikes(neurons, binSize=smallbins) #count the number of spikes for each neuron in smallbins\n",
    "    b = int(window/smallbins) #the number of small bins in one window\n",
    "    c = int(shift/smallbins) #the number of small bins you have to shift each time\n",
    "    mean_sync = np.zeros(int(binned_neurons.shape[1]/c)) #initialisation of the mean synchrony across time \n",
    "    start = int(0 + b/2) #where to start the computation of mean synchrony (you have to start at b because you\n",
    "                       #compute corrcoef in [-b/2,b/2] windows)\n",
    "    stop = int(binned_neurons.shape[1]-b/2) #where to end the computation of mean synchrony (at the end of the recording)\n",
    "    for i,j in enumerate(tqdm(range(start, stop, c))): #for each window\n",
    "        corrcoef = np.corrcoef(binned_neurons[:,int(j-b/2):int(j + b/2)]) #compute the corrcoef in a [-b/2:b/2] window\n",
    "        if asymetry: \n",
    "            corrcoef = corrcoef[l_neurons2:,:l_neurons2] #extract only the corrcoef matrix between the 2 populations\n",
    "        corrcoef[np.isnan(corrcoef)] = 0 #all nan values are changed to 0\n",
    "        mean_sync[i] = np.nanmean(corrcoef) #compute the mean of corrcoef for each window, disregarding the nan\n",
    "    t=t[::c] #extract t timings at c steps\n",
    "    toreturn = nts.Tsd(t[:-1], mean_sync, time_units='s') #create a neuroseries frame with the means of synchrony\n",
    "    return toreturn"
   ]
  },
  {
   "cell_type": "code",
   "execution_count": 10,
   "id": "f450e34f",
   "metadata": {
    "jupyter": {
     "source_hidden": true
    }
   },
   "outputs": [],
   "source": [
    "def mean_firing_rate(neurons, window=2, smallbins=0.1, shift=1):\n",
    "    '''\n",
    "    MC 02/11/21\n",
    "    This function computes the mean firing rate of a neuron population across time\n",
    "    Inputs: \n",
    "        neurons: the neurons you want to compute the mean firing rate on\n",
    "        smallbins: the size of the time bins used to compute the number of spikes per neuron in that bin (in sec), default = 0.1\n",
    "        window: the size of the time window in which to compute the mean of firing rate among the neurons (in sec), default = 2\n",
    "        shift: the shift between one window and the following (in sec), default = 1\n",
    "    Outputs:\n",
    "        a neuroseries data frame with the mean of firing rate across time\n",
    "    '''\n",
    "    t,binned_neurons = bk.compute.binSpikes(neurons, binSize=smallbins) #count the number of spikes for each neuron in smallbins\n",
    "    b = int(window/smallbins) #the number of small bins in one window\n",
    "    c = int(shift/smallbins) #the number of small bins you have to shift each time\n",
    "    mean_fr = np.zeros(int(binned_neurons.shape[1]/c)) #initialisation of the mean firing rate across time \n",
    "    start = int(0 + b/2) #where to start the computation of mean synchrony (you have to start at b because you\n",
    "                       #compute corrcoef in [-b/2,b/2] windows)\n",
    "    stop = int(binned_neurons.shape[1]-b/2) #where to end the computation of mean synchrony (at the end of the recording)\n",
    "    for i,j in enumerate(tqdm(range(start, stop, c))): #for each window\n",
    "        mean_fr[i] = np.nanmean(binned_neurons[:,int(j-b/2):int(j + b/2)])/window #compute the mean of firing rate for each window, \n",
    "                                                                                  #disregarding the nan\n",
    "    t=t[::c] #extract t timings at c steps\n",
    "    toreturn = nts.Tsd(t[:-1], mean_fr, time_units='s') #create a neuroseries frame with the means of firing rate\n",
    "    return toreturn"
   ]
  },
  {
   "cell_type": "code",
   "execution_count": 11,
   "id": "b1178f1c",
   "metadata": {
    "jupyter": {
     "source_hidden": true
    }
   },
   "outputs": [],
   "source": [
    "def pourcent_active_neurons(neurons, window=1):\n",
    "    '''\n",
    "    MC 03/11/21\n",
    "    This function computes the pourcentage of active neurons across time\n",
    "    Inputs: \n",
    "        neurons: the neurons you want to compute the pourcentages on\n",
    "        window: the size of the time window in which to compute the pourcentage of active neurons (in sec), default = 1\n",
    "    Outputs:\n",
    "        a neuroseries data frame with the pourcentage of active neurons across time\n",
    "    '''\n",
    "    t,binned_neurons = bk.compute.binSpikes(neurons, binSize=window) #count the number of spikes for each neuron in windows\n",
    "    pourcent_active = np.zeros(int(binned_neurons.shape[1])) #initialisation of the pourcentages across time \n",
    "    for i,j in enumerate(tqdm(range(0, int(binned_neurons.shape[1]), window))): #for each window\n",
    "        pourcent_active[i] = np.count_nonzero(binned_neurons[:,j])/len(neurons) #compute the pourcentage for each window\n",
    "    t=t[::window] #extract t timings at shift steps\n",
    "    toreturn = nts.Tsd(t, pourcent_active, time_units='s') #create a neuroseries frame with the pourcentages\n",
    "    return toreturn"
   ]
  },
  {
   "cell_type": "code",
   "execution_count": 12,
   "id": "883f0b2c",
   "metadata": {
    "jupyter": {
     "source_hidden": true
    }
   },
   "outputs": [],
   "source": [
    "def normalization(neurons):\n",
    "    '''\n",
    "    MC 08/11/21\n",
    "    this function normalizes the pourcentage of active cells to the mean firing rate\n",
    "    Input : the neurons you want to compute this normalization on\n",
    "    Output : a neuroseries timeframe of this normalized pourcentages of active cells \n",
    "    '''\n",
    "    t,_ = bk.compute.binSpikes(neurons, binSize=1)\n",
    "    pac = pourcent_active_neurons(neurons, window = 1) #compute the pourcent of active cells across time\n",
    "    pac = bk.compute.nts_smooth(pac, 100, 50) #smoothing the results \n",
    "    mfr = mean_firing_rate(neurons, window=2, shift=1) #compute the mean FR across time \n",
    "    mfr = bk.compute.nts_smooth(mfr, 100, 50) #smoothing the results\n",
    "    toreturn = [(i/j) for i,j in zip(pac.values, mfr.values)] #normalize the pac to the mfr\n",
    "    toreturn = nts.Tsd(t, toreturn, time_units = 's') #create the tsd\n",
    "    return toreturn\n",
    "    "
   ]
  },
  {
   "cell_type": "code",
   "execution_count": 13,
   "id": "570d148a",
   "metadata": {
    "jupyter": {
     "source_hidden": true
    }
   },
   "outputs": [],
   "source": [
    "def synchrony_around_transitions(transitions, mean_sync):\n",
    "    '''\n",
    "    MC 13/12/21\n",
    "    This function computes the mean of synchrony around transitions REM/sws or sws/REM, \n",
    "    and the mean of synchrony of the whole epochs considered (REM or sws)\n",
    "    Inputs: \n",
    "        transitions: the timing of the transitions\n",
    "        mean_sync: the mean synchrony across the session\n",
    "    Output: a dataframe with the different means for each type \n",
    "    '''\n",
    "    \n",
    "    trans = {'Rem before transition': [], \n",
    "            'Rem after transition': [],\n",
    "             'Rem': [],\n",
    "            'sws before transition' : [], \n",
    "            'sws after transition': [],\n",
    "            'sws': []}\n",
    "    \n",
    "    transitions_rem_sws = transitions[1][('Rem', 'sws')].index.values\n",
    "    transitions_sws_rem = transitions[1][('sws', 'Rem')].index.values\n",
    "    \n",
    "    for i  in transitions_rem_sws:\n",
    "        interval_rem = nts.IntervalSet(i-10_000_000, i, time_units='us')\n",
    "        trans['Rem before transition'].append(np.mean(mean_sync.restrict(interval_rem).values))\n",
    "        interval_sws = nts.IntervalSet(i, i+10_000_000, time_units='us')\n",
    "        trans['sws after transition'].append(np.mean(mean_sync.restrict(interval_sws).values))\n",
    "\n",
    "    for i  in transitions_sws_rem:\n",
    "        interval_sws = nts.IntervalSet(i-10_000_000, i, time_units='us')\n",
    "        trans['sws before transition'].append(np.mean(mean_sync.restrict(interval_sws).values))\n",
    "        interval_rem = nts.IntervalSet(i, i+10_000_000, time_units='us')\n",
    "        trans['Rem after transition'].append(np.mean(mean_sync.restrict(interval_rem).values))\n",
    "\n",
    "    for i, j  in zip(states['Rem'].as_units('s').start, states['Rem'].as_units('s').end):\n",
    "        interval = nts.IntervalSet(i,j, time_units='s')\n",
    "        trans['Rem'].append(np.mean(mean_sync.restrict(interval).values))\n",
    "\n",
    "    for i, j  in zip(states['sws'].as_units('s').start, states['sws'].as_units('s').end):\n",
    "        interval = nts.IntervalSet(i,j, time_units='s')\n",
    "        trans['sws'].append(np.mean(mean_sync.restrict(interval).values))\n",
    "\n",
    "    trans = pd.DataFrame(dict([ (k,pd.Series(v)) for k,v in trans.items() ]))\n",
    "    return trans"
   ]
  },
  {
   "cell_type": "markdown",
   "id": "0db3e2ab",
   "metadata": {},
   "source": [
    "# Computation of variables"
   ]
  },
  {
   "cell_type": "code",
   "execution_count": 66,
   "id": "e05543c6",
   "metadata": {},
   "outputs": [
    {
     "name": "stderr",
     "output_type": "stream",
     "text": [
      "  0%|                                                                                        | 0/25510 [00:00<?, ?it/s]C:\\Users\\maell\\anaconda3\\lib\\site-packages\\numpy\\lib\\function_base.py:2691: RuntimeWarning: invalid value encountered in true_divide\n",
      "  c /= stddev[:, None]\n",
      "C:\\Users\\maell\\anaconda3\\lib\\site-packages\\numpy\\lib\\function_base.py:2692: RuntimeWarning: invalid value encountered in true_divide\n",
      "  c /= stddev[None, :]\n",
      " 21%|███████████████▋                                                           | 5345/25510 [00:03<00:14, 1433.94it/s]C:\\Users\\maell\\AppData\\Local\\Temp/ipykernel_25084/453570434.py:31: RuntimeWarning: Mean of empty slice\n",
      "  mean_sync[i] = np.nanmean(corrcoef) #compute the mean of corrcoef for each window, disregarding the nan\n",
      "100%|██████████████████████████████████████████████████████████████████████████| 25510/25510 [00:17<00:00, 1461.44it/s]\n",
      "100%|██████████████████████████████████████████████████████████████████████████| 25510/25510 [00:09<00:00, 2600.95it/s]\n"
     ]
    }
   ],
   "source": [
    "mean_sync_pyr_bla = mean_synchrony(neurons_pyr_bla, window=1, smallbins=0.1, shift=1)\n",
    "mean_sync_int_bla = mean_synchrony(neurons_int_bla, window=1, smallbins=0.1, shift=1)\n",
    "\n",
    "mean_sync_pyr_bla_s = bk.compute.nts_smooth(mean_sync_pyr_bla, 100,50)\n",
    "mean_sync_int_bla_s = bk.compute.nts_smooth(mean_sync_int_bla, 100,50)"
   ]
  },
  {
   "cell_type": "code",
   "execution_count": 67,
   "id": "43f96530",
   "metadata": {},
   "outputs": [
    {
     "name": "stderr",
     "output_type": "stream",
     "text": [
      "100%|██████████████████████████████████████████████████████████████████████████| 25510/25510 [00:18<00:00, 1349.14it/s]\n",
      "100%|██████████████████████████████████████████████████████████████████████████| 25510/25510 [00:09<00:00, 2572.78it/s]\n"
     ]
    }
   ],
   "source": [
    "mean_sync_nan_pyr_bla = mean_synchrony_nan(neurons_pyr_bla, window=1, smallbins=0.1, shift=1)\n",
    "mean_sync_nan_int_bla = mean_synchrony_nan(neurons_int_bla, window=1, smallbins=0.1, shift=1)\n",
    "\n",
    "mean_sync_nan_pyr_bla_s = bk.compute.nts_smooth(mean_sync_nan_pyr_bla, 100,50)\n",
    "mean_sync_nan_int_bla_s = bk.compute.nts_smooth(mean_sync_nan_int_bla, 100,50)"
   ]
  },
  {
   "cell_type": "code",
   "execution_count": 68,
   "id": "5f0f14d7",
   "metadata": {},
   "outputs": [
    {
     "name": "stderr",
     "output_type": "stream",
     "text": [
      "  0%|                                                                                        | 0/25510 [00:00<?, ?it/s]C:\\Users\\maell\\AppData\\Local\\Temp/ipykernel_25084/453570434.py:31: RuntimeWarning: Mean of empty slice\n",
      "  mean_sync[i] = np.nanmean(corrcoef) #compute the mean of corrcoef for each window, disregarding the nan\n",
      "100%|███████████████████████████████████████████████████████████████████████████| 25510/25510 [00:26<00:00, 974.15it/s]\n"
     ]
    }
   ],
   "source": [
    "m_asym_bla = mean_synchrony(neurons_pyr_bla, asymetry=True, \n",
    "                            neurons2=neurons_int_bla, window=1, \n",
    "                            smallbins = 0.1, shift= 1)\n",
    "\n",
    "m_asym_bla_s = bk.compute.nts_smooth(m_asym_bla, 30, 30)"
   ]
  },
  {
   "cell_type": "code",
   "execution_count": 69,
   "id": "b66eb916",
   "metadata": {},
   "outputs": [
    {
     "name": "stderr",
     "output_type": "stream",
     "text": [
      "100%|█████████████████████████████████████████████████████████████████████████| 25509/25509 [00:01<00:00, 12990.12it/s]\n",
      "100%|█████████████████████████████████████████████████████████████████████████| 25509/25509 [00:01<00:00, 24848.63it/s]\n"
     ]
    }
   ],
   "source": [
    "mean_fr_pyr_bla = mean_firing_rate(neurons_pyr_bla)\n",
    "mean_fr_int_bla = mean_firing_rate(neurons_int_bla)\n",
    "\n",
    "mean_fr_pyr_bla_s = bk.compute.nts_smooth(mean_fr_pyr_bla, 100,50)\n",
    "mean_fr_int_bla_s = bk.compute.nts_smooth(mean_fr_int_bla, 100,50)"
   ]
  },
  {
   "cell_type": "code",
   "execution_count": 70,
   "id": "4dc2264a",
   "metadata": {},
   "outputs": [
    {
     "name": "stderr",
     "output_type": "stream",
     "text": [
      "100%|████████████████████████████████████████████████████████████████████████| 25510/25510 [00:00<00:00, 176150.02it/s]\n",
      "100%|████████████████████████████████████████████████████████████████████████| 25510/25510 [00:00<00:00, 176399.48it/s]\n"
     ]
    }
   ],
   "source": [
    "pourcent_active_pyr_bla = pourcent_active_neurons(neurons_pyr_bla)\n",
    "pourcent_active_int_bla = pourcent_active_neurons(neurons_int_bla)\n",
    "\n",
    "pourcent_active_pyr_bla_s = bk.compute.nts_smooth(pourcent_active_pyr_bla, 100,50)\n",
    "pourcent_active_int_bla_s = bk.compute.nts_smooth(pourcent_active_int_bla, 100,50)"
   ]
  },
  {
   "cell_type": "code",
   "execution_count": 71,
   "id": "c7981fb5",
   "metadata": {},
   "outputs": [],
   "source": [
    "transitions = bk.compute.transitions_times(states)\n",
    "\n",
    "transitions_rem_sws = transitions[1][('Rem', 'sws')].index.values\n",
    "transitions_sws_rem = transitions[1][('sws', 'Rem')].index.values"
   ]
  },
  {
   "cell_type": "markdown",
   "id": "2c41390e",
   "metadata": {},
   "source": [
    "# Matrices de corrélation et calculs de moyenne de synchronie"
   ]
  },
  {
   "cell_type": "markdown",
   "id": "a79cd4ad",
   "metadata": {},
   "source": [
    "### Asymetrical matrices BLA/HPC with pyr and int"
   ]
  },
  {
   "cell_type": "code",
   "execution_count": 45,
   "id": "8099bd4c",
   "metadata": {
    "collapsed": true,
    "jupyter": {
     "outputs_hidden": true,
     "source_hidden": true
    }
   },
   "outputs": [
    {
     "name": "stderr",
     "output_type": "stream",
     "text": [
      "  0%|                                                                                        | 0/22639 [00:00<?, ?it/s]C:\\Users\\maell\\anaconda3\\lib\\site-packages\\numpy\\lib\\function_base.py:2691: RuntimeWarning: invalid value encountered in true_divide\n",
      "  c /= stddev[:, None]\n",
      "C:\\Users\\maell\\anaconda3\\lib\\site-packages\\numpy\\lib\\function_base.py:2692: RuntimeWarning: invalid value encountered in true_divide\n",
      "  c /= stddev[None, :]\n",
      "100%|███████████████████████████████████████████████████████████████████████████| 22639/22639 [00:25<00:00, 898.19it/s]\n",
      "100%|██████████████████████████████████████████████████████████████████████████| 22639/22639 [00:18<00:00, 1217.04it/s]\n",
      "100%|██████████████████████████████████████████████████████████████████████████| 22639/22639 [00:09<00:00, 2435.30it/s]\n",
      "100%|██████████████████████████████████████████████████████████████████████████| 22639/22639 [00:08<00:00, 2717.07it/s]\n",
      "100%|███████████████████████████████████████████████████████████████████████████| 22639/22639 [00:40<00:00, 557.32it/s]\n",
      "100%|██████████████████████████████████████████████████████████████████████████| 22639/22639 [00:10<00:00, 2173.40it/s]\n",
      "  4%|██▋                                                                          | 808/22639 [00:00<00:22, 987.60it/s]C:\\Users\\maell\\AppData\\Local\\Temp/ipykernel_23364/4247394187.py:27: RuntimeWarning: Mean of empty slice\n",
      "  mean_sync[i] = np.nanmean(corrcoef)\n",
      "100%|███████████████████████████████████████████████████████████████████████████| 22639/22639 [00:27<00:00, 836.62it/s]\n",
      "100%|██████████████████████████████████████████████████████████████████████████| 22639/22639 [00:19<00:00, 1162.21it/s]\n"
     ]
    }
   ],
   "source": [
    "m_asym_pyr = mean_synchrony(neurons_pyr_bla, asymetry=True, neurons2=neurons_pyr_hpc, window=1, smallbins = 0.025, shift= 1)\n",
    "m_asym_int = mean_synchrony(neurons_int_bla, asymetry=True, neurons2=neurons_int_hpc, window=1, smallbins = 0.025, shift= 1)\n",
    "m_asym_bla = mean_synchrony(neurons_pyr_bla, asymetry=True, neurons2=neurons_int_bla, window=1, smallbins = 0.025, shift= 1)\n",
    "m_asym_hpc = mean_synchrony(neurons_pyr_hpc, asymetry=True, neurons2=neurons_int_hpc, window=1, smallbins = 0.025, shift= 1)"
   ]
  },
  {
   "cell_type": "code",
   "execution_count": 46,
   "id": "29e78799",
   "metadata": {
    "jupyter": {
     "source_hidden": true
    }
   },
   "outputs": [],
   "source": [
    "m_asym_pyr_s = bk.compute.nts_smooth(m_asym_pyr, 10,5)\n",
    "m_asym_int_s = bk.compute.nts_smooth(m_asym_int, 10,5)\n",
    "m_asym_bla_s = bk.compute.nts_smooth(m_asym_bla, 10,5)\n",
    "m_asym_hpc_s = bk.compute.nts_smooth(m_asym_hpc, 10,5)"
   ]
  },
  {
   "cell_type": "code",
   "execution_count": 65,
   "id": "fcd66ffb",
   "metadata": {
    "collapsed": true,
    "jupyter": {
     "outputs_hidden": true,
     "source_hidden": true
    }
   },
   "outputs": [
    {
     "name": "stderr",
     "output_type": "stream",
     "text": [
      "C:\\Users\\maell\\anaconda3\\lib\\site-packages\\numpy\\lib\\function_base.py:2691: RuntimeWarning: invalid value encountered in true_divide\n",
      "  c /= stddev[:, None]\n",
      "C:\\Users\\maell\\anaconda3\\lib\\site-packages\\numpy\\lib\\function_base.py:2692: RuntimeWarning: invalid value encountered in true_divide\n",
      "  c /= stddev[None, :]\n"
     ]
    }
   ],
   "source": [
    "#for asymetrical matrices (between hpc and bla)\n",
    "#To get the correlation coefficient between hpc and bla, I concatenate the 2, then I compute the matrix \n",
    "#but I only take the part where it is between the two, and not between themselves. Then I can compute the mean\n",
    "\n",
    "l_pyr_bla = len(neurons_pyr_bla)\n",
    "l_pyr_hpc = len(neurons_pyr_hpc)\n",
    "l_int_bla = len(neurons_int_bla)\n",
    "l_int_hpc = len(neurons_int_hpc)\n",
    "#compute their length to only take the part of the matrix where it is asymetrical\n",
    "\n",
    "mean_corr_pyr = []\n",
    "mean_corr_int = []\n",
    "\n",
    "for i in interval:\n",
    "    corrcoef_pyr = np.corrcoef(binned_pyr[:,int(i):int(i + bins)]) \n",
    "    corrcoef_pyr = corrcoef_pyr[l_pyr_hpc:-1, l_pyr_bla:-1]\n",
    "    mean_corr_pyr.append(np.nanmean(corrcoef_pyr))\n",
    "    corrcoef_int = np.corrcoef(binned_int[:,int(i):int(i + bins)])  \n",
    "    corrcoef_int = corrcoef_int[l_int_hpc:-1, l_int_bla:-1]\n",
    "    mean_corr_int.append(np.nanmean(corrcoef_int))\n"
   ]
  },
  {
   "cell_type": "markdown",
   "id": "f42999e6",
   "metadata": {},
   "source": [
    "### Plotting"
   ]
  },
  {
   "cell_type": "code",
   "execution_count": 48,
   "id": "5a765c4d",
   "metadata": {
    "collapsed": true,
    "jupyter": {
     "outputs_hidden": true,
     "source_hidden": true
    }
   },
   "outputs": [
    {
     "data": {
      "text/plain": [
       "<matplotlib.legend.Legend at 0x15747c4bd90>"
      ]
     },
     "execution_count": 48,
     "metadata": {},
     "output_type": "execute_result"
    }
   ],
   "source": [
    "plt.figure()\n",
    "plt.subplot(4,1,1)\n",
    "bk.plot.intervals(states['Rem'])\n",
    "bk.plot.intervals(states['sws'], col='grey')\n",
    "plt.plot(m_pyr_bla[15000:].as_units('s'), label='pyr bla', color = 'g')\n",
    "plt.plot(m_pyr_hpc[15000:].as_units('s'), label='pyr hpc', color = 'b')\n",
    "plt.plot(m_asym_pyr[15000:].as_units('s'), label ='synchro pyr BLA/HPC', color='r')\n",
    "plt.xlim(15000,22000)\n",
    "plt.legend()\n",
    "\n",
    "plt.subplot(4,1,2)\n",
    "bk.plot.intervals(states['Rem'])\n",
    "bk.plot.intervals(states['sws'], col='grey')\n",
    "plt.plot(m_int_bla[15000:].as_units('s'), label='int bla', color = 'g', linestyle='--')\n",
    "plt.plot(m_int_hpc[15000:].as_units('s'), label='int hpc', color = 'b', linestyle='--')\n",
    "plt.plot(m_asym_int[15000:].as_units('s'), label ='synchro int BLA/HPC', color='r')\n",
    "plt.xlim(15000,22000)\n",
    "plt.legend()\n",
    "\n",
    "plt.subplot(4,1,3)\n",
    "bk.plot.intervals(states['Rem'])\n",
    "bk.plot.intervals(states['sws'], col='grey')\n",
    "plt.plot(m_pyr_bla[15000:].as_units('s'), label='pyr bla', color = 'g')\n",
    "plt.plot(m_int_bla[15000:].as_units('s'), label='int bla', color = 'g', linestyle='--')\n",
    "plt.plot(m_asym_bla[15000:].as_units('s'), label ='synchro BLA pyr/int', color='r')\n",
    "plt.xlim(15000,22000)\n",
    "plt.legend()\n",
    "\n",
    "plt.subplot(4,1,4)\n",
    "bk.plot.intervals(states['Rem'])\n",
    "bk.plot.intervals(states['sws'], col='grey')\n",
    "plt.plot(m_pyr_hpc[15000:].as_units('s'), label='pyr hpc', color = 'b')\n",
    "plt.plot(m_int_hpc[15000:].as_units('s'), label='int hpc', color = 'b', linestyle='--')\n",
    "plt.plot(m_asym_hpc[15000:].as_units('s'), label ='synchro HPC Pyr/int', color='r')\n",
    "plt.xlim(15000,22000)\n",
    "plt.legend()"
   ]
  },
  {
   "cell_type": "code",
   "execution_count": 23,
   "id": "de4d3d93",
   "metadata": {
    "collapsed": true,
    "jupyter": {
     "outputs_hidden": true,
     "source_hidden": true
    }
   },
   "outputs": [
    {
     "data": {
      "text/plain": [
       "<matplotlib.legend.Legend at 0x2888003fd60>"
      ]
     },
     "execution_count": 23,
     "metadata": {},
     "output_type": "execute_result"
    }
   ],
   "source": [
    "bk.plot.intervals(states['Rem'])\n",
    "bk.plot.intervals(states['sws'], col='grey')\n",
    "plt.plot(mean_fr_pyr_bla_s.as_units('s'), label='mean firing rate', color = 'g')\n",
    "plt.plot(pourcent_active_pyr_bla_s.as_units('s'), label='pourcent active', color = 'b')\n",
    "plt.plot(mean_sync_pyr_bla_s.as_units('s'), label='mean synchrony', color = 'r')\n",
    "\n",
    "plt.legend()"
   ]
  },
  {
   "cell_type": "code",
   "execution_count": null,
   "id": "e3bf99d4",
   "metadata": {
    "jupyter": {
     "source_hidden": true
    }
   },
   "outputs": [],
   "source": [
    "plt.figure()\n",
    "plt.subplot(1,2,1)\n",
    "g = sns.regplot(mean_fr_pyr_bla_s.restrict(states['Rem']).values, \n",
    "                mean_sync_pyr_bla_s.restrict(states['Rem']).values, \n",
    "                scatter_kws={'alpha':0.1, 's':5}, line_kws={'lw':5}, x_ci='sd', color='orange')\n",
    "sns.regplot(mean_fr_pyr_bla_s.restrict(states['sws']).values, \n",
    "            mean_sync_pyr_bla_s.restrict(states['sws']).values, \n",
    "            scatter_kws={'alpha':0.1, 's':5}, line_kws={'lw':5}, x_ci='sd', color='grey')\n",
    "sns.regplot(mean_fr_pyr_bla_s[100:-100].restrict(states['wake']).values, \n",
    "            mean_sync_pyr_bla_s[100:-100].restrict(states['wake']).values, \n",
    "            scatter_kws={'alpha':0.1, 's':5}, line_kws={'lw':5}, x_ci='sd')\n",
    "g.set(xlabel ='mean firing rate', ylabel = 'mean synchrony',\n",
    "      title='Correlation between synchrony and firing rate in BLA pyramidal cells')\n",
    "g.legend(labels=['Rem', 'sws', 'Wake'])\n",
    "\n",
    "plt.subplot(1,2,2)\n",
    "g = sns.regplot(mean_fr_int_bla_s.restrict(states['Rem']).values, \n",
    "                mean_sync_nan_int_bla_s.restrict(states['Rem']).values, \n",
    "                scatter_kws={'alpha':0.1, 's':5}, line_kws={'lw':5}, robust=True, x_ci='sd', color='orange')\n",
    "sns.regplot(mean_fr_int_bla_s.restrict(states['sws']).values, \n",
    "            mean_sync_nan_int_bla_s.restrict(states['sws']).values, \n",
    "            scatter_kws={'alpha':0.1, 's':5}, line_kws={'lw':5}, robust=True, x_ci='sd', color='grey')\n",
    "sns.regplot(mean_fr_int_bla_s[100:-100].restrict(states['wake']).values, \n",
    "            mean_sync_nan_int_bla_s[100:-100].restrict(states['wake']).values, \n",
    "            scatter_kws={'alpha':0.1, 's':5}, robust=True, line_kws={'lw':5}, x_ci='sd')\n",
    "g.set(xlabel ='mean firing rate', ylabel = 'pourcent of active cells',\n",
    "      title='Correlation between pourcent of active cells and firing rate in BLA pyramidal cells')\n",
    "g.legend(labels=['Rem', 'sws', 'Wake'])"
   ]
  },
  {
   "cell_type": "code",
   "execution_count": 88,
   "id": "5e20c78c",
   "metadata": {
    "collapsed": true,
    "jupyter": {
     "outputs_hidden": true,
     "source_hidden": true
    }
   },
   "outputs": [
    {
     "ename": "NameError",
     "evalue": "name 'mean_fr_pyr_bla_s' is not defined",
     "output_type": "error",
     "traceback": [
      "\u001b[1;31m---------------------------------------------------------------------------\u001b[0m",
      "\u001b[1;31mNameError\u001b[0m                                 Traceback (most recent call last)",
      "\u001b[1;32m~\\AppData\\Local\\Temp/ipykernel_20900/602742022.py\u001b[0m in \u001b[0;36m<module>\u001b[1;34m\u001b[0m\n\u001b[0;32m      1\u001b[0m \u001b[0mplt\u001b[0m\u001b[1;33m.\u001b[0m\u001b[0msubplot\u001b[0m\u001b[1;33m(\u001b[0m\u001b[1;36m1\u001b[0m\u001b[1;33m,\u001b[0m\u001b[1;36m2\u001b[0m\u001b[1;33m,\u001b[0m\u001b[1;36m1\u001b[0m\u001b[1;33m)\u001b[0m\u001b[1;33m\u001b[0m\u001b[1;33m\u001b[0m\u001b[0m\n\u001b[1;32m----> 2\u001b[1;33m g = sns.regplot(mean_fr_pyr_bla_s[100:-100].values, mean_sync_pyr_bla_s[100:-100].values, \n\u001b[0m\u001b[0;32m      3\u001b[0m                 scatter_kws={'alpha':0.1, 's':5}, line_kws={'lw':5}, x_ci='sd', color='grey')\n\u001b[0;32m      4\u001b[0m g.set(xlabel ='mean firing rate', ylabel = 'mean synchrony',\n\u001b[0;32m      5\u001b[0m       title='Correlation between synchrony and firing rate in BLA pyramidal')\n",
      "\u001b[1;31mNameError\u001b[0m: name 'mean_fr_pyr_bla_s' is not defined"
     ]
    }
   ],
   "source": [
    "plt.subplot(1,2,1)\n",
    "g = sns.regplot(mean_fr_pyr_bla_s[100:-100].values, mean_sync_pyr_bla_s[100:-100].values, \n",
    "                scatter_kws={'alpha':0.1, 's':5}, line_kws={'lw':5}, x_ci='sd', color='grey')\n",
    "g.set(xlabel ='mean firing rate', ylabel = 'mean synchrony',\n",
    "      title='Correlation between synchrony and firing rate in BLA pyramidal')\n",
    "\n",
    "plt.subplot(1,2,2)\n",
    "g = sns.regplot(mean_fr_pyr_bla_s[100:-100].values, pourcent_active_pyr_bla_s[100:-100].values, \n",
    "                scatter_kws={'alpha':0.1, 's':5}, line_kws={'lw':5}, x_ci='sd', color='grey')\n",
    "g.set(xlabel ='mean firing rate', ylabel = 'mean pourcent active',\n",
    "      title='Correlation between pourcent of active cells and firing rate in BLA pyramidal')"
   ]
  },
  {
   "cell_type": "code",
   "execution_count": 31,
   "id": "b41b3aec",
   "metadata": {
    "collapsed": true,
    "jupyter": {
     "outputs_hidden": true,
     "source_hidden": true
    }
   },
   "outputs": [
    {
     "data": {
      "text/plain": [
       "<mpl_toolkits.mplot3d.art3d.Path3DCollection at 0x288832d0400>"
      ]
     },
     "execution_count": 31,
     "metadata": {},
     "output_type": "execute_result"
    }
   ],
   "source": [
    "fig = plt.figure()\n",
    "ax = fig.add_subplot(111, projection='3d')\n",
    "ax.scatter(pourcent_active_pyr_bla_s[100:-100].values,\n",
    "           mean_sync_pyr_bla_s[100:-100].values,\n",
    "           mean_fr_pyr_bla_s[100:-100].values)"
   ]
  },
  {
   "cell_type": "code",
   "execution_count": 34,
   "id": "ed4d2c88",
   "metadata": {
    "collapsed": true,
    "jupyter": {
     "outputs_hidden": true,
     "source_hidden": true
    }
   },
   "outputs": [
    {
     "data": {
      "text/plain": [
       "<matplotlib.legend.Legend at 0x1c76a4afee0>"
      ]
     },
     "execution_count": 34,
     "metadata": {},
     "output_type": "execute_result"
    }
   ],
   "source": [
    "#plot des moyennes de synchronie en fonction des states \n",
    "plt.subplot(2,1,1)\n",
    "bk.plot.intervals(states['Rem'])\n",
    "bk.plot.intervals(states['sws'], col='grey')\n",
    "plt.plot(mean_pyr_bla_s.as_units('s'), color='g',linewidth=2, label='pyr BLA')\n",
    "plt.plot(mean_pyr_hpc_s.as_units('s'), color='b',linewidth=2, label='pyr HPC')\n",
    "plt.legend()\n",
    "\n",
    "plt.subplot(2,1,2)\n",
    "bk.plot.intervals(states['Rem'])\n",
    "bk.plot.intervals(states['sws'], col='grey')\n",
    "plt.plot(mean_int_bla_s.as_units('s'), color='g',linewidth=2, label='int BLA')\n",
    "plt.plot(mean_int_hpc_s.as_units('s'), color='b',linewidth=2, label='int HPC')\n",
    "plt.legend()"
   ]
  },
  {
   "cell_type": "code",
   "execution_count": 102,
   "id": "97121b7d",
   "metadata": {
    "jupyter": {
     "source_hidden": true
    }
   },
   "outputs": [],
   "source": [
    "plt.figure(figsize=(12,6))\n",
    "\n",
    "bk.plot.intervals(states['Rem'])\n",
    "bk.plot.intervals(states['sws'], col='grey')\n",
    "plt.plot(mean_sync_pyr_bla_s.as_units('s'), color='g',linewidth=2, label='synchrony BLA')\n",
    "plt.plot(mean_sync_pyr_hpc_s.as_units('s'), color='r',linewidth=2, label='synchrony Hpc')\n",
    "plt.legend()\n",
    "plt.savefig('C:/Users/maell/Documents/ENS/Cours/M2/S1/TINS/Figure/synchrony_across_time.svg')"
   ]
  },
  {
   "cell_type": "markdown",
   "id": "fc6f0d06",
   "metadata": {},
   "source": [
    "# Tests "
   ]
  },
  {
   "cell_type": "code",
   "execution_count": 81,
   "id": "1ad98d88",
   "metadata": {},
   "outputs": [
    {
     "name": "stdout",
     "output_type": "stream",
     "text": [
      "Rat08-20130713\n",
      "Rat08-20130708\n",
      "Rat08-20130709\n",
      "Rat08-20130710\n",
      "Rat08-20130711\n",
      "Rat08-20130712\n",
      "Rat08-20130715\n",
      "Rat08-20130716\n",
      "Rat08-20130717\n",
      "Rat08-20130718\n",
      "Rat08-20130719\n",
      "Rat08-20130720\n",
      "Rat08-20130722\n",
      "ShankChannels.mat\n"
     ]
    }
   ],
   "source": [
    "for i in os.listdir('E:/DATA/GG-Dataset/Rat08/'):\n",
    "    print(i)"
   ]
  },
  {
   "cell_type": "code",
   "execution_count": 89,
   "id": "b27db2da",
   "metadata": {},
   "outputs": [
    {
     "name": "stdout",
     "output_type": "stream",
     "text": [
      "Rat : 8 on day : 6\n",
      "Working with session Rat08-20130713 @ E:/DATA/GG-Dataset/Rat08/Rat08-20130713\n",
      "Data already saved in Numpy format, loading them from here:\n",
      "Rat08-20130713-neurons.npy\n",
      "Rat08-20130713-metadata.npy\n"
     ]
    },
    {
     "name": "stderr",
     "output_type": "stream",
     "text": [
      "  0%|                                                                                        | 0/22679 [00:00<?, ?it/s]C:\\Users\\maell\\anaconda3\\lib\\site-packages\\numpy\\lib\\function_base.py:2691: RuntimeWarning: invalid value encountered in true_divide\n",
      "  c /= stddev[:, None]\n",
      "C:\\Users\\maell\\anaconda3\\lib\\site-packages\\numpy\\lib\\function_base.py:2692: RuntimeWarning: invalid value encountered in true_divide\n",
      "  c /= stddev[None, :]\n",
      "100%|██████████████████████████████████████████████████████████████████████████| 22679/22679 [00:17<00:00, 1299.95it/s]\n"
     ]
    },
    {
     "name": "stdout",
     "output_type": "stream",
     "text": [
      "Rat : 8 on day : 1\n",
      "Working with session Rat08-20130708 @ E:/DATA/GG-Dataset/Rat08/Rat08-20130708\n",
      "Data already saved in Numpy format, loading them from here:\n",
      "Rat08-20130708-neurons.npy\n",
      "Rat08-20130708-metadata.npy\n"
     ]
    },
    {
     "name": "stderr",
     "output_type": "stream",
     "text": [
      "  0%|                                                                                        | 0/24758 [00:00<?, ?it/s]C:\\Users\\maell\\anaconda3\\lib\\site-packages\\numpy\\lib\\function_base.py:2691: RuntimeWarning: invalid value encountered in true_divide\n",
      "  c /= stddev[:, None]\n",
      "C:\\Users\\maell\\anaconda3\\lib\\site-packages\\numpy\\lib\\function_base.py:2692: RuntimeWarning: invalid value encountered in true_divide\n",
      "  c /= stddev[None, :]\n",
      "C:\\Users\\maell\\AppData\\Local\\Temp/ipykernel_25084/453570434.py:31: RuntimeWarning: Mean of empty slice\n",
      "  mean_sync[i] = np.nanmean(corrcoef) #compute the mean of corrcoef for each window, disregarding the nan\n",
      "100%|██████████████████████████████████████████████████████████████████████████| 24758/24758 [00:09<00:00, 2509.79it/s]\n"
     ]
    },
    {
     "name": "stdout",
     "output_type": "stream",
     "text": [
      "Rat : 8 on day : 2\n",
      "Working with session Rat08-20130709 @ E:/DATA/GG-Dataset/Rat08/Rat08-20130709\n",
      "Data already saved in Numpy format, loading them from here:\n",
      "Rat08-20130709-neurons.npy\n",
      "Rat08-20130709-metadata.npy\n"
     ]
    },
    {
     "name": "stderr",
     "output_type": "stream",
     "text": [
      "  0%|                                                                                        | 0/25510 [00:00<?, ?it/s]C:\\Users\\maell\\anaconda3\\lib\\site-packages\\numpy\\lib\\function_base.py:2691: RuntimeWarning: invalid value encountered in true_divide\n",
      "  c /= stddev[:, None]\n",
      "C:\\Users\\maell\\anaconda3\\lib\\site-packages\\numpy\\lib\\function_base.py:2692: RuntimeWarning: invalid value encountered in true_divide\n",
      "  c /= stddev[None, :]\n",
      " 21%|███████████████▌                                                           | 5294/25510 [00:03<00:14, 1403.58it/s]C:\\Users\\maell\\AppData\\Local\\Temp/ipykernel_25084/453570434.py:31: RuntimeWarning: Mean of empty slice\n",
      "  mean_sync[i] = np.nanmean(corrcoef) #compute the mean of corrcoef for each window, disregarding the nan\n",
      "100%|██████████████████████████████████████████████████████████████████████████| 25510/25510 [00:18<00:00, 1347.98it/s]\n"
     ]
    },
    {
     "name": "stdout",
     "output_type": "stream",
     "text": [
      "Rat : 8 on day : 3\n",
      "Working with session Rat08-20130710 @ E:/DATA/GG-Dataset/Rat08/Rat08-20130710\n",
      "Data already saved in Numpy format, loading them from here:\n",
      "Rat08-20130710-neurons.npy\n",
      "Rat08-20130710-metadata.npy\n"
     ]
    },
    {
     "name": "stderr",
     "output_type": "stream",
     "text": [
      "  0%|                                                                                        | 0/25195 [00:00<?, ?it/s]C:\\Users\\maell\\anaconda3\\lib\\site-packages\\numpy\\lib\\function_base.py:2691: RuntimeWarning: invalid value encountered in true_divide\n",
      "  c /= stddev[:, None]\n",
      "C:\\Users\\maell\\anaconda3\\lib\\site-packages\\numpy\\lib\\function_base.py:2692: RuntimeWarning: invalid value encountered in true_divide\n",
      "  c /= stddev[None, :]\n",
      "100%|██████████████████████████████████████████████████████████████████████████| 25195/25195 [00:25<00:00, 1006.40it/s]\n"
     ]
    },
    {
     "name": "stdout",
     "output_type": "stream",
     "text": [
      "Rat : 8 on day : 4\n",
      "Working with session Rat08-20130711 @ E:/DATA/GG-Dataset/Rat08/Rat08-20130711\n",
      "Data already saved in Numpy format, loading them from here:\n",
      "Rat08-20130711-neurons.npy\n",
      "Rat08-20130711-metadata.npy\n"
     ]
    },
    {
     "name": "stderr",
     "output_type": "stream",
     "text": [
      "  0%|                                                                                        | 0/21867 [00:00<?, ?it/s]C:\\Users\\maell\\anaconda3\\lib\\site-packages\\numpy\\lib\\function_base.py:2691: RuntimeWarning: invalid value encountered in true_divide\n",
      "  c /= stddev[:, None]\n",
      "C:\\Users\\maell\\anaconda3\\lib\\site-packages\\numpy\\lib\\function_base.py:2692: RuntimeWarning: invalid value encountered in true_divide\n",
      "  c /= stddev[None, :]\n",
      "100%|██████████████████████████████████████████████████████████████████████████| 21867/21867 [00:21<00:00, 1004.45it/s]\n"
     ]
    },
    {
     "name": "stdout",
     "output_type": "stream",
     "text": [
      "Rat : 8 on day : 5\n",
      "Working with session Rat08-20130712 @ E:/DATA/GG-Dataset/Rat08/Rat08-20130712\n",
      "Data already saved in Numpy format, loading them from here:\n",
      "Rat08-20130712-neurons.npy\n",
      "Rat08-20130712-metadata.npy\n"
     ]
    },
    {
     "name": "stderr",
     "output_type": "stream",
     "text": [
      "  0%|                                                                                        | 0/23980 [00:00<?, ?it/s]C:\\Users\\maell\\anaconda3\\lib\\site-packages\\numpy\\lib\\function_base.py:2691: RuntimeWarning: invalid value encountered in true_divide\n",
      "  c /= stddev[:, None]\n",
      "C:\\Users\\maell\\anaconda3\\lib\\site-packages\\numpy\\lib\\function_base.py:2692: RuntimeWarning: invalid value encountered in true_divide\n",
      "  c /= stddev[None, :]\n",
      "100%|██████████████████████████████████████████████████████████████████████████| 23980/23980 [00:16<00:00, 1474.25it/s]\n"
     ]
    },
    {
     "name": "stdout",
     "output_type": "stream",
     "text": [
      "Rat : 8 on day : 7\n",
      "Working with session Rat08-20130715 @ E:/DATA/GG-Dataset/Rat08/Rat08-20130715\n",
      "Data already saved in Numpy format, loading them from here:\n",
      "Rat08-20130715-neurons.npy\n",
      "Rat08-20130715-metadata.npy\n"
     ]
    },
    {
     "name": "stderr",
     "output_type": "stream",
     "text": [
      "  0%|                                                                                        | 0/21827 [00:00<?, ?it/s]C:\\Users\\maell\\anaconda3\\lib\\site-packages\\numpy\\lib\\function_base.py:2691: RuntimeWarning: invalid value encountered in true_divide\n",
      "  c /= stddev[:, None]\n",
      "C:\\Users\\maell\\anaconda3\\lib\\site-packages\\numpy\\lib\\function_base.py:2692: RuntimeWarning: invalid value encountered in true_divide\n",
      "  c /= stddev[None, :]\n",
      " 34%|█████████████████████████▏                                                 | 7346/21827 [00:04<00:07, 1988.77it/s]C:\\Users\\maell\\AppData\\Local\\Temp/ipykernel_25084/453570434.py:31: RuntimeWarning: Mean of empty slice\n",
      "  mean_sync[i] = np.nanmean(corrcoef) #compute the mean of corrcoef for each window, disregarding the nan\n",
      "100%|██████████████████████████████████████████████████████████████████████████| 21827/21827 [00:13<00:00, 1609.67it/s]\n"
     ]
    },
    {
     "name": "stdout",
     "output_type": "stream",
     "text": [
      "Rat : 8 on day : 8\n",
      "Working with session Rat08-20130716 @ E:/DATA/GG-Dataset/Rat08/Rat08-20130716\n",
      "Data already saved in Numpy format, loading them from here:\n",
      "Rat08-20130716-neurons.npy\n",
      "Rat08-20130716-metadata.npy\n"
     ]
    },
    {
     "name": "stderr",
     "output_type": "stream",
     "text": [
      "  0%|                                                                                        | 0/25112 [00:00<?, ?it/s]C:\\Users\\maell\\anaconda3\\lib\\site-packages\\numpy\\lib\\function_base.py:2691: RuntimeWarning: invalid value encountered in true_divide\n",
      "  c /= stddev[:, None]\n",
      "C:\\Users\\maell\\anaconda3\\lib\\site-packages\\numpy\\lib\\function_base.py:2692: RuntimeWarning: invalid value encountered in true_divide\n",
      "  c /= stddev[None, :]\n",
      " 15%|███████████▎                                                               | 3791/25112 [00:01<00:09, 2337.12it/s]C:\\Users\\maell\\AppData\\Local\\Temp/ipykernel_25084/453570434.py:31: RuntimeWarning: Mean of empty slice\n",
      "  mean_sync[i] = np.nanmean(corrcoef) #compute the mean of corrcoef for each window, disregarding the nan\n",
      "100%|██████████████████████████████████████████████████████████████████████████| 25112/25112 [00:12<00:00, 2052.66it/s]\n"
     ]
    },
    {
     "name": "stdout",
     "output_type": "stream",
     "text": [
      "Rat : 8 on day : 9\n",
      "Working with session Rat08-20130717 @ E:/DATA/GG-Dataset/Rat08/Rat08-20130717\n",
      "Data already saved in Numpy format, loading them from here:\n",
      "Rat08-20130717-neurons.npy\n",
      "Rat08-20130717-metadata.npy\n"
     ]
    },
    {
     "name": "stderr",
     "output_type": "stream",
     "text": [
      "  0%|                                                                                        | 0/23243 [00:00<?, ?it/s]C:\\Users\\maell\\anaconda3\\lib\\site-packages\\numpy\\lib\\function_base.py:2691: RuntimeWarning: invalid value encountered in true_divide\n",
      "  c /= stddev[:, None]\n",
      "C:\\Users\\maell\\anaconda3\\lib\\site-packages\\numpy\\lib\\function_base.py:2692: RuntimeWarning: invalid value encountered in true_divide\n",
      "  c /= stddev[None, :]\n",
      "100%|██████████████████████████████████████████████████████████████████████████| 23243/23243 [00:11<00:00, 1995.99it/s]\n"
     ]
    },
    {
     "name": "stdout",
     "output_type": "stream",
     "text": [
      "Rat : 8 on day : 10\n",
      "Working with session Rat08-20130718 @ E:/DATA/GG-Dataset/Rat08/Rat08-20130718\n",
      "Data already saved in Numpy format, loading them from here:\n",
      "Rat08-20130718-neurons.npy\n",
      "Rat08-20130718-metadata.npy\n",
      "Rat : 8 on day : 11\n",
      "Working with session Rat08-20130719 @ E:/DATA/GG-Dataset/Rat08/Rat08-20130719\n",
      "Data already saved in Numpy format, loading them from here:\n",
      "Rat08-20130719-neurons.npy\n",
      "Rat08-20130719-metadata.npy\n",
      "Rat : 8 on day : 13\n",
      "Working with session Rat08-20130722 @ E:/DATA/GG-Dataset/Rat08/Rat08-20130722\n"
     ]
    },
    {
     "ename": "FileNotFoundError",
     "evalue": "[Errno 2] No such file or directory: 'E:/DATA/GG-Dataset/Rat08/Rat08-20130722/States.mat'",
     "output_type": "error",
     "traceback": [
      "\u001b[1;31m---------------------------------------------------------------------------\u001b[0m",
      "\u001b[1;31mFileNotFoundError\u001b[0m                         Traceback (most recent call last)",
      "\u001b[1;32m~\\anaconda3\\lib\\site-packages\\scipy\\io\\matlab\\mio.py\u001b[0m in \u001b[0;36m_open_file\u001b[1;34m(file_like, appendmat, mode)\u001b[0m\n\u001b[0;32m     38\u001b[0m     \u001b[1;32mtry\u001b[0m\u001b[1;33m:\u001b[0m\u001b[1;33m\u001b[0m\u001b[1;33m\u001b[0m\u001b[0m\n\u001b[1;32m---> 39\u001b[1;33m         \u001b[1;32mreturn\u001b[0m \u001b[0mopen\u001b[0m\u001b[1;33m(\u001b[0m\u001b[0mfile_like\u001b[0m\u001b[1;33m,\u001b[0m \u001b[0mmode\u001b[0m\u001b[1;33m)\u001b[0m\u001b[1;33m,\u001b[0m \u001b[1;32mTrue\u001b[0m\u001b[1;33m\u001b[0m\u001b[1;33m\u001b[0m\u001b[0m\n\u001b[0m\u001b[0;32m     40\u001b[0m     \u001b[1;32mexcept\u001b[0m \u001b[0mIOError\u001b[0m \u001b[1;32mas\u001b[0m \u001b[0me\u001b[0m\u001b[1;33m:\u001b[0m\u001b[1;33m\u001b[0m\u001b[1;33m\u001b[0m\u001b[0m\n",
      "\u001b[1;31mFileNotFoundError\u001b[0m: [Errno 2] No such file or directory: 'E:/DATA/GG-Dataset/Rat08/Rat08-20130722/States.mat'",
      "\nDuring handling of the above exception, another exception occurred:\n",
      "\u001b[1;31mFileNotFoundError\u001b[0m                         Traceback (most recent call last)",
      "\u001b[1;32m~\\AppData\\Local\\Temp/ipykernel_25084/1168892003.py\u001b[0m in \u001b[0;36m<module>\u001b[1;34m\u001b[0m\n\u001b[0;32m      7\u001b[0m     \u001b[0mlocal_path\u001b[0m\u001b[1;33m=\u001b[0m \u001b[1;34mf'Rat08/{i}'\u001b[0m\u001b[1;33m\u001b[0m\u001b[1;33m\u001b[0m\u001b[0m\n\u001b[0;32m      8\u001b[0m     \u001b[0mbk\u001b[0m\u001b[1;33m.\u001b[0m\u001b[0mload\u001b[0m\u001b[1;33m.\u001b[0m\u001b[0mcurrent_session_linux\u001b[0m\u001b[1;33m(\u001b[0m\u001b[0mbase_folder\u001b[0m\u001b[1;33m=\u001b[0m \u001b[1;34m'E:/DATA/GG-Dataset/'\u001b[0m\u001b[1;33m,\u001b[0m\u001b[0mlocal_path\u001b[0m\u001b[1;33m=\u001b[0m \u001b[0mlocal_path\u001b[0m\u001b[1;33m)\u001b[0m\u001b[1;33m\u001b[0m\u001b[1;33m\u001b[0m\u001b[0m\n\u001b[1;32m----> 9\u001b[1;33m     \u001b[0mstates\u001b[0m \u001b[1;33m=\u001b[0m \u001b[0mbk\u001b[0m\u001b[1;33m.\u001b[0m\u001b[0mload\u001b[0m\u001b[1;33m.\u001b[0m\u001b[0mstates\u001b[0m\u001b[1;33m(\u001b[0m\u001b[1;33m)\u001b[0m\u001b[1;33m\u001b[0m\u001b[1;33m\u001b[0m\u001b[0m\n\u001b[0m\u001b[0;32m     10\u001b[0m     \u001b[0mneurons\u001b[0m\u001b[1;33m,\u001b[0m\u001b[0mmetadata\u001b[0m \u001b[1;33m=\u001b[0m \u001b[0mbk\u001b[0m\u001b[1;33m.\u001b[0m\u001b[0mload\u001b[0m\u001b[1;33m.\u001b[0m\u001b[0mspikes\u001b[0m\u001b[1;33m(\u001b[0m\u001b[1;33m)\u001b[0m\u001b[1;33m\u001b[0m\u001b[1;33m\u001b[0m\u001b[0m\n\u001b[0;32m     11\u001b[0m \u001b[1;33m\u001b[0m\u001b[0m\n",
      "\u001b[1;32m~\\Documents\\ENS\\Cours\\M2\\S1\\TINS\\Code\\bk\\load.py\u001b[0m in \u001b[0;36mstates\u001b[1;34m()\u001b[0m\n\u001b[0;32m    273\u001b[0m     \u001b[1;31m# Return a dict with variable from States.\u001b[0m\u001b[1;33m\u001b[0m\u001b[1;33m\u001b[0m\u001b[1;33m\u001b[0m\u001b[0m\n\u001b[0;32m    274\u001b[0m     \u001b[1;31m#     if session_path == 0 : session_path = get_session_path(session_name)\u001b[0m\u001b[1;33m\u001b[0m\u001b[1;33m\u001b[0m\u001b[1;33m\u001b[0m\u001b[0m\n\u001b[1;32m--> 275\u001b[1;33m     \u001b[0mstates\u001b[0m \u001b[1;33m=\u001b[0m \u001b[0mscipy\u001b[0m\u001b[1;33m.\u001b[0m\u001b[0mio\u001b[0m\u001b[1;33m.\u001b[0m\u001b[0mloadmat\u001b[0m\u001b[1;33m(\u001b[0m\u001b[0mpath\u001b[0m \u001b[1;33m+\u001b[0m \u001b[1;34m\"/States.mat\"\u001b[0m\u001b[1;33m)\u001b[0m\u001b[1;33m\u001b[0m\u001b[1;33m\u001b[0m\u001b[0m\n\u001b[0m\u001b[0;32m    276\u001b[0m \u001b[1;33m\u001b[0m\u001b[0m\n\u001b[0;32m    277\u001b[0m     \u001b[0museless\u001b[0m \u001b[1;33m=\u001b[0m \u001b[1;33m[\u001b[0m\u001b[1;34m\"__header__\"\u001b[0m\u001b[1;33m,\u001b[0m \u001b[1;34m\"__version__\"\u001b[0m\u001b[1;33m,\u001b[0m \u001b[1;34m\"__globals__\"\u001b[0m\u001b[1;33m]\u001b[0m\u001b[1;33m\u001b[0m\u001b[1;33m\u001b[0m\u001b[0m\n",
      "\u001b[1;32m~\\anaconda3\\lib\\site-packages\\scipy\\io\\matlab\\mio.py\u001b[0m in \u001b[0;36mloadmat\u001b[1;34m(file_name, mdict, appendmat, **kwargs)\u001b[0m\n\u001b[0;32m    222\u001b[0m     \"\"\"\n\u001b[0;32m    223\u001b[0m     \u001b[0mvariable_names\u001b[0m \u001b[1;33m=\u001b[0m \u001b[0mkwargs\u001b[0m\u001b[1;33m.\u001b[0m\u001b[0mpop\u001b[0m\u001b[1;33m(\u001b[0m\u001b[1;34m'variable_names'\u001b[0m\u001b[1;33m,\u001b[0m \u001b[1;32mNone\u001b[0m\u001b[1;33m)\u001b[0m\u001b[1;33m\u001b[0m\u001b[1;33m\u001b[0m\u001b[0m\n\u001b[1;32m--> 224\u001b[1;33m     \u001b[1;32mwith\u001b[0m \u001b[0m_open_file_context\u001b[0m\u001b[1;33m(\u001b[0m\u001b[0mfile_name\u001b[0m\u001b[1;33m,\u001b[0m \u001b[0mappendmat\u001b[0m\u001b[1;33m)\u001b[0m \u001b[1;32mas\u001b[0m \u001b[0mf\u001b[0m\u001b[1;33m:\u001b[0m\u001b[1;33m\u001b[0m\u001b[1;33m\u001b[0m\u001b[0m\n\u001b[0m\u001b[0;32m    225\u001b[0m         \u001b[0mMR\u001b[0m\u001b[1;33m,\u001b[0m \u001b[0m_\u001b[0m \u001b[1;33m=\u001b[0m \u001b[0mmat_reader_factory\u001b[0m\u001b[1;33m(\u001b[0m\u001b[0mf\u001b[0m\u001b[1;33m,\u001b[0m \u001b[1;33m**\u001b[0m\u001b[0mkwargs\u001b[0m\u001b[1;33m)\u001b[0m\u001b[1;33m\u001b[0m\u001b[1;33m\u001b[0m\u001b[0m\n\u001b[0;32m    226\u001b[0m         \u001b[0mmatfile_dict\u001b[0m \u001b[1;33m=\u001b[0m \u001b[0mMR\u001b[0m\u001b[1;33m.\u001b[0m\u001b[0mget_variables\u001b[0m\u001b[1;33m(\u001b[0m\u001b[0mvariable_names\u001b[0m\u001b[1;33m)\u001b[0m\u001b[1;33m\u001b[0m\u001b[1;33m\u001b[0m\u001b[0m\n",
      "\u001b[1;32m~\\anaconda3\\lib\\contextlib.py\u001b[0m in \u001b[0;36m__enter__\u001b[1;34m(self)\u001b[0m\n\u001b[0;32m    111\u001b[0m         \u001b[1;32mdel\u001b[0m \u001b[0mself\u001b[0m\u001b[1;33m.\u001b[0m\u001b[0margs\u001b[0m\u001b[1;33m,\u001b[0m \u001b[0mself\u001b[0m\u001b[1;33m.\u001b[0m\u001b[0mkwds\u001b[0m\u001b[1;33m,\u001b[0m \u001b[0mself\u001b[0m\u001b[1;33m.\u001b[0m\u001b[0mfunc\u001b[0m\u001b[1;33m\u001b[0m\u001b[1;33m\u001b[0m\u001b[0m\n\u001b[0;32m    112\u001b[0m         \u001b[1;32mtry\u001b[0m\u001b[1;33m:\u001b[0m\u001b[1;33m\u001b[0m\u001b[1;33m\u001b[0m\u001b[0m\n\u001b[1;32m--> 113\u001b[1;33m             \u001b[1;32mreturn\u001b[0m \u001b[0mnext\u001b[0m\u001b[1;33m(\u001b[0m\u001b[0mself\u001b[0m\u001b[1;33m.\u001b[0m\u001b[0mgen\u001b[0m\u001b[1;33m)\u001b[0m\u001b[1;33m\u001b[0m\u001b[1;33m\u001b[0m\u001b[0m\n\u001b[0m\u001b[0;32m    114\u001b[0m         \u001b[1;32mexcept\u001b[0m \u001b[0mStopIteration\u001b[0m\u001b[1;33m:\u001b[0m\u001b[1;33m\u001b[0m\u001b[1;33m\u001b[0m\u001b[0m\n\u001b[0;32m    115\u001b[0m             \u001b[1;32mraise\u001b[0m \u001b[0mRuntimeError\u001b[0m\u001b[1;33m(\u001b[0m\u001b[1;34m\"generator didn't yield\"\u001b[0m\u001b[1;33m)\u001b[0m \u001b[1;32mfrom\u001b[0m \u001b[1;32mNone\u001b[0m\u001b[1;33m\u001b[0m\u001b[1;33m\u001b[0m\u001b[0m\n",
      "\u001b[1;32m~\\anaconda3\\lib\\site-packages\\scipy\\io\\matlab\\mio.py\u001b[0m in \u001b[0;36m_open_file_context\u001b[1;34m(file_like, appendmat, mode)\u001b[0m\n\u001b[0;32m     15\u001b[0m \u001b[1;33m@\u001b[0m\u001b[0mcontextmanager\u001b[0m\u001b[1;33m\u001b[0m\u001b[1;33m\u001b[0m\u001b[0m\n\u001b[0;32m     16\u001b[0m \u001b[1;32mdef\u001b[0m \u001b[0m_open_file_context\u001b[0m\u001b[1;33m(\u001b[0m\u001b[0mfile_like\u001b[0m\u001b[1;33m,\u001b[0m \u001b[0mappendmat\u001b[0m\u001b[1;33m,\u001b[0m \u001b[0mmode\u001b[0m\u001b[1;33m=\u001b[0m\u001b[1;34m'rb'\u001b[0m\u001b[1;33m)\u001b[0m\u001b[1;33m:\u001b[0m\u001b[1;33m\u001b[0m\u001b[1;33m\u001b[0m\u001b[0m\n\u001b[1;32m---> 17\u001b[1;33m     \u001b[0mf\u001b[0m\u001b[1;33m,\u001b[0m \u001b[0mopened\u001b[0m \u001b[1;33m=\u001b[0m \u001b[0m_open_file\u001b[0m\u001b[1;33m(\u001b[0m\u001b[0mfile_like\u001b[0m\u001b[1;33m,\u001b[0m \u001b[0mappendmat\u001b[0m\u001b[1;33m,\u001b[0m \u001b[0mmode\u001b[0m\u001b[1;33m)\u001b[0m\u001b[1;33m\u001b[0m\u001b[1;33m\u001b[0m\u001b[0m\n\u001b[0m\u001b[0;32m     18\u001b[0m     \u001b[1;32mtry\u001b[0m\u001b[1;33m:\u001b[0m\u001b[1;33m\u001b[0m\u001b[1;33m\u001b[0m\u001b[0m\n\u001b[0;32m     19\u001b[0m         \u001b[1;32myield\u001b[0m \u001b[0mf\u001b[0m\u001b[1;33m\u001b[0m\u001b[1;33m\u001b[0m\u001b[0m\n",
      "\u001b[1;32m~\\anaconda3\\lib\\site-packages\\scipy\\io\\matlab\\mio.py\u001b[0m in \u001b[0;36m_open_file\u001b[1;34m(file_like, appendmat, mode)\u001b[0m\n\u001b[0;32m     43\u001b[0m             \u001b[1;32mif\u001b[0m \u001b[0mappendmat\u001b[0m \u001b[1;32mand\u001b[0m \u001b[1;32mnot\u001b[0m \u001b[0mfile_like\u001b[0m\u001b[1;33m.\u001b[0m\u001b[0mendswith\u001b[0m\u001b[1;33m(\u001b[0m\u001b[1;34m'.mat'\u001b[0m\u001b[1;33m)\u001b[0m\u001b[1;33m:\u001b[0m\u001b[1;33m\u001b[0m\u001b[1;33m\u001b[0m\u001b[0m\n\u001b[0;32m     44\u001b[0m                 \u001b[0mfile_like\u001b[0m \u001b[1;33m+=\u001b[0m \u001b[1;34m'.mat'\u001b[0m\u001b[1;33m\u001b[0m\u001b[1;33m\u001b[0m\u001b[0m\n\u001b[1;32m---> 45\u001b[1;33m             \u001b[1;32mreturn\u001b[0m \u001b[0mopen\u001b[0m\u001b[1;33m(\u001b[0m\u001b[0mfile_like\u001b[0m\u001b[1;33m,\u001b[0m \u001b[0mmode\u001b[0m\u001b[1;33m)\u001b[0m\u001b[1;33m,\u001b[0m \u001b[1;32mTrue\u001b[0m\u001b[1;33m\u001b[0m\u001b[1;33m\u001b[0m\u001b[0m\n\u001b[0m\u001b[0;32m     46\u001b[0m         \u001b[1;32melse\u001b[0m\u001b[1;33m:\u001b[0m\u001b[1;33m\u001b[0m\u001b[1;33m\u001b[0m\u001b[0m\n\u001b[0;32m     47\u001b[0m             raise IOError(\n",
      "\u001b[1;31mFileNotFoundError\u001b[0m: [Errno 2] No such file or directory: 'E:/DATA/GG-Dataset/Rat08/Rat08-20130722/States.mat'"
     ]
    }
   ],
   "source": [
    "means =[]\n",
    "fig, ax = plt.subplots()\n",
    "for i in os.listdir('E:/DATA/GG-Dataset/Rat08/'):\n",
    "    if i.endswith('.mat') or i == 'Rat08-20130720':\n",
    "        continue\n",
    "        \n",
    "    local_path= f'Rat08/{i}'\n",
    "    bk.load.current_session_linux(base_folder= 'E:/DATA/GG-Dataset/',local_path= local_path)\n",
    "    states = bk.load.states() \n",
    "    neurons,metadata = bk.load.spikes() \n",
    "    \n",
    "    neurons_pyr_bla = neurons[(metadata['Type'] == 'Pyr') & (metadata['Region'] == 'BLA')]\n",
    "    if len(neurons_pyr_bla) < 10: \n",
    "        continue\n",
    "    \n",
    "    mean_sync_pyr_bla = mean_synchrony(neurons_pyr_bla, window=1, smallbins=0.1, shift=1)\n",
    "    mean_sync_pyr_bla_s = bk.compute.nts_smooth(mean_sync_pyr_bla, 100,50)\n",
    "    \n",
    "    transitions = bk.compute.transitions_times(states)\n",
    "    transitions_rem_sws = transitions[1][('Rem', 'sws')].index.values\n",
    "    transitions_sws_rem = transitions[1][('sws', 'Rem')].index.values\n",
    "\n",
    "    for i  in transitions_rem_sws:\n",
    "        interval = nts.IntervalSet(i-20_000_000, i+ 40_000_000, time_units='us')\n",
    "        m = mean_sync_pyr_bla.restrict(interval).values\n",
    "        means.append(m)\n",
    "        plt.plot(m, color = 'grey', alpha = 0.3)\n",
    "a = mpatches.Rectangle((0,0), 20, 0.3, facecolor = 'orange', alpha = 0.5)\n",
    "ax.add_patch(a)\n",
    "mean = np.mean(means, axis=0)\n",
    "plt.plot(mean, color = 'r', linewidth=4)\n",
    "plt.title(f'transitions rem to sws, rat 08, session: {local_path}')"
   ]
  },
  {
   "cell_type": "code",
   "execution_count": 91,
   "id": "27b09178",
   "metadata": {
    "jupyter": {
     "source_hidden": true
    }
   },
   "outputs": [],
   "source": [
    "test = {'Rem BLA': [], 'sws BLA': [], 'Rem Hpc' : [], 'sws Hpc': []}\n",
    "for i, j  in zip(states['Rem'].as_units('s').start, states['Rem'].as_units('s').end):\n",
    "    interval = nts.IntervalSet(i,j, time_units='s')\n",
    "    test['Rem BLA'].append(np.mean(mean_sync_pyr_bla.restrict(interval).values))\n",
    "    test['Rem Hpc'].append(np.mean(mean_sync_pyr_hpc.restrict(interval).values))\n",
    "for i, j  in zip(states['sws'].as_units('s').start, states['sws'].as_units('s').end):\n",
    "    interval = nts.IntervalSet(i,j, time_units='s')\n",
    "    test['sws BLA'].append(np.mean(mean_sync_pyr_bla.restrict(interval).values))\n",
    "    test['sws Hpc'].append(np.mean(mean_sync_pyr_hpc.restrict(interval).values))"
   ]
  },
  {
   "cell_type": "code",
   "execution_count": 41,
   "id": "7958f84d",
   "metadata": {},
   "outputs": [
    {
     "data": {
      "text/plain": [
       "KruskalResult(statistic=3.3295318127250937, pvalue=0.0680462420014518)"
      ]
     },
     "execution_count": 41,
     "metadata": {},
     "output_type": "execute_result"
    }
   ],
   "source": [
    "sp.stats.kruskal(t['sws before transition'], t['sws'], nan_policy='omit')"
   ]
  },
  {
   "cell_type": "code",
   "execution_count": 23,
   "id": "348ea2aa",
   "metadata": {},
   "outputs": [],
   "source": [
    "t = synchrony_around_transitions(transitions, mean_sync_pyr_bla_s)"
   ]
  },
  {
   "cell_type": "code",
   "execution_count": 21,
   "id": "233438c5",
   "metadata": {},
   "outputs": [
    {
     "ename": "NameError",
     "evalue": "name 't' is not defined",
     "output_type": "error",
     "traceback": [
      "\u001b[1;31m---------------------------------------------------------------------------\u001b[0m",
      "\u001b[1;31mNameError\u001b[0m                                 Traceback (most recent call last)",
      "\u001b[1;32m~\\AppData\\Local\\Temp/ipykernel_25084/4062780270.py\u001b[0m in \u001b[0;36m<module>\u001b[1;34m\u001b[0m\n\u001b[1;32m----> 1\u001b[1;33m \u001b[0msns\u001b[0m\u001b[1;33m.\u001b[0m\u001b[0mboxplot\u001b[0m\u001b[1;33m(\u001b[0m\u001b[0mdata\u001b[0m \u001b[1;33m=\u001b[0m \u001b[0mt\u001b[0m\u001b[1;33m,\u001b[0m \u001b[0mwhis\u001b[0m\u001b[1;33m=\u001b[0m\u001b[0mnp\u001b[0m\u001b[1;33m.\u001b[0m\u001b[0minf\u001b[0m\u001b[1;33m)\u001b[0m\u001b[1;33m\u001b[0m\u001b[1;33m\u001b[0m\u001b[0m\n\u001b[0m\u001b[0;32m      2\u001b[0m \u001b[0msns\u001b[0m\u001b[1;33m.\u001b[0m\u001b[0mswarmplot\u001b[0m\u001b[1;33m(\u001b[0m\u001b[0mdata\u001b[0m \u001b[1;33m=\u001b[0m \u001b[0mt\u001b[0m\u001b[1;33m,\u001b[0m \u001b[0mcolor\u001b[0m\u001b[1;33m=\u001b[0m\u001b[1;34m\".2\"\u001b[0m\u001b[1;33m)\u001b[0m\u001b[1;33m\u001b[0m\u001b[1;33m\u001b[0m\u001b[0m\n\u001b[0;32m      3\u001b[0m \u001b[1;31m#plt.savefig('C:/Users/maell/Documents/ENS/Cours/M2/S1/TINS/Figure/means_synchrony_rem_sws.svg')\u001b[0m\u001b[1;33m\u001b[0m\u001b[1;33m\u001b[0m\u001b[1;33m\u001b[0m\u001b[0m\n",
      "\u001b[1;31mNameError\u001b[0m: name 't' is not defined"
     ]
    }
   ],
   "source": [
    "sns.boxplot(data = t, whis=np.inf)\n",
    "sns.swarmplot(data = t, color=\".2\")\n",
    "#plt.savefig('C:/Users/maell/Documents/ENS/Cours/M2/S1/TINS/Figure/means_synchrony_rem_sws.svg')"
   ]
  },
  {
   "cell_type": "code",
   "execution_count": 57,
   "id": "c954b256",
   "metadata": {},
   "outputs": [
    {
     "data": {
      "text/plain": [
       "15"
      ]
     },
     "execution_count": 57,
     "metadata": {},
     "output_type": "execute_result"
    }
   ],
   "source": [
    "len(neurons_pyr_bla)"
   ]
  },
  {
   "cell_type": "code",
   "execution_count": 50,
   "id": "e3d7a600",
   "metadata": {},
   "outputs": [
    {
     "data": {
      "text/plain": [
       "[<matplotlib.lines.Line2D at 0x1dd2068e940>]"
      ]
     },
     "execution_count": 50,
     "metadata": {},
     "output_type": "execute_result"
    }
   ],
   "source": [
    "def plot_synchrony_over_time_transitions(transitions, mean_sync, rem_to_sws=True):\n",
    "    '''\n",
    "    MC 15/12/21\n",
    "    This function draws the synchrony over time around the transitions \n",
    "    Inputs:\n",
    "        transitions: \n",
    "        mean_sync: the mean of synchrony over time \n",
    "        rem_to_sws: if we look at rem to sws transitions or sws to rem transitions (by default: rem_to_sws)\n",
    "    Output:\n",
    "    A figure with the synchrony over time drawn\n",
    "    '''\n",
    "    means =[]\n",
    "    fig, ax = plt.subplots()\n",
    "    for i  in transitions_rem_sws:\n",
    "        interval = nts.IntervalSet(i-20_000_000, i+ 40_000_000, time_units='us')\n",
    "        m = mean_sync_pyr_bla.restrict(interval).values\n",
    "        means.append(m)\n",
    "        plt.plot(m, color = 'grey', alpha = 0.3)\n",
    "    a = mpatches.Rectangle((0,0), 20, 0.3, facecolor = 'orange', alpha = 0.5)\n",
    "    ax.add_patch(a)\n",
    "    mean = np.mean(means, axis=0)\n",
    "    plt.plot(mean, color = 'r', linewidth=4)"
   ]
  },
  {
   "cell_type": "code",
   "execution_count": 51,
   "id": "8f95600f",
   "metadata": {},
   "outputs": [
    {
     "data": {
      "text/plain": [
       "[<matplotlib.lines.Line2D at 0x1dd22625d60>]"
      ]
     },
     "execution_count": 51,
     "metadata": {},
     "output_type": "execute_result"
    }
   ],
   "source": [
    "means =[]\n",
    "fig, ax = plt.subplots()\n",
    "for i  in transitions_sws_rem:\n",
    "    interval = nts.IntervalSet(i-150_000_000, i+ 50_000_000, time_units='us')\n",
    "    m = mean_sync_pyr_bla.restrict(interval).values\n",
    "    means.append(m)\n",
    "    plt.plot(m, color = 'grey', alpha = 0.3)\n",
    "a = mpatches.Rectangle((150,0), 50, 0.3, facecolor = 'orange', alpha = 0.5)\n",
    "ax.add_patch(a)\n",
    "mean = np.mean(means, axis=0)\n",
    "plt.plot(mean, color = 'r', linewidth=4)"
   ]
  },
  {
   "cell_type": "code",
   "execution_count": 156,
   "id": "abb51539",
   "metadata": {
    "collapsed": true,
    "jupyter": {
     "outputs_hidden": true,
     "source_hidden": true
    }
   },
   "outputs": [
    {
     "name": "stderr",
     "output_type": "stream",
     "text": [
      "C:\\Users\\maell\\anaconda3\\lib\\site-packages\\numpy\\core\\fromnumeric.py:3440: RuntimeWarning: Mean of empty slice.\n",
      "  return _methods._mean(a, axis=axis, dtype=dtype,\n",
      "C:\\Users\\maell\\anaconda3\\lib\\site-packages\\numpy\\core\\_methods.py:189: RuntimeWarning: invalid value encountered in double_scalars\n",
      "  ret = ret.dtype.type(ret / rcount)\n"
     ]
    }
   ],
   "source": [
    "trans = {'Rem before transition': [], \n",
    "        'Rem after transition': [],\n",
    "         'Rem': [],\n",
    "        'sws before transition' : [], \n",
    "        'sws after transition': [],\n",
    "        'sws': []}\n",
    "for i  in transitions_rem_sws:\n",
    "    interval_rem = nts.IntervalSet(i-10_000_000, i, time_units='s')\n",
    "    trans['Rem before transition'].append(np.mean(mean_sync_pyr_bla.restrict(interval_rem).values))\n",
    "    interval_sws = nts.IntervalSet(i, i+10_000_000, time_units='s')\n",
    "    trans['sws after transition'].append(np.mean(mean_sync_pyr_hpc.restrict(interval_sws).values))\n",
    "    \n",
    "for i  in transitions_sws_rem:\n",
    "    interval_sws = nts.IntervalSet(i-10_000_000, i, time_units='s')\n",
    "    trans['sws before transition'].append(np.mean(mean_sync_pyr_bla.restrict(interval_sws).values))\n",
    "    interval_rem = nts.IntervalSet(i, i+10_000_000, time_units='s')\n",
    "    trans['Rem after transition'].append(np.mean(mean_sync_pyr_hpc.restrict(interval_rem).values))\n",
    "    \n",
    "for i, j  in zip(states['Rem'].as_units('s').start, states['Rem'].as_units('s').end):\n",
    "    interval = nts.IntervalSet(i,j, time_units='s')\n",
    "    trans['Rem'].append(np.mean(mean_sync_pyr_bla.restrict(interval).values))\n",
    "    \n",
    "for i, j  in zip(states['sws'].as_units('s').start, states['sws'].as_units('s').end):\n",
    "    interval = nts.IntervalSet(i,j, time_units='s')\n",
    "    trans['sws'].append(np.mean(mean_sync_pyr_bla.restrict(interval).values))"
   ]
  },
  {
   "cell_type": "markdown",
   "id": "1ddf23c2",
   "metadata": {},
   "source": [
    "### Correlation between firing rate and synchrony"
   ]
  },
  {
   "cell_type": "code",
   "execution_count": 66,
   "id": "8bd7ea25",
   "metadata": {
    "collapsed": true,
    "jupyter": {
     "outputs_hidden": true,
     "source_hidden": true
    }
   },
   "outputs": [
    {
     "name": "stderr",
     "output_type": "stream",
     "text": [
      "C:\\Users\\maell\\anaconda3\\lib\\site-packages\\seaborn\\_decorators.py:36: FutureWarning: Pass the following variables as keyword args: x, y. From version 0.12, the only valid positional argument will be `data`, and passing other arguments without an explicit keyword will result in an error or misinterpretation.\n",
      "  warnings.warn(\n",
      "C:\\Users\\maell\\anaconda3\\lib\\site-packages\\seaborn\\_decorators.py:36: FutureWarning: Pass the following variables as keyword args: x, y. From version 0.12, the only valid positional argument will be `data`, and passing other arguments without an explicit keyword will result in an error or misinterpretation.\n",
      "  warnings.warn(\n",
      "C:\\Users\\maell\\anaconda3\\lib\\site-packages\\seaborn\\_decorators.py:36: FutureWarning: Pass the following variables as keyword args: x, y. From version 0.12, the only valid positional argument will be `data`, and passing other arguments without an explicit keyword will result in an error or misinterpretation.\n",
      "  warnings.warn(\n",
      "C:\\Users\\maell\\anaconda3\\lib\\site-packages\\seaborn\\_decorators.py:36: FutureWarning: Pass the following variables as keyword args: x, y. From version 0.12, the only valid positional argument will be `data`, and passing other arguments without an explicit keyword will result in an error or misinterpretation.\n",
      "  warnings.warn(\n",
      "C:\\Users\\maell\\anaconda3\\lib\\site-packages\\seaborn\\_decorators.py:36: FutureWarning: Pass the following variables as keyword args: x, y. From version 0.12, the only valid positional argument will be `data`, and passing other arguments without an explicit keyword will result in an error or misinterpretation.\n",
      "  warnings.warn(\n",
      "C:\\Users\\maell\\anaconda3\\lib\\site-packages\\seaborn\\_decorators.py:36: FutureWarning: Pass the following variables as keyword args: x, y. From version 0.12, the only valid positional argument will be `data`, and passing other arguments without an explicit keyword will result in an error or misinterpretation.\n",
      "  warnings.warn(\n"
     ]
    },
    {
     "data": {
      "text/plain": [
       "<matplotlib.legend.Legend at 0x267348ffac0>"
      ]
     },
     "execution_count": 66,
     "metadata": {},
     "output_type": "execute_result"
    }
   ],
   "source": [
    "plt.figure()\n",
    "plt.subplot(1,2,1)\n",
    "g = sns.regplot(mean_fr_int_bla_s.restrict(states['Rem']).values, mean_sync_int_bla_s.restrict(states['Rem']).values, scatter_kws={'alpha':0.1, 's':5}, line_kws={'lw':5}, x_ci='sd', color='orange')\n",
    "sns.regplot(mean_fr_int_bla_s.restrict(states['sws']).values, mean_sync_int_bla_s.restrict(states['sws']).values, scatter_kws={'alpha':0.1, 's':5}, line_kws={'lw':5}, x_ci='sd', color='grey')\n",
    "sns.regplot(mean_fr_int_bla_s[100:-100].restrict(states['wake']).values, mean_sync_int_bla_s[100:-100].restrict(states['wake']).values, scatter_kws={'alpha':0.1, 's':5}, line_kws={'lw':5}, x_ci='sd')\n",
    "g.set(xlabel ='mean firing rate', ylabel = 'mean synchrony',\n",
    "      title='Correlation between synchrony and firing rate in BLA interneurons')\n",
    "g.legend(labels=['Rem', 'sws', 'Wake'])\n",
    "plt.subplot(1,2,2)\n",
    "g = sns.regplot(mean_fr_int_bla_s.restrict(states['Rem']).values, mean_sync_nan_int_bla_s.restrict(states['Rem']).values, scatter_kws={'alpha':0.1, 's':5}, line_kws={'lw':5}, robust=True, x_ci='sd', color='orange')\n",
    "sns.regplot(mean_fr_int_bla_s.restrict(states['sws']).values, mean_sync_nan_int_bla_s.restrict(states['sws']).values, scatter_kws={'alpha':0.1, 's':5}, line_kws={'lw':5}, robust=True, x_ci='sd', color='grey')\n",
    "sns.regplot(mean_fr_int_bla_s[100:-100].restrict(states['wake']).values, mean_sync_nan_int_bla_s[100:-100].restrict(states['wake']).values, scatter_kws={'alpha':0.1, 's':5}, robust=True, line_kws={'lw':5}, x_ci='sd')\n",
    "g.set(xlabel ='mean firing rate', ylabel = 'mean synchrony (with nan to 0)',\n",
    "      title='Correlation between synchrony (with nan to 0) and firing rate in BLA interneurons')\n",
    "g.legend(labels=['Rem', 'sws', 'Wake'])"
   ]
  },
  {
   "cell_type": "code",
   "execution_count": 96,
   "id": "dbcb6a69",
   "metadata": {
    "collapsed": true,
    "jupyter": {
     "outputs_hidden": true,
     "source_hidden": true
    }
   },
   "outputs": [
    {
     "data": {
      "text/plain": [
       "Text(0.5, 1.0, 'int bla, Pearson coeff = -0.7551644915307446')"
      ]
     },
     "execution_count": 96,
     "metadata": {},
     "output_type": "execute_result"
    }
   ],
   "source": [
    "plt.subplot(2,2,1)\n",
    "plt.plot(mean_fr_pyr_hpc_s[100:-100].as_units('s'), mean_sync_pyr_hpc_s[100:-100].as_units('s'), '.')\n",
    "plt.title('pyr hpc, Pearson coeff = '+str(corr_pyr_hpc[1,0]))\n",
    "plt.subplot(2,2,2)\n",
    "plt.plot(mean_fr_pyr_bla_s[100:-100], mean_sync_pyr_bla_s[100:-100], '.')\n",
    "plt.title('pyr bla, Pearson coeff = '+str(corr_pyr_bla[1,0]))\n",
    "plt.subplot(2,2,3)\n",
    "plt.plot(mean_fr_int_hpc_s[100:-100], mean_sync_int_hpc_s[100:-100], '.')\n",
    "plt.title('int hpc, Pearson coeff = '+str(corr_int_hpc[1,0]))\n",
    "plt.subplot(2,2,4)\n",
    "plt.plot(mean_fr_int_bla_s[100:-100], mean_sync_int_bla_s[100:-100], '.')\n",
    "plt.title('int bla, Pearson coeff = '+str(corr_int_bla[1,0]))"
   ]
  },
  {
   "cell_type": "markdown",
   "id": "3e35e9f4",
   "metadata": {},
   "source": [
    "# Correlation between pourcent active neurons and mean firing rate"
   ]
  },
  {
   "cell_type": "code",
   "execution_count": 176,
   "id": "fca4188d",
   "metadata": {
    "collapsed": true,
    "jupyter": {
     "outputs_hidden": true,
     "source_hidden": true
    }
   },
   "outputs": [
    {
     "name": "stderr",
     "output_type": "stream",
     "text": [
      "C:\\Users\\maell\\anaconda3\\lib\\site-packages\\seaborn\\_decorators.py:36: FutureWarning: Pass the following variables as keyword args: x, y. From version 0.12, the only valid positional argument will be `data`, and passing other arguments without an explicit keyword will result in an error or misinterpretation.\n",
      "  warnings.warn(\n",
      "C:\\Users\\maell\\anaconda3\\lib\\site-packages\\seaborn\\_decorators.py:36: FutureWarning: Pass the following variables as keyword args: x, y. From version 0.12, the only valid positional argument will be `data`, and passing other arguments without an explicit keyword will result in an error or misinterpretation.\n",
      "  warnings.warn(\n",
      "C:\\Users\\maell\\anaconda3\\lib\\site-packages\\seaborn\\_decorators.py:36: FutureWarning: Pass the following variables as keyword args: x, y. From version 0.12, the only valid positional argument will be `data`, and passing other arguments without an explicit keyword will result in an error or misinterpretation.\n",
      "  warnings.warn(\n"
     ]
    },
    {
     "data": {
      "text/plain": [
       "<matplotlib.legend.Legend at 0x267622231c0>"
      ]
     },
     "execution_count": 176,
     "metadata": {},
     "output_type": "execute_result"
    }
   ],
   "source": [
    "plt.figure()\n",
    "g = sns.regplot(mean_fr_int_hpc_s.restrict(states['Rem']).values, pourcent_active_int_hpc_s.restrict(states['Rem']).values, scatter_kws={'alpha':0.1, 's':5}, line_kws={'lw':5}, x_ci='sd', color='orange')\n",
    "sns.regplot(mean_fr_int_hpc_s.restrict(states['sws']).values, pourcent_active_int_hpc_s.restrict(states['sws']).values, scatter_kws={'alpha':0.1, 's':5}, line_kws={'lw':5}, x_ci='sd', color='grey')\n",
    "sns.regplot(mean_fr_int_hpc_s[100:-100].restrict(states['wake']).values, pourcent_active_int_hpc_s[100:-100].restrict(states['wake']).values, scatter_kws={'alpha':0.1, 's':5}, line_kws={'lw':5}, x_ci='sd')\n",
    "g.set(xlabel ='mean firing rate', ylabel = 'pourcent active neurons',\n",
    "      title= f'Correlation between pourcent of active neurons and firing rate in hippocampal interneurons,  overall correlation coefficient = {corr[0,1]}')\n",
    "g.legend(labels=['Rem', 'sws', 'Wake'])"
   ]
  },
  {
   "cell_type": "code",
   "execution_count": 258,
   "id": "e53bc01d",
   "metadata": {
    "collapsed": true,
    "jupyter": {
     "outputs_hidden": true,
     "source_hidden": true
    }
   },
   "outputs": [
    {
     "data": {
      "text/plain": [
       "Text(0.12, 0.02, 'Methods: The mean firing rate was determined by computing the number of spikes for each neuron, in time bins of 1s, then by taking the mean over all neurons. \\nThese two measures were then smoothed using a gaussian kernel across time (number of point in window = 100, standard deviation = 50)')"
      ]
     },
     "execution_count": 258,
     "metadata": {},
     "output_type": "execute_result"
    }
   ],
   "source": [
    "plt.figure()\n",
    "\n",
    "bk.plot.intervals(states['Rem'])\n",
    "bk.plot.intervals(states['sws'], col='grey')\n",
    "plt.plot(mean_fr_pyr_bla_s.as_units('s'), color='g', label = 'pyr bla')\n",
    "plt.plot(mean_fr_int_bla_s.as_units('s'), color='k', label='int bla')\n",
    "plt.title('Mean firing rates. \\n Session: Rat08-20130713')\n",
    "plt.xlabel('Time (s)')\n",
    "plt.legend()\n",
    "plt.text(-1000,0.42, 'Time bins: 1s \\nSmoothing parameters: \\n    Number of points in window: 100 \\n    Standard deviation: 50')\n",
    "plt.figtext(0.12, 0.02, 'Methods: The mean firing rate was determined by computing the number of spikes for each neuron, in time bins of 1s, then by taking the mean over all neurons. \\nThese two measures were then smoothed using a gaussian kernel across time (number of point in window = 100, standard deviation = 50)')"
   ]
  },
  {
   "cell_type": "markdown",
   "id": "46054b78",
   "metadata": {},
   "source": [
    "# Trash/Tests"
   ]
  },
  {
   "cell_type": "code",
   "execution_count": null,
   "id": "a3a7f81d",
   "metadata": {},
   "outputs": [],
   "source": []
  }
 ],
 "metadata": {
  "kernelspec": {
   "display_name": "Python 3 (ipykernel)",
   "language": "python",
   "name": "python3"
  },
  "language_info": {
   "codemirror_mode": {
    "name": "ipython",
    "version": 3
   },
   "file_extension": ".py",
   "mimetype": "text/x-python",
   "name": "python",
   "nbconvert_exporter": "python",
   "pygments_lexer": "ipython3",
   "version": "3.8.3"
  }
 },
 "nbformat": 4,
 "nbformat_minor": 5
}
