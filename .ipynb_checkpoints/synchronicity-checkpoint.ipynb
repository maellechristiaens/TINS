{
 "cells": [
  {
   "cell_type": "markdown",
   "id": "31d24a4f",
   "metadata": {},
   "source": [
    "# Importations"
   ]
  },
  {
   "cell_type": "code",
   "execution_count": null,
   "id": "9ddcfedc",
   "metadata": {},
   "outputs": [],
   "source": [
    "import os\n",
    "import sys\n",
    "\n",
    "import matplotlib.pyplot as plt\n",
    "import numpy as np\n",
    "import pandas as pd\n",
    "from tqdm import tqdm\n",
    "import neuroseries as nts\n",
    "import scipy as sp\n",
    "import seaborn as sns\n",
    "\n",
    "import bk.load\n",
    "import bk.compute\n",
    "import bk.plot\n",
    "import bk.signal\n",
    "\n",
    "\n",
    "%matplotlib qt"
   ]
  },
  {
   "cell_type": "markdown",
   "id": "e95cfb15",
   "metadata": {},
   "source": [
    "# Variables"
   ]
  },
  {
   "cell_type": "code",
   "execution_count": 2,
   "id": "5db87500",
   "metadata": {},
   "outputs": [
    {
     "name": "stdout",
     "output_type": "stream",
     "text": [
      "Rat : 8 on day : 6\n",
      "Working with session Rat08-20130713 @ C:/Users/maell/Documents/ENS/Cours/M2/S1/TINS/Data/Rat08/Rat08-20130713\n"
     ]
    },
    {
     "data": {
      "text/plain": [
       "True"
      ]
     },
     "execution_count": 2,
     "metadata": {},
     "output_type": "execute_result"
    }
   ],
   "source": [
    "bk.load.current_session_linux(base_folder= 'C:/Users/maell/Documents/ENS/Cours/M2/S1/TINS/Data/',local_path= 'Rat08/Rat08-20130713')\n",
    "#load the path name, session name, rat number, day number, and the number of channels in the session "
   ]
  },
  {
   "cell_type": "code",
   "execution_count": 3,
   "id": "48afba3d",
   "metadata": {},
   "outputs": [],
   "source": [
    "states = bk.load.states() \n",
    "#load the time intervals of the states of the animal (Rem, sws, wake, drowsy) in a dict"
   ]
  },
  {
   "cell_type": "code",
   "execution_count": 4,
   "id": "536a9276",
   "metadata": {},
   "outputs": [
    {
     "name": "stdout",
     "output_type": "stream",
     "text": [
      "Data already saved in Numpy format, loading them from here:\n",
      "Rat08-20130713-neurons.npy\n",
      "Rat08-20130713-metadata.npy\n"
     ]
    }
   ],
   "source": [
    "neurons,metadata = bk.load.spikes() \n",
    "#load the metadata (pd dataframe where informations about the neurons are: \n",
    "#rat, day, shank, id on the shank, region, and type)\n",
    "\n",
    "#load the neurons (np array containing nt frames from each neuron, \n",
    "#in each nt frame there is the timing of the spike (index) and values are nan)"
   ]
  },
  {
   "cell_type": "code",
   "execution_count": 5,
   "id": "6631fb39",
   "metadata": {},
   "outputs": [],
   "source": [
    "neurons_pyr = neurons[metadata['Type'] == 'Pyr'] #only pyramidal neurons\n",
    "neurons_pyr_hpc = neurons[(metadata['Type'] == 'Pyr') & (metadata['Region'] == 'Hpc')] #only hippocampal pyramidal \n",
    "neurons_pyr_bla = neurons[(metadata['Type'] == 'Pyr') & (metadata['Region'] == 'BLA')] #only bla pyramidal\n",
    "\n",
    "neurons_int = neurons[metadata['Type'] == 'Int'] #only interneurons\n",
    "neurons_int_hpc = neurons[(metadata['Type'] == 'Int') & (metadata['Region'] == 'Hpc')] #only hippocampal interneurons \n",
    "neurons_int_bla = neurons[(metadata['Type'] == 'Int') & (metadata['Region'] == 'BLA')] #only bla interneurons\n",
    "\n",
    "neurons_pyr_ordered = np.concatenate((neurons_pyr_hpc, neurons_pyr_bla)) #all pyramidal neurons, but in order\n",
    "neurons_int_ordered = np.concatenate((neurons_int_hpc, neurons_int_bla)) #all interneurons, but in order"
   ]
  },
  {
   "cell_type": "code",
   "execution_count": 6,
   "id": "6c578028",
   "metadata": {},
   "outputs": [],
   "source": [
    "window = 1 #the size of the time bins used to make the correlation matrix, in sec\n",
    "smallbins = 0.1 #the size of the small bins used to compute binspikes\n",
    "shift = 1 #the shift from one bin to another, in sec "
   ]
  },
  {
   "cell_type": "markdown",
   "id": "a936123b",
   "metadata": {},
   "source": [
    "# Functions "
   ]
  },
  {
   "cell_type": "code",
   "execution_count": 7,
   "id": "f572ec91",
   "metadata": {},
   "outputs": [],
   "source": [
    "def mean_synchrony(neurons, asymetry=False, neurons2=False, window=1, smallbins=0.1, shift=1):\n",
    "    '''\n",
    "    MC 29/10/21\n",
    "    This function computes the mean synchrony for neurons across time\n",
    "    Inputs: \n",
    "        neurons: the neurons you want to compute the synchrony on\n",
    "        smallbins: the size of the time bins used to compute the number of spikes per neuron in that bin (in sec), default = 0.1\n",
    "        window: the size of the time window in which to compute the mean of synchrony among the neurons (in sec), default = 1\n",
    "        shift: the shift between one window and the following (in sec), default = 1\n",
    "        asymetry: if you want to compute this synchrony between 2 different populations of neurons, default = False\n",
    "        neurons2: the second population of neurons, default = False\n",
    "    Outputs:\n",
    "        a neuroseries data frame with the mean of synchrony across time\n",
    "    '''\n",
    "    if asymetry: #if we want to compute the synchrony between 2 different populations of neurons\n",
    "        neurons = np.concatenate((neurons, neurons2)) # concatenate the 2 populations of neurons\n",
    "        l_neurons2 = len(neurons2) #take the length of the second population, it will be used to extract\n",
    "                                   #only the part of the corrcoef matrix between the 2 populations and not between\n",
    "                                   #themselves\n",
    "    t,binned_neurons = bk.compute.binSpikes(neurons, binSize=smallbins) #count the number of spikes for each neuron in smallbins\n",
    "    b = int(window/smallbins) #the number of small bins in one window\n",
    "    c = int(shift/smallbins) #the number of small bins you have to shift each time\n",
    "    mean_sync = np.zeros(int(binned_neurons.shape[1]/c)) #initialisation of the mean synchrony across time \n",
    "    start = int(0 + b/2) #where to start the computation of mean synchrony (you have to start at b because you\n",
    "                       #compute corrcoef in [-b/2,b/2] windows)\n",
    "    stop = int(binned_neurons.shape[1]-b/2) #where to end the computation of mean synchrony (at the end of the recording)\n",
    "    for i,j in enumerate(tqdm(range(start, stop, c))): #for each window\n",
    "        corrcoef = np.corrcoef(binned_neurons[:,int(j-b/2):int(j + b/2)]) #compute the corrcoef in a [-b/2:b/2] window\n",
    "        if asymetry: \n",
    "            corrcoef = corrcoef[l_neurons2:,:l_neurons2] #extract only the corrcoef matrix between the 2 populations\n",
    "        mean_sync[i] = np.nanmean(corrcoef) #compute the mean of corrcoef for each window, disregarding the nan\n",
    "    t=t[::c] #extract t timings at c steps\n",
    "    toreturn = nts.Tsd(t[:-1], mean_sync, time_units='s') #create a neuroseries frame with the means of synchrony\n",
    "    return toreturn"
   ]
  },
  {
   "cell_type": "code",
   "execution_count": 8,
   "id": "ccc4ff08",
   "metadata": {},
   "outputs": [],
   "source": [
    "def mean_synchrony_nan(neurons, asymetry=False, neurons2=False, window=2, smallbins=0.1, shift=1):\n",
    "    '''\n",
    "    MC 02/11/21\n",
    "    This function computes the mean synchrony for neurons across time, but with NaN values changed to 0\n",
    "    Inputs: \n",
    "        neurons: the neurons you want to compute the synchrony on\n",
    "        smallbins: the size of the time bins used to compute the number of spikes per neuron in that bin (in sec), default = 0.1\n",
    "        window: the size of the time window in which to compute the mean of synchrony among the neurons (in sec), default = 2\n",
    "        shift: the shift between one window and the following (in sec), default = 1\n",
    "        asymetry: if you want to compute this synchrony between 2 different populations of neurons, default = False\n",
    "        neurons2: the second population of neurons, default = False\n",
    "    Outputs:\n",
    "        a neuroseries data frame with the mean of synchrony across time\n",
    "    '''\n",
    "    if asymetry: #if we want to compute the synchrony between 2 different populations of neurons\n",
    "        neurons = np.concatenate((neurons, neurons2)) # concatenate the 2 populations of neurons\n",
    "        l_neurons2 = len(neurons2) #take the length of the second population, it will be used to extract\n",
    "                                   #only the part of the corrcoef matrix between the 2 populations and not between\n",
    "                                   #themselves\n",
    "    t,binned_neurons = bk.compute.binSpikes(neurons, binSize=smallbins) #count the number of spikes for each neuron in smallbins\n",
    "    b = int(window/smallbins) #the number of small bins in one window\n",
    "    c = int(shift/smallbins) #the number of small bins you have to shift each time\n",
    "    mean_sync = np.zeros(int(binned_neurons.shape[1]/c)) #initialisation of the mean synchrony across time \n",
    "    start = int(0 + b/2) #where to start the computation of mean synchrony (you have to start at b because you\n",
    "                       #compute corrcoef in [-b/2,b/2] windows)\n",
    "    stop = int(binned_neurons.shape[1]-b/2) #where to end the computation of mean synchrony (at the end of the recording)\n",
    "    for i,j in enumerate(tqdm(range(start, stop, c))): #for each window\n",
    "        corrcoef = np.corrcoef(binned_neurons[:,int(j-b/2):int(j + b/2)]) #compute the corrcoef in a [-b/2:b/2] window\n",
    "        if asymetry: \n",
    "            corrcoef = corrcoef[l_neurons2:,:l_neurons2] #extract only the corrcoef matrix between the 2 populations\n",
    "        corrcoef[np.isnan(corrcoef)] = 0 #all nan values are changed to 0\n",
    "        mean_sync[i] = np.nanmean(corrcoef) #compute the mean of corrcoef for each window, disregarding the nan\n",
    "    t=t[::c] #extract t timings at c steps\n",
    "    toreturn = nts.Tsd(t[:-1], mean_sync, time_units='s') #create a neuroseries frame with the means of synchrony\n",
    "    return toreturn"
   ]
  },
  {
   "cell_type": "code",
   "execution_count": 9,
   "id": "85432617",
   "metadata": {},
   "outputs": [],
   "source": [
    "def mean_firing_rate(neurons, window=2, smallbins=0.1, shift=1):\n",
    "    '''\n",
    "    MC 02/11/21\n",
    "    This function computes the mean firing rate of a neuron population across time\n",
    "    Inputs: \n",
    "        neurons: the neurons you want to compute the mean firing rate on\n",
    "        smallbins: the size of the time bins used to compute the number of spikes per neuron in that bin (in sec), default = 0.1\n",
    "        window: the size of the time window in which to compute the mean of firing rate among the neurons (in sec), default = 2\n",
    "        shift: the shift between one window and the following (in sec), default = 1\n",
    "    Outputs:\n",
    "        a neuroseries data frame with the mean of firing rate across time\n",
    "    '''\n",
    "    t,binned_neurons = bk.compute.binSpikes(neurons, binSize=smallbins) #count the number of spikes for each neuron in smallbins\n",
    "    b = int(window/smallbins) #the number of small bins in one window\n",
    "    c = int(shift/smallbins) #the number of small bins you have to shift each time\n",
    "    mean_fr = np.zeros(int(binned_neurons.shape[1]/c)) #initialisation of the mean firing rate across time \n",
    "    start = int(0 + b/2) #where to start the computation of mean synchrony (you have to start at b because you\n",
    "                       #compute corrcoef in [-b/2,b/2] windows)\n",
    "    stop = int(binned_neurons.shape[1]-b/2) #where to end the computation of mean synchrony (at the end of the recording)\n",
    "    for i,j in enumerate(tqdm(range(start, stop, c))): #for each window\n",
    "        mean_fr[i] = np.nanmean(binned_neurons[:,int(j-b/2):int(j + b/2)])/window #compute the mean of firing rate for each window, \n",
    "                                                                                  #disregarding the nan\n",
    "    t=t[::c] #extract t timings at c steps\n",
    "    toreturn = nts.Tsd(t[:-1], mean_fr, time_units='s') #create a neuroseries frame with the means of firing rate\n",
    "    return toreturn"
   ]
  },
  {
   "cell_type": "code",
   "execution_count": 10,
   "id": "6c7408b1",
   "metadata": {},
   "outputs": [],
   "source": [
    "def pourcent_active_neurons(neurons, window=1):\n",
    "    '''\n",
    "    MC 03/11/21\n",
    "    This function computes the pourcentage of active neurons across time\n",
    "    Inputs: \n",
    "        neurons: the neurons you want to compute the pourcentages on\n",
    "        window: the size of the time window in which to compute the pourcentage of active neurons (in sec), default = 1\n",
    "    Outputs:\n",
    "        a neuroseries data frame with the pourcentage of active neurons across time\n",
    "    '''\n",
    "    t,binned_neurons = bk.compute.binSpikes(neurons, binSize=window) #count the number of spikes for each neuron in windows\n",
    "    pourcent_active = np.zeros(int(binned_neurons.shape[1])) #initialisation of the pourcentages across time \n",
    "    for i,j in enumerate(tqdm(range(0, int(binned_neurons.shape[1]), window))): #for each window\n",
    "        pourcent_active[i] = np.count_nonzero(binned_neurons[:,j])/len(neurons) #compute the pourcentage for each window\n",
    "    t=t[::window] #extract t timings at shift steps\n",
    "    toreturn = nts.Tsd(t, pourcent_active, time_units='s') #create a neuroseries frame with the pourcentages\n",
    "    return toreturn"
   ]
  },
  {
   "cell_type": "code",
   "execution_count": 11,
   "id": "f04b364b",
   "metadata": {},
   "outputs": [],
   "source": [
    "def normalization(neurons):\n",
    "    '''\n",
    "    MC 08/11/21\n",
    "    this function normalizes the pourcentage of active cells to the mean firing rate\n",
    "    Input : the neurons you want to compute this normalization on\n",
    "    Output : a neuroseries timeframe of this normalized pourcentages of active cells \n",
    "    '''\n",
    "    t,_ = bk.compute.binSpikes(neurons, binSize=1)\n",
    "    pac = pourcent_active_neurons(neurons, window = 1) #compute the pourcent of active cells across time\n",
    "    pac = bk.compute.nts_smooth(pac, 100, 50) #smoothing the results \n",
    "    mfr = mean_firing_rate(neurons, window=2, shift=1) #compute the mean FR across time \n",
    "    mfr = bk.compute.nts_smooth(mfr, 100, 50) #smoothing the results\n",
    "    toreturn = [(i/j) for i,j in zip(pac.values, mfr.values)] #normalize the pac to the mfr\n",
    "    toreturn = nts.Tsd(t, toreturn, time_units = 's') #create the tsd\n",
    "    return toreturn\n",
    "    "
   ]
  },
  {
   "cell_type": "code",
   "execution_count": null,
   "id": "52a2b07a",
   "metadata": {},
   "outputs": [],
   "source": [
    "def synchrony_around_transitions(transitions, mean_sync):\n",
    "    '''\n",
    "    MC 13/12/21\n",
    "    This function computes the mean of synchrony around transitions REM/sws or sws/REM, \n",
    "    and the mean of synchrony of the whole epochs considered (REM or sws)\n",
    "    Inputs: \n",
    "        transitions: the timing of the transitions\n",
    "        mean_sync: the mean synchrony across the session\n",
    "    Output: a dataframe with the different means for each type \n",
    "    '''\n",
    "    \n",
    "    trans = {'Rem before transition': [], \n",
    "            'Rem after transition': [],\n",
    "             'Rem': [],\n",
    "            'sws before transition' : [], \n",
    "            'sws after transition': [],\n",
    "            'sws': []}\n",
    "    \n",
    "    transitions_rem_sws = transitions[1][('Rem', 'sws')].index.values\n",
    "    transitions_sws_rem = transitions[1][('sws', 'Rem')].index.values\n",
    "    \n",
    "    for i  in transitions_rem_sws:\n",
    "        interval_rem = nts.IntervalSet(i-10_000_000, i, time_units='s')\n",
    "        trans['Rem before transition'].append(np.mean(mean_sync.restrict(interval_rem).values))\n",
    "        interval_sws = nts.IntervalSet(i, i+10_000_000, time_units='s')\n",
    "        trans['sws after transition'].append(np.mean(mean_sync.restrict(interval_sws).values))\n",
    "\n",
    "    for i  in transitions_sws_rem:\n",
    "        interval_sws = nts.IntervalSet(i-10_000_000, i, time_units='s')\n",
    "        trans['sws before transition'].append(np.mean(mean_sync.restrict(interval_sws).values))\n",
    "        interval_rem = nts.IntervalSet(i, i+10_000_000, time_units='s')\n",
    "        trans['Rem after transition'].append(np.mean(mean_sync.restrict(interval_rem).values))\n",
    "\n",
    "    for i, j  in zip(states['Rem'].as_units('s').start, states['Rem'].as_units('s').end):\n",
    "        interval = nts.IntervalSet(i,j, time_units='s')\n",
    "        trans['Rem'].append(np.mean(mean_sync.restrict(interval).values))\n",
    "\n",
    "    for i, j  in zip(states['sws'].as_units('s').start, states['sws'].as_units('s').end):\n",
    "        interval = nts.IntervalSet(i,j, time_units='s')\n",
    "        trans['sws'].append(np.mean(mean_sync.restrict(interval).values))\n",
    "\n",
    "    trans = pd.DataFrame(dict([ (k,pd.Series(v)) for k,v in trans.items() ]))\n",
    "    return trans"
   ]
  },
  {
   "cell_type": "markdown",
   "id": "6b7b8c7e",
   "metadata": {},
   "source": [
    "# Computation of variables"
   ]
  },
  {
   "cell_type": "code",
   "execution_count": null,
   "id": "03a62ec2",
   "metadata": {},
   "outputs": [],
   "source": [
    "mean_sync_pyr_bla = mean_synchrony(neurons_pyr_bla, window=1, smallbins=0.025, shift=1)\n",
    "mean_sync_int_bla = mean_synchrony(neurons_int_bla, window=1, smallbins=0.025, shift=1)\n",
    "\n",
    "mean_sync_pyr_bla_s = bk.compute.nts_smooth(mean_sync_pyr_bla, 100,50)\n",
    "mean_sync_int_bla_s = bk.compute.nts_smooth(mean_sync_int_bla, 100,50)"
   ]
  },
  {
   "cell_type": "code",
   "execution_count": null,
   "id": "074c8d36",
   "metadata": {},
   "outputs": [],
   "source": [
    "mean_sync_nan_pyr_bla = mean_synchrony_nan(neurons_pyr_bla, window=1, smallbins=0.025, shift=1)\n",
    "mean_sync_nan_int_bla = mean_synchrony_nan(neurons_int_bla, window=1, smallbins=0.025, shift=1)\n",
    "\n",
    "mean_sync_nan_pyr_bla_s = bk.compute.nts_smooth(mean_sync_nan_pyr_bla, 100,50)\n",
    "mean_sync_nan_int_bla_s = bk.compute.nts_smooth(mean_sync_nan_int_bla, 100,50)"
   ]
  },
  {
   "cell_type": "code",
   "execution_count": null,
   "id": "4a283fac",
   "metadata": {},
   "outputs": [],
   "source": [
    "m_asym_bla = mean_synchrony(neurons_pyr_bla, asymetry=True, \n",
    "                            neurons2=neurons_int_bla, window=1, \n",
    "                            smallbins = 0.025, shift= 1)\n",
    "\n",
    "m_asym_bla_s = bk.compute.nts_smooth(m_asym_bla, 30, 30)"
   ]
  },
  {
   "cell_type": "code",
   "execution_count": null,
   "id": "3cf84f6c",
   "metadata": {},
   "outputs": [],
   "source": [
    "mean_fr_pyr_bla = mean_firing_rate(neurons_pyr_bla)\n",
    "mean_fr_int_bla = mean_firing_rate(neurons_int_bla)\n",
    "\n",
    "mean_fr_pyr_bla_s = bk.compute.nts_smooth(mean_fr_pyr_bla, 100,50)\n",
    "mean_fr_int_bla_s = bk.compute.nts_smooth(mean_fr_int_bla, 100,50)"
   ]
  },
  {
   "cell_type": "code",
   "execution_count": null,
   "id": "bdff2064",
   "metadata": {},
   "outputs": [],
   "source": [
    "pourcent_active_pyr_bla = pourcent_active_neurons(neurons_pyr_bla)\n",
    "pourcent_active_int_bla = pourcent_active_neurons(neurons_int_bla)\n",
    "\n",
    "pourcent_active_pyr_bla_s = bk.compute.nts_smooth(pourcent_active_pyr_bla, 100,50)\n",
    "pourcent_active_int_bla_s = bk.compute.nts_smooth(pourcent_active_int_bla, 100,50)"
   ]
  },
  {
   "cell_type": "code",
   "execution_count": null,
   "id": "7bd10b06",
   "metadata": {},
   "outputs": [],
   "source": [
    "transitions = bk.compute.transitions_times(states)\n",
    "\n",
    "transitions_rem_sws = transitions[1][('Rem', 'sws')].index.values\n",
    "transitions_sws_rem = transitions[1][('sws', 'Rem')].index.values"
   ]
  },
  {
   "cell_type": "code",
   "execution_count": null,
   "id": "7344f608",
   "metadata": {},
   "outputs": [],
   "source": []
  },
  {
   "cell_type": "markdown",
   "id": "41df6678",
   "metadata": {},
   "source": [
    "# Matrices de corrélation et calculs de moyenne de synchronie"
   ]
  },
  {
   "cell_type": "markdown",
   "id": "da2afe91",
   "metadata": {},
   "source": [
    "### Symetrical matrices"
   ]
  },
  {
   "cell_type": "code",
   "execution_count": 90,
   "id": "e3b1e8f0",
   "metadata": {
    "collapsed": true,
    "jupyter": {
     "outputs_hidden": true,
     "source_hidden": true
    }
   },
   "outputs": [
    {
     "name": "stderr",
     "output_type": "stream",
     "text": [
      "  0%|                                                                                        | 0/22678 [00:00<?, ?it/s]C:\\Users\\maell\\anaconda3\\lib\\site-packages\\numpy\\lib\\function_base.py:2691: RuntimeWarning: invalid value encountered in true_divide\n",
      "  c /= stddev[:, None]\n",
      "C:\\Users\\maell\\anaconda3\\lib\\site-packages\\numpy\\lib\\function_base.py:2692: RuntimeWarning: invalid value encountered in true_divide\n",
      "  c /= stddev[None, :]\n",
      "100%|███████████████████████████████████████████████████████████████████████████| 22678/22678 [00:28<00:00, 793.99it/s]\n",
      "100%|██████████████████████████████████████████████████████████████████████████| 22678/22678 [00:19<00:00, 1169.65it/s]\n",
      "100%|██████████████████████████████████████████████████████████████████████████| 22678/22678 [00:11<00:00, 1963.98it/s]\n",
      "100%|██████████████████████████████████████████████████████████████████████████| 22678/22678 [00:10<00:00, 2195.51it/s]\n"
     ]
    }
   ],
   "source": [
    "mean_sync_pyr_bla = mean_synchrony(neurons_pyr_bla, window=2, smallbins=0.025, shift=1)\n",
    "mean_sync_pyr_hpc = mean_synchrony(neurons_pyr_hpc, window=2, smallbins=0.025, shift=1)\n",
    "mean_sync_int_bla = mean_synchrony(neurons_int_bla, window=2, smallbins=0.025, shift=1)\n",
    "mean_sync_int_hpc = mean_synchrony(neurons_int_hpc, window=2, smallbins=0.025, shift=1)"
   ]
  },
  {
   "cell_type": "code",
   "execution_count": 58,
   "id": "e08efba7",
   "metadata": {
    "collapsed": true,
    "jupyter": {
     "outputs_hidden": true,
     "source_hidden": true
    }
   },
   "outputs": [
    {
     "name": "stderr",
     "output_type": "stream",
     "text": [
      "  0%|                                                                                        | 0/22678 [00:00<?, ?it/s]C:\\Users\\maell\\anaconda3\\lib\\site-packages\\numpy\\lib\\function_base.py:2691: RuntimeWarning: invalid value encountered in true_divide\n",
      "  c /= stddev[:, None]\n",
      "C:\\Users\\maell\\anaconda3\\lib\\site-packages\\numpy\\lib\\function_base.py:2692: RuntimeWarning: invalid value encountered in true_divide\n",
      "  c /= stddev[None, :]\n",
      "100%|██████████████████████████████████████████████████████████████████████████| 22678/22678 [00:14<00:00, 1536.63it/s]\n",
      "100%|██████████████████████████████████████████████████████████████████████████| 22678/22678 [00:11<00:00, 2034.70it/s]\n",
      "100%|██████████████████████████████████████████████████████████████████████████| 22678/22678 [00:15<00:00, 1422.93it/s]\n",
      "100%|██████████████████████████████████████████████████████████████████████████| 22678/22678 [00:08<00:00, 2802.14it/s]\n"
     ]
    }
   ],
   "source": [
    "mean_sync_nan_pyr_bla = mean_synchrony_nan(neurons_pyr_bla, window=2, smallbins=0.025, shift=1)\n",
    "mean_sync_nan_pyr_hpc = mean_synchrony_nan(neurons_pyr_hpc, window=2, smallbins=0.025, shift=1)\n",
    "mean_sync_nan_int_bla = mean_synchrony_nan(neurons_int_bla, window=2, smallbins=0.025, shift=1)\n",
    "mean_sync_nan_int_hpc = mean_synchrony_nan(neurons_int_hpc, window=2, smallbins=0.025, shift=1)"
   ]
  },
  {
   "cell_type": "markdown",
   "id": "0bd2135c",
   "metadata": {},
   "source": [
    "### Smoothing the means"
   ]
  },
  {
   "cell_type": "markdown",
   "id": "cddf031c",
   "metadata": {},
   "source": [
    "For the means of synchrony, we calculate them with small time bins, so we need to smooth the results"
   ]
  },
  {
   "cell_type": "code",
   "execution_count": 96,
   "id": "7082925d",
   "metadata": {
    "jupyter": {
     "source_hidden": true
    }
   },
   "outputs": [],
   "source": [
    "mean_sync_pyr_bla_s = bk.compute.nts_smooth(mean_sync_pyr_bla, 100,50)\n",
    "mean_sync_pyr_hpc_s = bk.compute.nts_smooth(mean_sync_pyr_hpc, 100,50)\n",
    "mean_sync_int_bla_s = bk.compute.nts_smooth(mean_sync_int_bla, 100,50)\n",
    "mean_sync_int_hpc_s = bk.compute.nts_smooth(mean_sync_int_hpc, 100,50)"
   ]
  },
  {
   "cell_type": "code",
   "execution_count": 59,
   "id": "76b15553",
   "metadata": {
    "jupyter": {
     "source_hidden": true
    }
   },
   "outputs": [],
   "source": [
    "mean_sync_nan_pyr_bla_s = bk.compute.nts_smooth(mean_sync_nan_pyr_bla, 100,50)\n",
    "mean_sync_nan_pyr_hpc_s = bk.compute.nts_smooth(mean_sync_nan_pyr_hpc, 100,50)\n",
    "mean_sync_nan_int_bla_s = bk.compute.nts_smooth(mean_sync_nan_int_bla, 100,50)\n",
    "mean_sync_nan_int_hpc_s = bk.compute.nts_smooth(mean_sync_nan_int_hpc, 100,50)"
   ]
  },
  {
   "cell_type": "markdown",
   "id": "83a0ddbf",
   "metadata": {},
   "source": [
    "### Asymetrical matrices BLA/HPC with pyr and int"
   ]
  },
  {
   "cell_type": "code",
   "execution_count": 13,
   "id": "01d536ff",
   "metadata": {
    "collapsed": true,
    "jupyter": {
     "outputs_hidden": true,
     "source_hidden": true
    }
   },
   "outputs": [
    {
     "name": "stderr",
     "output_type": "stream",
     "text": [
      "  0%|                                                                                        | 0/22679 [00:00<?, ?it/s]C:\\Users\\maell\\anaconda3\\lib\\site-packages\\numpy\\lib\\function_base.py:2691: RuntimeWarning: invalid value encountered in true_divide\n",
      "  c /= stddev[:, None]\n",
      "C:\\Users\\maell\\anaconda3\\lib\\site-packages\\numpy\\lib\\function_base.py:2692: RuntimeWarning: invalid value encountered in true_divide\n",
      "  c /= stddev[None, :]\n",
      "C:\\Users\\maell\\AppData\\Local\\Temp/ipykernel_34660/453570434.py:31: RuntimeWarning: Mean of empty slice\n",
      "  mean_sync[i] = np.nanmean(corrcoef) #compute the mean of corrcoef for each window, disregarding the nan\n",
      "100%|██████████████████████████████████████████████████████████████████████████| 22679/22679 [00:12<00:00, 1753.82it/s]\n"
     ]
    }
   ],
   "source": [
    "m_asym_bla = mean_synchrony(neurons_pyr_bla, asymetry=True, neurons2=neurons_int_bla, window=1, smallbins = 0.025, shift= 1)"
   ]
  },
  {
   "cell_type": "code",
   "execution_count": 35,
   "id": "79890988",
   "metadata": {
    "jupyter": {
     "source_hidden": true
    }
   },
   "outputs": [],
   "source": [
    "m_asym_bla_s = bk.compute.nts_smooth(m_asym_bla, 30, 30)"
   ]
  },
  {
   "cell_type": "code",
   "execution_count": 45,
   "id": "92049919",
   "metadata": {
    "collapsed": true,
    "jupyter": {
     "outputs_hidden": true,
     "source_hidden": true
    }
   },
   "outputs": [
    {
     "name": "stderr",
     "output_type": "stream",
     "text": [
      "  0%|                                                                                        | 0/22639 [00:00<?, ?it/s]C:\\Users\\maell\\anaconda3\\lib\\site-packages\\numpy\\lib\\function_base.py:2691: RuntimeWarning: invalid value encountered in true_divide\n",
      "  c /= stddev[:, None]\n",
      "C:\\Users\\maell\\anaconda3\\lib\\site-packages\\numpy\\lib\\function_base.py:2692: RuntimeWarning: invalid value encountered in true_divide\n",
      "  c /= stddev[None, :]\n",
      "100%|███████████████████████████████████████████████████████████████████████████| 22639/22639 [00:25<00:00, 898.19it/s]\n",
      "100%|██████████████████████████████████████████████████████████████████████████| 22639/22639 [00:18<00:00, 1217.04it/s]\n",
      "100%|██████████████████████████████████████████████████████████████████████████| 22639/22639 [00:09<00:00, 2435.30it/s]\n",
      "100%|██████████████████████████████████████████████████████████████████████████| 22639/22639 [00:08<00:00, 2717.07it/s]\n",
      "100%|███████████████████████████████████████████████████████████████████████████| 22639/22639 [00:40<00:00, 557.32it/s]\n",
      "100%|██████████████████████████████████████████████████████████████████████████| 22639/22639 [00:10<00:00, 2173.40it/s]\n",
      "  4%|██▋                                                                          | 808/22639 [00:00<00:22, 987.60it/s]C:\\Users\\maell\\AppData\\Local\\Temp/ipykernel_23364/4247394187.py:27: RuntimeWarning: Mean of empty slice\n",
      "  mean_sync[i] = np.nanmean(corrcoef)\n",
      "100%|███████████████████████████████████████████████████████████████████████████| 22639/22639 [00:27<00:00, 836.62it/s]\n",
      "100%|██████████████████████████████████████████████████████████████████████████| 22639/22639 [00:19<00:00, 1162.21it/s]\n"
     ]
    }
   ],
   "source": [
    "m_pyr_bla = mean_synchrony(neurons_pyr_bla, window=1, smallbins = 0.025, shift= 1)\n",
    "m_pyr_hpc =  mean_synchrony(neurons_pyr_hpc, window=1, smallbins = 0.025, shift= 1)\n",
    "m_int_bla = mean_synchrony(neurons_int_bla, window=1, smallbins = 0.025, shift= 1)\n",
    "m_int_hpc =  mean_synchrony(neurons_int_hpc, window=1, smallbins = 0.025, shift= 1)\n",
    "\n",
    "\n",
    "m_asym_pyr = mean_synchrony(neurons_pyr_bla, asymetry=True, neurons2=neurons_pyr_hpc, window=1, smallbins = 0.025, shift= 1)\n",
    "m_asym_int = mean_synchrony(neurons_int_bla, asymetry=True, neurons2=neurons_int_hpc, window=1, smallbins = 0.025, shift= 1)\n",
    "m_asym_bla = mean_synchrony(neurons_pyr_bla, asymetry=True, neurons2=neurons_int_bla, window=1, smallbins = 0.025, shift= 1)\n",
    "m_asym_hpc = mean_synchrony(neurons_pyr_hpc, asymetry=True, neurons2=neurons_int_hpc, window=1, smallbins = 0.025, shift= 1)"
   ]
  },
  {
   "cell_type": "code",
   "execution_count": 46,
   "id": "7d1a879f",
   "metadata": {
    "jupyter": {
     "source_hidden": true
    }
   },
   "outputs": [],
   "source": [
    "m_pyr_bla = bk.compute.nts_smooth(m_pyr_bla, 10,5)\n",
    "m_pyr_hpc = bk.compute.nts_smooth(m_pyr_hpc, 10,5)\n",
    "m_int_bla = bk.compute.nts_smooth(m_int_bla, 10,5)\n",
    "m_int_hpc =  bk.compute.nts_smooth(m_int_hpc, 10,5)\n",
    "\n",
    "\n",
    "m_asym_pyr = bk.compute.nts_smooth(m_asym_pyr, 10,5)\n",
    "m_asym_int = bk.compute.nts_smooth(m_asym_int, 10,5)\n",
    "m_asym_bla = bk.compute.nts_smooth(m_asym_bla, 10,5)\n",
    "m_asym_hpc = bk.compute.nts_smooth(m_asym_hpc, 10,5)"
   ]
  },
  {
   "cell_type": "code",
   "execution_count": 48,
   "id": "991b5496",
   "metadata": {
    "collapsed": true,
    "jupyter": {
     "outputs_hidden": true,
     "source_hidden": true
    }
   },
   "outputs": [
    {
     "data": {
      "text/plain": [
       "<matplotlib.legend.Legend at 0x15747c4bd90>"
      ]
     },
     "execution_count": 48,
     "metadata": {},
     "output_type": "execute_result"
    }
   ],
   "source": [
    "plt.figure()\n",
    "plt.subplot(4,1,1)\n",
    "bk.plot.intervals(states['Rem'])\n",
    "bk.plot.intervals(states['sws'], col='grey')\n",
    "plt.plot(m_pyr_bla[15000:].as_units('s'), label='pyr bla', color = 'g')\n",
    "plt.plot(m_pyr_hpc[15000:].as_units('s'), label='pyr hpc', color = 'b')\n",
    "plt.plot(m_asym_pyr[15000:].as_units('s'), label ='synchro pyr BLA/HPC', color='r')\n",
    "plt.xlim(15000,22000)\n",
    "plt.legend()\n",
    "\n",
    "plt.subplot(4,1,2)\n",
    "bk.plot.intervals(states['Rem'])\n",
    "bk.plot.intervals(states['sws'], col='grey')\n",
    "plt.plot(m_int_bla[15000:].as_units('s'), label='int bla', color = 'g', linestyle='--')\n",
    "plt.plot(m_int_hpc[15000:].as_units('s'), label='int hpc', color = 'b', linestyle='--')\n",
    "plt.plot(m_asym_int[15000:].as_units('s'), label ='synchro int BLA/HPC', color='r')\n",
    "plt.xlim(15000,22000)\n",
    "plt.legend()\n",
    "\n",
    "plt.subplot(4,1,3)\n",
    "bk.plot.intervals(states['Rem'])\n",
    "bk.plot.intervals(states['sws'], col='grey')\n",
    "plt.plot(m_pyr_bla[15000:].as_units('s'), label='pyr bla', color = 'g')\n",
    "plt.plot(m_int_bla[15000:].as_units('s'), label='int bla', color = 'g', linestyle='--')\n",
    "plt.plot(m_asym_bla[15000:].as_units('s'), label ='synchro BLA pyr/int', color='r')\n",
    "plt.xlim(15000,22000)\n",
    "plt.legend()\n",
    "\n",
    "plt.subplot(4,1,4)\n",
    "bk.plot.intervals(states['Rem'])\n",
    "bk.plot.intervals(states['sws'], col='grey')\n",
    "plt.plot(m_pyr_hpc[15000:].as_units('s'), label='pyr hpc', color = 'b')\n",
    "plt.plot(m_int_hpc[15000:].as_units('s'), label='int hpc', color = 'b', linestyle='--')\n",
    "plt.plot(m_asym_hpc[15000:].as_units('s'), label ='synchro HPC Pyr/int', color='r')\n",
    "plt.xlim(15000,22000)\n",
    "plt.legend()"
   ]
  },
  {
   "cell_type": "code",
   "execution_count": 65,
   "id": "b52491a6",
   "metadata": {
    "collapsed": true,
    "jupyter": {
     "outputs_hidden": true,
     "source_hidden": true
    }
   },
   "outputs": [
    {
     "name": "stderr",
     "output_type": "stream",
     "text": [
      "C:\\Users\\maell\\anaconda3\\lib\\site-packages\\numpy\\lib\\function_base.py:2691: RuntimeWarning: invalid value encountered in true_divide\n",
      "  c /= stddev[:, None]\n",
      "C:\\Users\\maell\\anaconda3\\lib\\site-packages\\numpy\\lib\\function_base.py:2692: RuntimeWarning: invalid value encountered in true_divide\n",
      "  c /= stddev[None, :]\n"
     ]
    }
   ],
   "source": [
    "#for asymetrical matrices (between hpc and bla)\n",
    "#To get the correlation coefficient between hpc and bla, I concatenate the 2, then I compute the matrix \n",
    "#but I only take the part where it is between the two, and not between themselves. Then I can compute the mean\n",
    "\n",
    "l_pyr_bla = len(neurons_pyr_bla)\n",
    "l_pyr_hpc = len(neurons_pyr_hpc)\n",
    "l_int_bla = len(neurons_int_bla)\n",
    "l_int_hpc = len(neurons_int_hpc)\n",
    "#compute their length to only take the part of the matrix where it is asymetrical\n",
    "\n",
    "mean_corr_pyr = []\n",
    "mean_corr_int = []\n",
    "\n",
    "for i in interval:\n",
    "    corrcoef_pyr = np.corrcoef(binned_pyr[:,int(i):int(i + bins)]) \n",
    "    corrcoef_pyr = corrcoef_pyr[l_pyr_hpc:-1, l_pyr_bla:-1]\n",
    "    mean_corr_pyr.append(np.nanmean(corrcoef_pyr))\n",
    "    corrcoef_int = np.corrcoef(binned_int[:,int(i):int(i + bins)])  \n",
    "    corrcoef_int = corrcoef_int[l_int_hpc:-1, l_int_bla:-1]\n",
    "    mean_corr_int.append(np.nanmean(corrcoef_int))\n"
   ]
  },
  {
   "cell_type": "code",
   "execution_count": 141,
   "id": "3b633047",
   "metadata": {
    "jupyter": {
     "source_hidden": true
    }
   },
   "outputs": [],
   "source": [
    "neurons_pyr_ordered = np.concatenate((neurons_pyr_hpc, neurons_pyr_bla)) #all pyramidal neurons, but in order\n",
    "neurons_int_ordered = np.concatenate((neurons_int_hpc, neurons_int_bla)) #all interneurons, but in order"
   ]
  },
  {
   "cell_type": "markdown",
   "id": "8ff263e6",
   "metadata": {},
   "source": [
    "### Asymetrical matrices pyr/int for BLA and HPC"
   ]
  },
  {
   "cell_type": "markdown",
   "id": "424455e4",
   "metadata": {},
   "source": [
    "### Plotting"
   ]
  },
  {
   "cell_type": "code",
   "execution_count": 91,
   "id": "d73e8460",
   "metadata": {
    "jupyter": {
     "source_hidden": true
    }
   },
   "outputs": [],
   "source": [
    "test = {'Rem BLA': [], 'sws BLA': [], 'Rem Hpc' : [], 'sws Hpc': []}\n",
    "for i, j  in zip(states['Rem'].as_units('s').start, states['Rem'].as_units('s').end):\n",
    "    interval = nts.IntervalSet(i,j, time_units='s')\n",
    "    test['Rem BLA'].append(np.mean(mean_sync_pyr_bla.restrict(interval).values))\n",
    "    test['Rem Hpc'].append(np.mean(mean_sync_pyr_hpc.restrict(interval).values))\n",
    "for i, j  in zip(states['sws'].as_units('s').start, states['sws'].as_units('s').end):\n",
    "    interval = nts.IntervalSet(i,j, time_units='s')\n",
    "    test['sws BLA'].append(np.mean(mean_sync_pyr_bla.restrict(interval).values))\n",
    "    test['sws Hpc'].append(np.mean(mean_sync_pyr_hpc.restrict(interval).values))"
   ]
  },
  {
   "cell_type": "code",
   "execution_count": 92,
   "id": "9f1ebaca",
   "metadata": {},
   "outputs": [
    {
     "data": {
      "text/plain": [
       "KruskalResult(statistic=10.953122171945694, pvalue=0.0009344602525591339)"
      ]
     },
     "execution_count": 92,
     "metadata": {},
     "output_type": "execute_result"
    }
   ],
   "source": [
    "sp.stats.kruskal(test['Rem Hpc'], test['sws Hpc'])"
   ]
  },
  {
   "cell_type": "code",
   "execution_count": null,
   "id": "fc30c036",
   "metadata": {},
   "outputs": [],
   "source": []
  },
  {
   "cell_type": "code",
   "execution_count": 125,
   "id": "98520e8a",
   "metadata": {},
   "outputs": [
    {
     "name": "stderr",
     "output_type": "stream",
     "text": [
      "C:\\Users\\maell\\anaconda3\\lib\\site-packages\\seaborn\\categorical.py:1296: UserWarning: 5.9% of the points cannot be placed; you may want to decrease the size of the markers or use stripplot.\n",
      "  warnings.warn(msg, UserWarning)\n",
      "C:\\Users\\maell\\anaconda3\\lib\\site-packages\\seaborn\\categorical.py:1296: UserWarning: 14.7% of the points cannot be placed; you may want to decrease the size of the markers or use stripplot.\n",
      "  warnings.warn(msg, UserWarning)\n"
     ]
    },
    {
     "data": {
      "text/plain": [
       "<AxesSubplot:>"
      ]
     },
     "execution_count": 125,
     "metadata": {},
     "output_type": "execute_result"
    }
   ],
   "source": [
    "sns.boxplot(data = t, whis=np.inf)\n",
    "sns.swarmplot(data = t, color=\".2\")\n",
    "#plt.savefig('C:/Users/maell/Documents/ENS/Cours/M2/S1/TINS/Figure/means_synchrony_rem_sws.svg')"
   ]
  },
  {
   "cell_type": "code",
   "execution_count": 23,
   "id": "35d747db",
   "metadata": {
    "collapsed": true,
    "jupyter": {
     "outputs_hidden": true,
     "source_hidden": true
    }
   },
   "outputs": [
    {
     "data": {
      "text/plain": [
       "<matplotlib.legend.Legend at 0x2888003fd60>"
      ]
     },
     "execution_count": 23,
     "metadata": {},
     "output_type": "execute_result"
    }
   ],
   "source": [
    "bk.plot.intervals(states['Rem'])\n",
    "bk.plot.intervals(states['sws'], col='grey')\n",
    "plt.plot(mean_fr_pyr_bla_s.as_units('s'), label='mean firing rate', color = 'g')\n",
    "plt.plot(pourcent_active_pyr_bla_s.as_units('s'), label='pourcent active', color = 'b')\n",
    "plt.plot(mean_sync_pyr_bla_s.as_units('s'), label='mean synchrony', color = 'r')\n",
    "\n",
    "plt.legend()"
   ]
  },
  {
   "cell_type": "code",
   "execution_count": null,
   "id": "0927877d",
   "metadata": {
    "jupyter": {
     "source_hidden": true
    }
   },
   "outputs": [],
   "source": [
    "plt.figure()\n",
    "plt.subplot(1,2,1)\n",
    "g = sns.regplot(mean_fr_pyr_bla_s.restrict(states['Rem']).values, \n",
    "                mean_sync_pyr_bla_s.restrict(states['Rem']).values, \n",
    "                scatter_kws={'alpha':0.1, 's':5}, line_kws={'lw':5}, x_ci='sd', color='orange')\n",
    "sns.regplot(mean_fr_pyr_bla_s.restrict(states['sws']).values, \n",
    "            mean_sync_pyr_bla_s.restrict(states['sws']).values, \n",
    "            scatter_kws={'alpha':0.1, 's':5}, line_kws={'lw':5}, x_ci='sd', color='grey')\n",
    "sns.regplot(mean_fr_pyr_bla_s[100:-100].restrict(states['wake']).values, \n",
    "            mean_sync_pyr_bla_s[100:-100].restrict(states['wake']).values, \n",
    "            scatter_kws={'alpha':0.1, 's':5}, line_kws={'lw':5}, x_ci='sd')\n",
    "g.set(xlabel ='mean firing rate', ylabel = 'mean synchrony',\n",
    "      title='Correlation between synchrony and firing rate in BLA pyramidal cells')\n",
    "g.legend(labels=['Rem', 'sws', 'Wake'])\n",
    "\n",
    "plt.subplot(1,2,2)\n",
    "g = sns.regplot(mean_fr_int_bla_s.restrict(states['Rem']).values, \n",
    "                mean_sync_nan_int_bla_s.restrict(states['Rem']).values, \n",
    "                scatter_kws={'alpha':0.1, 's':5}, line_kws={'lw':5}, robust=True, x_ci='sd', color='orange')\n",
    "sns.regplot(mean_fr_int_bla_s.restrict(states['sws']).values, \n",
    "            mean_sync_nan_int_bla_s.restrict(states['sws']).values, \n",
    "            scatter_kws={'alpha':0.1, 's':5}, line_kws={'lw':5}, robust=True, x_ci='sd', color='grey')\n",
    "sns.regplot(mean_fr_int_bla_s[100:-100].restrict(states['wake']).values, \n",
    "            mean_sync_nan_int_bla_s[100:-100].restrict(states['wake']).values, \n",
    "            scatter_kws={'alpha':0.1, 's':5}, robust=True, line_kws={'lw':5}, x_ci='sd')\n",
    "g.set(xlabel ='mean firing rate', ylabel = 'pourcent of active cells',\n",
    "      title='Correlation between pourcent of active cells and firing rate in BLA pyramidal cells')\n",
    "g.legend(labels=['Rem', 'sws', 'Wake'])"
   ]
  },
  {
   "cell_type": "code",
   "execution_count": 88,
   "id": "a6ddc3fe",
   "metadata": {
    "collapsed": true,
    "jupyter": {
     "outputs_hidden": true,
     "source_hidden": true
    }
   },
   "outputs": [
    {
     "ename": "NameError",
     "evalue": "name 'mean_fr_pyr_bla_s' is not defined",
     "output_type": "error",
     "traceback": [
      "\u001b[1;31m---------------------------------------------------------------------------\u001b[0m",
      "\u001b[1;31mNameError\u001b[0m                                 Traceback (most recent call last)",
      "\u001b[1;32m~\\AppData\\Local\\Temp/ipykernel_20900/602742022.py\u001b[0m in \u001b[0;36m<module>\u001b[1;34m\u001b[0m\n\u001b[0;32m      1\u001b[0m \u001b[0mplt\u001b[0m\u001b[1;33m.\u001b[0m\u001b[0msubplot\u001b[0m\u001b[1;33m(\u001b[0m\u001b[1;36m1\u001b[0m\u001b[1;33m,\u001b[0m\u001b[1;36m2\u001b[0m\u001b[1;33m,\u001b[0m\u001b[1;36m1\u001b[0m\u001b[1;33m)\u001b[0m\u001b[1;33m\u001b[0m\u001b[1;33m\u001b[0m\u001b[0m\n\u001b[1;32m----> 2\u001b[1;33m g = sns.regplot(mean_fr_pyr_bla_s[100:-100].values, mean_sync_pyr_bla_s[100:-100].values, \n\u001b[0m\u001b[0;32m      3\u001b[0m                 scatter_kws={'alpha':0.1, 's':5}, line_kws={'lw':5}, x_ci='sd', color='grey')\n\u001b[0;32m      4\u001b[0m g.set(xlabel ='mean firing rate', ylabel = 'mean synchrony',\n\u001b[0;32m      5\u001b[0m       title='Correlation between synchrony and firing rate in BLA pyramidal')\n",
      "\u001b[1;31mNameError\u001b[0m: name 'mean_fr_pyr_bla_s' is not defined"
     ]
    }
   ],
   "source": [
    "plt.subplot(1,2,1)\n",
    "g = sns.regplot(mean_fr_pyr_bla_s[100:-100].values, mean_sync_pyr_bla_s[100:-100].values, \n",
    "                scatter_kws={'alpha':0.1, 's':5}, line_kws={'lw':5}, x_ci='sd', color='grey')\n",
    "g.set(xlabel ='mean firing rate', ylabel = 'mean synchrony',\n",
    "      title='Correlation between synchrony and firing rate in BLA pyramidal')\n",
    "\n",
    "plt.subplot(1,2,2)\n",
    "g = sns.regplot(mean_fr_pyr_bla_s[100:-100].values, pourcent_active_pyr_bla_s[100:-100].values, \n",
    "                scatter_kws={'alpha':0.1, 's':5}, line_kws={'lw':5}, x_ci='sd', color='grey')\n",
    "g.set(xlabel ='mean firing rate', ylabel = 'mean pourcent active',\n",
    "      title='Correlation between pourcent of active cells and firing rate in BLA pyramidal')"
   ]
  },
  {
   "cell_type": "code",
   "execution_count": 31,
   "id": "a5798ac9",
   "metadata": {
    "collapsed": true,
    "jupyter": {
     "outputs_hidden": true,
     "source_hidden": true
    }
   },
   "outputs": [
    {
     "data": {
      "text/plain": [
       "<mpl_toolkits.mplot3d.art3d.Path3DCollection at 0x288832d0400>"
      ]
     },
     "execution_count": 31,
     "metadata": {},
     "output_type": "execute_result"
    }
   ],
   "source": [
    "fig = plt.figure()\n",
    "ax = fig.add_subplot(111, projection='3d')\n",
    "ax.scatter(pourcent_active_pyr_bla_s[100:-100].values,\n",
    "           mean_sync_pyr_bla_s[100:-100].values,\n",
    "           mean_fr_pyr_bla_s[100:-100].values)"
   ]
  },
  {
   "cell_type": "code",
   "execution_count": 165,
   "id": "a00af01d",
   "metadata": {
    "jupyter": {
     "source_hidden": true
    }
   },
   "outputs": [],
   "source": [
    "mean = []\n",
    "for i  in transitions_rem_sws:\n",
    "    interval = nts.IntervalSet(i-10_000_000, i+ 10_000_000, time_units='us')\n",
    "    m = mean_sync_pyr_bla.restrict(interval).values\n",
    "    mean.append(m)\n",
    "    plt.plot(m, color = 'grey', alpha = 0.5)\n",
    "    plt.axvline(10)\n",
    "mean = "
   ]
  },
  {
   "cell_type": "code",
   "execution_count": 156,
   "id": "9a3f5693",
   "metadata": {
    "collapsed": true,
    "jupyter": {
     "outputs_hidden": true,
     "source_hidden": true
    }
   },
   "outputs": [
    {
     "name": "stderr",
     "output_type": "stream",
     "text": [
      "C:\\Users\\maell\\anaconda3\\lib\\site-packages\\numpy\\core\\fromnumeric.py:3440: RuntimeWarning: Mean of empty slice.\n",
      "  return _methods._mean(a, axis=axis, dtype=dtype,\n",
      "C:\\Users\\maell\\anaconda3\\lib\\site-packages\\numpy\\core\\_methods.py:189: RuntimeWarning: invalid value encountered in double_scalars\n",
      "  ret = ret.dtype.type(ret / rcount)\n"
     ]
    }
   ],
   "source": [
    "trans = {'Rem before transition': [], \n",
    "        'Rem after transition': [],\n",
    "         'Rem': [],\n",
    "        'sws before transition' : [], \n",
    "        'sws after transition': [],\n",
    "        'sws': []}\n",
    "for i  in transitions_rem_sws:\n",
    "    interval_rem = nts.IntervalSet(i-10_000_000, i, time_units='s')\n",
    "    trans['Rem before transition'].append(np.mean(mean_sync_pyr_bla.restrict(interval_rem).values))\n",
    "    interval_sws = nts.IntervalSet(i, i+10_000_000, time_units='s')\n",
    "    trans['sws after transition'].append(np.mean(mean_sync_pyr_hpc.restrict(interval_sws).values))\n",
    "    \n",
    "for i  in transitions_sws_rem:\n",
    "    interval_sws = nts.IntervalSet(i-10_000_000, i, time_units='s')\n",
    "    trans['sws before transition'].append(np.mean(mean_sync_pyr_bla.restrict(interval_sws).values))\n",
    "    interval_rem = nts.IntervalSet(i, i+10_000_000, time_units='s')\n",
    "    trans['Rem after transition'].append(np.mean(mean_sync_pyr_hpc.restrict(interval_rem).values))\n",
    "    \n",
    "for i, j  in zip(states['Rem'].as_units('s').start, states['Rem'].as_units('s').end):\n",
    "    interval = nts.IntervalSet(i,j, time_units='s')\n",
    "    trans['Rem'].append(np.mean(mean_sync_pyr_bla.restrict(interval).values))\n",
    "    \n",
    "for i, j  in zip(states['sws'].as_units('s').start, states['sws'].as_units('s').end):\n",
    "    interval = nts.IntervalSet(i,j, time_units='s')\n",
    "    trans['sws'].append(np.mean(mean_sync_pyr_bla.restrict(interval).values))"
   ]
  },
  {
   "cell_type": "code",
   "execution_count": 157,
   "id": "5bf5bc54",
   "metadata": {},
   "outputs": [],
   "source": [
    "trans = pd.DataFrame(dict([ (k,pd.Series(v)) for k,v in trans.items() ]))"
   ]
  },
  {
   "cell_type": "code",
   "execution_count": 158,
   "id": "964c4d5c",
   "metadata": {},
   "outputs": [
    {
     "data": {
      "text/plain": [
       "<AxesSubplot:>"
      ]
     },
     "execution_count": 158,
     "metadata": {},
     "output_type": "execute_result"
    }
   ],
   "source": [
    "sns.boxplot(data = trans, whis=np.inf)\n",
    "sns.swarmplot(data = trans, color=\".2\")"
   ]
  },
  {
   "cell_type": "code",
   "execution_count": 102,
   "id": "563c2065",
   "metadata": {},
   "outputs": [],
   "source": [
    "plt.figure(figsize=(12,6))\n",
    "\n",
    "bk.plot.intervals(states['Rem'])\n",
    "bk.plot.intervals(states['sws'], col='grey')\n",
    "plt.plot(mean_sync_pyr_bla_s.as_units('s'), color='g',linewidth=2, label='synchrony BLA')\n",
    "plt.plot(mean_sync_pyr_hpc_s.as_units('s'), color='r',linewidth=2, label='synchrony Hpc')\n",
    "plt.legend()\n",
    "plt.savefig('C:/Users/maell/Documents/ENS/Cours/M2/S1/TINS/Figure/synchrony_across_time.svg')"
   ]
  },
  {
   "cell_type": "code",
   "execution_count": 34,
   "id": "5905bbeb",
   "metadata": {
    "collapsed": true,
    "jupyter": {
     "outputs_hidden": true,
     "source_hidden": true
    }
   },
   "outputs": [
    {
     "data": {
      "text/plain": [
       "<matplotlib.legend.Legend at 0x1c76a4afee0>"
      ]
     },
     "execution_count": 34,
     "metadata": {},
     "output_type": "execute_result"
    }
   ],
   "source": [
    "#plot des moyennes de synchronie en fonction des states \n",
    "plt.subplot(2,1,1)\n",
    "bk.plot.intervals(states['Rem'])\n",
    "bk.plot.intervals(states['sws'], col='grey')\n",
    "plt.plot(mean_pyr_bla_s.as_units('s'), color='g',linewidth=2, label='pyr BLA')\n",
    "plt.plot(mean_pyr_hpc_s.as_units('s'), color='b',linewidth=2, label='pyr HPC')\n",
    "plt.legend()\n",
    "\n",
    "plt.subplot(2,1,2)\n",
    "bk.plot.intervals(states['Rem'])\n",
    "bk.plot.intervals(states['sws'], col='grey')\n",
    "plt.plot(mean_int_bla_s.as_units('s'), color='g',linewidth=2, label='int BLA')\n",
    "plt.plot(mean_int_hpc_s.as_units('s'), color='b',linewidth=2, label='int HPC')\n",
    "plt.legend()"
   ]
  },
  {
   "cell_type": "markdown",
   "id": "81fef7f9",
   "metadata": {},
   "source": [
    "### Correlation between firing rate and synchrony"
   ]
  },
  {
   "cell_type": "code",
   "execution_count": 66,
   "id": "65338686",
   "metadata": {
    "collapsed": true,
    "jupyter": {
     "outputs_hidden": true,
     "source_hidden": true
    }
   },
   "outputs": [
    {
     "name": "stderr",
     "output_type": "stream",
     "text": [
      "C:\\Users\\maell\\anaconda3\\lib\\site-packages\\seaborn\\_decorators.py:36: FutureWarning: Pass the following variables as keyword args: x, y. From version 0.12, the only valid positional argument will be `data`, and passing other arguments without an explicit keyword will result in an error or misinterpretation.\n",
      "  warnings.warn(\n",
      "C:\\Users\\maell\\anaconda3\\lib\\site-packages\\seaborn\\_decorators.py:36: FutureWarning: Pass the following variables as keyword args: x, y. From version 0.12, the only valid positional argument will be `data`, and passing other arguments without an explicit keyword will result in an error or misinterpretation.\n",
      "  warnings.warn(\n",
      "C:\\Users\\maell\\anaconda3\\lib\\site-packages\\seaborn\\_decorators.py:36: FutureWarning: Pass the following variables as keyword args: x, y. From version 0.12, the only valid positional argument will be `data`, and passing other arguments without an explicit keyword will result in an error or misinterpretation.\n",
      "  warnings.warn(\n",
      "C:\\Users\\maell\\anaconda3\\lib\\site-packages\\seaborn\\_decorators.py:36: FutureWarning: Pass the following variables as keyword args: x, y. From version 0.12, the only valid positional argument will be `data`, and passing other arguments without an explicit keyword will result in an error or misinterpretation.\n",
      "  warnings.warn(\n",
      "C:\\Users\\maell\\anaconda3\\lib\\site-packages\\seaborn\\_decorators.py:36: FutureWarning: Pass the following variables as keyword args: x, y. From version 0.12, the only valid positional argument will be `data`, and passing other arguments without an explicit keyword will result in an error or misinterpretation.\n",
      "  warnings.warn(\n",
      "C:\\Users\\maell\\anaconda3\\lib\\site-packages\\seaborn\\_decorators.py:36: FutureWarning: Pass the following variables as keyword args: x, y. From version 0.12, the only valid positional argument will be `data`, and passing other arguments without an explicit keyword will result in an error or misinterpretation.\n",
      "  warnings.warn(\n"
     ]
    },
    {
     "data": {
      "text/plain": [
       "<matplotlib.legend.Legend at 0x267348ffac0>"
      ]
     },
     "execution_count": 66,
     "metadata": {},
     "output_type": "execute_result"
    }
   ],
   "source": [
    "plt.figure()\n",
    "plt.subplot(1,2,1)\n",
    "g = sns.regplot(mean_fr_int_bla_s.restrict(states['Rem']).values, mean_sync_int_bla_s.restrict(states['Rem']).values, scatter_kws={'alpha':0.1, 's':5}, line_kws={'lw':5}, x_ci='sd', color='orange')\n",
    "sns.regplot(mean_fr_int_bla_s.restrict(states['sws']).values, mean_sync_int_bla_s.restrict(states['sws']).values, scatter_kws={'alpha':0.1, 's':5}, line_kws={'lw':5}, x_ci='sd', color='grey')\n",
    "sns.regplot(mean_fr_int_bla_s[100:-100].restrict(states['wake']).values, mean_sync_int_bla_s[100:-100].restrict(states['wake']).values, scatter_kws={'alpha':0.1, 's':5}, line_kws={'lw':5}, x_ci='sd')\n",
    "g.set(xlabel ='mean firing rate', ylabel = 'mean synchrony',\n",
    "      title='Correlation between synchrony and firing rate in BLA interneurons')\n",
    "g.legend(labels=['Rem', 'sws', 'Wake'])\n",
    "plt.subplot(1,2,2)\n",
    "g = sns.regplot(mean_fr_int_bla_s.restrict(states['Rem']).values, mean_sync_nan_int_bla_s.restrict(states['Rem']).values, scatter_kws={'alpha':0.1, 's':5}, line_kws={'lw':5}, robust=True, x_ci='sd', color='orange')\n",
    "sns.regplot(mean_fr_int_bla_s.restrict(states['sws']).values, mean_sync_nan_int_bla_s.restrict(states['sws']).values, scatter_kws={'alpha':0.1, 's':5}, line_kws={'lw':5}, robust=True, x_ci='sd', color='grey')\n",
    "sns.regplot(mean_fr_int_bla_s[100:-100].restrict(states['wake']).values, mean_sync_nan_int_bla_s[100:-100].restrict(states['wake']).values, scatter_kws={'alpha':0.1, 's':5}, robust=True, line_kws={'lw':5}, x_ci='sd')\n",
    "g.set(xlabel ='mean firing rate', ylabel = 'mean synchrony (with nan to 0)',\n",
    "      title='Correlation between synchrony (with nan to 0) and firing rate in BLA interneurons')\n",
    "g.legend(labels=['Rem', 'sws', 'Wake'])"
   ]
  },
  {
   "cell_type": "code",
   "execution_count": 96,
   "id": "f77051e0",
   "metadata": {
    "collapsed": true,
    "jupyter": {
     "outputs_hidden": true,
     "source_hidden": true
    }
   },
   "outputs": [
    {
     "data": {
      "text/plain": [
       "Text(0.5, 1.0, 'int bla, Pearson coeff = -0.7551644915307446')"
      ]
     },
     "execution_count": 96,
     "metadata": {},
     "output_type": "execute_result"
    }
   ],
   "source": [
    "plt.subplot(2,2,1)\n",
    "plt.plot(mean_fr_pyr_hpc_s[100:-100].as_units('s'), mean_sync_pyr_hpc_s[100:-100].as_units('s'), '.')\n",
    "plt.title('pyr hpc, Pearson coeff = '+str(corr_pyr_hpc[1,0]))\n",
    "plt.subplot(2,2,2)\n",
    "plt.plot(mean_fr_pyr_bla_s[100:-100], mean_sync_pyr_bla_s[100:-100], '.')\n",
    "plt.title('pyr bla, Pearson coeff = '+str(corr_pyr_bla[1,0]))\n",
    "plt.subplot(2,2,3)\n",
    "plt.plot(mean_fr_int_hpc_s[100:-100], mean_sync_int_hpc_s[100:-100], '.')\n",
    "plt.title('int hpc, Pearson coeff = '+str(corr_int_hpc[1,0]))\n",
    "plt.subplot(2,2,4)\n",
    "plt.plot(mean_fr_int_bla_s[100:-100], mean_sync_int_bla_s[100:-100], '.')\n",
    "plt.title('int bla, Pearson coeff = '+str(corr_int_bla[1,0]))"
   ]
  },
  {
   "cell_type": "markdown",
   "id": "b9886f98",
   "metadata": {},
   "source": [
    "# Correlation between pourcent active neurons and mean firing rate"
   ]
  },
  {
   "cell_type": "code",
   "execution_count": 176,
   "id": "c256de10",
   "metadata": {
    "collapsed": true,
    "jupyter": {
     "outputs_hidden": true,
     "source_hidden": true
    }
   },
   "outputs": [
    {
     "name": "stderr",
     "output_type": "stream",
     "text": [
      "C:\\Users\\maell\\anaconda3\\lib\\site-packages\\seaborn\\_decorators.py:36: FutureWarning: Pass the following variables as keyword args: x, y. From version 0.12, the only valid positional argument will be `data`, and passing other arguments without an explicit keyword will result in an error or misinterpretation.\n",
      "  warnings.warn(\n",
      "C:\\Users\\maell\\anaconda3\\lib\\site-packages\\seaborn\\_decorators.py:36: FutureWarning: Pass the following variables as keyword args: x, y. From version 0.12, the only valid positional argument will be `data`, and passing other arguments without an explicit keyword will result in an error or misinterpretation.\n",
      "  warnings.warn(\n",
      "C:\\Users\\maell\\anaconda3\\lib\\site-packages\\seaborn\\_decorators.py:36: FutureWarning: Pass the following variables as keyword args: x, y. From version 0.12, the only valid positional argument will be `data`, and passing other arguments without an explicit keyword will result in an error or misinterpretation.\n",
      "  warnings.warn(\n"
     ]
    },
    {
     "data": {
      "text/plain": [
       "<matplotlib.legend.Legend at 0x267622231c0>"
      ]
     },
     "execution_count": 176,
     "metadata": {},
     "output_type": "execute_result"
    }
   ],
   "source": [
    "plt.figure()\n",
    "g = sns.regplot(mean_fr_int_hpc_s.restrict(states['Rem']).values, pourcent_active_int_hpc_s.restrict(states['Rem']).values, scatter_kws={'alpha':0.1, 's':5}, line_kws={'lw':5}, x_ci='sd', color='orange')\n",
    "sns.regplot(mean_fr_int_hpc_s.restrict(states['sws']).values, pourcent_active_int_hpc_s.restrict(states['sws']).values, scatter_kws={'alpha':0.1, 's':5}, line_kws={'lw':5}, x_ci='sd', color='grey')\n",
    "sns.regplot(mean_fr_int_hpc_s[100:-100].restrict(states['wake']).values, pourcent_active_int_hpc_s[100:-100].restrict(states['wake']).values, scatter_kws={'alpha':0.1, 's':5}, line_kws={'lw':5}, x_ci='sd')\n",
    "g.set(xlabel ='mean firing rate', ylabel = 'pourcent active neurons',\n",
    "      title= f'Correlation between pourcent of active neurons and firing rate in hippocampal interneurons,  overall correlation coefficient = {corr[0,1]}')\n",
    "g.legend(labels=['Rem', 'sws', 'Wake'])"
   ]
  },
  {
   "cell_type": "code",
   "execution_count": 258,
   "id": "e0f6e7ed",
   "metadata": {
    "collapsed": true,
    "jupyter": {
     "outputs_hidden": true,
     "source_hidden": true
    }
   },
   "outputs": [
    {
     "data": {
      "text/plain": [
       "Text(0.12, 0.02, 'Methods: The mean firing rate was determined by computing the number of spikes for each neuron, in time bins of 1s, then by taking the mean over all neurons. \\nThese two measures were then smoothed using a gaussian kernel across time (number of point in window = 100, standard deviation = 50)')"
      ]
     },
     "execution_count": 258,
     "metadata": {},
     "output_type": "execute_result"
    }
   ],
   "source": [
    "plt.figure()\n",
    "\n",
    "bk.plot.intervals(states['Rem'])\n",
    "bk.plot.intervals(states['sws'], col='grey')\n",
    "plt.plot(mean_fr_pyr_bla_s.as_units('s'), color='g', label = 'pyr bla')\n",
    "plt.plot(mean_fr_int_bla_s.as_units('s'), color='k', label='int bla')\n",
    "plt.title('Mean firing rates. \\n Session: Rat08-20130713')\n",
    "plt.xlabel('Time (s)')\n",
    "plt.legend()\n",
    "plt.text(-1000,0.42, 'Time bins: 1s \\nSmoothing parameters: \\n    Number of points in window: 100 \\n    Standard deviation: 50')\n",
    "plt.figtext(0.12, 0.02, 'Methods: The mean firing rate was determined by computing the number of spikes for each neuron, in time bins of 1s, then by taking the mean over all neurons. \\nThese two measures were then smoothed using a gaussian kernel across time (number of point in window = 100, standard deviation = 50)')"
   ]
  },
  {
   "cell_type": "markdown",
   "id": "596cb10b",
   "metadata": {},
   "source": [
    "# Trash/Tests"
   ]
  },
  {
   "cell_type": "code",
   "execution_count": null,
   "id": "d1fc041d",
   "metadata": {},
   "outputs": [],
   "source": []
  }
 ],
 "metadata": {
  "kernelspec": {
   "display_name": "Python 3 (ipykernel)",
   "language": "python",
   "name": "python3"
  },
  "language_info": {
   "codemirror_mode": {
    "name": "ipython",
    "version": 3
   },
   "file_extension": ".py",
   "mimetype": "text/x-python",
   "name": "python",
   "nbconvert_exporter": "python",
   "pygments_lexer": "ipython3",
   "version": "3.8.3"
  }
 },
 "nbformat": 4,
 "nbformat_minor": 5
}
