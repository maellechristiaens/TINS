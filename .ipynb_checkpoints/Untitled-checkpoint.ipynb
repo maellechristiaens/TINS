{
 "cells": [
  {
   "cell_type": "code",
   "execution_count": 1,
   "id": "e37c9e43",
   "metadata": {},
   "outputs": [],
   "source": [
    "import os\n",
    "import sys\n",
    "\n",
    "import matplotlib.pyplot as plt\n",
    "import matplotlib.patches as mpatches\n",
    "import numpy as np\n",
    "import pandas as pd\n",
    "from tqdm import tqdm\n",
    "import neuroseries as nts\n",
    "import scipy as sp\n",
    "import scipy.stats\n",
    "import seaborn as sns\n",
    "\n",
    "import bk.load\n",
    "import bk.compute\n",
    "import bk.plot\n",
    "import bk.signal\n",
    "\n",
    "import matplotlib as mpl\n",
    "mpl.rcParams[\"svg.fonttype\"] = \"none\"\n",
    "\n",
    "%matplotlib qt"
   ]
  },
  {
   "cell_type": "code",
   "execution_count": null,
   "id": "845e23bb",
   "metadata": {},
   "outputs": [],
   "source": [
    "def iterate_over_sessions(function): \n",
    "    '''\n",
    "    MC 09/01/22\n",
    "    Inputs:\n",
    "        function: the function you want to apply to all you neurons \n",
    "    Outputs: \n",
    "        output_dict: a dictionary with the results associated with each session\n",
    "        outputs: a list of all the results from the function \n",
    "    '''\n",
    "    os.chdir('E:/DATA/GG-Dataset/') #change the directory to the base directory of the data\n",
    "    session_index = pd.read_csv(\"relative_session_indexing.csv\") #read the csv file where the \n",
    "                                                        #relative session indexes are stored \n",
    "    \n",
    "    to_ignore = [\"Rat08/Rat08-20130720\", \n",
    "             \"Rat08/Rat08-20130722\", \n",
    "             \"Rat08/Rat08-20130718\",\n",
    "             \"Rat09/Rat09-20140408\",\n",
    "             \"Rat09/Rat09-20140409\",\n",
    "             \"Rat10/Rat10-20140619\",\n",
    "             \"Rat10/Rat10-20140620\",\n",
    "             \"Rat10/Rat10-20140622\",\n",
    "             \"Rat10/Rat10-20140708\",\n",
    "             \"Rat11/Rat11-20150309\",\n",
    "             \"Rat11/Rat11-20150318\",\n",
    "             \"Rat11/Rat11-20150319\", \n",
    "             \"Rat11/Rat11-20150324\",\n",
    "             \"Rat11/Rat11-20150327\",\n",
    "             \"Rat11/Rat11-20150401\"]\n",
    "    #all the sessions to ignore because they are bugged \n",
    "    \n",
    "    output_dict = {} #initialisation of the dictionary with the results associated with each session\n",
    "    outputs = [] #initialisation of all the results from the function\n",
    "    \n",
    "    for path in tqdm(session_index[\"Path\"]): #go through all sessions in the csv file\n",
    "        \n",
    "        if path in to_ignore: #if the session is to ignore\n",
    "            print(f'\\n {path} THIS SESSION IS BULLSHIT \\n')\n",
    "            continue #skip it \n",
    "        try: #try to apply the function in argument to this session\n",
    "            output = function(path) #store the results\n",
    "            outputs.append(output)\n",
    "            output_dict.update({bk.load.session : output})\n",
    "        except: #if it's not applicable, return an error message \n",
    "            print(f'\\n {path} ERROR IN THIS SESSION, TO WORK IT THROUGH \\n')\n",
    "            continue\n",
    "\n",
    "    return output_dict, outputs"
   ]
  },
  {
   "cell_type": "code",
   "execution_count": null,
   "id": "47a58aa6",
   "metadata": {},
   "outputs": [],
   "source": [
    "def main(path):\n",
    "    bk.load.current_session_linux(base_folder= 'E:/DATA/GG-Dataset/',local_path= path)\n",
    "    neurons, metadata = bk.load.spikes()\n",
    "    return len(neurons)"
   ]
  },
  {
   "cell_type": "code",
   "execution_count": 2,
   "id": "2c63d8b4",
   "metadata": {},
   "outputs": [
    {
     "ename": "NameError",
     "evalue": "name 'Code' is not defined",
     "output_type": "error",
     "traceback": [
      "\u001b[1;31m---------------------------------------------------------------------------\u001b[0m",
      "\u001b[1;31mNameError\u001b[0m                                 Traceback (most recent call last)",
      "\u001b[1;32m~\\AppData\\Local\\Temp/ipykernel_22216/196025601.py\u001b[0m in \u001b[0;36m<module>\u001b[1;34m\u001b[0m\n\u001b[1;32m----> 1\u001b[1;33m \u001b[0m_\u001b[0m\u001b[1;33m,\u001b[0m\u001b[0mtest\u001b[0m \u001b[1;33m=\u001b[0m \u001b[0mCode\u001b[0m\u001b[1;33m.\u001b[0m\u001b[0mfunctions\u001b[0m\u001b[1;33m.\u001b[0m\u001b[0miterate_over_sessions\u001b[0m\u001b[1;33m(\u001b[0m\u001b[0mmain\u001b[0m\u001b[1;33m)\u001b[0m\u001b[1;33m\u001b[0m\u001b[1;33m\u001b[0m\u001b[0m\n\u001b[0m",
      "\u001b[1;31mNameError\u001b[0m: name 'Code' is not defined"
     ]
    }
   ],
   "source": [
    "_,test = mc.functions.iterate_over_sessions(main)"
   ]
  },
  {
   "cell_type": "code",
   "execution_count": null,
   "id": "3bcdd323",
   "metadata": {},
   "outputs": [],
   "source": []
  }
 ],
 "metadata": {
  "kernelspec": {
   "display_name": "Python 3 (ipykernel)",
   "language": "python",
   "name": "python3"
  },
  "language_info": {
   "codemirror_mode": {
    "name": "ipython",
    "version": 3
   },
   "file_extension": ".py",
   "mimetype": "text/x-python",
   "name": "python",
   "nbconvert_exporter": "python",
   "pygments_lexer": "ipython3",
   "version": "3.8.3"
  }
 },
 "nbformat": 4,
 "nbformat_minor": 5
}
