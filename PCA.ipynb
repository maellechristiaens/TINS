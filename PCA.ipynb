{
 "cells": [
  {
   "cell_type": "code",
   "execution_count": null,
   "id": "d474156c",
   "metadata": {},
   "outputs": [],
   "source": [
    "stru = ['Hpc', 'BLA', 'Pir']\n",
    "for s in stru:\n",
    "    Q = filt_struct(Q_all, metadata, s)\n",
    "    C = np.corrcoef(Q.values.T)\n",
    "#     plt.imshow(C,vmin = 0,vmax = 0.01)\n",
    "    print(C.shape)\n",
    "    eigen_vals, eigen_vecs = np.linalg.eig(C)\n",
    "    proj = Q.values.dot(eigen_vecs[:, :3])\n",
    "\n",
    "    df = {'PC1': proj[:, 0],\n",
    "          'PC2': proj[:, 1],\n",
    "          'PC3': proj[:, 2],\n",
    "          # 'power': Q_power,\n",
    "        #   'phase': Q_phase,\n",
    "        #   'rip': is_rip,\n",
    "          'state': state_vector}\n",
    "    df = pd.DataFrame(df)\n",
    "    df['time'] = df.index\n",
    "\n",
    "    fig = plt.figure(figsize=(12, 8), dpi=130)\n",
    "    # ax = fig.add_subplot(111)\n",
    "    sns.scatterplot(x='PC1', y='PC2', data=df, hue='power',\n",
    "                    edgecolor='white', s=10,alpha= 0.9,hue_norm=(0,100000))\n",
    "    # ax.scatter(df['PC1'],df['PC2'],c = df['phase'])\n",
    "    plt.title(s)\n",
    "    plt.show()"
   ]
  },
  {
   "cell_type": "code",
   "execution_count": null,
   "id": "745d0a2d",
   "metadata": {},
   "outputs": [],
   "source": [
    "s = np.argsort(eigvalue)[::-1]\n",
    "eigvalue = eigvalue[s]\n",
    "eigvector = eigvector[:,s]"
   ]
  },
  {
   "cell_type": "code",
   "execution_count": null,
   "id": "4812d1f0",
   "metadata": {},
   "outputs": [],
   "source": []
  }
 ],
 "metadata": {
  "kernelspec": {
   "display_name": "Python 3 (ipykernel)",
   "language": "python",
   "name": "python3"
  },
  "language_info": {
   "codemirror_mode": {
    "name": "ipython",
    "version": 3
   },
   "file_extension": ".py",
   "mimetype": "text/x-python",
   "name": "python",
   "nbconvert_exporter": "python",
   "pygments_lexer": "ipython3",
   "version": "3.8.3"
  }
 },
 "nbformat": 4,
 "nbformat_minor": 5
}
